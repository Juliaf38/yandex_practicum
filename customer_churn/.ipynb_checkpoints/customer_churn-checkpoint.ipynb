{
 "cells": [
  {
   "cell_type": "markdown",
   "metadata": {},
   "source": [
    "# Отток клиентов"
   ]
  },
  {
   "cell_type": "markdown",
   "metadata": {},
   "source": [
    "Из «Бета-Банка» стали уходить клиенты. Каждый месяц. Немного, но заметно. Банковские маркетологи посчитали: сохранять текущих клиентов дешевле, чем привлекать новых.\n",
    "\n",
    "Нужно спрогнозировать, уйдёт клиент из банка в ближайшее время или нет. Нам предоставлены исторические данные о поведении клиентов и расторжении договоров с банком. \n",
    "\n",
    "Необходимо построить модель с предельно большим значением *F1*-меры. Нужно довести метрику до 0.59. \n",
    "\n",
    "Источник данных: [https://www.kaggle.com/barelydedicated/bank-customer-churn-modeling](https://www.kaggle.com/barelydedicated/bank-customer-churn-modeling)"
   ]
  },
  {
   "cell_type": "markdown",
   "metadata": {},
   "source": [
    "## Подготовка данных"
   ]
  },
  {
   "cell_type": "markdown",
   "metadata": {},
   "source": [
    "Импортируем необходимые библиотеки."
   ]
  },
  {
   "cell_type": "code",
   "execution_count": 1,
   "metadata": {},
   "outputs": [],
   "source": [
    "import matplotlib.pyplot as plt\n",
    "import pandas as pd\n",
    "\n",
    "from joblib import dump\n",
    "from sklearn import tree\n",
    "from sklearn.dummy import DummyClassifier\n",
    "from sklearn.ensemble import RandomForestClassifier\n",
    "from sklearn.linear_model import LogisticRegression\n",
    "from sklearn.metrics import (accuracy_score, f1_score, precision_score,\n",
    "                             recall_score, roc_auc_score, roc_curve)\n",
    "from sklearn.model_selection import train_test_split\n",
    "from sklearn.preprocessing import StandardScaler\n",
    "from sklearn.tree import DecisionTreeClassifier\n",
    "from sklearn.utils import shuffle"
   ]
  },
  {
   "cell_type": "code",
   "execution_count": 2,
   "metadata": {},
   "outputs": [],
   "source": [
    "df = pd.read_csv('/datasets/Churn.csv') # прочитаем csv-файл"
   ]
  },
  {
   "cell_type": "code",
   "execution_count": 3,
   "metadata": {},
   "outputs": [
    {
     "data": {
      "text/html": [
       "<div>\n",
       "<style scoped>\n",
       "    .dataframe tbody tr th:only-of-type {\n",
       "        vertical-align: middle;\n",
       "    }\n",
       "\n",
       "    .dataframe tbody tr th {\n",
       "        vertical-align: top;\n",
       "    }\n",
       "\n",
       "    .dataframe thead th {\n",
       "        text-align: right;\n",
       "    }\n",
       "</style>\n",
       "<table border=\"1\" class=\"dataframe\">\n",
       "  <thead>\n",
       "    <tr style=\"text-align: right;\">\n",
       "      <th></th>\n",
       "      <th>RowNumber</th>\n",
       "      <th>CustomerId</th>\n",
       "      <th>Surname</th>\n",
       "      <th>CreditScore</th>\n",
       "      <th>Geography</th>\n",
       "      <th>Gender</th>\n",
       "      <th>Age</th>\n",
       "      <th>Tenure</th>\n",
       "      <th>Balance</th>\n",
       "      <th>NumOfProducts</th>\n",
       "      <th>HasCrCard</th>\n",
       "      <th>IsActiveMember</th>\n",
       "      <th>EstimatedSalary</th>\n",
       "      <th>Exited</th>\n",
       "    </tr>\n",
       "  </thead>\n",
       "  <tbody>\n",
       "    <tr>\n",
       "      <th>0</th>\n",
       "      <td>1</td>\n",
       "      <td>15634602</td>\n",
       "      <td>Hargrave</td>\n",
       "      <td>619</td>\n",
       "      <td>France</td>\n",
       "      <td>Female</td>\n",
       "      <td>42</td>\n",
       "      <td>2.0</td>\n",
       "      <td>0.00</td>\n",
       "      <td>1</td>\n",
       "      <td>1</td>\n",
       "      <td>1</td>\n",
       "      <td>101348.88</td>\n",
       "      <td>1</td>\n",
       "    </tr>\n",
       "    <tr>\n",
       "      <th>1</th>\n",
       "      <td>2</td>\n",
       "      <td>15647311</td>\n",
       "      <td>Hill</td>\n",
       "      <td>608</td>\n",
       "      <td>Spain</td>\n",
       "      <td>Female</td>\n",
       "      <td>41</td>\n",
       "      <td>1.0</td>\n",
       "      <td>83807.86</td>\n",
       "      <td>1</td>\n",
       "      <td>0</td>\n",
       "      <td>1</td>\n",
       "      <td>112542.58</td>\n",
       "      <td>0</td>\n",
       "    </tr>\n",
       "    <tr>\n",
       "      <th>2</th>\n",
       "      <td>3</td>\n",
       "      <td>15619304</td>\n",
       "      <td>Onio</td>\n",
       "      <td>502</td>\n",
       "      <td>France</td>\n",
       "      <td>Female</td>\n",
       "      <td>42</td>\n",
       "      <td>8.0</td>\n",
       "      <td>159660.80</td>\n",
       "      <td>3</td>\n",
       "      <td>1</td>\n",
       "      <td>0</td>\n",
       "      <td>113931.57</td>\n",
       "      <td>1</td>\n",
       "    </tr>\n",
       "    <tr>\n",
       "      <th>3</th>\n",
       "      <td>4</td>\n",
       "      <td>15701354</td>\n",
       "      <td>Boni</td>\n",
       "      <td>699</td>\n",
       "      <td>France</td>\n",
       "      <td>Female</td>\n",
       "      <td>39</td>\n",
       "      <td>1.0</td>\n",
       "      <td>0.00</td>\n",
       "      <td>2</td>\n",
       "      <td>0</td>\n",
       "      <td>0</td>\n",
       "      <td>93826.63</td>\n",
       "      <td>0</td>\n",
       "    </tr>\n",
       "    <tr>\n",
       "      <th>4</th>\n",
       "      <td>5</td>\n",
       "      <td>15737888</td>\n",
       "      <td>Mitchell</td>\n",
       "      <td>850</td>\n",
       "      <td>Spain</td>\n",
       "      <td>Female</td>\n",
       "      <td>43</td>\n",
       "      <td>2.0</td>\n",
       "      <td>125510.82</td>\n",
       "      <td>1</td>\n",
       "      <td>1</td>\n",
       "      <td>1</td>\n",
       "      <td>79084.10</td>\n",
       "      <td>0</td>\n",
       "    </tr>\n",
       "  </tbody>\n",
       "</table>\n",
       "</div>"
      ],
      "text/plain": [
       "   RowNumber  CustomerId   Surname  CreditScore Geography  Gender  Age  \\\n",
       "0          1    15634602  Hargrave          619    France  Female   42   \n",
       "1          2    15647311      Hill          608     Spain  Female   41   \n",
       "2          3    15619304      Onio          502    France  Female   42   \n",
       "3          4    15701354      Boni          699    France  Female   39   \n",
       "4          5    15737888  Mitchell          850     Spain  Female   43   \n",
       "\n",
       "   Tenure    Balance  NumOfProducts  HasCrCard  IsActiveMember  \\\n",
       "0     2.0       0.00              1          1               1   \n",
       "1     1.0   83807.86              1          0               1   \n",
       "2     8.0  159660.80              3          1               0   \n",
       "3     1.0       0.00              2          0               0   \n",
       "4     2.0  125510.82              1          1               1   \n",
       "\n",
       "   EstimatedSalary  Exited  \n",
       "0        101348.88       1  \n",
       "1        112542.58       0  \n",
       "2        113931.57       1  \n",
       "3         93826.63       0  \n",
       "4         79084.10       0  "
      ]
     },
     "execution_count": 3,
     "metadata": {},
     "output_type": "execute_result"
    }
   ],
   "source": [
    "df.head() # Выведем первые 5 строчек датафрейма df на экран."
   ]
  },
  {
   "cell_type": "code",
   "execution_count": 4,
   "metadata": {},
   "outputs": [
    {
     "name": "stdout",
     "output_type": "stream",
     "text": [
      "<class 'pandas.core.frame.DataFrame'>\n",
      "RangeIndex: 10000 entries, 0 to 9999\n",
      "Data columns (total 14 columns):\n",
      " #   Column           Non-Null Count  Dtype  \n",
      "---  ------           --------------  -----  \n",
      " 0   RowNumber        10000 non-null  int64  \n",
      " 1   CustomerId       10000 non-null  int64  \n",
      " 2   Surname          10000 non-null  object \n",
      " 3   CreditScore      10000 non-null  int64  \n",
      " 4   Geography        10000 non-null  object \n",
      " 5   Gender           10000 non-null  object \n",
      " 6   Age              10000 non-null  int64  \n",
      " 7   Tenure           9091 non-null   float64\n",
      " 8   Balance          10000 non-null  float64\n",
      " 9   NumOfProducts    10000 non-null  int64  \n",
      " 10  HasCrCard        10000 non-null  int64  \n",
      " 11  IsActiveMember   10000 non-null  int64  \n",
      " 12  EstimatedSalary  10000 non-null  float64\n",
      " 13  Exited           10000 non-null  int64  \n",
      "dtypes: float64(3), int64(8), object(3)\n",
      "memory usage: 1.1+ MB\n"
     ]
    }
   ],
   "source": [
    "df.info() # Выведем основную информацию о датафрейме с помощью метода info()."
   ]
  },
  {
   "cell_type": "markdown",
   "metadata": {},
   "source": [
    "Итак, в таблице 14 столбцов и 10000 строк. Типы данных в столбцах — float64(3), int64(8), object(3). В столбце Tenure (сколько лет человек является клиентом банка) - есть пропущенные значения."
   ]
  },
  {
   "cell_type": "markdown",
   "metadata": {},
   "source": [
    "Согласно документации к данным:\n",
    "\n",
    "\n",
    "**Признаки**\n",
    "- RowNumber — индекс строки в данных\n",
    "- CustomerId — уникальный идентификатор клиента\n",
    "- Surname — фамилия\n",
    "- CreditScore — кредитный рейтинг\n",
    "- Geography — страна проживания\n",
    "- Gender — пол\n",
    "- Age — возраст\n",
    "- Tenure — сколько лет человек является клиентом банка\n",
    "- Balance — баланс на счёте\n",
    "- NumOfProducts — количество продуктов банка, используемых клиентом\n",
    "- HasCrCard — наличие кредитной карты\n",
    "- IsActiveMember — активность клиента\n",
    "- EstimatedSalary — предполагаемая зарплата\n",
    "\n",
    "**Целевой признак**\n",
    "\n",
    "- Exited — факт ухода клиента"
   ]
  },
  {
   "cell_type": "code",
   "execution_count": 5,
   "metadata": {},
   "outputs": [
    {
     "data": {
      "text/html": [
       "<div>\n",
       "<style scoped>\n",
       "    .dataframe tbody tr th:only-of-type {\n",
       "        vertical-align: middle;\n",
       "    }\n",
       "\n",
       "    .dataframe tbody tr th {\n",
       "        vertical-align: top;\n",
       "    }\n",
       "\n",
       "    .dataframe thead th {\n",
       "        text-align: right;\n",
       "    }\n",
       "</style>\n",
       "<table border=\"1\" class=\"dataframe\">\n",
       "  <thead>\n",
       "    <tr style=\"text-align: right;\">\n",
       "      <th></th>\n",
       "      <th>RowNumber</th>\n",
       "      <th>CustomerId</th>\n",
       "      <th>CreditScore</th>\n",
       "      <th>Age</th>\n",
       "      <th>Tenure</th>\n",
       "      <th>Balance</th>\n",
       "      <th>NumOfProducts</th>\n",
       "      <th>HasCrCard</th>\n",
       "      <th>IsActiveMember</th>\n",
       "      <th>EstimatedSalary</th>\n",
       "      <th>Exited</th>\n",
       "    </tr>\n",
       "  </thead>\n",
       "  <tbody>\n",
       "    <tr>\n",
       "      <th>count</th>\n",
       "      <td>10000.00000</td>\n",
       "      <td>1.000000e+04</td>\n",
       "      <td>10000.000000</td>\n",
       "      <td>10000.000000</td>\n",
       "      <td>9091.000000</td>\n",
       "      <td>10000.000000</td>\n",
       "      <td>10000.000000</td>\n",
       "      <td>10000.00000</td>\n",
       "      <td>10000.000000</td>\n",
       "      <td>10000.000000</td>\n",
       "      <td>10000.000000</td>\n",
       "    </tr>\n",
       "    <tr>\n",
       "      <th>mean</th>\n",
       "      <td>5000.50000</td>\n",
       "      <td>1.569094e+07</td>\n",
       "      <td>650.528800</td>\n",
       "      <td>38.921800</td>\n",
       "      <td>4.997690</td>\n",
       "      <td>76485.889288</td>\n",
       "      <td>1.530200</td>\n",
       "      <td>0.70550</td>\n",
       "      <td>0.515100</td>\n",
       "      <td>100090.239881</td>\n",
       "      <td>0.203700</td>\n",
       "    </tr>\n",
       "    <tr>\n",
       "      <th>std</th>\n",
       "      <td>2886.89568</td>\n",
       "      <td>7.193619e+04</td>\n",
       "      <td>96.653299</td>\n",
       "      <td>10.487806</td>\n",
       "      <td>2.894723</td>\n",
       "      <td>62397.405202</td>\n",
       "      <td>0.581654</td>\n",
       "      <td>0.45584</td>\n",
       "      <td>0.499797</td>\n",
       "      <td>57510.492818</td>\n",
       "      <td>0.402769</td>\n",
       "    </tr>\n",
       "    <tr>\n",
       "      <th>min</th>\n",
       "      <td>1.00000</td>\n",
       "      <td>1.556570e+07</td>\n",
       "      <td>350.000000</td>\n",
       "      <td>18.000000</td>\n",
       "      <td>0.000000</td>\n",
       "      <td>0.000000</td>\n",
       "      <td>1.000000</td>\n",
       "      <td>0.00000</td>\n",
       "      <td>0.000000</td>\n",
       "      <td>11.580000</td>\n",
       "      <td>0.000000</td>\n",
       "    </tr>\n",
       "    <tr>\n",
       "      <th>25%</th>\n",
       "      <td>2500.75000</td>\n",
       "      <td>1.562853e+07</td>\n",
       "      <td>584.000000</td>\n",
       "      <td>32.000000</td>\n",
       "      <td>2.000000</td>\n",
       "      <td>0.000000</td>\n",
       "      <td>1.000000</td>\n",
       "      <td>0.00000</td>\n",
       "      <td>0.000000</td>\n",
       "      <td>51002.110000</td>\n",
       "      <td>0.000000</td>\n",
       "    </tr>\n",
       "    <tr>\n",
       "      <th>50%</th>\n",
       "      <td>5000.50000</td>\n",
       "      <td>1.569074e+07</td>\n",
       "      <td>652.000000</td>\n",
       "      <td>37.000000</td>\n",
       "      <td>5.000000</td>\n",
       "      <td>97198.540000</td>\n",
       "      <td>1.000000</td>\n",
       "      <td>1.00000</td>\n",
       "      <td>1.000000</td>\n",
       "      <td>100193.915000</td>\n",
       "      <td>0.000000</td>\n",
       "    </tr>\n",
       "    <tr>\n",
       "      <th>75%</th>\n",
       "      <td>7500.25000</td>\n",
       "      <td>1.575323e+07</td>\n",
       "      <td>718.000000</td>\n",
       "      <td>44.000000</td>\n",
       "      <td>7.000000</td>\n",
       "      <td>127644.240000</td>\n",
       "      <td>2.000000</td>\n",
       "      <td>1.00000</td>\n",
       "      <td>1.000000</td>\n",
       "      <td>149388.247500</td>\n",
       "      <td>0.000000</td>\n",
       "    </tr>\n",
       "    <tr>\n",
       "      <th>max</th>\n",
       "      <td>10000.00000</td>\n",
       "      <td>1.581569e+07</td>\n",
       "      <td>850.000000</td>\n",
       "      <td>92.000000</td>\n",
       "      <td>10.000000</td>\n",
       "      <td>250898.090000</td>\n",
       "      <td>4.000000</td>\n",
       "      <td>1.00000</td>\n",
       "      <td>1.000000</td>\n",
       "      <td>199992.480000</td>\n",
       "      <td>1.000000</td>\n",
       "    </tr>\n",
       "  </tbody>\n",
       "</table>\n",
       "</div>"
      ],
      "text/plain": [
       "         RowNumber    CustomerId   CreditScore           Age       Tenure  \\\n",
       "count  10000.00000  1.000000e+04  10000.000000  10000.000000  9091.000000   \n",
       "mean    5000.50000  1.569094e+07    650.528800     38.921800     4.997690   \n",
       "std     2886.89568  7.193619e+04     96.653299     10.487806     2.894723   \n",
       "min        1.00000  1.556570e+07    350.000000     18.000000     0.000000   \n",
       "25%     2500.75000  1.562853e+07    584.000000     32.000000     2.000000   \n",
       "50%     5000.50000  1.569074e+07    652.000000     37.000000     5.000000   \n",
       "75%     7500.25000  1.575323e+07    718.000000     44.000000     7.000000   \n",
       "max    10000.00000  1.581569e+07    850.000000     92.000000    10.000000   \n",
       "\n",
       "             Balance  NumOfProducts    HasCrCard  IsActiveMember  \\\n",
       "count   10000.000000   10000.000000  10000.00000    10000.000000   \n",
       "mean    76485.889288       1.530200      0.70550        0.515100   \n",
       "std     62397.405202       0.581654      0.45584        0.499797   \n",
       "min         0.000000       1.000000      0.00000        0.000000   \n",
       "25%         0.000000       1.000000      0.00000        0.000000   \n",
       "50%     97198.540000       1.000000      1.00000        1.000000   \n",
       "75%    127644.240000       2.000000      1.00000        1.000000   \n",
       "max    250898.090000       4.000000      1.00000        1.000000   \n",
       "\n",
       "       EstimatedSalary        Exited  \n",
       "count     10000.000000  10000.000000  \n",
       "mean     100090.239881      0.203700  \n",
       "std       57510.492818      0.402769  \n",
       "min          11.580000      0.000000  \n",
       "25%       51002.110000      0.000000  \n",
       "50%      100193.915000      0.000000  \n",
       "75%      149388.247500      0.000000  \n",
       "max      199992.480000      1.000000  "
      ]
     },
     "execution_count": 5,
     "metadata": {},
     "output_type": "execute_result"
    }
   ],
   "source": [
    "df.describe()"
   ]
  },
  {
   "cell_type": "code",
   "execution_count": 6,
   "metadata": {},
   "outputs": [
    {
     "data": {
      "text/html": [
       "<div>\n",
       "<style scoped>\n",
       "    .dataframe tbody tr th:only-of-type {\n",
       "        vertical-align: middle;\n",
       "    }\n",
       "\n",
       "    .dataframe tbody tr th {\n",
       "        vertical-align: top;\n",
       "    }\n",
       "\n",
       "    .dataframe thead th {\n",
       "        text-align: right;\n",
       "    }\n",
       "</style>\n",
       "<table border=\"1\" class=\"dataframe\">\n",
       "  <thead>\n",
       "    <tr style=\"text-align: right;\">\n",
       "      <th></th>\n",
       "      <th>RowNumber</th>\n",
       "      <th>CustomerId</th>\n",
       "      <th>CreditScore</th>\n",
       "      <th>Age</th>\n",
       "      <th>Tenure</th>\n",
       "      <th>Balance</th>\n",
       "      <th>NumOfProducts</th>\n",
       "      <th>HasCrCard</th>\n",
       "      <th>IsActiveMember</th>\n",
       "      <th>EstimatedSalary</th>\n",
       "      <th>Exited</th>\n",
       "    </tr>\n",
       "  </thead>\n",
       "  <tbody>\n",
       "    <tr>\n",
       "      <th>RowNumber</th>\n",
       "      <td>1.000000</td>\n",
       "      <td>0.004202</td>\n",
       "      <td>0.005840</td>\n",
       "      <td>0.000783</td>\n",
       "      <td>-0.007322</td>\n",
       "      <td>-0.009067</td>\n",
       "      <td>0.007246</td>\n",
       "      <td>0.000599</td>\n",
       "      <td>0.012044</td>\n",
       "      <td>-0.005988</td>\n",
       "      <td>-0.016571</td>\n",
       "    </tr>\n",
       "    <tr>\n",
       "      <th>CustomerId</th>\n",
       "      <td>0.004202</td>\n",
       "      <td>1.000000</td>\n",
       "      <td>0.005308</td>\n",
       "      <td>0.009497</td>\n",
       "      <td>-0.021418</td>\n",
       "      <td>-0.012419</td>\n",
       "      <td>0.016972</td>\n",
       "      <td>-0.014025</td>\n",
       "      <td>0.001665</td>\n",
       "      <td>0.015271</td>\n",
       "      <td>-0.006248</td>\n",
       "    </tr>\n",
       "    <tr>\n",
       "      <th>CreditScore</th>\n",
       "      <td>0.005840</td>\n",
       "      <td>0.005308</td>\n",
       "      <td>1.000000</td>\n",
       "      <td>-0.003965</td>\n",
       "      <td>-0.000062</td>\n",
       "      <td>0.006268</td>\n",
       "      <td>0.012238</td>\n",
       "      <td>-0.005458</td>\n",
       "      <td>0.025651</td>\n",
       "      <td>-0.001384</td>\n",
       "      <td>-0.027094</td>\n",
       "    </tr>\n",
       "    <tr>\n",
       "      <th>Age</th>\n",
       "      <td>0.000783</td>\n",
       "      <td>0.009497</td>\n",
       "      <td>-0.003965</td>\n",
       "      <td>1.000000</td>\n",
       "      <td>-0.013134</td>\n",
       "      <td>0.028308</td>\n",
       "      <td>-0.030680</td>\n",
       "      <td>-0.011721</td>\n",
       "      <td>0.085472</td>\n",
       "      <td>-0.007201</td>\n",
       "      <td>0.285323</td>\n",
       "    </tr>\n",
       "    <tr>\n",
       "      <th>Tenure</th>\n",
       "      <td>-0.007322</td>\n",
       "      <td>-0.021418</td>\n",
       "      <td>-0.000062</td>\n",
       "      <td>-0.013134</td>\n",
       "      <td>1.000000</td>\n",
       "      <td>-0.007911</td>\n",
       "      <td>0.011979</td>\n",
       "      <td>0.027232</td>\n",
       "      <td>-0.032178</td>\n",
       "      <td>0.010520</td>\n",
       "      <td>-0.016761</td>\n",
       "    </tr>\n",
       "    <tr>\n",
       "      <th>Balance</th>\n",
       "      <td>-0.009067</td>\n",
       "      <td>-0.012419</td>\n",
       "      <td>0.006268</td>\n",
       "      <td>0.028308</td>\n",
       "      <td>-0.007911</td>\n",
       "      <td>1.000000</td>\n",
       "      <td>-0.304180</td>\n",
       "      <td>-0.014858</td>\n",
       "      <td>-0.010084</td>\n",
       "      <td>0.012797</td>\n",
       "      <td>0.118533</td>\n",
       "    </tr>\n",
       "    <tr>\n",
       "      <th>NumOfProducts</th>\n",
       "      <td>0.007246</td>\n",
       "      <td>0.016972</td>\n",
       "      <td>0.012238</td>\n",
       "      <td>-0.030680</td>\n",
       "      <td>0.011979</td>\n",
       "      <td>-0.304180</td>\n",
       "      <td>1.000000</td>\n",
       "      <td>0.003183</td>\n",
       "      <td>0.009612</td>\n",
       "      <td>0.014204</td>\n",
       "      <td>-0.047820</td>\n",
       "    </tr>\n",
       "    <tr>\n",
       "      <th>HasCrCard</th>\n",
       "      <td>0.000599</td>\n",
       "      <td>-0.014025</td>\n",
       "      <td>-0.005458</td>\n",
       "      <td>-0.011721</td>\n",
       "      <td>0.027232</td>\n",
       "      <td>-0.014858</td>\n",
       "      <td>0.003183</td>\n",
       "      <td>1.000000</td>\n",
       "      <td>-0.011866</td>\n",
       "      <td>-0.009933</td>\n",
       "      <td>-0.007138</td>\n",
       "    </tr>\n",
       "    <tr>\n",
       "      <th>IsActiveMember</th>\n",
       "      <td>0.012044</td>\n",
       "      <td>0.001665</td>\n",
       "      <td>0.025651</td>\n",
       "      <td>0.085472</td>\n",
       "      <td>-0.032178</td>\n",
       "      <td>-0.010084</td>\n",
       "      <td>0.009612</td>\n",
       "      <td>-0.011866</td>\n",
       "      <td>1.000000</td>\n",
       "      <td>-0.011421</td>\n",
       "      <td>-0.156128</td>\n",
       "    </tr>\n",
       "    <tr>\n",
       "      <th>EstimatedSalary</th>\n",
       "      <td>-0.005988</td>\n",
       "      <td>0.015271</td>\n",
       "      <td>-0.001384</td>\n",
       "      <td>-0.007201</td>\n",
       "      <td>0.010520</td>\n",
       "      <td>0.012797</td>\n",
       "      <td>0.014204</td>\n",
       "      <td>-0.009933</td>\n",
       "      <td>-0.011421</td>\n",
       "      <td>1.000000</td>\n",
       "      <td>0.012097</td>\n",
       "    </tr>\n",
       "    <tr>\n",
       "      <th>Exited</th>\n",
       "      <td>-0.016571</td>\n",
       "      <td>-0.006248</td>\n",
       "      <td>-0.027094</td>\n",
       "      <td>0.285323</td>\n",
       "      <td>-0.016761</td>\n",
       "      <td>0.118533</td>\n",
       "      <td>-0.047820</td>\n",
       "      <td>-0.007138</td>\n",
       "      <td>-0.156128</td>\n",
       "      <td>0.012097</td>\n",
       "      <td>1.000000</td>\n",
       "    </tr>\n",
       "  </tbody>\n",
       "</table>\n",
       "</div>"
      ],
      "text/plain": [
       "                 RowNumber  CustomerId  CreditScore       Age    Tenure  \\\n",
       "RowNumber         1.000000    0.004202     0.005840  0.000783 -0.007322   \n",
       "CustomerId        0.004202    1.000000     0.005308  0.009497 -0.021418   \n",
       "CreditScore       0.005840    0.005308     1.000000 -0.003965 -0.000062   \n",
       "Age               0.000783    0.009497    -0.003965  1.000000 -0.013134   \n",
       "Tenure           -0.007322   -0.021418    -0.000062 -0.013134  1.000000   \n",
       "Balance          -0.009067   -0.012419     0.006268  0.028308 -0.007911   \n",
       "NumOfProducts     0.007246    0.016972     0.012238 -0.030680  0.011979   \n",
       "HasCrCard         0.000599   -0.014025    -0.005458 -0.011721  0.027232   \n",
       "IsActiveMember    0.012044    0.001665     0.025651  0.085472 -0.032178   \n",
       "EstimatedSalary  -0.005988    0.015271    -0.001384 -0.007201  0.010520   \n",
       "Exited           -0.016571   -0.006248    -0.027094  0.285323 -0.016761   \n",
       "\n",
       "                  Balance  NumOfProducts  HasCrCard  IsActiveMember  \\\n",
       "RowNumber       -0.009067       0.007246   0.000599        0.012044   \n",
       "CustomerId      -0.012419       0.016972  -0.014025        0.001665   \n",
       "CreditScore      0.006268       0.012238  -0.005458        0.025651   \n",
       "Age              0.028308      -0.030680  -0.011721        0.085472   \n",
       "Tenure          -0.007911       0.011979   0.027232       -0.032178   \n",
       "Balance          1.000000      -0.304180  -0.014858       -0.010084   \n",
       "NumOfProducts   -0.304180       1.000000   0.003183        0.009612   \n",
       "HasCrCard       -0.014858       0.003183   1.000000       -0.011866   \n",
       "IsActiveMember  -0.010084       0.009612  -0.011866        1.000000   \n",
       "EstimatedSalary  0.012797       0.014204  -0.009933       -0.011421   \n",
       "Exited           0.118533      -0.047820  -0.007138       -0.156128   \n",
       "\n",
       "                 EstimatedSalary    Exited  \n",
       "RowNumber              -0.005988 -0.016571  \n",
       "CustomerId              0.015271 -0.006248  \n",
       "CreditScore            -0.001384 -0.027094  \n",
       "Age                    -0.007201  0.285323  \n",
       "Tenure                  0.010520 -0.016761  \n",
       "Balance                 0.012797  0.118533  \n",
       "NumOfProducts           0.014204 -0.047820  \n",
       "HasCrCard              -0.009933 -0.007138  \n",
       "IsActiveMember         -0.011421 -0.156128  \n",
       "EstimatedSalary         1.000000  0.012097  \n",
       "Exited                  0.012097  1.000000  "
      ]
     },
     "execution_count": 6,
     "metadata": {},
     "output_type": "execute_result"
    }
   ],
   "source": [
    "df.corr()"
   ]
  },
  {
   "cell_type": "markdown",
   "metadata": {},
   "source": [
    "Корреляции между столбцами не обнаружено."
   ]
  },
  {
   "cell_type": "code",
   "execution_count": 7,
   "metadata": {},
   "outputs": [],
   "source": [
    "df.columns = df.columns.str.lower() # приведем все столбцы к нижнему регистру "
   ]
  },
  {
   "cell_type": "markdown",
   "metadata": {},
   "source": [
    "Названия столбцов не записаны в «змеином регистре», переименуем колонки."
   ]
  },
  {
   "cell_type": "code",
   "execution_count": 8,
   "metadata": {},
   "outputs": [],
   "source": [
    "df = df.rename(columns={'rownumber': 'row_number', 'customerid': 'customer_id', \n",
    "                        'creditscore': 'credit_score', 'numofproducts': 'num_of_products',\n",
    "                        'hascrcard': 'has_cr_card', 'isactivemember': 'is_active_member', \n",
    "                        'estimatedsalary': 'estimated_salary'}) # переименование столбцов"
   ]
  },
  {
   "cell_type": "code",
   "execution_count": 9,
   "metadata": {},
   "outputs": [
    {
     "data": {
      "text/plain": [
       "Index(['row_number', 'customer_id', 'surname', 'credit_score', 'geography',\n",
       "       'gender', 'age', 'tenure', 'balance', 'num_of_products', 'has_cr_card',\n",
       "       'is_active_member', 'estimated_salary', 'exited'],\n",
       "      dtype='object')"
      ]
     },
     "execution_count": 9,
     "metadata": {},
     "output_type": "execute_result"
    }
   ],
   "source": [
    "df.columns # проверяем результат"
   ]
  },
  {
   "cell_type": "code",
   "execution_count": 10,
   "metadata": {},
   "outputs": [
    {
     "data": {
      "text/plain": [
       "909"
      ]
     },
     "execution_count": 10,
     "metadata": {},
     "output_type": "execute_result"
    }
   ],
   "source": [
    "df['tenure'].isna().sum() # посмотрим на количество пропусков в столбце tenure."
   ]
  },
  {
   "cell_type": "code",
   "execution_count": 11,
   "metadata": {},
   "outputs": [],
   "source": [
    "df = df.dropna(subset=['tenure']) # удалим пропущенные значения в столбце tenure, так как их небольшое количество (около 10%)"
   ]
  },
  {
   "cell_type": "code",
   "execution_count": 12,
   "metadata": {},
   "outputs": [
    {
     "data": {
      "text/plain": [
       "0"
      ]
     },
     "execution_count": 12,
     "metadata": {},
     "output_type": "execute_result"
    }
   ],
   "source": [
    "df['tenure'].isna().sum() # проверим, что строки удалились. "
   ]
  },
  {
   "cell_type": "markdown",
   "metadata": {},
   "source": [
    "Удалим столбцы row_number (индекс строки в данных), customer_id (уникальный идентификатор клиента), surname (фамилия), которые  не влияют на факт ухода клиента и на обучение модели."
   ]
  },
  {
   "cell_type": "code",
   "execution_count": 13,
   "metadata": {},
   "outputs": [],
   "source": [
    "df = df.drop(['row_number', 'customer_id', 'surname'], axis=1)"
   ]
  },
  {
   "cell_type": "code",
   "execution_count": 14,
   "metadata": {},
   "outputs": [
    {
     "name": "stdout",
     "output_type": "stream",
     "text": [
      "<class 'pandas.core.frame.DataFrame'>\n",
      "Int64Index: 9091 entries, 0 to 9998\n",
      "Data columns (total 11 columns):\n",
      " #   Column            Non-Null Count  Dtype  \n",
      "---  ------            --------------  -----  \n",
      " 0   credit_score      9091 non-null   int64  \n",
      " 1   geography         9091 non-null   object \n",
      " 2   gender            9091 non-null   object \n",
      " 3   age               9091 non-null   int64  \n",
      " 4   tenure            9091 non-null   float64\n",
      " 5   balance           9091 non-null   float64\n",
      " 6   num_of_products   9091 non-null   int64  \n",
      " 7   has_cr_card       9091 non-null   int64  \n",
      " 8   is_active_member  9091 non-null   int64  \n",
      " 9   estimated_salary  9091 non-null   float64\n",
      " 10  exited            9091 non-null   int64  \n",
      "dtypes: float64(3), int64(6), object(2)\n",
      "memory usage: 852.3+ KB\n"
     ]
    }
   ],
   "source": [
    "df.info()"
   ]
  },
  {
   "cell_type": "markdown",
   "metadata": {},
   "source": [
    "Итак, после предобработки данных в таблице осталось 11 столбцов и 9091 строк. Типы данных в столбцах — float64(3), int64(6), object(2). В столбце tenure (сколько лет человек является клиентом банка) были пропущенные значения, мы удалили их. Так же в названиях колонок были нарушения стиля, но мы это уже исправили. "
   ]
  },
  {
   "cell_type": "markdown",
   "metadata": {},
   "source": [
    "## Исследование задачи"
   ]
  },
  {
   "cell_type": "markdown",
   "metadata": {},
   "source": [
    "Наши данные содержат категориальные признаки. Преобразовать категориальные признаки в численные поможет техника прямого кодирования, или отображения (англ. One-Hot Encoding, OHE). Техникой OHE категориальные признаки переводятся в численные в два этапа:\n",
    "- Для каждого значения признака создаётся новый столбец;\n",
    "- Если объекту категория подходит, присваивается 1, если нет — 0.\n",
    "\n",
    "Новые признаки называются дамми-переменными."
   ]
  },
  {
   "cell_type": "code",
   "execution_count": 15,
   "metadata": {},
   "outputs": [
    {
     "name": "stdout",
     "output_type": "stream",
     "text": [
      "credit_score          int64\n",
      "geography            object\n",
      "gender               object\n",
      "age                   int64\n",
      "tenure              float64\n",
      "balance             float64\n",
      "num_of_products       int64\n",
      "has_cr_card           int64\n",
      "is_active_member      int64\n",
      "estimated_salary    float64\n",
      "exited                int64\n",
      "dtype: object\n"
     ]
    }
   ],
   "source": [
    "print(df.dtypes)"
   ]
  },
  {
   "cell_type": "markdown",
   "metadata": {},
   "source": [
    "Применим прямое кодирование ко всему датафрейму. Вызовем функцию pd.get_dummies() c аргументом drop_first, чтобы не попасть в дамми-ловушку. Сохраним таблицу в переменной df_ohe."
   ]
  },
  {
   "cell_type": "code",
   "execution_count": 16,
   "metadata": {},
   "outputs": [
    {
     "data": {
      "text/html": [
       "<div>\n",
       "<style scoped>\n",
       "    .dataframe tbody tr th:only-of-type {\n",
       "        vertical-align: middle;\n",
       "    }\n",
       "\n",
       "    .dataframe tbody tr th {\n",
       "        vertical-align: top;\n",
       "    }\n",
       "\n",
       "    .dataframe thead th {\n",
       "        text-align: right;\n",
       "    }\n",
       "</style>\n",
       "<table border=\"1\" class=\"dataframe\">\n",
       "  <thead>\n",
       "    <tr style=\"text-align: right;\">\n",
       "      <th></th>\n",
       "      <th>credit_score</th>\n",
       "      <th>age</th>\n",
       "      <th>tenure</th>\n",
       "      <th>balance</th>\n",
       "      <th>num_of_products</th>\n",
       "      <th>has_cr_card</th>\n",
       "      <th>is_active_member</th>\n",
       "      <th>estimated_salary</th>\n",
       "      <th>exited</th>\n",
       "      <th>geography_Germany</th>\n",
       "      <th>geography_Spain</th>\n",
       "      <th>gender_Male</th>\n",
       "    </tr>\n",
       "  </thead>\n",
       "  <tbody>\n",
       "    <tr>\n",
       "      <th>0</th>\n",
       "      <td>619</td>\n",
       "      <td>42</td>\n",
       "      <td>2.0</td>\n",
       "      <td>0.00</td>\n",
       "      <td>1</td>\n",
       "      <td>1</td>\n",
       "      <td>1</td>\n",
       "      <td>101348.88</td>\n",
       "      <td>1</td>\n",
       "      <td>0</td>\n",
       "      <td>0</td>\n",
       "      <td>0</td>\n",
       "    </tr>\n",
       "    <tr>\n",
       "      <th>1</th>\n",
       "      <td>608</td>\n",
       "      <td>41</td>\n",
       "      <td>1.0</td>\n",
       "      <td>83807.86</td>\n",
       "      <td>1</td>\n",
       "      <td>0</td>\n",
       "      <td>1</td>\n",
       "      <td>112542.58</td>\n",
       "      <td>0</td>\n",
       "      <td>0</td>\n",
       "      <td>1</td>\n",
       "      <td>0</td>\n",
       "    </tr>\n",
       "    <tr>\n",
       "      <th>2</th>\n",
       "      <td>502</td>\n",
       "      <td>42</td>\n",
       "      <td>8.0</td>\n",
       "      <td>159660.80</td>\n",
       "      <td>3</td>\n",
       "      <td>1</td>\n",
       "      <td>0</td>\n",
       "      <td>113931.57</td>\n",
       "      <td>1</td>\n",
       "      <td>0</td>\n",
       "      <td>0</td>\n",
       "      <td>0</td>\n",
       "    </tr>\n",
       "    <tr>\n",
       "      <th>3</th>\n",
       "      <td>699</td>\n",
       "      <td>39</td>\n",
       "      <td>1.0</td>\n",
       "      <td>0.00</td>\n",
       "      <td>2</td>\n",
       "      <td>0</td>\n",
       "      <td>0</td>\n",
       "      <td>93826.63</td>\n",
       "      <td>0</td>\n",
       "      <td>0</td>\n",
       "      <td>0</td>\n",
       "      <td>0</td>\n",
       "    </tr>\n",
       "    <tr>\n",
       "      <th>4</th>\n",
       "      <td>850</td>\n",
       "      <td>43</td>\n",
       "      <td>2.0</td>\n",
       "      <td>125510.82</td>\n",
       "      <td>1</td>\n",
       "      <td>1</td>\n",
       "      <td>1</td>\n",
       "      <td>79084.10</td>\n",
       "      <td>0</td>\n",
       "      <td>0</td>\n",
       "      <td>1</td>\n",
       "      <td>0</td>\n",
       "    </tr>\n",
       "    <tr>\n",
       "      <th>5</th>\n",
       "      <td>645</td>\n",
       "      <td>44</td>\n",
       "      <td>8.0</td>\n",
       "      <td>113755.78</td>\n",
       "      <td>2</td>\n",
       "      <td>1</td>\n",
       "      <td>0</td>\n",
       "      <td>149756.71</td>\n",
       "      <td>1</td>\n",
       "      <td>0</td>\n",
       "      <td>1</td>\n",
       "      <td>1</td>\n",
       "    </tr>\n",
       "    <tr>\n",
       "      <th>6</th>\n",
       "      <td>822</td>\n",
       "      <td>50</td>\n",
       "      <td>7.0</td>\n",
       "      <td>0.00</td>\n",
       "      <td>2</td>\n",
       "      <td>1</td>\n",
       "      <td>1</td>\n",
       "      <td>10062.80</td>\n",
       "      <td>0</td>\n",
       "      <td>0</td>\n",
       "      <td>0</td>\n",
       "      <td>1</td>\n",
       "    </tr>\n",
       "    <tr>\n",
       "      <th>7</th>\n",
       "      <td>376</td>\n",
       "      <td>29</td>\n",
       "      <td>4.0</td>\n",
       "      <td>115046.74</td>\n",
       "      <td>4</td>\n",
       "      <td>1</td>\n",
       "      <td>0</td>\n",
       "      <td>119346.88</td>\n",
       "      <td>1</td>\n",
       "      <td>1</td>\n",
       "      <td>0</td>\n",
       "      <td>0</td>\n",
       "    </tr>\n",
       "    <tr>\n",
       "      <th>8</th>\n",
       "      <td>501</td>\n",
       "      <td>44</td>\n",
       "      <td>4.0</td>\n",
       "      <td>142051.07</td>\n",
       "      <td>2</td>\n",
       "      <td>0</td>\n",
       "      <td>1</td>\n",
       "      <td>74940.50</td>\n",
       "      <td>0</td>\n",
       "      <td>0</td>\n",
       "      <td>0</td>\n",
       "      <td>1</td>\n",
       "    </tr>\n",
       "    <tr>\n",
       "      <th>9</th>\n",
       "      <td>684</td>\n",
       "      <td>27</td>\n",
       "      <td>2.0</td>\n",
       "      <td>134603.88</td>\n",
       "      <td>1</td>\n",
       "      <td>1</td>\n",
       "      <td>1</td>\n",
       "      <td>71725.73</td>\n",
       "      <td>0</td>\n",
       "      <td>0</td>\n",
       "      <td>0</td>\n",
       "      <td>1</td>\n",
       "    </tr>\n",
       "    <tr>\n",
       "      <th>10</th>\n",
       "      <td>528</td>\n",
       "      <td>31</td>\n",
       "      <td>6.0</td>\n",
       "      <td>102016.72</td>\n",
       "      <td>2</td>\n",
       "      <td>0</td>\n",
       "      <td>0</td>\n",
       "      <td>80181.12</td>\n",
       "      <td>0</td>\n",
       "      <td>0</td>\n",
       "      <td>0</td>\n",
       "      <td>1</td>\n",
       "    </tr>\n",
       "    <tr>\n",
       "      <th>11</th>\n",
       "      <td>497</td>\n",
       "      <td>24</td>\n",
       "      <td>3.0</td>\n",
       "      <td>0.00</td>\n",
       "      <td>2</td>\n",
       "      <td>1</td>\n",
       "      <td>0</td>\n",
       "      <td>76390.01</td>\n",
       "      <td>0</td>\n",
       "      <td>0</td>\n",
       "      <td>1</td>\n",
       "      <td>1</td>\n",
       "    </tr>\n",
       "    <tr>\n",
       "      <th>12</th>\n",
       "      <td>476</td>\n",
       "      <td>34</td>\n",
       "      <td>10.0</td>\n",
       "      <td>0.00</td>\n",
       "      <td>2</td>\n",
       "      <td>1</td>\n",
       "      <td>0</td>\n",
       "      <td>26260.98</td>\n",
       "      <td>0</td>\n",
       "      <td>0</td>\n",
       "      <td>0</td>\n",
       "      <td>0</td>\n",
       "    </tr>\n",
       "    <tr>\n",
       "      <th>13</th>\n",
       "      <td>549</td>\n",
       "      <td>25</td>\n",
       "      <td>5.0</td>\n",
       "      <td>0.00</td>\n",
       "      <td>2</td>\n",
       "      <td>0</td>\n",
       "      <td>0</td>\n",
       "      <td>190857.79</td>\n",
       "      <td>0</td>\n",
       "      <td>0</td>\n",
       "      <td>0</td>\n",
       "      <td>0</td>\n",
       "    </tr>\n",
       "    <tr>\n",
       "      <th>14</th>\n",
       "      <td>635</td>\n",
       "      <td>35</td>\n",
       "      <td>7.0</td>\n",
       "      <td>0.00</td>\n",
       "      <td>2</td>\n",
       "      <td>1</td>\n",
       "      <td>1</td>\n",
       "      <td>65951.65</td>\n",
       "      <td>0</td>\n",
       "      <td>0</td>\n",
       "      <td>1</td>\n",
       "      <td>0</td>\n",
       "    </tr>\n",
       "    <tr>\n",
       "      <th>15</th>\n",
       "      <td>616</td>\n",
       "      <td>45</td>\n",
       "      <td>3.0</td>\n",
       "      <td>143129.41</td>\n",
       "      <td>2</td>\n",
       "      <td>0</td>\n",
       "      <td>1</td>\n",
       "      <td>64327.26</td>\n",
       "      <td>0</td>\n",
       "      <td>1</td>\n",
       "      <td>0</td>\n",
       "      <td>1</td>\n",
       "    </tr>\n",
       "    <tr>\n",
       "      <th>16</th>\n",
       "      <td>653</td>\n",
       "      <td>58</td>\n",
       "      <td>1.0</td>\n",
       "      <td>132602.88</td>\n",
       "      <td>1</td>\n",
       "      <td>1</td>\n",
       "      <td>0</td>\n",
       "      <td>5097.67</td>\n",
       "      <td>1</td>\n",
       "      <td>1</td>\n",
       "      <td>0</td>\n",
       "      <td>1</td>\n",
       "    </tr>\n",
       "    <tr>\n",
       "      <th>17</th>\n",
       "      <td>549</td>\n",
       "      <td>24</td>\n",
       "      <td>9.0</td>\n",
       "      <td>0.00</td>\n",
       "      <td>2</td>\n",
       "      <td>1</td>\n",
       "      <td>1</td>\n",
       "      <td>14406.41</td>\n",
       "      <td>0</td>\n",
       "      <td>0</td>\n",
       "      <td>1</td>\n",
       "      <td>0</td>\n",
       "    </tr>\n",
       "    <tr>\n",
       "      <th>18</th>\n",
       "      <td>587</td>\n",
       "      <td>45</td>\n",
       "      <td>6.0</td>\n",
       "      <td>0.00</td>\n",
       "      <td>1</td>\n",
       "      <td>0</td>\n",
       "      <td>0</td>\n",
       "      <td>158684.81</td>\n",
       "      <td>0</td>\n",
       "      <td>0</td>\n",
       "      <td>1</td>\n",
       "      <td>1</td>\n",
       "    </tr>\n",
       "    <tr>\n",
       "      <th>19</th>\n",
       "      <td>726</td>\n",
       "      <td>24</td>\n",
       "      <td>6.0</td>\n",
       "      <td>0.00</td>\n",
       "      <td>2</td>\n",
       "      <td>1</td>\n",
       "      <td>1</td>\n",
       "      <td>54724.03</td>\n",
       "      <td>0</td>\n",
       "      <td>0</td>\n",
       "      <td>0</td>\n",
       "      <td>0</td>\n",
       "    </tr>\n",
       "  </tbody>\n",
       "</table>\n",
       "</div>"
      ],
      "text/plain": [
       "    credit_score  age  tenure    balance  num_of_products  has_cr_card  \\\n",
       "0            619   42     2.0       0.00                1            1   \n",
       "1            608   41     1.0   83807.86                1            0   \n",
       "2            502   42     8.0  159660.80                3            1   \n",
       "3            699   39     1.0       0.00                2            0   \n",
       "4            850   43     2.0  125510.82                1            1   \n",
       "5            645   44     8.0  113755.78                2            1   \n",
       "6            822   50     7.0       0.00                2            1   \n",
       "7            376   29     4.0  115046.74                4            1   \n",
       "8            501   44     4.0  142051.07                2            0   \n",
       "9            684   27     2.0  134603.88                1            1   \n",
       "10           528   31     6.0  102016.72                2            0   \n",
       "11           497   24     3.0       0.00                2            1   \n",
       "12           476   34    10.0       0.00                2            1   \n",
       "13           549   25     5.0       0.00                2            0   \n",
       "14           635   35     7.0       0.00                2            1   \n",
       "15           616   45     3.0  143129.41                2            0   \n",
       "16           653   58     1.0  132602.88                1            1   \n",
       "17           549   24     9.0       0.00                2            1   \n",
       "18           587   45     6.0       0.00                1            0   \n",
       "19           726   24     6.0       0.00                2            1   \n",
       "\n",
       "    is_active_member  estimated_salary  exited  geography_Germany  \\\n",
       "0                  1         101348.88       1                  0   \n",
       "1                  1         112542.58       0                  0   \n",
       "2                  0         113931.57       1                  0   \n",
       "3                  0          93826.63       0                  0   \n",
       "4                  1          79084.10       0                  0   \n",
       "5                  0         149756.71       1                  0   \n",
       "6                  1          10062.80       0                  0   \n",
       "7                  0         119346.88       1                  1   \n",
       "8                  1          74940.50       0                  0   \n",
       "9                  1          71725.73       0                  0   \n",
       "10                 0          80181.12       0                  0   \n",
       "11                 0          76390.01       0                  0   \n",
       "12                 0          26260.98       0                  0   \n",
       "13                 0         190857.79       0                  0   \n",
       "14                 1          65951.65       0                  0   \n",
       "15                 1          64327.26       0                  1   \n",
       "16                 0           5097.67       1                  1   \n",
       "17                 1          14406.41       0                  0   \n",
       "18                 0         158684.81       0                  0   \n",
       "19                 1          54724.03       0                  0   \n",
       "\n",
       "    geography_Spain  gender_Male  \n",
       "0                 0            0  \n",
       "1                 1            0  \n",
       "2                 0            0  \n",
       "3                 0            0  \n",
       "4                 1            0  \n",
       "5                 1            1  \n",
       "6                 0            1  \n",
       "7                 0            0  \n",
       "8                 0            1  \n",
       "9                 0            1  \n",
       "10                0            1  \n",
       "11                1            1  \n",
       "12                0            0  \n",
       "13                0            0  \n",
       "14                1            0  \n",
       "15                0            1  \n",
       "16                0            1  \n",
       "17                1            0  \n",
       "18                1            1  \n",
       "19                0            0  "
      ]
     },
     "execution_count": 16,
     "metadata": {},
     "output_type": "execute_result"
    }
   ],
   "source": [
    "df_ohe = pd.get_dummies(df, drop_first=True)\n",
    "df_ohe.head(20)"
   ]
  },
  {
   "cell_type": "code",
   "execution_count": 17,
   "metadata": {},
   "outputs": [
    {
     "name": "stdout",
     "output_type": "stream",
     "text": [
      "<class 'pandas.core.frame.DataFrame'>\n",
      "Int64Index: 9091 entries, 0 to 9998\n",
      "Data columns (total 12 columns):\n",
      " #   Column             Non-Null Count  Dtype  \n",
      "---  ------             --------------  -----  \n",
      " 0   credit_score       9091 non-null   int64  \n",
      " 1   age                9091 non-null   int64  \n",
      " 2   tenure             9091 non-null   float64\n",
      " 3   balance            9091 non-null   float64\n",
      " 4   num_of_products    9091 non-null   int64  \n",
      " 5   has_cr_card        9091 non-null   int64  \n",
      " 6   is_active_member   9091 non-null   int64  \n",
      " 7   estimated_salary   9091 non-null   float64\n",
      " 8   exited             9091 non-null   int64  \n",
      " 9   geography_Germany  9091 non-null   uint8  \n",
      " 10  geography_Spain    9091 non-null   uint8  \n",
      " 11  gender_Male        9091 non-null   uint8  \n",
      "dtypes: float64(3), int64(6), uint8(3)\n",
      "memory usage: 736.9 KB\n"
     ]
    }
   ],
   "source": [
    "df_ohe.info()"
   ]
  },
  {
   "cell_type": "markdown",
   "metadata": {},
   "source": [
    "Теперь в таблице 12 столбцов. В столбце geography было 3 признака (страны) - Spain, Germany, France. Для каждого значения признака создаётся столбец. Аргумент drop_first удаляет первую колонку, теперь получаем 2 столбца -  geography_Germany и geography_Spain, а в колонке gender было  2 признака - Female и Male. В результате мы получили только 1 столбец. Это позволяет избежать дамми-ловушки."
   ]
  },
  {
   "cell_type": "markdown",
   "metadata": {},
   "source": [
    "Разобъем данные на 3 выборки: обучающую (train), валидационную (valid) и тестовую (test) в соотношении 3:1:1. \n",
    "Установим параметр (random_state) равным 12345.\n",
    "Объявимте четыре переменные и запишем в них:\n",
    "- признаки: features_train, features_valid;\n",
    "- целевой признак: target_train, target_valid."
   ]
  },
  {
   "cell_type": "code",
   "execution_count": 18,
   "metadata": {},
   "outputs": [],
   "source": [
    "features = df_ohe.drop(['exited'], axis=1)\n",
    "target = df_ohe['exited'] \n",
    "\n",
    "features_train, features_valid, target_train, target_valid = train_test_split(features, target, \n",
    "test_size=0.4, random_state=12345, stratify = target) # отделим 60% данных для обучающей выборки\n",
    "features_valid, features_test, target_valid, target_test = train_test_split(features_valid, target_valid,\n",
    "test_size=0.5, random_state=12345, stratify = target_valid) # разобъем по 20% данных для тестовой и валидационной выборок"
   ]
  },
  {
   "cell_type": "markdown",
   "metadata": {},
   "source": [
    "**Масштабирование признаков**"
   ]
  },
  {
   "cell_type": "markdown",
   "metadata": {},
   "source": [
    "Стандартизируем численные признаки. Импортируем StandardScaler из модуля sklearn.preprocessing.\n",
    "Создадим объект структуры StandardScaler() и настроим его на обучающих данных. \n",
    "Сохраним преобразованные обучающую, валидационную и тестовые выборки в переменных: features_train, features_valid и features_test. "
   ]
  },
  {
   "cell_type": "code",
   "execution_count": 19,
   "metadata": {},
   "outputs": [
    {
     "name": "stdout",
     "output_type": "stream",
     "text": [
      "(5454, 11)\n",
      "(1818, 11)\n",
      "(1819, 11)\n"
     ]
    }
   ],
   "source": [
    "pd.options.mode.chained_assignment = None\n",
    "numeric = ['credit_score', 'age', 'tenure', 'balance', 'num_of_products', 'estimated_salary']\n",
    "scaler = StandardScaler()\n",
    "scaler.fit(features_train[numeric])\n",
    "features_train[numeric] = scaler.transform(features_train[numeric]) # Масштабируем численные признаки обучающей выборки\n",
    "features_valid[numeric] = scaler.transform(features_valid[numeric]) # Масштабируем численные признаки валидационной выборки \n",
    "features_test[numeric] = scaler.transform(features_test[numeric]) # Масштабируем численные признаки тестовой выборки \n",
    "print(features_train.shape)\n",
    "print(features_valid.shape)\n",
    "print(features_test.shape)"
   ]
  },
  {
   "cell_type": "markdown",
   "metadata": {},
   "source": [
    "**Проверка адекватности модели**"
   ]
  },
  {
   "cell_type": "markdown",
   "metadata": {},
   "source": [
    "Чтобы оценить адекватность модели, проверим, как часто в целевом признаке встречается класс «1» или «0». Количество уникальных значений подсчитывается методом value_counts()."
   ]
  },
  {
   "cell_type": "code",
   "execution_count": 20,
   "metadata": {},
   "outputs": [
    {
     "name": "stdout",
     "output_type": "stream",
     "text": [
      "0    0.796062\n",
      "1    0.203938\n",
      "Name: exited, dtype: float64\n"
     ]
    }
   ],
   "source": [
    "class_frequency = df_ohe['exited'].value_counts(normalize=True)\n",
    "print(class_frequency)"
   ]
  },
  {
   "cell_type": "markdown",
   "metadata": {},
   "source": [
    "Видно, что классы в целевом признаке несбалансированны - наблюдается сильный дисбаланс классов, что плохо сказывается на обучении модели. "
   ]
  },
  {
   "cell_type": "markdown",
   "metadata": {},
   "source": [
    "Посмотрим как ведут себя модели без учёта дисбаланса."
   ]
  },
  {
   "cell_type": "markdown",
   "metadata": {},
   "source": [
    "**Исследуем модели**"
   ]
  },
  {
   "cell_type": "markdown",
   "metadata": {},
   "source": [
    "**Модель DecisionTreeClassifier - классификатор дерева решений**"
   ]
  },
  {
   "cell_type": "code",
   "execution_count": 21,
   "metadata": {},
   "outputs": [],
   "source": [
    "def classification_metrics(target_valid, predictions_valid, probabilities_one_valid):\n",
    "    print('Полнота', recall_score(target_valid, predictions_valid))\n",
    "    print('Точность', precision_score(target_valid, predictions_valid))\n",
    "    print('F1-мера', f1_score(target_valid, predictions_valid))\n",
    "    print('AUC-ROC', roc_auc_score(target_valid, probabilities_one_valid))"
   ]
  },
  {
   "cell_type": "code",
   "execution_count": 22,
   "metadata": {},
   "outputs": [
    {
     "name": "stdout",
     "output_type": "stream",
     "text": [
      "Accuracy модели: 0.8668866886688669\n",
      "Глубина дерева = 6 min_samples_split = 2 min_samples_leaf = 3\n",
      "Полнота 0.522911051212938\n",
      "Точность 0.671280276816609\n",
      "F1-мера 0.5878787878787878\n",
      "AUC-ROC 0.8150667707330157\n",
      "CPU times: user 32.7 s, sys: 100 ms, total: 32.8 s\n",
      "Wall time: 32.8 s\n"
     ]
    }
   ],
   "source": [
    "%%time\n",
    "best_depth = 0\n",
    "best_samples_split = 0\n",
    "best_samples_leaf = 0\n",
    "best_result = 0\n",
    "for depth in range(1,21):\n",
    "    for samples_split in range (2,10):\n",
    "        for samples_leaf in range (1,10):\n",
    "            model_dtc = DecisionTreeClassifier(random_state=12345, max_depth=depth, min_samples_split = samples_split,\n",
    "            min_samples_leaf = samples_leaf) # обучим модель с заданными параметрами\n",
    "            model_dtc.fit(features_train, target_train) # обучим модель на тренировочной выборке\n",
    "            predictions_dtc = model_dtc.predict(features_valid) # получим предсказания модели\n",
    "            probabilities_valid = model_dtc.predict_proba(features_valid)\n",
    "            probabilities_one_valid = probabilities_valid[:, 1]\n",
    "            result = accuracy_score(target_valid, predictions_dtc) # посчитаем качество модели на валидационной выборке\n",
    "            if result > best_result:\n",
    "                best_depth = depth\n",
    "                best_samples_split = samples_split\n",
    "                best_samples_leaf = samples_leaf\n",
    "                best_result = result \n",
    "print('Accuracy модели:', best_result)\n",
    "print('Глубина дерева =', best_depth, 'min_samples_split =', best_samples_split, 'min_samples_leaf =', best_samples_leaf)\n",
    "classification_metrics(target_valid, predictions_dtc, probabilities_one_valid)"
   ]
  },
  {
   "cell_type": "markdown",
   "metadata": {},
   "source": [
    "F1-мера является мерой точности и полноты модели, и ее низкое значение означает, что модель делает много ошибок как в предсказании положительных, так и отрицательных классов. Это может быть вызвано недостаточным количеством данных для обучения."
   ]
  },
  {
   "cell_type": "code",
   "execution_count": 23,
   "metadata": {},
   "outputs": [
    {
     "data": {
      "image/png": "[encoded data removed]",
      "text/plain": [
       "<Figure size 1080x648 with 1 Axes>"
      ]
     },
     "metadata": {
      "needs_background": "light"
     },
     "output_type": "display_data"
    }
   ],
   "source": [
    "train_scores = []\n",
    "valid_scores = []\n",
    "max_depth = range(1,50)\n",
    "for depth in max_depth:\n",
    "    model = DecisionTreeClassifier(random_state=12345, max_depth=depth) \n",
    "    model.fit(features_train, target_train) \n",
    "    train_scores.append(model.score(features_train, target_train))\n",
    "    valid_scores.append(model.score(features_valid, target_valid))\n",
    "plt.figure(figsize=(15, 9))\n",
    "plt.plot(max_depth, train_scores, label='Train')\n",
    "plt.plot(max_depth, valid_scores, label='Validation')\n",
    "plt.title('Зависимость Accuracy от глубины дерева')\n",
    "plt.xlabel('Глубина дерева')\n",
    "plt.ylabel('Accuracy')\n",
    "plt.legend()\n",
    "plt.grid()"
   ]
  },
  {
   "cell_type": "markdown",
   "metadata": {},
   "source": [
    "При достижении определенной глубины деревьев наша доля верных ответов выходит на асимптоту. Увеличение глубины дерева приводит к переобучению модели. Точность на валидационной выборке растет до глубины 6, а потом снижается в связи с переобучением, поэтому оптимальная глубина дерева равна 6.  На обучающей выборке точность достигает 1 и модель перестает изменяться. "
   ]
  },
  {
   "cell_type": "markdown",
   "metadata": {},
   "source": [
    "**Алгоритм классификации RandomForestClassifier - классификатор случайного леса**"
   ]
  },
  {
   "cell_type": "code",
   "execution_count": 24,
   "metadata": {},
   "outputs": [
    {
     "name": "stdout",
     "output_type": "stream",
     "text": [
      "Accuracy модели: 0.8729372937293729\n",
      "Глубина дерева = 19 количество деревьев = 131\n",
      "Полнота 0.49595687331536387\n",
      "Точность 0.7634854771784232\n",
      "F1-мера 0.6013071895424836\n",
      "AUC-ROC 0.8720654500341818\n",
      "CPU times: user 2min 15s, sys: 807 ms, total: 2min 16s\n",
      "Wall time: 2min 16s\n"
     ]
    }
   ],
   "source": [
    "%%time\n",
    "best_est = 0\n",
    "best_depth = 0\n",
    "best_result = 0\n",
    "for depth in range(1, 21):\n",
    "    for est in range(1, 150, 10):\n",
    "        model_rfc = RandomForestClassifier(random_state=12345, n_estimators=est, max_depth=depth) \n",
    "        model_rfc.fit(features_train, target_train)\n",
    "        predictions_rfc = model_rfc.predict(features_valid)\n",
    "        probabilities_valid = model_rfc.predict_proba(features_valid)\n",
    "        probabilities_one_valid = probabilities_valid[:, 1]\n",
    "        result = model_rfc.score(features_valid, target_valid) \n",
    "        if result > best_result:\n",
    "            best_est = est\n",
    "            best_depth = depth\n",
    "            best_result = result \n",
    "print('Accuracy модели:', best_result)\n",
    "print('Глубина дерева =', best_depth, 'количество деревьев =', best_est)\n",
    "classification_metrics(target_valid, predictions_rfc, probabilities_one_valid)"
   ]
  },
  {
   "cell_type": "markdown",
   "metadata": {},
   "source": [
    "**Модель LogisticRegression - логистическая регрессия**"
   ]
  },
  {
   "cell_type": "code",
   "execution_count": 25,
   "metadata": {},
   "outputs": [
    {
     "name": "stdout",
     "output_type": "stream",
     "text": [
      "Accuracy модели: 0.8151815181518152\n",
      "Полнота 0.22371967654986524\n",
      "Точность 0.6335877862595419\n",
      "F1-мера 0.3306772908366534\n",
      "AUC-ROC 0.7893010355098474\n"
     ]
    }
   ],
   "source": [
    "model_lr = LogisticRegression(random_state=12345, solver='liblinear') \n",
    "model_lr.fit(features_train, target_train) \n",
    "predictions_lr = model_lr.predict(features_valid)\n",
    "probabilities_valid = model_lr.predict_proba(features_valid)\n",
    "probabilities_one_valid = probabilities_valid[:, 1]\n",
    "result = model_lr.score(features_valid, target_valid)\n",
    "print(\"Accuracy модели:\", result)\n",
    "classification_metrics(target_valid, predictions_lr, probabilities_one_valid)"
   ]
  },
  {
   "cell_type": "markdown",
   "metadata": {},
   "source": [
    "**Вывод:** \n",
    "- Accuracy модели DecisionTreeClassifier: 0.86 при глубине дерева = 6 min_samples_split = 2 и min_samples_leaf = 3\n",
    "- Accuracy модели RandomForestClassifier: 0.87 при глубине дерева = 19 и количестве деревьев = 131\n",
    "- Accuracy  модели LogisticRegression: 0.815. \n",
    "\n",
    "Без устранения дисбаланса лучше всего себя показала модель случайного леса, достигшая F1-мера = 0.6013071895424836, AUC-ROC = 0.8720654500341818 при глубине дерева = 19 и количестве деревьев = 131.\n",
    "\n",
    "Если не учитывать дисбаланс в модели, то она может быть склонна предсказывать чаще те классы, которые встречаются чаще в обучающей выборке."
   ]
  },
  {
   "cell_type": "markdown",
   "metadata": {},
   "source": [
    "## Борьба с дисбалансом"
   ]
  },
  {
   "cell_type": "markdown",
   "metadata": {},
   "source": [
    "**Взвешивание классов**"
   ]
  },
  {
   "cell_type": "markdown",
   "metadata": {},
   "source": [
    "Применим параметр class_weight для борьбы с дисбалансом."
   ]
  },
  {
   "cell_type": "code",
   "execution_count": 26,
   "metadata": {},
   "outputs": [
    {
     "name": "stdout",
     "output_type": "stream",
     "text": [
      "Полнота 0.7250673854447439\n",
      "Точность 0.44098360655737706\n",
      "F1-мера 0.5484199796126402\n",
      "AUC-ROC 0.799206276765573\n",
      "CPU times: user 33 s, sys: 92 ms, total: 33.1 s\n",
      "Wall time: 33.1 s\n"
     ]
    }
   ],
   "source": [
    "%%time\n",
    "best_depth = 0\n",
    "best_samples_split = 0\n",
    "best_samples_leaf = 0\n",
    "best_result = 0\n",
    "for depth in range(1,21):\n",
    "    for samples_split in range (2,10):\n",
    "        for samples_leaf in range (1,10):\n",
    "            model_dtc = DecisionTreeClassifier(random_state=12345, max_depth=depth, min_samples_split = samples_split,\n",
    "            min_samples_leaf = samples_leaf, class_weight='balanced') \n",
    "            model_dtc.fit(features_train, target_train) \n",
    "            predictions_dtc = model_dtc.predict(features_valid) \n",
    "            probabilities_valid = model_dtc.predict_proba(features_valid)\n",
    "            probabilities_one_valid = probabilities_valid[:, 1]\n",
    "            result = accuracy_score(target_valid, predictions_dtc) \n",
    "            if result > best_result:\n",
    "                best_depth = depth\n",
    "                best_samples_split = samples_split\n",
    "                best_samples_leaf = samples_leaf\n",
    "                best_result = result             \n",
    "classification_metrics(target_valid, predictions_dtc, probabilities_one_valid)"
   ]
  },
  {
   "cell_type": "code",
   "execution_count": 27,
   "metadata": {},
   "outputs": [
    {
     "name": "stdout",
     "output_type": "stream",
     "text": [
      "Глубина дерева = 20 количество деревьев = 31\n",
      "Полнота 0.4528301886792453\n",
      "Точность 0.8\n",
      "F1-мера 0.5783132530120482\n",
      "AUC-ROC 0.8700564603408484\n",
      "CPU times: user 2min 16s, sys: 684 ms, total: 2min 17s\n",
      "Wall time: 2min 17s\n"
     ]
    }
   ],
   "source": [
    "%%time\n",
    "best_est = 0\n",
    "best_depth = 0\n",
    "best_result = 0\n",
    "for depth in range(1, 21):\n",
    "    for est in range(1, 150, 10):\n",
    "        model_rfc = RandomForestClassifier(random_state=12345, n_estimators=est, max_depth=depth, class_weight='balanced') \n",
    "        model_rfc.fit(features_train, target_train)\n",
    "        predictions_rfc = model_rfc.predict(features_valid)\n",
    "        probabilities_valid = model_rfc.predict_proba(features_valid)\n",
    "        probabilities_one_valid = probabilities_valid[:, 1]\n",
    "        result = model_rfc.score(features_valid, target_valid) \n",
    "        if result > best_result:\n",
    "            best_est = est\n",
    "            best_depth = depth\n",
    "            best_result = result \n",
    "print('Глубина дерева =', best_depth, 'количество деревьев =', best_est)\n",
    "classification_metrics(target_valid, predictions_rfc, probabilities_one_valid)"
   ]
  },
  {
   "cell_type": "code",
   "execution_count": 28,
   "metadata": {},
   "outputs": [
    {
     "name": "stdout",
     "output_type": "stream",
     "text": [
      "Полнота 0.7304582210242587\n",
      "Точность 0.3876967095851216\n",
      "F1-мера 0.5065420560747663\n",
      "AUC-ROC 0.790763304317698\n"
     ]
    }
   ],
   "source": [
    "model_lr = LogisticRegression(random_state=12345, solver='liblinear', class_weight='balanced') \n",
    "model_lr.fit(features_train, target_train) \n",
    "predictions_lr = model_lr.predict(features_valid)\n",
    "probabilities_valid = model_lr.predict_proba(features_valid)\n",
    "probabilities_one_valid = probabilities_valid[:, 1]\n",
    "result = model_lr.score(features_valid, target_valid)\n",
    "classification_metrics(target_valid, predictions_lr, probabilities_one_valid)"
   ]
  },
  {
   "cell_type": "markdown",
   "metadata": {},
   "source": [
    "**Увеличение выборки - техника upsampling**"
   ]
  },
  {
   "cell_type": "markdown",
   "metadata": {},
   "source": [
    "Преобразование проходит в несколько этапов:\n",
    "- Разделим обучающую выборку на отрицательные и положительные объекты;\n",
    "- Скопируем несколько раз положительные объекты;\n",
    "- с учётом полученных данных создать новую обучающую выборку;\n",
    "- перемешать данные: идущие друг за другом одинаковые вопросы не помогут обучению."
   ]
  },
  {
   "cell_type": "code",
   "execution_count": 29,
   "metadata": {},
   "outputs": [
    {
     "name": "stdout",
     "output_type": "stream",
     "text": [
      "(8790, 11)\n",
      "(8790,)\n",
      "1    0.50603\n",
      "0    0.49397\n",
      "Name: exited, dtype: float64\n"
     ]
    }
   ],
   "source": [
    "def upsample(features, target, repeat):\n",
    "    features_zeros = features[target == 0]\n",
    "    features_ones = features[target == 1]\n",
    "    target_zeros = target[target == 0]\n",
    "    target_ones = target[target == 1]\n",
    "\n",
    "    features_upsampled = pd.concat([features_zeros] + [features_ones] * repeat)\n",
    "    target_upsampled = pd.concat([target_zeros] + [target_ones] * repeat)\n",
    "    \n",
    "    features_upsampled, target_upsampled = shuffle(\n",
    "        features_upsampled, target_upsampled, random_state=12345)\n",
    "    \n",
    "    return features_upsampled, target_upsampled\n",
    "features_upsampled, target_upsampled = upsample(features_train, target_train, 4)\n",
    "\n",
    "print(features_upsampled.shape)\n",
    "print(target_upsampled.shape)\n",
    "print(target_upsampled.value_counts(normalize = True))"
   ]
  },
  {
   "cell_type": "code",
   "execution_count": 30,
   "metadata": {},
   "outputs": [
    {
     "name": "stdout",
     "output_type": "stream",
     "text": [
      "Полнота 0.5336927223719676\n",
      "Точность 0.515625\n",
      "F1-мера 0.5245033112582781\n",
      "AUC-ROC 0.7025754558646293\n",
      "CPU times: user 41.6 s, sys: 128 ms, total: 41.7 s\n",
      "Wall time: 41.7 s\n"
     ]
    }
   ],
   "source": [
    "%%time\n",
    "best_depth = 0\n",
    "best_result = 0\n",
    "for depth in range(1,21):\n",
    "    for samples_split in range (2, 10):\n",
    "        for samples_leaf in range (1,10):\n",
    "            model_dtc_upsampled = DecisionTreeClassifier(random_state=12345, max_depth=depth) \n",
    "            model_dtc_upsampled.fit(features_upsampled, target_upsampled) \n",
    "            predictions_dtc_upsampled = model_dtc_upsampled.predict(features_valid) \n",
    "            probabilities_valid = model_dtc_upsampled.predict_proba(features_valid)\n",
    "            probabilities_one_valid = probabilities_valid[:, 1]\n",
    "            result = accuracy_score(target_valid, predictions_dtc_upsampled)\n",
    "            if result > best_result:\n",
    "                best_depth = depth\n",
    "                best_samples_split = samples_split\n",
    "                best_samples_leaf = samples_leaf\n",
    "                best_result = result             \n",
    "classification_metrics(target_valid, predictions_dtc_upsampled, probabilities_one_valid)"
   ]
  },
  {
   "cell_type": "code",
   "execution_count": 31,
   "metadata": {},
   "outputs": [
    {
     "name": "stdout",
     "output_type": "stream",
     "text": [
      "Глубина дерева = 20 количество деревьев = 91\n",
      "Полнота 0.5822102425876011\n",
      "Точность 0.6923076923076923\n",
      "F1-мера 0.6325036603221084\n",
      "AUC-ROC 0.8670611377382708\n",
      "CPU times: user 2min 44s, sys: 808 ms, total: 2min 45s\n",
      "Wall time: 2min 45s\n"
     ]
    }
   ],
   "source": [
    "%%time\n",
    "best_est = 0\n",
    "best_depth = 0\n",
    "best_result = 0\n",
    "for depth in range(1,21):\n",
    "    for est in range(1, 150, 10):\n",
    "        model_rfc_upsampled = RandomForestClassifier(random_state=12345, n_estimators=est, max_depth=depth) \n",
    "        model_rfc_upsampled.fit(features_upsampled, target_upsampled)\n",
    "        predictions_rfc_upsampled = model_rfc_upsampled.predict(features_valid)\n",
    "        probabilities_valid = model_rfc_upsampled.predict_proba(features_valid)\n",
    "        probabilities_one_valid = probabilities_valid[:, 1]\n",
    "        result = model_rfc_upsampled.score(features_valid, target_valid) \n",
    "        if result > best_result:\n",
    "            best_est = est\n",
    "            best_depth = depth\n",
    "            best_result = result \n",
    "print('Глубина дерева =', best_depth, 'количество деревьев =', best_est)            \n",
    "classification_metrics(target_valid, predictions_rfc_upsampled, probabilities_one_valid)"
   ]
  },
  {
   "cell_type": "code",
   "execution_count": 32,
   "metadata": {},
   "outputs": [
    {
     "name": "stdout",
     "output_type": "stream",
     "text": [
      "Полнота 0.7358490566037735\n",
      "Точность 0.3845070422535211\n",
      "F1-мера 0.5050878815911193\n",
      "AUC-ROC 0.790767029843323\n"
     ]
    }
   ],
   "source": [
    "model_lr_upsampled = LogisticRegression(random_state=12345, solver='liblinear') \n",
    "model_lr_upsampled.fit(features_upsampled, target_upsampled) \n",
    "predictions_lr_upsampled = model_lr_upsampled.predict(features_valid)\n",
    "probabilities_valid = model_lr_upsampled.predict_proba(features_valid)\n",
    "probabilities_one_valid = probabilities_valid[:, 1]\n",
    "result = model_lr_upsampled.score(features_valid, target_valid)\n",
    "classification_metrics(target_valid, predictions_lr_upsampled, probabilities_one_valid)"
   ]
  },
  {
   "cell_type": "markdown",
   "metadata": {},
   "source": [
    "**Уменьшение выборки - техника downsampling**"
   ]
  },
  {
   "cell_type": "code",
   "execution_count": 33,
   "metadata": {},
   "outputs": [
    {
     "name": "stdout",
     "output_type": "stream",
     "text": [
      "(2198, 11)\n",
      "(2198,)\n"
     ]
    }
   ],
   "source": [
    "def downsample(features, target, fraction):\n",
    "    features_zeros = features[target == 0]\n",
    "    features_ones = features[target == 1]\n",
    "    target_zeros = target[target == 0]\n",
    "    target_ones = target[target == 1]\n",
    "\n",
    "    features_downsampled = pd.concat(\n",
    "        [features_zeros.sample(frac=fraction, random_state=12345)] + [features_ones])\n",
    "    target_downsampled = pd.concat(\n",
    "        [target_zeros.sample(frac=fraction, random_state=12345)] + [target_ones])\n",
    "    \n",
    "    features_downsampled, target_downsampled = shuffle(\n",
    "        features_downsampled, target_downsampled, random_state=12345)\n",
    "    \n",
    "    return features_downsampled, target_downsampled\n",
    "\n",
    "features_downsampled, target_downsampled = downsample(features_train, target_train, 0.25)\n",
    "print(features_downsampled.shape)\n",
    "print(target_downsampled.shape)"
   ]
  },
  {
   "cell_type": "code",
   "execution_count": 34,
   "metadata": {},
   "outputs": [
    {
     "name": "stdout",
     "output_type": "stream",
     "text": [
      "Полнота 0.7358490566037735\n",
      "Точность 0.37916666666666665\n",
      "F1-мера 0.5004582951420715\n",
      "AUC-ROC 0.7134670300295993\n",
      "CPU times: user 15.9 s, sys: 44 ms, total: 16 s\n",
      "Wall time: 16 s\n"
     ]
    }
   ],
   "source": [
    "%%time\n",
    "best_depth = 0\n",
    "best_samples_split = 0\n",
    "best_samples_leaf = 0\n",
    "best_result = 0\n",
    "for depth in range(1,21):\n",
    "    for samples_split in range (2, 10):\n",
    "        for samples_leaf in range (1,10):\n",
    "            model_dtc_downsampled = DecisionTreeClassifier(random_state=12345, max_depth=depth) \n",
    "            model_dtc_downsampled.fit(features_downsampled, target_downsampled) \n",
    "            predictions_dtc_downsampled = model_dtc_downsampled.predict(features_valid) \n",
    "            probabilities_valid = model_dtc_downsampled.predict_proba(features_valid)\n",
    "            probabilities_one_valid = probabilities_valid[:, 1]\n",
    "            result = accuracy_score(target_valid, predictions_dtc_downsampled) \n",
    "            if result > best_result:\n",
    "                best_depth = depth\n",
    "                best_samples_split = samples_split\n",
    "                best_samples_leaf = samples_leaf\n",
    "                best_result = result \n",
    "classification_metrics(target_valid, predictions_dtc_downsampled, probabilities_one_valid)"
   ]
  },
  {
   "cell_type": "code",
   "execution_count": 35,
   "metadata": {},
   "outputs": [
    {
     "name": "stdout",
     "output_type": "stream",
     "text": [
      "Полнота 0.7978436657681941\n",
      "Точность 0.4925124792013311\n",
      "F1-мера 0.6090534979423868\n",
      "AUC-ROC 0.8792193906157735\n",
      "CPU times: user 1min 18s, sys: 376 ms, total: 1min 18s\n",
      "Wall time: 1min 18s\n"
     ]
    }
   ],
   "source": [
    "%%time\n",
    "best_est = 0\n",
    "best_depth = 0\n",
    "best_result = 0\n",
    "for depth in range(1,21):\n",
    "    for est in range(1, 150, 10):\n",
    "        model_rfc_downsampled = RandomForestClassifier(random_state=12345, n_estimators=est, max_depth=depth) \n",
    "        model_rfc_downsampled.fit(features_downsampled, target_downsampled)\n",
    "        predictions_rfc_downsampled = model_rfc_downsampled.predict(features_valid)\n",
    "        probabilities_valid = model_rfc_downsampled.predict_proba(features_valid)\n",
    "        probabilities_one_valid = probabilities_valid[:, 1]\n",
    "        result = model_rfc_downsampled.score(features_valid, target_valid) \n",
    "        if result > best_result:\n",
    "            best_est = est\n",
    "            best_depth = depth\n",
    "            best_result = result \n",
    "classification_metrics(target_valid, predictions_rfc_downsampled, probabilities_one_valid)"
   ]
  },
  {
   "cell_type": "code",
   "execution_count": 36,
   "metadata": {},
   "outputs": [
    {
     "name": "stdout",
     "output_type": "stream",
     "text": [
      "Полнота 0.7466307277628033\n",
      "Точность 0.38687150837988826\n",
      "F1-мера 0.5096596136154553\n",
      "AUC-ROC 0.7911153664892695\n"
     ]
    }
   ],
   "source": [
    "model_lr_downsampled = LogisticRegression(random_state=12345, solver='liblinear') \n",
    "model_lr_downsampled.fit(features_downsampled, target_downsampled) \n",
    "predictions_lr_downsampled = model_lr_downsampled.predict(features_valid)\n",
    "probabilities_valid = model_lr_downsampled.predict_proba(features_valid)\n",
    "probabilities_one_valid = probabilities_valid[:, 1]\n",
    "result = model_lr_downsampled.score(features_valid, target_valid)\n",
    "classification_metrics(target_valid, predictions_lr_downsampled, probabilities_one_valid)"
   ]
  },
  {
   "cell_type": "markdown",
   "metadata": {},
   "source": [
    "Мы рассмотрели несколько методов борьбы с дисбалансом классов. Лучше всего показал себя upsampling при устранении дисбаланса.\n",
    "\n",
    "Лучшая модель - RandomForestClassifier.\n",
    "\n",
    "- Глубина дерева = 20 количество деревьев = 91\n",
    "- Полнота 0.5822102425876011\n",
    "- Точность 0.6923076923076923\n",
    "- F1-мера 0.6325036603221084\n",
    "- AUC-ROC 0.8670611377382708"
   ]
  },
  {
   "cell_type": "markdown",
   "metadata": {},
   "source": [
    "## Тестирование модели"
   ]
  },
  {
   "cell_type": "markdown",
   "metadata": {},
   "source": [
    "Посмотрим как ведет себя лучшая модель на тестовых данных."
   ]
  },
  {
   "cell_type": "code",
   "execution_count": 46,
   "metadata": {},
   "outputs": [
    {
     "name": "stdout",
     "output_type": "stream",
     "text": [
      "Полнота 0.5471698113207547\n",
      "Точность 0.6766666666666666\n",
      "F1-мера 0.6050670640834575\n",
      "AUC-ROC 0.8417447245759557\n"
     ]
    }
   ],
   "source": [
    "model_rfc_best = RandomForestClassifier(max_depth = 21,  n_estimators = 91, random_state = 12345)\n",
    "model_rfc_best.fit(features_upsampled, target_upsampled)\n",
    "model_rfc_best_prediction = model_rfc_best.predict(features_test)\n",
    "probabilities_test = model_rfc_best.predict_proba(features_test)\n",
    "probabilities_one_test = probabilities_test[:, 1]\n",
    "\n",
    "print('Полнота', recall_score(target_test, model_rfc_best_prediction))\n",
    "print('Точность', precision_score(target_test, model_rfc_best_prediction))\n",
    "print('F1-мера', f1_score(target_test, model_rfc_best_prediction))\n",
    "print('AUC-ROC', roc_auc_score(target_test, probabilities_one_test))"
   ]
  },
  {
   "cell_type": "markdown",
   "metadata": {},
   "source": [
    "Построим ROC-кривую (кривая ошибок), чтобы посмотреть как визуально выглядят результаты"
   ]
  },
  {
   "cell_type": "code",
   "execution_count": 47,
   "metadata": {},
   "outputs": [
    {
     "data": {
      "image/png": "[encoded data removed]",
      "text/plain": [
       "<Figure size 432x288 with 1 Axes>"
      ]
     },
     "metadata": {
      "needs_background": "light"
     },
     "output_type": "display_data"
    }
   ],
   "source": [
    "probabilities_test = model_rfc_best.predict_proba(features_test)\n",
    "probabilities_one_test = probabilities_test[:, 1]\n",
    "\n",
    "fpr, tpr, thresholds = roc_curve(target_test, probabilities_one_test) \n",
    "\n",
    "plt.figure()\n",
    "plt.plot([0, 1], [0, 1], linestyle='--')\n",
    "plt.plot(fpr, tpr)\n",
    "plt.xlim([0.0, 1.0])\n",
    "plt.ylim([0.0, 1.0])\n",
    "plt.xlabel('False Positive Rate')\n",
    "plt.ylabel('True Positive Rate')\n",
    "plt.title('ROC-кривая')\n",
    "plt.show()"
   ]
  },
  {
   "cell_type": "markdown",
   "metadata": {},
   "source": [
    "Нам удалось достичь F1-меры выше 0.59  \n",
    "Показатель точности равен 0.676  — модель с высокой вероятностью предскажет уход клиентов.\n",
    "- F1-мера 0.6050670640834575\n",
    "- AUC-ROC 0.8417447245759557\n",
    "\n",
    "Данная модель поможет банковским маркетологам лучше определять уйдёт ли клиент из банка в ближайшее время или нет."
   ]
  },
  {
   "cell_type": "markdown",
   "metadata": {},
   "source": [
    "**Вывод**\n",
    "\n",
    "Таким образом, мы рассмотрели исторические данные о поведении клиентов и расторжении договоров с банком. \n",
    "\n",
    "Провели предобработку данных. В столбце tenure (сколько лет человек является клиентом банка) были пропущенные значения, мы удалили их, т.к. не было никакой с другими признаками.  \n",
    "\n",
    "Разбили данные на на три части: обучающую, валидационную и тестовую в соотношении 3:1:1. Провели стандартизацию численных признаков.\n",
    "\n",
    "Построили следующие модели для задачи классификации: DecisionTreeClassifier - классификатор дерева решений, RandomForestClassifier - классификатор случайного леса, LogisticRegression - логистическая регрессия. \n",
    "\n",
    "Без устранения дисбаланса лучше всего себя показала модель случайного леса, достигшая F1-мера = 0.6013071895424836, AUC-ROC = 0.8720654500341818 при глубине дерева = 19 и количестве деревьев = 131.\n",
    "\n",
    "Скоректировали балланс класса. Использовали техники взвешивания классов, увеличение (upsampling) и уменьшение (downsampling) выборки. \n",
    "\n",
    "Наилучший результат показала модель - RandomForestClassifier.\n",
    "\n",
    "- Глубина дерева = 20 количество деревьев = 91\n",
    "- Полнота 0.5822102425876011\n",
    "- Точность 0.6923076923076923\n",
    "- F1-мера 0.6325036603221084\n",
    "- AUC-ROC 0.8670611377382708\n",
    "\n",
    "Посмотрели как ведет себя лучшая модель на тестовых данных и получили следующие результаты: \n",
    "\n",
    "- Полнота 0.5471698113207547\n",
    "- Точность 0.6766666666666666\n",
    "- F1-мера 0.6050670640834575\n",
    "- AUC-ROC 0.8417447245759557\n",
    "\n",
    "Нам удалось достичь F1-меры выше 0.59. Значение F1-меры нашей модели равно 0.605 на тестовой выборке, а AUC-ROC равно 0.8417447245759557. Значения метрик достаточно хорошие. Полученая модель поможет банковским маркетологам лучше определять уйдёт ли клиент из банка в ближайшее время или нет."
   ]
  }
 ],
 "metadata": {
  "ExecuteTimeLog": [
   {
    "duration": 1780,
    "start_time": "2023-04-19T09:53:33.415Z"
   },
   {
    "duration": 159,
    "start_time": "2023-04-19T09:54:30.724Z"
   },
   {
    "duration": 18,
    "start_time": "2023-04-19T09:54:32.318Z"
   },
   {
    "duration": 19,
    "start_time": "2023-04-19T09:54:34.200Z"
   },
   {
    "duration": 42,
    "start_time": "2023-04-19T09:54:36.320Z"
   },
   {
    "duration": 22,
    "start_time": "2023-04-19T09:54:38.217Z"
   },
   {
    "duration": 54,
    "start_time": "2023-04-20T06:38:35.087Z"
   },
   {
    "duration": 1451,
    "start_time": "2023-04-20T06:38:42.217Z"
   },
   {
    "duration": 78,
    "start_time": "2023-04-20T06:38:43.670Z"
   },
   {
    "duration": 16,
    "start_time": "2023-04-20T06:38:43.749Z"
   },
   {
    "duration": 13,
    "start_time": "2023-04-20T06:38:43.767Z"
   },
   {
    "duration": 48,
    "start_time": "2023-04-20T06:38:43.782Z"
   },
   {
    "duration": 16,
    "start_time": "2023-04-20T06:38:43.831Z"
   },
   {
    "duration": 6,
    "start_time": "2023-04-20T06:38:43.848Z"
   },
   {
    "duration": 6,
    "start_time": "2023-04-20T06:39:19.250Z"
   },
   {
    "duration": 4,
    "start_time": "2023-04-20T06:39:30.625Z"
   },
   {
    "duration": 4,
    "start_time": "2023-04-20T06:40:51.577Z"
   },
   {
    "duration": 4,
    "start_time": "2023-04-20T06:41:05.622Z"
   },
   {
    "duration": 5,
    "start_time": "2023-04-20T06:53:31.638Z"
   },
   {
    "duration": 5,
    "start_time": "2023-04-20T06:53:35.889Z"
   },
   {
    "duration": 123,
    "start_time": "2023-04-20T07:37:27.941Z"
   },
   {
    "duration": 9,
    "start_time": "2023-04-20T07:37:38.357Z"
   },
   {
    "duration": 3,
    "start_time": "2023-04-20T07:47:51.643Z"
   },
   {
    "duration": 6,
    "start_time": "2023-04-20T07:51:02.522Z"
   },
   {
    "duration": 370,
    "start_time": "2023-04-20T07:54:16.350Z"
   },
   {
    "duration": 273,
    "start_time": "2023-04-20T07:55:08.568Z"
   },
   {
    "duration": 18,
    "start_time": "2023-04-20T07:55:52.276Z"
   },
   {
    "duration": 27,
    "start_time": "2023-04-20T07:56:03.008Z"
   },
   {
    "duration": 5,
    "start_time": "2023-04-20T08:01:23.189Z"
   },
   {
    "duration": 5,
    "start_time": "2023-04-20T08:08:53.839Z"
   },
   {
    "duration": 10,
    "start_time": "2023-04-20T08:09:08.344Z"
   },
   {
    "duration": 5,
    "start_time": "2023-04-20T08:10:15.860Z"
   },
   {
    "duration": 25,
    "start_time": "2023-04-20T08:11:46.970Z"
   },
   {
    "duration": 21,
    "start_time": "2023-04-20T08:14:16.634Z"
   },
   {
    "duration": 3,
    "start_time": "2023-04-20T08:18:30.344Z"
   },
   {
    "duration": 93,
    "start_time": "2023-04-20T08:19:25.313Z"
   },
   {
    "duration": 3,
    "start_time": "2023-04-20T08:19:29.688Z"
   },
   {
    "duration": 4,
    "start_time": "2023-04-20T08:19:32.440Z"
   },
   {
    "duration": 11,
    "start_time": "2023-04-20T08:19:42.311Z"
   },
   {
    "duration": 46,
    "start_time": "2023-04-20T18:26:58.110Z"
   },
   {
    "duration": 1452,
    "start_time": "2023-04-20T18:27:05.191Z"
   },
   {
    "duration": 164,
    "start_time": "2023-04-20T18:27:06.645Z"
   },
   {
    "duration": 30,
    "start_time": "2023-04-20T18:27:06.811Z"
   },
   {
    "duration": 12,
    "start_time": "2023-04-20T18:27:06.843Z"
   },
   {
    "duration": 38,
    "start_time": "2023-04-20T18:27:06.857Z"
   },
   {
    "duration": 18,
    "start_time": "2023-04-20T18:27:06.897Z"
   },
   {
    "duration": 33,
    "start_time": "2023-04-20T18:27:06.916Z"
   },
   {
    "duration": 5,
    "start_time": "2023-04-20T18:27:06.951Z"
   },
   {
    "duration": 6,
    "start_time": "2023-04-20T18:27:06.957Z"
   },
   {
    "duration": 12,
    "start_time": "2023-04-20T18:27:06.965Z"
   },
   {
    "duration": 6,
    "start_time": "2023-04-20T18:27:06.978Z"
   },
   {
    "duration": 17,
    "start_time": "2023-04-20T18:27:06.985Z"
   },
   {
    "duration": 12,
    "start_time": "2023-04-20T18:27:07.004Z"
   },
   {
    "duration": 3,
    "start_time": "2023-04-20T18:27:07.018Z"
   },
   {
    "duration": 33,
    "start_time": "2023-04-20T18:27:07.023Z"
   },
   {
    "duration": 10,
    "start_time": "2023-04-20T18:27:07.058Z"
   },
   {
    "duration": 10,
    "start_time": "2023-04-20T18:27:07.070Z"
   },
   {
    "duration": 4,
    "start_time": "2023-04-20T18:31:54.006Z"
   },
   {
    "duration": 12,
    "start_time": "2023-04-20T19:16:08.913Z"
   },
   {
    "duration": 24,
    "start_time": "2023-04-20T19:16:38.559Z"
   },
   {
    "duration": 24,
    "start_time": "2023-04-20T19:18:11.222Z"
   },
   {
    "duration": 1421,
    "start_time": "2023-04-20T19:18:16.840Z"
   },
   {
    "duration": 45,
    "start_time": "2023-04-20T19:18:18.263Z"
   },
   {
    "duration": 29,
    "start_time": "2023-04-20T19:18:18.310Z"
   },
   {
    "duration": 12,
    "start_time": "2023-04-20T19:18:18.340Z"
   },
   {
    "duration": 37,
    "start_time": "2023-04-20T19:18:18.354Z"
   },
   {
    "duration": 18,
    "start_time": "2023-04-20T19:18:18.393Z"
   },
   {
    "duration": 4,
    "start_time": "2023-04-20T19:18:18.413Z"
   },
   {
    "duration": 7,
    "start_time": "2023-04-20T19:18:18.418Z"
   },
   {
    "duration": 31,
    "start_time": "2023-04-20T19:18:18.426Z"
   },
   {
    "duration": 9,
    "start_time": "2023-04-20T19:18:18.460Z"
   },
   {
    "duration": 5,
    "start_time": "2023-04-20T19:18:18.471Z"
   },
   {
    "duration": 4,
    "start_time": "2023-04-20T19:18:18.478Z"
   },
   {
    "duration": 14,
    "start_time": "2023-04-20T19:18:18.484Z"
   },
   {
    "duration": 4,
    "start_time": "2023-04-20T19:18:18.500Z"
   },
   {
    "duration": 67,
    "start_time": "2023-04-20T19:18:18.506Z"
   },
   {
    "duration": 13,
    "start_time": "2023-04-20T19:18:18.575Z"
   },
   {
    "duration": 15,
    "start_time": "2023-04-20T19:18:18.590Z"
   },
   {
    "duration": 59,
    "start_time": "2023-04-20T19:18:18.607Z"
   },
   {
    "duration": 28,
    "start_time": "2023-04-20T19:21:03.863Z"
   },
   {
    "duration": 29,
    "start_time": "2023-04-20T19:22:03.690Z"
   },
   {
    "duration": 25,
    "start_time": "2023-04-20T19:22:11.700Z"
   },
   {
    "duration": 33,
    "start_time": "2023-04-20T19:22:38.252Z"
   },
   {
    "duration": 15,
    "start_time": "2023-04-20T19:34:55.403Z"
   },
   {
    "duration": 18,
    "start_time": "2023-04-20T19:36:03.789Z"
   },
   {
    "duration": 38,
    "start_time": "2023-04-20T19:36:06.259Z"
   },
   {
    "duration": 51,
    "start_time": "2023-04-22T09:52:40.088Z"
   },
   {
    "duration": 1438,
    "start_time": "2023-04-22T09:52:49.305Z"
   },
   {
    "duration": 78,
    "start_time": "2023-04-22T09:52:50.744Z"
   },
   {
    "duration": 31,
    "start_time": "2023-04-22T09:52:50.824Z"
   },
   {
    "duration": 11,
    "start_time": "2023-04-22T09:52:50.857Z"
   },
   {
    "duration": 52,
    "start_time": "2023-04-22T09:52:50.869Z"
   },
   {
    "duration": 18,
    "start_time": "2023-04-22T09:52:50.922Z"
   },
   {
    "duration": 8,
    "start_time": "2023-04-22T09:52:50.942Z"
   },
   {
    "duration": 9,
    "start_time": "2023-04-22T09:52:50.951Z"
   },
   {
    "duration": 21,
    "start_time": "2023-04-22T09:52:50.962Z"
   },
   {
    "duration": 8,
    "start_time": "2023-04-22T09:52:50.986Z"
   },
   {
    "duration": 6,
    "start_time": "2023-04-22T09:52:50.996Z"
   },
   {
    "duration": 7,
    "start_time": "2023-04-22T09:52:51.003Z"
   },
   {
    "duration": 19,
    "start_time": "2023-04-22T09:52:51.011Z"
   },
   {
    "duration": 20,
    "start_time": "2023-04-22T09:52:51.032Z"
   },
   {
    "duration": 29,
    "start_time": "2023-04-22T09:52:51.054Z"
   },
   {
    "duration": 10,
    "start_time": "2023-04-22T09:52:51.084Z"
   },
   {
    "duration": 11,
    "start_time": "2023-04-22T09:52:51.096Z"
   },
   {
    "duration": 58,
    "start_time": "2023-04-22T09:52:51.109Z"
   },
   {
    "duration": 5,
    "start_time": "2023-04-22T09:52:51.169Z"
   },
   {
    "duration": 5,
    "start_time": "2023-04-22T09:53:04.199Z"
   },
   {
    "duration": 7,
    "start_time": "2023-04-22T09:54:04.447Z"
   },
   {
    "duration": 50,
    "start_time": "2023-04-22T09:54:58.003Z"
   },
   {
    "duration": 60,
    "start_time": "2023-04-22T10:07:23.757Z"
   },
   {
    "duration": 28719,
    "start_time": "2023-04-22T10:11:33.726Z"
   },
   {
    "duration": 1557,
    "start_time": "2023-04-22T10:12:44.713Z"
   },
   {
    "duration": 1566,
    "start_time": "2023-04-22T10:19:50.058Z"
   },
   {
    "duration": 28286,
    "start_time": "2023-04-22T10:20:01.719Z"
   },
   {
    "duration": 132776,
    "start_time": "2023-04-22T10:22:09.065Z"
   },
   {
    "duration": 272,
    "start_time": "2023-04-22T10:24:29.498Z"
   },
   {
    "duration": 5,
    "start_time": "2023-04-22T10:29:21.272Z"
   },
   {
    "duration": 50,
    "start_time": "2023-04-22T10:40:44.500Z"
   },
   {
    "duration": 4,
    "start_time": "2023-04-22T10:41:00.096Z"
   },
   {
    "duration": 1237,
    "start_time": "2023-04-22T10:41:06.676Z"
   },
   {
    "duration": 39,
    "start_time": "2023-04-22T10:41:07.915Z"
   },
   {
    "duration": 29,
    "start_time": "2023-04-22T10:41:07.956Z"
   },
   {
    "duration": 11,
    "start_time": "2023-04-22T10:41:07.987Z"
   },
   {
    "duration": 50,
    "start_time": "2023-04-22T10:41:08.000Z"
   },
   {
    "duration": 18,
    "start_time": "2023-04-22T10:41:08.051Z"
   },
   {
    "duration": 3,
    "start_time": "2023-04-22T10:41:08.071Z"
   },
   {
    "duration": 23,
    "start_time": "2023-04-22T10:41:08.076Z"
   },
   {
    "duration": 9,
    "start_time": "2023-04-22T10:41:08.101Z"
   },
   {
    "duration": 13,
    "start_time": "2023-04-22T10:41:08.112Z"
   },
   {
    "duration": 23,
    "start_time": "2023-04-22T10:41:08.126Z"
   },
   {
    "duration": 17,
    "start_time": "2023-04-22T10:41:08.151Z"
   },
   {
    "duration": 20,
    "start_time": "2023-04-22T10:41:08.169Z"
   },
   {
    "duration": 12,
    "start_time": "2023-04-22T10:41:08.190Z"
   },
   {
    "duration": 31,
    "start_time": "2023-04-22T10:41:08.203Z"
   },
   {
    "duration": 4,
    "start_time": "2023-04-22T10:41:08.236Z"
   },
   {
    "duration": 27,
    "start_time": "2023-04-22T10:41:08.241Z"
   },
   {
    "duration": 10,
    "start_time": "2023-04-22T10:41:08.269Z"
   },
   {
    "duration": 17,
    "start_time": "2023-04-22T10:41:08.280Z"
   },
   {
    "duration": 52,
    "start_time": "2023-04-22T10:41:08.299Z"
   },
   {
    "duration": 14,
    "start_time": "2023-04-22T10:41:08.352Z"
   },
   {
    "duration": 28469,
    "start_time": "2023-04-22T10:41:08.368Z"
   },
   {
    "duration": 1617,
    "start_time": "2023-04-22T10:41:36.839Z"
   },
   {
    "duration": 1561,
    "start_time": "2023-04-22T10:42:00.273Z"
   },
   {
    "duration": 54,
    "start_time": "2023-04-22T10:42:01.836Z"
   },
   {
    "duration": 32,
    "start_time": "2023-04-22T10:42:01.892Z"
   },
   {
    "duration": 27,
    "start_time": "2023-04-22T10:42:01.926Z"
   },
   {
    "duration": 67,
    "start_time": "2023-04-22T10:42:01.955Z"
   },
   {
    "duration": 58,
    "start_time": "2023-04-22T10:42:02.023Z"
   },
   {
    "duration": 90,
    "start_time": "2023-04-22T10:42:02.083Z"
   },
   {
    "duration": 62,
    "start_time": "2023-04-22T10:42:02.175Z"
   },
   {
    "duration": 54,
    "start_time": "2023-04-22T10:42:02.238Z"
   },
   {
    "duration": 41,
    "start_time": "2023-04-22T10:42:02.295Z"
   },
   {
    "duration": 180,
    "start_time": "2023-04-22T10:42:02.338Z"
   },
   {
    "duration": 0,
    "start_time": "2023-04-22T10:42:02.520Z"
   },
   {
    "duration": 0,
    "start_time": "2023-04-22T10:42:02.522Z"
   },
   {
    "duration": 0,
    "start_time": "2023-04-22T10:42:02.523Z"
   },
   {
    "duration": 0,
    "start_time": "2023-04-22T10:42:02.524Z"
   },
   {
    "duration": 0,
    "start_time": "2023-04-22T10:42:02.525Z"
   },
   {
    "duration": 0,
    "start_time": "2023-04-22T10:42:02.526Z"
   },
   {
    "duration": 0,
    "start_time": "2023-04-22T10:42:02.527Z"
   },
   {
    "duration": 0,
    "start_time": "2023-04-22T10:42:02.528Z"
   },
   {
    "duration": 0,
    "start_time": "2023-04-22T10:42:02.528Z"
   },
   {
    "duration": 0,
    "start_time": "2023-04-22T10:42:02.530Z"
   },
   {
    "duration": 0,
    "start_time": "2023-04-22T10:42:02.530Z"
   },
   {
    "duration": 0,
    "start_time": "2023-04-22T10:42:02.550Z"
   },
   {
    "duration": 0,
    "start_time": "2023-04-22T10:42:02.552Z"
   },
   {
    "duration": 0,
    "start_time": "2023-04-22T10:42:02.553Z"
   },
   {
    "duration": 0,
    "start_time": "2023-04-22T10:42:02.554Z"
   },
   {
    "duration": 1326,
    "start_time": "2023-04-22T10:50:35.000Z"
   },
   {
    "duration": 40,
    "start_time": "2023-04-22T10:50:36.328Z"
   },
   {
    "duration": 45,
    "start_time": "2023-04-22T10:50:36.370Z"
   },
   {
    "duration": 14,
    "start_time": "2023-04-22T10:50:36.417Z"
   },
   {
    "duration": 45,
    "start_time": "2023-04-22T10:50:36.433Z"
   },
   {
    "duration": 16,
    "start_time": "2023-04-22T10:50:36.480Z"
   },
   {
    "duration": 11,
    "start_time": "2023-04-22T10:50:36.497Z"
   },
   {
    "duration": 5,
    "start_time": "2023-04-22T10:50:36.510Z"
   },
   {
    "duration": 8,
    "start_time": "2023-04-22T10:50:36.517Z"
   },
   {
    "duration": 23,
    "start_time": "2023-04-22T10:50:36.529Z"
   },
   {
    "duration": 12,
    "start_time": "2023-04-22T10:50:36.554Z"
   },
   {
    "duration": 6,
    "start_time": "2023-04-22T10:50:36.568Z"
   },
   {
    "duration": 24,
    "start_time": "2023-04-22T10:50:36.576Z"
   },
   {
    "duration": 32,
    "start_time": "2023-04-22T10:50:36.602Z"
   },
   {
    "duration": 4,
    "start_time": "2023-04-22T10:50:36.636Z"
   },
   {
    "duration": 23,
    "start_time": "2023-04-22T10:50:36.642Z"
   },
   {
    "duration": 13,
    "start_time": "2023-04-22T10:50:36.667Z"
   },
   {
    "duration": 22,
    "start_time": "2023-04-22T10:50:36.681Z"
   },
   {
    "duration": 31,
    "start_time": "2023-04-22T10:50:36.705Z"
   },
   {
    "duration": 14,
    "start_time": "2023-04-22T10:50:36.738Z"
   },
   {
    "duration": 27458,
    "start_time": "2023-04-22T10:50:36.755Z"
   },
   {
    "duration": 1613,
    "start_time": "2023-04-22T10:51:04.215Z"
   },
   {
    "duration": 139745,
    "start_time": "2023-04-22T10:51:05.830Z"
   },
   {
    "duration": 473,
    "start_time": "2023-04-22T10:53:25.577Z"
   },
   {
    "duration": 67,
    "start_time": "2023-04-22T10:53:26.051Z"
   },
   {
    "duration": 134,
    "start_time": "2023-04-22T13:04:22.861Z"
   },
   {
    "duration": 2,
    "start_time": "2023-04-22T13:04:42.203Z"
   },
   {
    "duration": 11,
    "start_time": "2023-04-22T13:04:43.445Z"
   },
   {
    "duration": 9,
    "start_time": "2023-04-22T13:07:50.911Z"
   },
   {
    "duration": 9,
    "start_time": "2023-04-22T13:08:58.925Z"
   },
   {
    "duration": 12,
    "start_time": "2023-04-22T13:09:00.816Z"
   },
   {
    "duration": 9,
    "start_time": "2023-04-22T13:09:02.290Z"
   },
   {
    "duration": 10,
    "start_time": "2023-04-22T13:09:07.624Z"
   },
   {
    "duration": 4,
    "start_time": "2023-04-22T13:36:15.606Z"
   },
   {
    "duration": 308,
    "start_time": "2023-04-22T13:37:38.637Z"
   },
   {
    "duration": 271,
    "start_time": "2023-04-22T13:37:44.301Z"
   },
   {
    "duration": 13,
    "start_time": "2023-04-22T13:39:13.861Z"
   },
   {
    "duration": 5,
    "start_time": "2023-04-22T13:40:16.421Z"
   },
   {
    "duration": 5,
    "start_time": "2023-04-22T13:40:24.325Z"
   },
   {
    "duration": 5,
    "start_time": "2023-04-22T13:41:11.274Z"
   },
   {
    "duration": 259,
    "start_time": "2023-04-22T13:41:21.012Z"
   },
   {
    "duration": 295,
    "start_time": "2023-04-22T13:41:23.155Z"
   },
   {
    "duration": 251,
    "start_time": "2023-04-22T13:41:40.918Z"
   },
   {
    "duration": 120,
    "start_time": "2023-04-22T16:04:14.254Z"
   },
   {
    "duration": 1516,
    "start_time": "2023-04-22T16:04:19.699Z"
   },
   {
    "duration": 81,
    "start_time": "2023-04-22T16:04:21.217Z"
   },
   {
    "duration": 29,
    "start_time": "2023-04-22T16:04:21.300Z"
   },
   {
    "duration": 30,
    "start_time": "2023-04-22T16:04:21.332Z"
   },
   {
    "duration": 42,
    "start_time": "2023-04-22T16:04:21.364Z"
   },
   {
    "duration": 18,
    "start_time": "2023-04-22T16:04:21.407Z"
   },
   {
    "duration": 3,
    "start_time": "2023-04-22T16:04:21.427Z"
   },
   {
    "duration": 20,
    "start_time": "2023-04-22T16:04:21.431Z"
   },
   {
    "duration": 6,
    "start_time": "2023-04-22T16:04:21.453Z"
   },
   {
    "duration": 13,
    "start_time": "2023-04-22T16:04:21.462Z"
   },
   {
    "duration": 14,
    "start_time": "2023-04-22T16:04:21.477Z"
   },
   {
    "duration": 6,
    "start_time": "2023-04-22T16:04:21.492Z"
   },
   {
    "duration": 5,
    "start_time": "2023-04-22T16:04:21.500Z"
   },
   {
    "duration": 20,
    "start_time": "2023-04-22T16:04:21.507Z"
   },
   {
    "duration": 10,
    "start_time": "2023-04-22T16:04:21.529Z"
   },
   {
    "duration": 45,
    "start_time": "2023-04-22T16:04:21.541Z"
   },
   {
    "duration": 12,
    "start_time": "2023-04-22T16:04:21.588Z"
   },
   {
    "duration": 15,
    "start_time": "2023-04-22T16:04:21.602Z"
   },
   {
    "duration": 27,
    "start_time": "2023-04-22T16:04:21.618Z"
   },
   {
    "duration": 5,
    "start_time": "2023-04-22T16:04:21.646Z"
   },
   {
    "duration": 25207,
    "start_time": "2023-04-22T16:04:21.653Z"
   },
   {
    "duration": 1522,
    "start_time": "2023-04-22T16:04:46.861Z"
   },
   {
    "duration": 122806,
    "start_time": "2023-04-22T16:04:48.385Z"
   },
   {
    "duration": 491,
    "start_time": "2023-04-22T16:06:51.193Z"
   },
   {
    "duration": 3,
    "start_time": "2023-04-22T16:06:51.686Z"
   },
   {
    "duration": 115,
    "start_time": "2023-04-22T16:06:51.691Z"
   },
   {
    "duration": 28,
    "start_time": "2023-04-22T16:06:51.807Z"
   },
   {
    "duration": 0,
    "start_time": "2023-04-22T16:06:51.836Z"
   },
   {
    "duration": 0,
    "start_time": "2023-04-22T16:06:51.838Z"
   },
   {
    "duration": 1286,
    "start_time": "2023-04-22T16:07:57.982Z"
   },
   {
    "duration": 41,
    "start_time": "2023-04-22T16:07:59.270Z"
   },
   {
    "duration": 31,
    "start_time": "2023-04-22T16:07:59.312Z"
   },
   {
    "duration": 16,
    "start_time": "2023-04-22T16:07:59.345Z"
   },
   {
    "duration": 47,
    "start_time": "2023-04-22T16:07:59.364Z"
   },
   {
    "duration": 20,
    "start_time": "2023-04-22T16:07:59.413Z"
   },
   {
    "duration": 4,
    "start_time": "2023-04-22T16:07:59.434Z"
   },
   {
    "duration": 18,
    "start_time": "2023-04-22T16:07:59.439Z"
   },
   {
    "duration": 24,
    "start_time": "2023-04-22T16:07:59.459Z"
   },
   {
    "duration": 6,
    "start_time": "2023-04-22T16:07:59.485Z"
   },
   {
    "duration": 9,
    "start_time": "2023-04-22T16:07:59.493Z"
   },
   {
    "duration": 9,
    "start_time": "2023-04-22T16:07:59.503Z"
   },
   {
    "duration": 13,
    "start_time": "2023-04-22T16:07:59.514Z"
   },
   {
    "duration": 22,
    "start_time": "2023-04-22T16:07:59.530Z"
   },
   {
    "duration": 5,
    "start_time": "2023-04-22T16:07:59.553Z"
   },
   {
    "duration": 42,
    "start_time": "2023-04-22T16:07:59.560Z"
   },
   {
    "duration": 14,
    "start_time": "2023-04-22T16:07:59.604Z"
   },
   {
    "duration": 18,
    "start_time": "2023-04-22T16:07:59.620Z"
   },
   {
    "duration": 45,
    "start_time": "2023-04-22T16:07:59.640Z"
   },
   {
    "duration": 5,
    "start_time": "2023-04-22T16:07:59.686Z"
   },
   {
    "duration": 24688,
    "start_time": "2023-04-22T16:07:59.693Z"
   },
   {
    "duration": 1442,
    "start_time": "2023-04-22T16:08:24.383Z"
   },
   {
    "duration": 126534,
    "start_time": "2023-04-22T16:08:25.827Z"
   },
   {
    "duration": 339,
    "start_time": "2023-04-22T16:10:32.362Z"
   },
   {
    "duration": 3,
    "start_time": "2023-04-22T16:10:32.703Z"
   },
   {
    "duration": 17,
    "start_time": "2023-04-22T16:10:32.707Z"
   },
   {
    "duration": 12,
    "start_time": "2023-04-22T16:10:32.726Z"
   },
   {
    "duration": 0,
    "start_time": "2023-04-22T16:10:32.740Z"
   },
   {
    "duration": 0,
    "start_time": "2023-04-22T16:10:32.741Z"
   },
   {
    "duration": 0,
    "start_time": "2023-04-22T16:10:32.743Z"
   },
   {
    "duration": 24572,
    "start_time": "2023-04-22T16:10:45.002Z"
   },
   {
    "duration": 25492,
    "start_time": "2023-04-22T16:12:46.746Z"
   },
   {
    "duration": 4,
    "start_time": "2023-04-22T16:13:12.240Z"
   },
   {
    "duration": 1308,
    "start_time": "2023-04-22T16:13:16.327Z"
   },
   {
    "duration": 39,
    "start_time": "2023-04-22T16:13:17.636Z"
   },
   {
    "duration": 27,
    "start_time": "2023-04-22T16:13:17.677Z"
   },
   {
    "duration": 11,
    "start_time": "2023-04-22T16:13:17.706Z"
   },
   {
    "duration": 37,
    "start_time": "2023-04-22T16:13:17.719Z"
   },
   {
    "duration": 38,
    "start_time": "2023-04-22T16:13:17.757Z"
   },
   {
    "duration": 3,
    "start_time": "2023-04-22T16:13:17.796Z"
   },
   {
    "duration": 14,
    "start_time": "2023-04-22T16:13:17.800Z"
   },
   {
    "duration": 8,
    "start_time": "2023-04-22T16:13:17.816Z"
   },
   {
    "duration": 8,
    "start_time": "2023-04-22T16:13:17.826Z"
   },
   {
    "duration": 10,
    "start_time": "2023-04-22T16:13:17.836Z"
   },
   {
    "duration": 4,
    "start_time": "2023-04-22T16:13:17.847Z"
   },
   {
    "duration": 16,
    "start_time": "2023-04-22T16:13:17.852Z"
   },
   {
    "duration": 23,
    "start_time": "2023-04-22T16:13:17.870Z"
   },
   {
    "duration": 8,
    "start_time": "2023-04-22T16:13:17.894Z"
   },
   {
    "duration": 28,
    "start_time": "2023-04-22T16:13:17.904Z"
   },
   {
    "duration": 9,
    "start_time": "2023-04-22T16:13:17.933Z"
   },
   {
    "duration": 16,
    "start_time": "2023-04-22T16:13:17.944Z"
   },
   {
    "duration": 43,
    "start_time": "2023-04-22T16:13:17.961Z"
   },
   {
    "duration": 4,
    "start_time": "2023-04-22T16:13:18.005Z"
   },
   {
    "duration": 25573,
    "start_time": "2023-04-22T16:13:18.011Z"
   },
   {
    "duration": 1551,
    "start_time": "2023-04-22T16:13:43.586Z"
   },
   {
    "duration": 127429,
    "start_time": "2023-04-22T16:13:45.139Z"
   },
   {
    "duration": 315,
    "start_time": "2023-04-22T16:15:52.569Z"
   },
   {
    "duration": 3,
    "start_time": "2023-04-22T16:15:52.886Z"
   },
   {
    "duration": 19,
    "start_time": "2023-04-22T16:15:52.890Z"
   },
   {
    "duration": 110,
    "start_time": "2023-04-22T16:15:52.910Z"
   },
   {
    "duration": 0,
    "start_time": "2023-04-22T16:15:53.022Z"
   },
   {
    "duration": 0,
    "start_time": "2023-04-22T16:15:53.023Z"
   },
   {
    "duration": 131975,
    "start_time": "2023-04-22T16:18:18.393Z"
   },
   {
    "duration": 579,
    "start_time": "2023-04-22T16:20:30.370Z"
   },
   {
    "duration": 307,
    "start_time": "2023-04-22T16:25:13.798Z"
   },
   {
    "duration": 310,
    "start_time": "2023-04-22T16:25:16.075Z"
   },
   {
    "duration": 2742,
    "start_time": "2023-04-22T16:25:28.207Z"
   },
   {
    "duration": 437,
    "start_time": "2023-04-22T16:26:03.054Z"
   },
   {
    "duration": 238,
    "start_time": "2023-04-22T16:26:24.347Z"
   },
   {
    "duration": 41,
    "start_time": "2023-04-22T16:26:38.337Z"
   },
   {
    "duration": 149,
    "start_time": "2023-04-22T16:26:53.537Z"
   },
   {
    "duration": 188,
    "start_time": "2023-04-22T16:27:01.405Z"
   },
   {
    "duration": 128843,
    "start_time": "2023-04-22T16:27:07.029Z"
   },
   {
    "duration": 24985,
    "start_time": "2023-04-22T16:29:15.874Z"
   },
   {
    "duration": 12,
    "start_time": "2023-04-22T16:34:38.802Z"
   },
   {
    "duration": 80,
    "start_time": "2023-04-22T16:34:41.403Z"
   },
   {
    "duration": 13,
    "start_time": "2023-04-22T16:34:46.848Z"
   },
   {
    "duration": 70,
    "start_time": "2023-04-22T16:34:48.516Z"
   },
   {
    "duration": 126315,
    "start_time": "2023-04-22T16:38:43.854Z"
   },
   {
    "duration": 129701,
    "start_time": "2023-04-22T16:42:39.006Z"
   },
   {
    "duration": 3,
    "start_time": "2023-04-22T16:50:02.998Z"
   },
   {
    "duration": 26507,
    "start_time": "2023-04-22T16:50:22.796Z"
   },
   {
    "duration": 24672,
    "start_time": "2023-04-22T16:52:58.680Z"
   },
   {
    "duration": 24771,
    "start_time": "2023-04-22T16:54:03.377Z"
   },
   {
    "duration": 25158,
    "start_time": "2023-04-22T16:54:58.933Z"
   },
   {
    "duration": 119495,
    "start_time": "2023-04-22T17:00:18.866Z"
   },
   {
    "duration": 125657,
    "start_time": "2023-04-22T17:03:59.152Z"
   },
   {
    "duration": 319,
    "start_time": "2023-04-22T17:08:37.814Z"
   },
   {
    "duration": 33168,
    "start_time": "2023-04-22T17:19:07.536Z"
   },
   {
    "duration": 241,
    "start_time": "2023-04-22T17:39:44.274Z"
   },
   {
    "duration": 71,
    "start_time": "2023-04-22T17:39:57.216Z"
   },
   {
    "duration": 235,
    "start_time": "2023-04-22T17:40:14.147Z"
   },
   {
    "duration": 20,
    "start_time": "2023-04-22T17:41:25.112Z"
   },
   {
    "duration": 83,
    "start_time": "2023-04-22T17:41:43.909Z"
   },
   {
    "duration": 26883,
    "start_time": "2023-04-22T17:50:00.457Z"
   },
   {
    "duration": 28874,
    "start_time": "2023-04-22T17:50:54.330Z"
   },
   {
    "duration": 135396,
    "start_time": "2023-04-22T17:51:23.206Z"
   },
   {
    "duration": 180,
    "start_time": "2023-04-22T17:53:38.604Z"
   },
   {
    "duration": 242,
    "start_time": "2023-04-22T17:54:41.849Z"
   },
   {
    "duration": 235,
    "start_time": "2023-04-22T17:54:52.773Z"
   },
   {
    "duration": 191447,
    "start_time": "2023-04-22T18:00:23.456Z"
   },
   {
    "duration": 210,
    "start_time": "2023-04-22T18:03:34.905Z"
   },
   {
    "duration": 126,
    "start_time": "2023-04-22T18:12:28.150Z"
   },
   {
    "duration": 15,
    "start_time": "2023-04-22T18:13:03.395Z"
   },
   {
    "duration": 9359,
    "start_time": "2023-04-22T18:14:50.374Z"
   },
   {
    "duration": 91067,
    "start_time": "2023-04-22T18:15:42.905Z"
   },
   {
    "duration": 126,
    "start_time": "2023-04-22T18:17:13.974Z"
   },
   {
    "duration": 197,
    "start_time": "2023-04-22T18:17:14.102Z"
   },
   {
    "duration": 181199,
    "start_time": "2023-04-22T18:17:18.677Z"
   },
   {
    "duration": 68307,
    "start_time": "2023-04-22T18:20:19.878Z"
   },
   {
    "duration": 45,
    "start_time": "2023-04-22T18:25:00.369Z"
   },
   {
    "duration": 1271,
    "start_time": "2023-04-22T18:53:15.309Z"
   },
   {
    "duration": 41,
    "start_time": "2023-04-22T18:53:16.583Z"
   },
   {
    "duration": 32,
    "start_time": "2023-04-22T18:53:16.626Z"
   },
   {
    "duration": 17,
    "start_time": "2023-04-22T18:53:16.661Z"
   },
   {
    "duration": 57,
    "start_time": "2023-04-22T18:53:16.680Z"
   },
   {
    "duration": 18,
    "start_time": "2023-04-22T18:53:16.739Z"
   },
   {
    "duration": 3,
    "start_time": "2023-04-22T18:53:16.758Z"
   },
   {
    "duration": 21,
    "start_time": "2023-04-22T18:53:16.763Z"
   },
   {
    "duration": 11,
    "start_time": "2023-04-22T18:53:16.786Z"
   },
   {
    "duration": 18,
    "start_time": "2023-04-22T18:53:16.799Z"
   },
   {
    "duration": 15,
    "start_time": "2023-04-22T18:53:16.818Z"
   },
   {
    "duration": 19,
    "start_time": "2023-04-22T18:53:16.834Z"
   },
   {
    "duration": 16,
    "start_time": "2023-04-22T18:53:16.854Z"
   },
   {
    "duration": 29,
    "start_time": "2023-04-22T18:53:16.872Z"
   },
   {
    "duration": 12,
    "start_time": "2023-04-22T18:53:16.902Z"
   },
   {
    "duration": 29,
    "start_time": "2023-04-22T18:53:16.916Z"
   },
   {
    "duration": 13,
    "start_time": "2023-04-22T18:53:16.947Z"
   },
   {
    "duration": 22,
    "start_time": "2023-04-22T18:53:16.963Z"
   },
   {
    "duration": 29,
    "start_time": "2023-04-22T18:53:16.987Z"
   },
   {
    "duration": 5,
    "start_time": "2023-04-22T18:53:17.018Z"
   },
   {
    "duration": 13,
    "start_time": "2023-04-22T18:53:17.024Z"
   },
   {
    "duration": 25804,
    "start_time": "2023-04-22T18:53:17.039Z"
   },
   {
    "duration": 1507,
    "start_time": "2023-04-22T18:53:42.844Z"
   },
   {
    "duration": 128032,
    "start_time": "2023-04-22T18:53:44.352Z"
   },
   {
    "duration": 227,
    "start_time": "2023-04-22T18:55:52.385Z"
   },
   {
    "duration": 26096,
    "start_time": "2023-04-22T18:55:52.614Z"
   },
   {
    "duration": 124095,
    "start_time": "2023-04-22T18:56:18.712Z"
   },
   {
    "duration": 431,
    "start_time": "2023-04-22T18:58:22.810Z"
   },
   {
    "duration": 2,
    "start_time": "2023-04-22T18:58:23.243Z"
   },
   {
    "duration": 15,
    "start_time": "2023-04-22T18:58:23.247Z"
   },
   {
    "duration": 33830,
    "start_time": "2023-04-22T18:58:23.264Z"
   },
   {
    "duration": 170619,
    "start_time": "2023-04-22T18:58:57.096Z"
   },
   {
    "duration": 179,
    "start_time": "2023-04-22T19:01:47.716Z"
   },
   {
    "duration": 97,
    "start_time": "2023-04-22T19:01:47.897Z"
   },
   {
    "duration": 10141,
    "start_time": "2023-04-22T19:01:47.995Z"
   },
   {
    "duration": 68025,
    "start_time": "2023-04-22T19:01:58.138Z"
   },
   {
    "duration": 32,
    "start_time": "2023-04-22T19:03:06.165Z"
   },
   {
    "duration": 289,
    "start_time": "2023-04-22T19:03:06.203Z"
   },
   {
    "duration": 6,
    "start_time": "2023-04-22T19:10:56.305Z"
   },
   {
    "duration": 22,
    "start_time": "2023-04-22T19:12:41.648Z"
   },
   {
    "duration": 11,
    "start_time": "2023-04-22T19:22:47.475Z"
   },
   {
    "duration": 5107,
    "start_time": "2023-04-22T19:23:03.720Z"
   },
   {
    "duration": 49289,
    "start_time": "2023-04-22T19:23:35.997Z"
   },
   {
    "duration": 3410,
    "start_time": "2023-04-22T19:24:39.544Z"
   },
   {
    "duration": 3434,
    "start_time": "2023-04-22T19:25:26.217Z"
   },
   {
    "duration": 139508,
    "start_time": "2023-04-22T19:26:49.208Z"
   },
   {
    "duration": 184268,
    "start_time": "2023-04-22T19:31:49.304Z"
   },
   {
    "duration": 10,
    "start_time": "2023-04-22T19:36:36.823Z"
   },
   {
    "duration": 211,
    "start_time": "2023-04-22T19:36:49.213Z"
   },
   {
    "duration": 231,
    "start_time": "2023-04-22T19:38:45.759Z"
   },
   {
    "duration": 342,
    "start_time": "2023-04-22T19:38:53.658Z"
   },
   {
    "duration": 452,
    "start_time": "2023-04-22T19:39:00.706Z"
   },
   {
    "duration": 331,
    "start_time": "2023-04-22T19:39:06.352Z"
   },
   {
    "duration": 183243,
    "start_time": "2023-04-22T19:45:59.208Z"
   },
   {
    "duration": 643,
    "start_time": "2023-04-22T19:56:40.785Z"
   },
   {
    "duration": 707526,
    "start_time": "2023-04-22T19:58:04.077Z"
   },
   {
    "duration": 2546,
    "start_time": "2023-04-22T20:09:51.605Z"
   },
   {
    "duration": 26805,
    "start_time": "2023-04-22T20:41:21.278Z"
   },
   {
    "duration": 8,
    "start_time": "2023-04-22T20:49:56.684Z"
   },
   {
    "duration": 12,
    "start_time": "2023-04-22T20:51:29.225Z"
   },
   {
    "duration": 11331,
    "start_time": "2023-04-22T20:51:45.923Z"
   },
   {
    "duration": 11,
    "start_time": "2023-04-22T20:52:15.689Z"
   },
   {
    "duration": 12750,
    "start_time": "2023-04-22T20:52:17.905Z"
   },
   {
    "duration": 312949,
    "start_time": "2023-04-22T20:53:12.091Z"
   },
   {
    "duration": 1365,
    "start_time": "2023-04-22T20:59:04.410Z"
   },
   {
    "duration": 41,
    "start_time": "2023-04-22T20:59:05.777Z"
   },
   {
    "duration": 29,
    "start_time": "2023-04-22T20:59:05.819Z"
   },
   {
    "duration": 12,
    "start_time": "2023-04-22T20:59:05.850Z"
   },
   {
    "duration": 42,
    "start_time": "2023-04-22T20:59:05.863Z"
   },
   {
    "duration": 27,
    "start_time": "2023-04-22T20:59:05.907Z"
   },
   {
    "duration": 4,
    "start_time": "2023-04-22T20:59:05.935Z"
   },
   {
    "duration": 9,
    "start_time": "2023-04-22T20:59:05.940Z"
   },
   {
    "duration": 8,
    "start_time": "2023-04-22T20:59:05.950Z"
   },
   {
    "duration": 29,
    "start_time": "2023-04-22T20:59:05.961Z"
   },
   {
    "duration": 9,
    "start_time": "2023-04-22T20:59:05.992Z"
   },
   {
    "duration": 18,
    "start_time": "2023-04-22T20:59:06.003Z"
   },
   {
    "duration": 6,
    "start_time": "2023-04-22T20:59:06.023Z"
   },
   {
    "duration": 15,
    "start_time": "2023-04-22T20:59:06.031Z"
   },
   {
    "duration": 9,
    "start_time": "2023-04-22T20:59:06.048Z"
   },
   {
    "duration": 45,
    "start_time": "2023-04-22T20:59:06.059Z"
   },
   {
    "duration": 13,
    "start_time": "2023-04-22T20:59:06.106Z"
   },
   {
    "duration": 20,
    "start_time": "2023-04-22T20:59:06.121Z"
   },
   {
    "duration": 64,
    "start_time": "2023-04-22T20:59:06.143Z"
   },
   {
    "duration": 5,
    "start_time": "2023-04-22T20:59:06.210Z"
   },
   {
    "duration": 5,
    "start_time": "2023-04-22T20:59:06.217Z"
   },
   {
    "duration": 26155,
    "start_time": "2023-04-22T20:59:06.224Z"
   },
   {
    "duration": 1447,
    "start_time": "2023-04-22T20:59:32.383Z"
   },
   {
    "duration": 82541,
    "start_time": "2023-04-22T20:59:33.832Z"
   },
   {
    "duration": 223,
    "start_time": "2023-04-22T21:00:56.375Z"
   },
   {
    "duration": 26697,
    "start_time": "2023-04-22T21:00:56.601Z"
   },
   {
    "duration": 1239,
    "start_time": "2023-04-22T21:05:45.128Z"
   },
   {
    "duration": 41,
    "start_time": "2023-04-22T21:05:46.369Z"
   },
   {
    "duration": 28,
    "start_time": "2023-04-22T21:05:46.412Z"
   },
   {
    "duration": 12,
    "start_time": "2023-04-22T21:05:46.442Z"
   },
   {
    "duration": 44,
    "start_time": "2023-04-22T21:05:46.456Z"
   },
   {
    "duration": 19,
    "start_time": "2023-04-22T21:05:46.502Z"
   },
   {
    "duration": 4,
    "start_time": "2023-04-22T21:05:46.523Z"
   },
   {
    "duration": 13,
    "start_time": "2023-04-22T21:05:46.529Z"
   },
   {
    "duration": 9,
    "start_time": "2023-04-22T21:05:46.544Z"
   },
   {
    "duration": 8,
    "start_time": "2023-04-22T21:05:46.555Z"
   },
   {
    "duration": 7,
    "start_time": "2023-04-22T21:05:46.584Z"
   },
   {
    "duration": 8,
    "start_time": "2023-04-22T21:05:46.592Z"
   },
   {
    "duration": 7,
    "start_time": "2023-04-22T21:05:46.601Z"
   },
   {
    "duration": 15,
    "start_time": "2023-04-22T21:05:46.609Z"
   },
   {
    "duration": 4,
    "start_time": "2023-04-22T21:05:46.625Z"
   },
   {
    "duration": 29,
    "start_time": "2023-04-22T21:05:46.631Z"
   },
   {
    "duration": 29,
    "start_time": "2023-04-22T21:05:46.662Z"
   },
   {
    "duration": 14,
    "start_time": "2023-04-22T21:05:46.693Z"
   },
   {
    "duration": 28,
    "start_time": "2023-04-22T21:05:46.708Z"
   },
   {
    "duration": 4,
    "start_time": "2023-04-22T21:05:46.737Z"
   },
   {
    "duration": 13,
    "start_time": "2023-04-22T21:05:46.743Z"
   },
   {
    "duration": 24309,
    "start_time": "2023-04-22T21:05:46.758Z"
   },
   {
    "duration": 1499,
    "start_time": "2023-04-22T21:06:11.070Z"
   },
   {
    "duration": 120894,
    "start_time": "2023-04-22T21:06:12.570Z"
   },
   {
    "duration": 227,
    "start_time": "2023-04-22T21:08:13.466Z"
   },
   {
    "duration": 25035,
    "start_time": "2023-04-22T21:08:13.695Z"
   },
   {
    "duration": 126342,
    "start_time": "2023-04-22T21:08:38.731Z"
   },
   {
    "duration": 212,
    "start_time": "2023-04-22T21:10:45.082Z"
   },
   {
    "duration": 3,
    "start_time": "2023-04-22T21:10:45.296Z"
   },
   {
    "duration": 39,
    "start_time": "2023-04-22T21:10:45.300Z"
   },
   {
    "duration": 2152,
    "start_time": "2023-04-22T21:10:45.341Z"
   },
   {
    "duration": 163795,
    "start_time": "2023-04-22T21:10:47.495Z"
   },
   {
    "duration": 199,
    "start_time": "2023-04-22T21:13:31.292Z"
   },
   {
    "duration": 100,
    "start_time": "2023-04-22T21:13:31.494Z"
   },
   {
    "duration": 12414,
    "start_time": "2023-04-22T21:13:31.596Z"
   },
   {
    "duration": 117,
    "start_time": "2023-04-22T21:18:40.467Z"
   },
   {
    "duration": 348,
    "start_time": "2023-04-22T21:18:40.587Z"
   },
   {
    "duration": 77828,
    "start_time": "2023-04-22T21:19:59.988Z"
   },
   {
    "duration": 181,
    "start_time": "2023-04-22T21:23:45.537Z"
   },
   {
    "duration": 272,
    "start_time": "2023-04-22T21:23:56.878Z"
   },
   {
    "duration": 298,
    "start_time": "2023-04-22T21:24:01.747Z"
   },
   {
    "duration": 348,
    "start_time": "2023-04-22T21:24:07.050Z"
   },
   {
    "duration": 457,
    "start_time": "2023-04-22T21:24:11.805Z"
   },
   {
    "duration": 497,
    "start_time": "2023-04-22T21:24:16.737Z"
   },
   {
    "duration": 946,
    "start_time": "2023-04-22T21:24:20.658Z"
   },
   {
    "duration": 843,
    "start_time": "2023-04-22T21:24:28.446Z"
   },
   {
    "duration": 1575,
    "start_time": "2023-04-23T08:00:35.433Z"
   },
   {
    "duration": 83,
    "start_time": "2023-04-23T08:00:37.010Z"
   },
   {
    "duration": 34,
    "start_time": "2023-04-23T08:00:37.094Z"
   },
   {
    "duration": 13,
    "start_time": "2023-04-23T08:00:37.130Z"
   },
   {
    "duration": 48,
    "start_time": "2023-04-23T08:00:37.145Z"
   },
   {
    "duration": 18,
    "start_time": "2023-04-23T08:00:37.195Z"
   },
   {
    "duration": 11,
    "start_time": "2023-04-23T08:00:37.215Z"
   },
   {
    "duration": 8,
    "start_time": "2023-04-23T08:00:37.228Z"
   },
   {
    "duration": 17,
    "start_time": "2023-04-23T08:00:37.238Z"
   },
   {
    "duration": 17,
    "start_time": "2023-04-23T08:00:37.258Z"
   },
   {
    "duration": 15,
    "start_time": "2023-04-23T08:00:37.277Z"
   },
   {
    "duration": 5,
    "start_time": "2023-04-23T08:00:37.294Z"
   },
   {
    "duration": 11,
    "start_time": "2023-04-23T08:00:37.300Z"
   },
   {
    "duration": 18,
    "start_time": "2023-04-23T08:00:37.312Z"
   },
   {
    "duration": 16,
    "start_time": "2023-04-23T08:00:37.332Z"
   },
   {
    "duration": 35,
    "start_time": "2023-04-23T08:00:37.350Z"
   },
   {
    "duration": 11,
    "start_time": "2023-04-23T08:00:37.388Z"
   },
   {
    "duration": 13,
    "start_time": "2023-04-23T08:00:37.401Z"
   },
   {
    "duration": 46,
    "start_time": "2023-04-23T08:00:37.415Z"
   },
   {
    "duration": 4,
    "start_time": "2023-04-23T08:00:37.462Z"
   },
   {
    "duration": 27,
    "start_time": "2023-04-23T08:00:37.468Z"
   },
   {
    "duration": 27830,
    "start_time": "2023-04-23T08:00:37.496Z"
   },
   {
    "duration": 1605,
    "start_time": "2023-04-23T08:01:05.328Z"
   },
   {
    "duration": 33253,
    "start_time": "2023-04-23T08:01:06.934Z"
   },
   {
    "duration": 189,
    "start_time": "2023-04-23T08:01:40.189Z"
   },
   {
    "duration": 28904,
    "start_time": "2023-04-23T08:01:40.380Z"
   },
   {
    "duration": 133368,
    "start_time": "2023-04-23T08:02:09.285Z"
   },
   {
    "duration": 222,
    "start_time": "2023-04-23T08:04:22.656Z"
   },
   {
    "duration": 3,
    "start_time": "2023-04-23T08:04:22.879Z"
   },
   {
    "duration": 14,
    "start_time": "2023-04-23T08:04:22.883Z"
   },
   {
    "duration": 2537,
    "start_time": "2023-04-23T08:04:22.898Z"
   },
   {
    "duration": 178234,
    "start_time": "2023-04-23T08:04:25.437Z"
   },
   {
    "duration": 81,
    "start_time": "2023-04-23T08:07:23.672Z"
   },
   {
    "duration": 101,
    "start_time": "2023-04-23T08:07:23.754Z"
   },
   {
    "duration": 14467,
    "start_time": "2023-04-23T08:07:23.858Z"
   },
   {
    "duration": 77879,
    "start_time": "2023-04-23T08:07:38.327Z"
   },
   {
    "duration": 241,
    "start_time": "2023-04-23T08:08:56.208Z"
   },
   {
    "duration": 913,
    "start_time": "2023-04-23T08:08:56.451Z"
   },
   {
    "duration": 65605,
    "start_time": "2023-04-23T08:09:53.836Z"
   },
   {
    "duration": 761,
    "start_time": "2023-04-23T08:11:22.960Z"
   },
   {
    "duration": 28473,
    "start_time": "2023-04-23T08:11:59.846Z"
   },
   {
    "duration": 1399,
    "start_time": "2023-04-23T08:32:03.963Z"
   },
   {
    "duration": 45,
    "start_time": "2023-04-23T08:32:05.365Z"
   },
   {
    "duration": 29,
    "start_time": "2023-04-23T08:32:05.411Z"
   },
   {
    "duration": 28,
    "start_time": "2023-04-23T08:32:05.442Z"
   },
   {
    "duration": 36,
    "start_time": "2023-04-23T08:32:05.473Z"
   },
   {
    "duration": 19,
    "start_time": "2023-04-23T08:32:05.511Z"
   },
   {
    "duration": 39,
    "start_time": "2023-04-23T08:32:05.532Z"
   },
   {
    "duration": 30,
    "start_time": "2023-04-23T08:32:05.572Z"
   },
   {
    "duration": 25,
    "start_time": "2023-04-23T08:32:05.604Z"
   },
   {
    "duration": 15,
    "start_time": "2023-04-23T08:32:05.630Z"
   },
   {
    "duration": 22,
    "start_time": "2023-04-23T08:32:05.646Z"
   },
   {
    "duration": 16,
    "start_time": "2023-04-23T08:32:05.669Z"
   },
   {
    "duration": 6,
    "start_time": "2023-04-23T08:32:05.687Z"
   },
   {
    "duration": 22,
    "start_time": "2023-04-23T08:32:05.696Z"
   },
   {
    "duration": 25,
    "start_time": "2023-04-23T08:32:05.719Z"
   },
   {
    "duration": 44,
    "start_time": "2023-04-23T08:32:05.746Z"
   },
   {
    "duration": 21,
    "start_time": "2023-04-23T08:32:05.792Z"
   },
   {
    "duration": 25,
    "start_time": "2023-04-23T08:32:05.814Z"
   },
   {
    "duration": 27,
    "start_time": "2023-04-23T08:32:05.840Z"
   },
   {
    "duration": 4,
    "start_time": "2023-04-23T08:32:05.869Z"
   },
   {
    "duration": 15,
    "start_time": "2023-04-23T08:32:05.875Z"
   },
   {
    "duration": 28848,
    "start_time": "2023-04-23T08:32:05.891Z"
   },
   {
    "duration": 1654,
    "start_time": "2023-04-23T08:32:34.741Z"
   },
   {
    "duration": 33276,
    "start_time": "2023-04-23T08:32:36.397Z"
   },
   {
    "duration": 215,
    "start_time": "2023-04-23T08:33:09.675Z"
   },
   {
    "duration": 28962,
    "start_time": "2023-04-23T08:33:09.892Z"
   },
   {
    "duration": 83262,
    "start_time": "2023-04-23T08:33:38.856Z"
   },
   {
    "duration": 272,
    "start_time": "2023-04-23T08:35:02.120Z"
   },
   {
    "duration": 3,
    "start_time": "2023-04-23T08:35:02.393Z"
   },
   {
    "duration": 40,
    "start_time": "2023-04-23T08:35:02.398Z"
   },
   {
    "duration": 2565,
    "start_time": "2023-04-23T08:35:02.440Z"
   },
   {
    "duration": 85681,
    "start_time": "2023-04-23T08:35:05.007Z"
   },
   {
    "duration": 163,
    "start_time": "2023-04-23T08:36:30.690Z"
   },
   {
    "duration": 31,
    "start_time": "2023-04-23T08:36:30.855Z"
   },
   {
    "duration": 14316,
    "start_time": "2023-04-23T08:36:30.888Z"
   },
   {
    "duration": 29626,
    "start_time": "2023-04-23T08:36:45.208Z"
   },
   {
    "duration": 122,
    "start_time": "2023-04-23T08:37:14.836Z"
   },
   {
    "duration": 892,
    "start_time": "2023-04-23T08:37:14.959Z"
   },
   {
    "duration": 912,
    "start_time": "2023-04-23T08:37:58.426Z"
   },
   {
    "duration": 107139,
    "start_time": "2023-04-23T08:39:02.705Z"
   },
   {
    "duration": 168541,
    "start_time": "2023-04-23T08:44:07.522Z"
   },
   {
    "duration": 1575,
    "start_time": "2023-04-23T08:51:31.494Z"
   },
   {
    "duration": 41,
    "start_time": "2023-04-23T08:51:33.071Z"
   },
   {
    "duration": 30,
    "start_time": "2023-04-23T08:51:33.113Z"
   },
   {
    "duration": 11,
    "start_time": "2023-04-23T08:51:33.145Z"
   },
   {
    "duration": 36,
    "start_time": "2023-04-23T08:51:33.158Z"
   },
   {
    "duration": 18,
    "start_time": "2023-04-23T08:51:33.195Z"
   },
   {
    "duration": 2,
    "start_time": "2023-04-23T08:51:33.215Z"
   },
   {
    "duration": 6,
    "start_time": "2023-04-23T08:51:33.219Z"
   },
   {
    "duration": 30,
    "start_time": "2023-04-23T08:51:33.226Z"
   },
   {
    "duration": 5,
    "start_time": "2023-04-23T08:51:33.258Z"
   },
   {
    "duration": 7,
    "start_time": "2023-04-23T08:51:33.264Z"
   },
   {
    "duration": 5,
    "start_time": "2023-04-23T08:51:33.273Z"
   },
   {
    "duration": 4,
    "start_time": "2023-04-23T08:51:33.279Z"
   },
   {
    "duration": 17,
    "start_time": "2023-04-23T08:51:33.284Z"
   },
   {
    "duration": 4,
    "start_time": "2023-04-23T08:51:33.302Z"
   },
   {
    "duration": 53,
    "start_time": "2023-04-23T08:51:33.307Z"
   },
   {
    "duration": 10,
    "start_time": "2023-04-23T08:51:33.361Z"
   },
   {
    "duration": 12,
    "start_time": "2023-04-23T08:51:33.373Z"
   },
   {
    "duration": 24,
    "start_time": "2023-04-23T08:51:33.386Z"
   },
   {
    "duration": 4,
    "start_time": "2023-04-23T08:51:33.411Z"
   },
   {
    "duration": 32,
    "start_time": "2023-04-23T08:51:33.417Z"
   },
   {
    "duration": 30058,
    "start_time": "2023-04-23T08:51:33.450Z"
   },
   {
    "duration": 1639,
    "start_time": "2023-04-23T08:52:03.510Z"
   },
   {
    "duration": 75596,
    "start_time": "2023-04-23T08:52:05.151Z"
   },
   {
    "duration": 101,
    "start_time": "2023-04-23T08:53:20.749Z"
   },
   {
    "duration": 31094,
    "start_time": "2023-04-23T08:53:20.854Z"
   },
   {
    "duration": 76056,
    "start_time": "2023-04-23T08:53:51.950Z"
   },
   {
    "duration": 49,
    "start_time": "2023-04-23T08:55:08.009Z"
   },
   {
    "duration": 3,
    "start_time": "2023-04-23T08:55:08.149Z"
   },
   {
    "duration": 99,
    "start_time": "2023-04-23T08:55:08.153Z"
   },
   {
    "duration": 40093,
    "start_time": "2023-04-23T08:55:08.254Z"
   },
   {
    "duration": 102286,
    "start_time": "2023-04-23T08:55:48.349Z"
   },
   {
    "duration": 125,
    "start_time": "2023-04-23T08:57:30.637Z"
   },
   {
    "duration": 94,
    "start_time": "2023-04-23T08:57:30.765Z"
   },
   {
    "duration": 14696,
    "start_time": "2023-04-23T08:57:30.861Z"
   },
   {
    "duration": 43854,
    "start_time": "2023-04-23T08:57:45.558Z"
   },
   {
    "duration": 44,
    "start_time": "2023-04-23T08:58:29.414Z"
   },
   {
    "duration": 974,
    "start_time": "2023-04-23T08:58:29.549Z"
   },
   {
    "duration": 116,
    "start_time": "2023-04-23T09:00:31.369Z"
   },
   {
    "duration": 6,
    "start_time": "2023-04-23T09:00:42.979Z"
   },
   {
    "duration": 1332,
    "start_time": "2023-04-23T09:02:04.755Z"
   },
   {
    "duration": 42,
    "start_time": "2023-04-23T09:02:06.088Z"
   },
   {
    "duration": 30,
    "start_time": "2023-04-23T09:02:06.131Z"
   },
   {
    "duration": 11,
    "start_time": "2023-04-23T09:02:06.163Z"
   },
   {
    "duration": 34,
    "start_time": "2023-04-23T09:02:06.176Z"
   },
   {
    "duration": 40,
    "start_time": "2023-04-23T09:02:06.211Z"
   },
   {
    "duration": 3,
    "start_time": "2023-04-23T09:02:06.252Z"
   },
   {
    "duration": 6,
    "start_time": "2023-04-23T09:02:06.257Z"
   },
   {
    "duration": 14,
    "start_time": "2023-04-23T09:02:06.264Z"
   },
   {
    "duration": 20,
    "start_time": "2023-04-23T09:02:06.280Z"
   },
   {
    "duration": 12,
    "start_time": "2023-04-23T09:02:06.302Z"
   },
   {
    "duration": 5,
    "start_time": "2023-04-23T09:02:06.315Z"
   },
   {
    "duration": 9,
    "start_time": "2023-04-23T09:02:06.321Z"
   },
   {
    "duration": 27,
    "start_time": "2023-04-23T09:02:06.331Z"
   },
   {
    "duration": 4,
    "start_time": "2023-04-23T09:02:06.360Z"
   },
   {
    "duration": 34,
    "start_time": "2023-04-23T09:02:06.365Z"
   },
   {
    "duration": 11,
    "start_time": "2023-04-23T09:02:06.401Z"
   },
   {
    "duration": 12,
    "start_time": "2023-04-23T09:02:06.414Z"
   },
   {
    "duration": 43,
    "start_time": "2023-04-23T09:02:06.428Z"
   },
   {
    "duration": 4,
    "start_time": "2023-04-23T09:02:06.472Z"
   },
   {
    "duration": 13,
    "start_time": "2023-04-23T09:02:06.478Z"
   },
   {
    "duration": 29882,
    "start_time": "2023-04-23T09:02:06.492Z"
   },
   {
    "duration": 6,
    "start_time": "2023-04-23T09:02:36.375Z"
   },
   {
    "duration": 1607,
    "start_time": "2023-04-23T09:02:36.383Z"
   },
   {
    "duration": 75580,
    "start_time": "2023-04-23T09:02:37.991Z"
   },
   {
    "duration": 79,
    "start_time": "2023-04-23T09:03:53.572Z"
   },
   {
    "duration": 31576,
    "start_time": "2023-04-23T09:03:53.659Z"
   },
   {
    "duration": 75819,
    "start_time": "2023-04-23T09:04:25.239Z"
   },
   {
    "duration": 290,
    "start_time": "2023-04-23T09:05:41.059Z"
   },
   {
    "duration": 3,
    "start_time": "2023-04-23T09:05:41.350Z"
   },
   {
    "duration": 13,
    "start_time": "2023-04-23T09:05:41.355Z"
   },
   {
    "duration": 40647,
    "start_time": "2023-04-23T09:05:41.369Z"
   },
   {
    "duration": 162236,
    "start_time": "2023-04-23T09:06:22.017Z"
   },
   {
    "duration": 96,
    "start_time": "2023-04-23T09:09:04.254Z"
   },
   {
    "duration": 102,
    "start_time": "2023-04-23T09:09:04.352Z"
   },
   {
    "duration": 14507,
    "start_time": "2023-04-23T09:09:04.455Z"
   },
   {
    "duration": 43475,
    "start_time": "2023-04-23T09:09:18.963Z"
   },
   {
    "duration": 208,
    "start_time": "2023-04-23T09:10:02.440Z"
   },
   {
    "duration": 917,
    "start_time": "2023-04-23T09:10:02.650Z"
   },
   {
    "duration": 5,
    "start_time": "2023-04-23T09:10:57.995Z"
   },
   {
    "duration": 3,
    "start_time": "2023-04-23T09:16:14.045Z"
   },
   {
    "duration": 12,
    "start_time": "2023-04-23T09:17:03.872Z"
   },
   {
    "duration": 12,
    "start_time": "2023-04-23T09:17:15.986Z"
   },
   {
    "duration": 962,
    "start_time": "2023-04-23T09:26:23.132Z"
   },
   {
    "duration": 878,
    "start_time": "2023-04-23T09:26:32.658Z"
   },
   {
    "duration": 853,
    "start_time": "2023-04-23T09:26:37.868Z"
   },
   {
    "duration": 1341,
    "start_time": "2023-04-23T09:27:04.543Z"
   },
   {
    "duration": 41,
    "start_time": "2023-04-23T09:27:05.886Z"
   },
   {
    "duration": 30,
    "start_time": "2023-04-23T09:27:05.928Z"
   },
   {
    "duration": 11,
    "start_time": "2023-04-23T09:27:05.960Z"
   },
   {
    "duration": 36,
    "start_time": "2023-04-23T09:27:05.973Z"
   },
   {
    "duration": 19,
    "start_time": "2023-04-23T09:27:06.010Z"
   },
   {
    "duration": 18,
    "start_time": "2023-04-23T09:27:06.031Z"
   },
   {
    "duration": 4,
    "start_time": "2023-04-23T09:27:06.050Z"
   },
   {
    "duration": 9,
    "start_time": "2023-04-23T09:27:06.055Z"
   },
   {
    "duration": 12,
    "start_time": "2023-04-23T09:27:06.066Z"
   },
   {
    "duration": 16,
    "start_time": "2023-04-23T09:27:06.079Z"
   },
   {
    "duration": 6,
    "start_time": "2023-04-23T09:27:06.096Z"
   },
   {
    "duration": 11,
    "start_time": "2023-04-23T09:27:06.103Z"
   },
   {
    "duration": 13,
    "start_time": "2023-04-23T09:27:06.116Z"
   },
   {
    "duration": 3,
    "start_time": "2023-04-23T09:27:06.131Z"
   },
   {
    "duration": 30,
    "start_time": "2023-04-23T09:27:06.136Z"
   },
   {
    "duration": 12,
    "start_time": "2023-04-23T09:27:06.167Z"
   },
   {
    "duration": 12,
    "start_time": "2023-04-23T09:27:06.180Z"
   },
   {
    "duration": 24,
    "start_time": "2023-04-23T09:27:06.194Z"
   },
   {
    "duration": 4,
    "start_time": "2023-04-23T09:27:06.219Z"
   },
   {
    "duration": 3,
    "start_time": "2023-04-23T09:27:06.248Z"
   },
   {
    "duration": 29976,
    "start_time": "2023-04-23T09:27:06.253Z"
   },
   {
    "duration": 1592,
    "start_time": "2023-04-23T09:27:36.230Z"
   },
   {
    "duration": 75134,
    "start_time": "2023-04-23T09:27:37.823Z"
   },
   {
    "duration": 92,
    "start_time": "2023-04-23T09:28:52.959Z"
   },
   {
    "duration": 30805,
    "start_time": "2023-04-23T09:28:53.053Z"
   },
   {
    "duration": 75711,
    "start_time": "2023-04-23T09:29:23.860Z"
   },
   {
    "duration": 81,
    "start_time": "2023-04-23T09:30:39.574Z"
   },
   {
    "duration": 92,
    "start_time": "2023-04-23T09:30:39.657Z"
   },
   {
    "duration": 14,
    "start_time": "2023-04-23T09:30:39.751Z"
   },
   {
    "duration": 40084,
    "start_time": "2023-04-23T09:30:39.767Z"
   },
   {
    "duration": 473233,
    "start_time": "2023-04-23T09:31:19.852Z"
   },
   {
    "duration": 66,
    "start_time": "2023-04-23T09:39:13.087Z"
   },
   {
    "duration": 94,
    "start_time": "2023-04-23T09:39:13.155Z"
   },
   {
    "duration": 14647,
    "start_time": "2023-04-23T09:39:13.251Z"
   },
   {
    "duration": 44090,
    "start_time": "2023-04-23T09:39:27.899Z"
   },
   {
    "duration": 62,
    "start_time": "2023-04-23T09:40:11.990Z"
   },
   {
    "duration": 969,
    "start_time": "2023-04-23T09:40:12.055Z"
   },
   {
    "duration": 1315,
    "start_time": "2023-04-23T09:43:10.821Z"
   },
   {
    "duration": 41,
    "start_time": "2023-04-23T09:43:12.138Z"
   },
   {
    "duration": 29,
    "start_time": "2023-04-23T09:43:12.181Z"
   },
   {
    "duration": 10,
    "start_time": "2023-04-23T09:43:12.211Z"
   },
   {
    "duration": 42,
    "start_time": "2023-04-23T09:43:12.223Z"
   },
   {
    "duration": 16,
    "start_time": "2023-04-23T09:43:12.267Z"
   },
   {
    "duration": 2,
    "start_time": "2023-04-23T09:43:12.285Z"
   },
   {
    "duration": 27,
    "start_time": "2023-04-23T09:43:12.289Z"
   },
   {
    "duration": 12,
    "start_time": "2023-04-23T09:43:12.317Z"
   },
   {
    "duration": 14,
    "start_time": "2023-04-23T09:43:12.330Z"
   },
   {
    "duration": 22,
    "start_time": "2023-04-23T09:43:12.346Z"
   },
   {
    "duration": 6,
    "start_time": "2023-04-23T09:43:12.370Z"
   },
   {
    "duration": 4,
    "start_time": "2023-04-23T09:43:12.377Z"
   },
   {
    "duration": 25,
    "start_time": "2023-04-23T09:43:12.383Z"
   },
   {
    "duration": 4,
    "start_time": "2023-04-23T09:43:12.409Z"
   },
   {
    "duration": 40,
    "start_time": "2023-04-23T09:43:12.414Z"
   },
   {
    "duration": 10,
    "start_time": "2023-04-23T09:43:12.455Z"
   },
   {
    "duration": 27,
    "start_time": "2023-04-23T09:43:12.466Z"
   },
   {
    "duration": 37,
    "start_time": "2023-04-23T09:43:12.494Z"
   },
   {
    "duration": 5,
    "start_time": "2023-04-23T09:43:12.533Z"
   },
   {
    "duration": 16,
    "start_time": "2023-04-23T09:43:12.540Z"
   },
   {
    "duration": 86962,
    "start_time": "2023-04-23T09:43:12.558Z"
   },
   {
    "duration": 1601,
    "start_time": "2023-04-23T09:44:39.521Z"
   },
   {
    "duration": 354248,
    "start_time": "2023-04-23T09:44:41.123Z"
   },
   {
    "duration": 80,
    "start_time": "2023-04-23T09:50:35.373Z"
   },
   {
    "duration": 88054,
    "start_time": "2023-04-23T09:50:35.455Z"
   },
   {
    "duration": 347372,
    "start_time": "2023-04-23T09:52:03.511Z"
   },
   {
    "duration": 171,
    "start_time": "2023-04-23T09:57:50.884Z"
   },
   {
    "duration": 4,
    "start_time": "2023-04-23T09:57:51.057Z"
   },
   {
    "duration": 102,
    "start_time": "2023-04-23T09:57:51.063Z"
   },
   {
    "duration": 117728,
    "start_time": "2023-04-23T09:57:51.167Z"
   },
   {
    "duration": 1369,
    "start_time": "2023-04-23T10:00:45.740Z"
   },
   {
    "duration": 40,
    "start_time": "2023-04-23T10:00:47.111Z"
   },
   {
    "duration": 28,
    "start_time": "2023-04-23T10:00:47.155Z"
   },
   {
    "duration": 10,
    "start_time": "2023-04-23T10:00:47.185Z"
   },
   {
    "duration": 34,
    "start_time": "2023-04-23T10:00:47.197Z"
   },
   {
    "duration": 18,
    "start_time": "2023-04-23T10:00:47.248Z"
   },
   {
    "duration": 2,
    "start_time": "2023-04-23T10:00:47.268Z"
   },
   {
    "duration": 12,
    "start_time": "2023-04-23T10:00:47.271Z"
   },
   {
    "duration": 10,
    "start_time": "2023-04-23T10:00:47.285Z"
   },
   {
    "duration": 5,
    "start_time": "2023-04-23T10:00:47.296Z"
   },
   {
    "duration": 15,
    "start_time": "2023-04-23T10:00:47.303Z"
   },
   {
    "duration": 7,
    "start_time": "2023-04-23T10:00:47.320Z"
   },
   {
    "duration": 9,
    "start_time": "2023-04-23T10:00:47.328Z"
   },
   {
    "duration": 20,
    "start_time": "2023-04-23T10:00:47.338Z"
   },
   {
    "duration": 5,
    "start_time": "2023-04-23T10:00:47.360Z"
   },
   {
    "duration": 28,
    "start_time": "2023-04-23T10:00:47.366Z"
   },
   {
    "duration": 10,
    "start_time": "2023-04-23T10:00:47.395Z"
   },
   {
    "duration": 12,
    "start_time": "2023-04-23T10:00:47.406Z"
   },
   {
    "duration": 44,
    "start_time": "2023-04-23T10:00:47.419Z"
   },
   {
    "duration": 4,
    "start_time": "2023-04-23T10:00:47.465Z"
   },
   {
    "duration": 5,
    "start_time": "2023-04-23T10:00:47.470Z"
   },
   {
    "duration": 29844,
    "start_time": "2023-04-23T10:00:47.476Z"
   },
   {
    "duration": 1567,
    "start_time": "2023-04-23T10:01:17.322Z"
   },
   {
    "duration": 118939,
    "start_time": "2023-04-23T10:01:18.891Z"
   },
   {
    "duration": 31,
    "start_time": "2023-04-23T10:03:17.832Z"
   },
   {
    "duration": 31011,
    "start_time": "2023-04-23T10:03:17.950Z"
   },
   {
    "duration": 118060,
    "start_time": "2023-04-23T10:03:48.965Z"
   },
   {
    "duration": 33,
    "start_time": "2023-04-23T10:05:47.027Z"
   },
   {
    "duration": 89,
    "start_time": "2023-04-23T10:05:47.062Z"
   },
   {
    "duration": 106,
    "start_time": "2023-04-23T10:05:47.152Z"
   },
   {
    "duration": 40312,
    "start_time": "2023-04-23T10:05:47.260Z"
   },
   {
    "duration": 160184,
    "start_time": "2023-04-23T10:06:27.574Z"
   },
   {
    "duration": 190,
    "start_time": "2023-04-23T10:09:07.759Z"
   },
   {
    "duration": 14,
    "start_time": "2023-04-23T10:09:07.950Z"
   },
   {
    "duration": 14822,
    "start_time": "2023-04-23T10:09:07.965Z"
   },
   {
    "duration": 69190,
    "start_time": "2023-04-23T10:09:22.788Z"
   },
   {
    "duration": 70,
    "start_time": "2023-04-23T10:10:31.980Z"
   },
   {
    "duration": 980,
    "start_time": "2023-04-23T10:10:32.053Z"
   },
   {
    "duration": 13,
    "start_time": "2023-04-23T10:16:38.824Z"
   },
   {
    "duration": 52,
    "start_time": "2023-04-23T10:17:55.708Z"
   },
   {
    "duration": 130,
    "start_time": "2023-04-23T10:24:20.967Z"
   },
   {
    "duration": 2,
    "start_time": "2023-04-23T10:24:24.733Z"
   },
   {
    "duration": 110,
    "start_time": "2023-04-23T10:24:26.609Z"
   },
   {
    "duration": 135,
    "start_time": "2023-04-23T10:24:49.729Z"
   },
   {
    "duration": 111,
    "start_time": "2023-04-23T10:25:52.205Z"
   },
   {
    "duration": 148,
    "start_time": "2023-04-23T10:28:29.123Z"
   },
   {
    "duration": 4,
    "start_time": "2023-04-23T10:31:38.657Z"
   },
   {
    "duration": 11,
    "start_time": "2023-04-23T10:51:41.583Z"
   },
   {
    "duration": 44,
    "start_time": "2023-04-23T11:02:28.678Z"
   },
   {
    "duration": 2412,
    "start_time": "2023-04-23T14:18:31.784Z"
   },
   {
    "duration": 42,
    "start_time": "2023-04-23T14:18:34.199Z"
   },
   {
    "duration": 38,
    "start_time": "2023-04-23T14:18:34.244Z"
   },
   {
    "duration": 11,
    "start_time": "2023-04-23T14:18:34.284Z"
   },
   {
    "duration": 36,
    "start_time": "2023-04-23T14:18:34.297Z"
   },
   {
    "duration": 17,
    "start_time": "2023-04-23T14:18:34.335Z"
   },
   {
    "duration": 3,
    "start_time": "2023-04-23T14:18:34.354Z"
   },
   {
    "duration": 7,
    "start_time": "2023-04-23T14:18:34.358Z"
   },
   {
    "duration": 7,
    "start_time": "2023-04-23T14:18:34.366Z"
   },
   {
    "duration": 23,
    "start_time": "2023-04-23T14:18:34.374Z"
   },
   {
    "duration": 7,
    "start_time": "2023-04-23T14:18:34.398Z"
   },
   {
    "duration": 5,
    "start_time": "2023-04-23T14:18:34.406Z"
   },
   {
    "duration": 7,
    "start_time": "2023-04-23T14:18:34.413Z"
   },
   {
    "duration": 14,
    "start_time": "2023-04-23T14:18:34.423Z"
   },
   {
    "duration": 4,
    "start_time": "2023-04-23T14:18:34.439Z"
   },
   {
    "duration": 22,
    "start_time": "2023-04-23T14:18:34.445Z"
   },
   {
    "duration": 34,
    "start_time": "2023-04-23T14:18:34.468Z"
   },
   {
    "duration": 12,
    "start_time": "2023-04-23T14:18:34.503Z"
   },
   {
    "duration": 23,
    "start_time": "2023-04-23T14:18:34.516Z"
   },
   {
    "duration": 4,
    "start_time": "2023-04-23T14:18:34.541Z"
   },
   {
    "duration": 3,
    "start_time": "2023-04-23T14:18:34.547Z"
   },
   {
    "duration": 23670,
    "start_time": "2023-04-23T14:18:34.552Z"
   },
   {
    "duration": 1287,
    "start_time": "2023-04-23T14:18:58.224Z"
   },
   {
    "duration": 111780,
    "start_time": "2023-04-23T14:18:59.512Z"
   },
   {
    "duration": 207,
    "start_time": "2023-04-23T14:20:51.294Z"
   },
   {
    "duration": 41793,
    "start_time": "2023-04-23T14:20:51.503Z"
   },
   {
    "duration": 109847,
    "start_time": "2023-04-23T14:21:33.297Z"
   },
   {
    "duration": 57,
    "start_time": "2023-04-23T14:23:23.146Z"
   },
   {
    "duration": 3,
    "start_time": "2023-04-23T14:23:23.205Z"
   },
   {
    "duration": 12,
    "start_time": "2023-04-23T14:23:23.295Z"
   },
   {
    "duration": 32742,
    "start_time": "2023-04-23T14:23:23.309Z"
   },
   {
    "duration": 134756,
    "start_time": "2023-04-23T14:23:56.053Z"
   },
   {
    "duration": 183,
    "start_time": "2023-04-23T14:26:10.812Z"
   },
   {
    "duration": 102,
    "start_time": "2023-04-23T14:26:10.998Z"
   },
   {
    "duration": 12314,
    "start_time": "2023-04-23T14:26:11.102Z"
   },
   {
    "duration": 62521,
    "start_time": "2023-04-23T14:26:23.417Z"
   },
   {
    "duration": 66,
    "start_time": "2023-04-23T14:27:25.940Z"
   },
   {
    "duration": 861,
    "start_time": "2023-04-23T14:27:26.007Z"
   },
   {
    "duration": 155,
    "start_time": "2023-04-23T14:27:26.870Z"
   },
   {
    "duration": 42,
    "start_time": "2023-04-23T18:53:14.609Z"
   },
   {
    "duration": 1535,
    "start_time": "2023-04-23T18:53:17.993Z"
   },
   {
    "duration": 164,
    "start_time": "2023-04-23T18:53:23.973Z"
   },
   {
    "duration": 15,
    "start_time": "2023-04-23T18:53:26.795Z"
   },
   {
    "duration": 78,
    "start_time": "2023-04-24T19:13:11.199Z"
   },
   {
    "duration": 79,
    "start_time": "2023-04-24T19:15:30.904Z"
   },
   {
    "duration": 96,
    "start_time": "2023-04-24T19:18:46.860Z"
   },
   {
    "duration": 78,
    "start_time": "2023-04-24T19:21:03.693Z"
   },
   {
    "duration": 72,
    "start_time": "2023-04-24T19:21:45.932Z"
   },
   {
    "duration": 9,
    "start_time": "2023-04-25T09:51:25.189Z"
   },
   {
    "duration": 1579,
    "start_time": "2023-04-25T09:51:33.637Z"
   },
   {
    "duration": 95,
    "start_time": "2023-04-25T09:51:35.218Z"
   },
   {
    "duration": 20,
    "start_time": "2023-04-25T09:51:35.315Z"
   },
   {
    "duration": 15,
    "start_time": "2023-04-25T09:51:35.339Z"
   },
   {
    "duration": 57,
    "start_time": "2023-04-25T09:51:35.356Z"
   },
   {
    "duration": 27,
    "start_time": "2023-04-25T09:51:35.415Z"
   },
   {
    "duration": 3,
    "start_time": "2023-04-25T09:51:35.444Z"
   },
   {
    "duration": 17,
    "start_time": "2023-04-25T09:51:35.449Z"
   },
   {
    "duration": 10,
    "start_time": "2023-04-25T09:51:35.468Z"
   },
   {
    "duration": 12,
    "start_time": "2023-04-25T09:51:35.481Z"
   },
   {
    "duration": 22,
    "start_time": "2023-04-25T09:51:35.495Z"
   },
   {
    "duration": 17,
    "start_time": "2023-04-25T09:51:35.518Z"
   },
   {
    "duration": 9,
    "start_time": "2023-04-25T09:51:35.537Z"
   },
   {
    "duration": 17,
    "start_time": "2023-04-25T09:51:35.548Z"
   },
   {
    "duration": 20,
    "start_time": "2023-04-25T09:51:35.567Z"
   },
   {
    "duration": 37,
    "start_time": "2023-04-25T09:51:35.589Z"
   },
   {
    "duration": 12,
    "start_time": "2023-04-25T09:51:35.628Z"
   },
   {
    "duration": 14,
    "start_time": "2023-04-25T09:51:35.642Z"
   },
   {
    "duration": 30,
    "start_time": "2023-04-25T09:51:35.658Z"
   },
   {
    "duration": 5,
    "start_time": "2023-04-25T09:51:35.689Z"
   },
   {
    "duration": 14,
    "start_time": "2023-04-25T09:51:35.696Z"
   },
   {
    "duration": 28061,
    "start_time": "2023-04-25T09:51:35.711Z"
   },
   {
    "duration": 1536,
    "start_time": "2023-04-25T09:52:03.774Z"
   },
   {
    "duration": 1533,
    "start_time": "2023-04-25T09:53:15.223Z"
   },
   {
    "duration": 49,
    "start_time": "2023-04-25T09:53:16.758Z"
   },
   {
    "duration": 28,
    "start_time": "2023-04-25T09:53:16.810Z"
   },
   {
    "duration": 21,
    "start_time": "2023-04-25T09:53:16.841Z"
   },
   {
    "duration": 74,
    "start_time": "2023-04-25T09:53:16.866Z"
   },
   {
    "duration": 32,
    "start_time": "2023-04-25T09:53:16.943Z"
   },
   {
    "duration": 7,
    "start_time": "2023-04-25T09:53:16.981Z"
   },
   {
    "duration": 46,
    "start_time": "2023-04-25T09:53:16.992Z"
   },
   {
    "duration": 7,
    "start_time": "2023-04-25T09:53:17.041Z"
   },
   {
    "duration": 22,
    "start_time": "2023-04-25T09:53:17.051Z"
   },
   {
    "duration": 22,
    "start_time": "2023-04-25T09:53:17.075Z"
   },
   {
    "duration": 12,
    "start_time": "2023-04-25T09:53:17.099Z"
   },
   {
    "duration": 23,
    "start_time": "2023-04-25T09:53:17.115Z"
   },
   {
    "duration": 29,
    "start_time": "2023-04-25T09:53:17.143Z"
   },
   {
    "duration": 23,
    "start_time": "2023-04-25T09:53:17.174Z"
   },
   {
    "duration": 40,
    "start_time": "2023-04-25T09:53:17.199Z"
   },
   {
    "duration": 16,
    "start_time": "2023-04-25T09:53:17.242Z"
   },
   {
    "duration": 39,
    "start_time": "2023-04-25T09:53:17.261Z"
   },
   {
    "duration": 36,
    "start_time": "2023-04-25T09:53:17.302Z"
   },
   {
    "duration": 7,
    "start_time": "2023-04-25T09:53:17.340Z"
   },
   {
    "duration": 9,
    "start_time": "2023-04-25T09:53:17.349Z"
   },
   {
    "duration": 31338,
    "start_time": "2023-04-25T09:53:17.361Z"
   },
   {
    "duration": 1758,
    "start_time": "2023-04-25T09:53:48.702Z"
   },
   {
    "duration": 124193,
    "start_time": "2023-04-25T09:53:50.462Z"
   },
   {
    "duration": 177,
    "start_time": "2023-04-25T09:55:54.657Z"
   },
   {
    "duration": 30570,
    "start_time": "2023-04-25T09:55:54.835Z"
   },
   {
    "duration": 1658,
    "start_time": "2023-04-25T09:57:14.551Z"
   },
   {
    "duration": 48,
    "start_time": "2023-04-25T09:57:16.211Z"
   },
   {
    "duration": 22,
    "start_time": "2023-04-25T09:57:16.262Z"
   },
   {
    "duration": 20,
    "start_time": "2023-04-25T09:57:16.285Z"
   },
   {
    "duration": 63,
    "start_time": "2023-04-25T09:57:16.308Z"
   },
   {
    "duration": 24,
    "start_time": "2023-04-25T09:57:16.373Z"
   },
   {
    "duration": 4,
    "start_time": "2023-04-25T09:57:16.399Z"
   },
   {
    "duration": 31,
    "start_time": "2023-04-25T09:57:16.405Z"
   },
   {
    "duration": 24,
    "start_time": "2023-04-25T09:57:16.438Z"
   },
   {
    "duration": 13,
    "start_time": "2023-04-25T09:57:16.465Z"
   },
   {
    "duration": 13,
    "start_time": "2023-04-25T09:57:16.480Z"
   },
   {
    "duration": 7,
    "start_time": "2023-04-25T09:57:16.495Z"
   },
   {
    "duration": 9,
    "start_time": "2023-04-25T09:57:16.504Z"
   },
   {
    "duration": 23,
    "start_time": "2023-04-25T09:57:16.517Z"
   },
   {
    "duration": 5,
    "start_time": "2023-04-25T09:57:16.542Z"
   },
   {
    "duration": 27,
    "start_time": "2023-04-25T09:57:16.549Z"
   },
   {
    "duration": 14,
    "start_time": "2023-04-25T09:57:16.578Z"
   },
   {
    "duration": 46,
    "start_time": "2023-04-25T09:57:16.594Z"
   },
   {
    "duration": 34,
    "start_time": "2023-04-25T09:57:16.642Z"
   },
   {
    "duration": 6,
    "start_time": "2023-04-25T09:57:16.678Z"
   },
   {
    "duration": 24,
    "start_time": "2023-04-25T09:57:16.687Z"
   },
   {
    "duration": 244,
    "start_time": "2023-04-25T09:57:16.713Z"
   },
   {
    "duration": 1750,
    "start_time": "2023-04-25T09:57:16.960Z"
   },
   {
    "duration": 125879,
    "start_time": "2023-04-25T09:57:18.711Z"
   },
   {
    "duration": 146,
    "start_time": "2023-04-25T09:59:24.592Z"
   },
   {
    "duration": 31436,
    "start_time": "2023-04-25T09:59:24.740Z"
   },
   {
    "duration": 134177,
    "start_time": "2023-04-25T09:59:56.178Z"
   },
   {
    "duration": 84,
    "start_time": "2023-04-25T10:02:10.357Z"
   },
   {
    "duration": 90,
    "start_time": "2023-04-25T10:02:10.444Z"
   },
   {
    "duration": 57,
    "start_time": "2023-04-25T10:02:10.536Z"
   },
   {
    "duration": 40551,
    "start_time": "2023-04-25T10:02:10.595Z"
   },
   {
    "duration": 181005,
    "start_time": "2023-04-25T10:02:51.149Z"
   },
   {
    "duration": 181,
    "start_time": "2023-04-25T10:05:52.156Z"
   },
   {
    "duration": 14,
    "start_time": "2023-04-25T10:05:52.339Z"
   },
   {
    "duration": 16722,
    "start_time": "2023-04-25T10:05:52.355Z"
   },
   {
    "duration": 82855,
    "start_time": "2023-04-25T10:06:09.079Z"
   },
   {
    "duration": 100,
    "start_time": "2023-04-25T10:07:31.937Z"
   },
   {
    "duration": 1032,
    "start_time": "2023-04-25T10:07:32.039Z"
   },
   {
    "duration": 210,
    "start_time": "2023-04-25T10:07:33.073Z"
   },
   {
    "duration": 6,
    "start_time": "2023-04-25T13:12:32.033Z"
   },
   {
    "duration": 4,
    "start_time": "2023-04-25T13:32:40.593Z"
   },
   {
    "duration": 82,
    "start_time": "2023-04-25T13:38:00.158Z"
   },
   {
    "duration": 1556,
    "start_time": "2023-04-25T13:40:34.776Z"
   },
   {
    "duration": 45,
    "start_time": "2023-04-25T13:40:36.335Z"
   },
   {
    "duration": 20,
    "start_time": "2023-04-25T13:40:36.382Z"
   },
   {
    "duration": 17,
    "start_time": "2023-04-25T13:40:36.404Z"
   },
   {
    "duration": 57,
    "start_time": "2023-04-25T13:40:36.425Z"
   },
   {
    "duration": 25,
    "start_time": "2023-04-25T13:40:36.485Z"
   },
   {
    "duration": 4,
    "start_time": "2023-04-25T13:40:36.512Z"
   },
   {
    "duration": 6,
    "start_time": "2023-04-25T13:40:36.533Z"
   },
   {
    "duration": 16,
    "start_time": "2023-04-25T13:40:36.542Z"
   },
   {
    "duration": 10,
    "start_time": "2023-04-25T13:40:36.560Z"
   },
   {
    "duration": 11,
    "start_time": "2023-04-25T13:40:36.572Z"
   },
   {
    "duration": 9,
    "start_time": "2023-04-25T13:40:36.585Z"
   },
   {
    "duration": 16,
    "start_time": "2023-04-25T13:40:36.595Z"
   },
   {
    "duration": 38,
    "start_time": "2023-04-25T13:40:36.614Z"
   },
   {
    "duration": 5,
    "start_time": "2023-04-25T13:40:36.655Z"
   },
   {
    "duration": 41,
    "start_time": "2023-04-25T13:40:36.662Z"
   },
   {
    "duration": 30,
    "start_time": "2023-04-25T13:40:36.705Z"
   },
   {
    "duration": 20,
    "start_time": "2023-04-25T13:40:36.737Z"
   },
   {
    "duration": 48,
    "start_time": "2023-04-25T13:40:36.759Z"
   },
   {
    "duration": 28,
    "start_time": "2023-04-25T13:40:36.809Z"
   },
   {
    "duration": 14,
    "start_time": "2023-04-25T13:40:36.840Z"
   },
   {
    "duration": 227,
    "start_time": "2023-04-25T13:40:36.856Z"
   },
   {
    "duration": 1700,
    "start_time": "2023-04-25T13:40:37.085Z"
   },
   {
    "duration": 1489,
    "start_time": "2023-04-25T13:41:20.848Z"
   },
   {
    "duration": 44,
    "start_time": "2023-04-25T13:41:22.340Z"
   },
   {
    "duration": 18,
    "start_time": "2023-04-25T13:41:22.386Z"
   },
   {
    "duration": 42,
    "start_time": "2023-04-25T13:41:22.406Z"
   },
   {
    "duration": 70,
    "start_time": "2023-04-25T13:41:22.451Z"
   },
   {
    "duration": 21,
    "start_time": "2023-04-25T13:41:22.522Z"
   },
   {
    "duration": 13,
    "start_time": "2023-04-25T13:41:22.545Z"
   },
   {
    "duration": 29,
    "start_time": "2023-04-25T13:41:22.560Z"
   },
   {
    "duration": 32,
    "start_time": "2023-04-25T13:41:22.591Z"
   },
   {
    "duration": 27,
    "start_time": "2023-04-25T13:41:22.625Z"
   },
   {
    "duration": 24,
    "start_time": "2023-04-25T13:41:22.654Z"
   },
   {
    "duration": 21,
    "start_time": "2023-04-25T13:41:22.680Z"
   },
   {
    "duration": 25,
    "start_time": "2023-04-25T13:41:22.703Z"
   },
   {
    "duration": 22,
    "start_time": "2023-04-25T13:41:22.732Z"
   },
   {
    "duration": 14,
    "start_time": "2023-04-25T13:41:22.757Z"
   },
   {
    "duration": 44,
    "start_time": "2023-04-25T13:41:22.773Z"
   },
   {
    "duration": 14,
    "start_time": "2023-04-25T13:41:22.819Z"
   },
   {
    "duration": 15,
    "start_time": "2023-04-25T13:41:22.834Z"
   },
   {
    "duration": 30,
    "start_time": "2023-04-25T13:41:22.850Z"
   },
   {
    "duration": 5,
    "start_time": "2023-04-25T13:41:22.882Z"
   },
   {
    "duration": 12,
    "start_time": "2023-04-25T13:41:22.889Z"
   },
   {
    "duration": 34871,
    "start_time": "2023-04-25T13:41:22.904Z"
   },
   {
    "duration": 1727,
    "start_time": "2023-04-25T13:41:57.777Z"
   },
   {
    "duration": 128784,
    "start_time": "2023-04-25T13:41:59.506Z"
   },
   {
    "duration": 156,
    "start_time": "2023-04-25T13:44:08.292Z"
   },
   {
    "duration": 31277,
    "start_time": "2023-04-25T13:44:08.451Z"
   },
   {
    "duration": 1431,
    "start_time": "2023-04-25T13:44:47.170Z"
   },
   {
    "duration": 52,
    "start_time": "2023-04-25T13:44:48.604Z"
   },
   {
    "duration": 18,
    "start_time": "2023-04-25T13:44:48.658Z"
   },
   {
    "duration": 26,
    "start_time": "2023-04-25T13:44:48.678Z"
   },
   {
    "duration": 47,
    "start_time": "2023-04-25T13:44:48.705Z"
   },
   {
    "duration": 19,
    "start_time": "2023-04-25T13:44:48.753Z"
   },
   {
    "duration": 4,
    "start_time": "2023-04-25T13:44:48.774Z"
   },
   {
    "duration": 23,
    "start_time": "2023-04-25T13:44:48.779Z"
   },
   {
    "duration": 15,
    "start_time": "2023-04-25T13:44:48.804Z"
   },
   {
    "duration": 10,
    "start_time": "2023-04-25T13:44:48.832Z"
   },
   {
    "duration": 21,
    "start_time": "2023-04-25T13:44:48.844Z"
   },
   {
    "duration": 19,
    "start_time": "2023-04-25T13:44:48.867Z"
   },
   {
    "duration": 24,
    "start_time": "2023-04-25T13:44:48.888Z"
   },
   {
    "duration": 41,
    "start_time": "2023-04-25T13:44:48.914Z"
   },
   {
    "duration": 11,
    "start_time": "2023-04-25T13:44:48.957Z"
   },
   {
    "duration": 52,
    "start_time": "2023-04-25T13:44:48.970Z"
   },
   {
    "duration": 12,
    "start_time": "2023-04-25T13:44:49.024Z"
   },
   {
    "duration": 36,
    "start_time": "2023-04-25T13:44:49.038Z"
   },
   {
    "duration": 36,
    "start_time": "2023-04-25T13:44:49.076Z"
   },
   {
    "duration": 17,
    "start_time": "2023-04-25T13:44:49.114Z"
   },
   {
    "duration": 25,
    "start_time": "2023-04-25T13:44:49.132Z"
   },
   {
    "duration": 33197,
    "start_time": "2023-04-25T13:44:49.159Z"
   },
   {
    "duration": 1691,
    "start_time": "2023-04-25T13:45:22.358Z"
   },
   {
    "duration": 124169,
    "start_time": "2023-04-25T13:45:24.052Z"
   },
   {
    "duration": 218,
    "start_time": "2023-04-25T13:47:28.223Z"
   },
   {
    "duration": 0,
    "start_time": "2023-04-25T13:47:28.442Z"
   },
   {
    "duration": 0,
    "start_time": "2023-04-25T13:47:28.444Z"
   },
   {
    "duration": 0,
    "start_time": "2023-04-25T13:47:28.445Z"
   },
   {
    "duration": 0,
    "start_time": "2023-04-25T13:47:28.447Z"
   },
   {
    "duration": 0,
    "start_time": "2023-04-25T13:47:28.448Z"
   },
   {
    "duration": 0,
    "start_time": "2023-04-25T13:47:28.450Z"
   },
   {
    "duration": 0,
    "start_time": "2023-04-25T13:47:28.451Z"
   },
   {
    "duration": 0,
    "start_time": "2023-04-25T13:47:28.453Z"
   },
   {
    "duration": 0,
    "start_time": "2023-04-25T13:47:28.454Z"
   },
   {
    "duration": 0,
    "start_time": "2023-04-25T13:47:28.455Z"
   },
   {
    "duration": 0,
    "start_time": "2023-04-25T13:47:28.456Z"
   },
   {
    "duration": 0,
    "start_time": "2023-04-25T13:47:28.458Z"
   },
   {
    "duration": 0,
    "start_time": "2023-04-25T13:47:28.534Z"
   },
   {
    "duration": 1598,
    "start_time": "2023-04-28T07:37:08.680Z"
   },
   {
    "duration": 381,
    "start_time": "2023-04-28T07:37:10.281Z"
   },
   {
    "duration": 17,
    "start_time": "2023-04-28T07:37:10.664Z"
   },
   {
    "duration": 21,
    "start_time": "2023-04-28T07:37:10.683Z"
   },
   {
    "duration": 43,
    "start_time": "2023-04-28T07:37:10.707Z"
   },
   {
    "duration": 20,
    "start_time": "2023-04-28T07:37:10.752Z"
   },
   {
    "duration": 5,
    "start_time": "2023-04-28T07:37:10.773Z"
   },
   {
    "duration": 24,
    "start_time": "2023-04-28T07:37:10.780Z"
   },
   {
    "duration": 10,
    "start_time": "2023-04-28T07:37:10.806Z"
   },
   {
    "duration": 5,
    "start_time": "2023-04-28T07:37:10.818Z"
   },
   {
    "duration": 9,
    "start_time": "2023-04-28T07:37:10.825Z"
   },
   {
    "duration": 5,
    "start_time": "2023-04-28T07:37:10.835Z"
   },
   {
    "duration": 5,
    "start_time": "2023-04-28T07:37:10.842Z"
   },
   {
    "duration": 28,
    "start_time": "2023-04-28T07:37:10.850Z"
   },
   {
    "duration": 5,
    "start_time": "2023-04-28T07:37:10.879Z"
   },
   {
    "duration": 41,
    "start_time": "2023-04-28T07:37:10.885Z"
   },
   {
    "duration": 11,
    "start_time": "2023-04-28T07:37:10.928Z"
   },
   {
    "duration": 13,
    "start_time": "2023-04-28T07:37:10.941Z"
   },
   {
    "duration": 37,
    "start_time": "2023-04-28T07:37:10.956Z"
   },
   {
    "duration": 6,
    "start_time": "2023-04-28T07:37:11.008Z"
   },
   {
    "duration": 4,
    "start_time": "2023-04-28T07:37:11.016Z"
   },
   {
    "duration": 30251,
    "start_time": "2023-04-28T07:37:11.022Z"
   },
   {
    "duration": 1554,
    "start_time": "2023-04-28T07:37:41.275Z"
   },
   {
    "duration": 135849,
    "start_time": "2023-04-28T07:37:42.831Z"
   },
   {
    "duration": 124,
    "start_time": "2023-04-28T07:39:58.681Z"
   },
   {
    "duration": 0,
    "start_time": "2023-04-28T07:39:58.807Z"
   },
   {
    "duration": 0,
    "start_time": "2023-04-28T07:39:58.809Z"
   },
   {
    "duration": 0,
    "start_time": "2023-04-28T07:39:58.813Z"
   },
   {
    "duration": 0,
    "start_time": "2023-04-28T07:39:58.818Z"
   },
   {
    "duration": 0,
    "start_time": "2023-04-28T07:39:58.820Z"
   },
   {
    "duration": 0,
    "start_time": "2023-04-28T07:39:58.821Z"
   },
   {
    "duration": 0,
    "start_time": "2023-04-28T07:39:58.823Z"
   },
   {
    "duration": 0,
    "start_time": "2023-04-28T07:39:58.824Z"
   },
   {
    "duration": 0,
    "start_time": "2023-04-28T07:39:58.825Z"
   },
   {
    "duration": 0,
    "start_time": "2023-04-28T07:39:58.826Z"
   },
   {
    "duration": 0,
    "start_time": "2023-04-28T07:39:58.894Z"
   },
   {
    "duration": 0,
    "start_time": "2023-04-28T07:39:58.897Z"
   },
   {
    "duration": 0,
    "start_time": "2023-04-28T07:39:58.898Z"
   },
   {
    "duration": 1466,
    "start_time": "2023-04-28T07:43:59.313Z"
   },
   {
    "duration": 55,
    "start_time": "2023-04-28T07:44:00.781Z"
   },
   {
    "duration": 45,
    "start_time": "2023-04-28T07:44:00.838Z"
   },
   {
    "duration": 38,
    "start_time": "2023-04-28T07:44:00.885Z"
   },
   {
    "duration": 99,
    "start_time": "2023-04-28T07:44:00.926Z"
   },
   {
    "duration": 25,
    "start_time": "2023-04-28T07:44:01.027Z"
   },
   {
    "duration": 46,
    "start_time": "2023-04-28T07:44:01.054Z"
   },
   {
    "duration": 39,
    "start_time": "2023-04-28T07:44:01.103Z"
   },
   {
    "duration": 37,
    "start_time": "2023-04-28T07:44:01.144Z"
   },
   {
    "duration": 51,
    "start_time": "2023-04-28T07:44:01.183Z"
   },
   {
    "duration": 33,
    "start_time": "2023-04-28T07:44:01.236Z"
   },
   {
    "duration": 33,
    "start_time": "2023-04-28T07:44:01.271Z"
   },
   {
    "duration": 41,
    "start_time": "2023-04-28T07:44:01.306Z"
   },
   {
    "duration": 28,
    "start_time": "2023-04-28T07:44:01.353Z"
   },
   {
    "duration": 24,
    "start_time": "2023-04-28T07:44:01.383Z"
   },
   {
    "duration": 39,
    "start_time": "2023-04-28T07:44:01.409Z"
   },
   {
    "duration": 27,
    "start_time": "2023-04-28T07:44:01.449Z"
   },
   {
    "duration": 22,
    "start_time": "2023-04-28T07:44:01.478Z"
   },
   {
    "duration": 51,
    "start_time": "2023-04-28T07:44:01.503Z"
   },
   {
    "duration": 32,
    "start_time": "2023-04-28T07:44:01.555Z"
   },
   {
    "duration": 42,
    "start_time": "2023-04-28T07:44:01.589Z"
   },
   {
    "duration": 32635,
    "start_time": "2023-04-28T07:44:01.633Z"
   },
   {
    "duration": 1687,
    "start_time": "2023-04-28T07:44:34.270Z"
   },
   {
    "duration": 135411,
    "start_time": "2023-04-28T07:44:35.959Z"
   },
   {
    "duration": 38,
    "start_time": "2023-04-28T07:46:51.371Z"
   },
   {
    "duration": 0,
    "start_time": "2023-04-28T07:46:51.411Z"
   },
   {
    "duration": 0,
    "start_time": "2023-04-28T07:46:51.412Z"
   },
   {
    "duration": 0,
    "start_time": "2023-04-28T07:46:51.414Z"
   },
   {
    "duration": 0,
    "start_time": "2023-04-28T07:46:51.415Z"
   },
   {
    "duration": 0,
    "start_time": "2023-04-28T07:46:51.417Z"
   },
   {
    "duration": 0,
    "start_time": "2023-04-28T07:46:51.495Z"
   },
   {
    "duration": 0,
    "start_time": "2023-04-28T07:46:51.498Z"
   },
   {
    "duration": 0,
    "start_time": "2023-04-28T07:46:51.500Z"
   },
   {
    "duration": 0,
    "start_time": "2023-04-28T07:46:51.502Z"
   },
   {
    "duration": 0,
    "start_time": "2023-04-28T07:46:51.504Z"
   },
   {
    "duration": 0,
    "start_time": "2023-04-28T07:46:51.506Z"
   },
   {
    "duration": 0,
    "start_time": "2023-04-28T07:46:51.508Z"
   },
   {
    "duration": 1,
    "start_time": "2023-04-28T07:46:51.510Z"
   },
   {
    "duration": 40,
    "start_time": "2023-04-28T07:47:37.066Z"
   },
   {
    "duration": 1469,
    "start_time": "2023-04-28T07:49:03.413Z"
   },
   {
    "duration": 45,
    "start_time": "2023-04-28T07:49:04.885Z"
   },
   {
    "duration": 17,
    "start_time": "2023-04-28T07:49:04.932Z"
   },
   {
    "duration": 12,
    "start_time": "2023-04-28T07:49:04.950Z"
   },
   {
    "duration": 44,
    "start_time": "2023-04-28T07:49:04.964Z"
   },
   {
    "duration": 24,
    "start_time": "2023-04-28T07:49:05.010Z"
   },
   {
    "duration": 3,
    "start_time": "2023-04-28T07:49:05.036Z"
   },
   {
    "duration": 9,
    "start_time": "2023-04-28T07:49:05.041Z"
   },
   {
    "duration": 8,
    "start_time": "2023-04-28T07:49:05.051Z"
   },
   {
    "duration": 7,
    "start_time": "2023-04-28T07:49:05.060Z"
   },
   {
    "duration": 13,
    "start_time": "2023-04-28T07:49:05.094Z"
   },
   {
    "duration": 12,
    "start_time": "2023-04-28T07:49:05.110Z"
   },
   {
    "duration": 10,
    "start_time": "2023-04-28T07:49:05.124Z"
   },
   {
    "duration": 22,
    "start_time": "2023-04-28T07:49:05.137Z"
   },
   {
    "duration": 5,
    "start_time": "2023-04-28T07:49:05.160Z"
   },
   {
    "duration": 37,
    "start_time": "2023-04-28T07:49:05.166Z"
   },
   {
    "duration": 17,
    "start_time": "2023-04-28T07:49:05.205Z"
   },
   {
    "duration": 15,
    "start_time": "2023-04-28T07:49:05.224Z"
   },
   {
    "duration": 26,
    "start_time": "2023-04-28T07:49:05.241Z"
   },
   {
    "duration": 5,
    "start_time": "2023-04-28T07:49:05.270Z"
   },
   {
    "duration": 7,
    "start_time": "2023-04-28T07:49:05.294Z"
   },
   {
    "duration": 32268,
    "start_time": "2023-04-28T07:49:05.304Z"
   },
   {
    "duration": 1665,
    "start_time": "2023-04-28T07:49:37.574Z"
   },
   {
    "duration": 137834,
    "start_time": "2023-04-28T07:49:39.240Z"
   },
   {
    "duration": 228,
    "start_time": "2023-04-28T07:51:57.076Z"
   },
   {
    "duration": 32574,
    "start_time": "2023-04-28T07:51:57.309Z"
   },
   {
    "duration": 130290,
    "start_time": "2023-04-28T07:52:29.885Z"
   },
   {
    "duration": 137,
    "start_time": "2023-04-28T07:54:40.176Z"
   },
   {
    "duration": 0,
    "start_time": "2023-04-28T07:54:40.318Z"
   },
   {
    "duration": 0,
    "start_time": "2023-04-28T07:54:40.322Z"
   },
   {
    "duration": 0,
    "start_time": "2023-04-28T07:54:40.393Z"
   },
   {
    "duration": 0,
    "start_time": "2023-04-28T07:54:40.394Z"
   },
   {
    "duration": 0,
    "start_time": "2023-04-28T07:54:40.400Z"
   },
   {
    "duration": 0,
    "start_time": "2023-04-28T07:54:40.402Z"
   },
   {
    "duration": 0,
    "start_time": "2023-04-28T07:54:40.403Z"
   },
   {
    "duration": 0,
    "start_time": "2023-04-28T07:54:40.405Z"
   },
   {
    "duration": 0,
    "start_time": "2023-04-28T07:54:40.407Z"
   },
   {
    "duration": 0,
    "start_time": "2023-04-28T07:54:40.408Z"
   },
   {
    "duration": 1435,
    "start_time": "2023-04-28T07:57:53.335Z"
   },
   {
    "duration": 43,
    "start_time": "2023-04-28T07:57:54.772Z"
   },
   {
    "duration": 19,
    "start_time": "2023-04-28T07:57:54.817Z"
   },
   {
    "duration": 13,
    "start_time": "2023-04-28T07:57:54.838Z"
   },
   {
    "duration": 58,
    "start_time": "2023-04-28T07:57:54.853Z"
   },
   {
    "duration": 30,
    "start_time": "2023-04-28T07:57:54.914Z"
   },
   {
    "duration": 4,
    "start_time": "2023-04-28T07:57:54.946Z"
   },
   {
    "duration": 6,
    "start_time": "2023-04-28T07:57:54.952Z"
   },
   {
    "duration": 12,
    "start_time": "2023-04-28T07:57:54.959Z"
   },
   {
    "duration": 12,
    "start_time": "2023-04-28T07:57:54.994Z"
   },
   {
    "duration": 11,
    "start_time": "2023-04-28T07:57:55.010Z"
   },
   {
    "duration": 7,
    "start_time": "2023-04-28T07:57:55.023Z"
   },
   {
    "duration": 14,
    "start_time": "2023-04-28T07:57:55.032Z"
   },
   {
    "duration": 32,
    "start_time": "2023-04-28T07:57:55.049Z"
   },
   {
    "duration": 11,
    "start_time": "2023-04-28T07:57:55.083Z"
   },
   {
    "duration": 46,
    "start_time": "2023-04-28T07:57:55.096Z"
   },
   {
    "duration": 16,
    "start_time": "2023-04-28T07:57:55.144Z"
   },
   {
    "duration": 43,
    "start_time": "2023-04-28T07:57:55.162Z"
   },
   {
    "duration": 39,
    "start_time": "2023-04-28T07:57:55.208Z"
   },
   {
    "duration": 6,
    "start_time": "2023-04-28T07:57:55.249Z"
   },
   {
    "duration": 9,
    "start_time": "2023-04-28T07:57:55.256Z"
   },
   {
    "duration": 32849,
    "start_time": "2023-04-28T07:57:55.267Z"
   },
   {
    "duration": 1584,
    "start_time": "2023-04-28T07:58:28.118Z"
   },
   {
    "duration": 136689,
    "start_time": "2023-04-28T07:58:29.704Z"
   },
   {
    "duration": 108,
    "start_time": "2023-04-28T08:00:46.396Z"
   },
   {
    "duration": 33215,
    "start_time": "2023-04-28T08:00:46.506Z"
   },
   {
    "duration": 137286,
    "start_time": "2023-04-28T08:01:19.723Z"
   },
   {
    "duration": 86,
    "start_time": "2023-04-28T08:03:37.012Z"
   },
   {
    "duration": 103,
    "start_time": "2023-04-28T08:03:37.101Z"
   },
   {
    "duration": 41717,
    "start_time": "2023-04-28T08:03:37.208Z"
   },
   {
    "duration": 165763,
    "start_time": "2023-04-28T08:04:18.927Z"
   },
   {
    "duration": 110,
    "start_time": "2023-04-28T08:07:04.692Z"
   },
   {
    "duration": 99,
    "start_time": "2023-04-28T08:07:04.803Z"
   },
   {
    "duration": 15985,
    "start_time": "2023-04-28T08:07:04.904Z"
   },
   {
    "duration": 78822,
    "start_time": "2023-04-28T08:07:20.892Z"
   },
   {
    "duration": 85,
    "start_time": "2023-04-28T08:08:39.716Z"
   },
   {
    "duration": 1035,
    "start_time": "2023-04-28T08:08:39.804Z"
   },
   {
    "duration": 0,
    "start_time": "2023-04-28T08:08:40.840Z"
   },
   {
    "duration": 802,
    "start_time": "2023-04-28T08:13:26.788Z"
   },
   {
    "duration": 862,
    "start_time": "2023-04-28T08:13:45.544Z"
   },
   {
    "duration": 865,
    "start_time": "2023-04-28T08:13:56.327Z"
   },
   {
    "duration": 886,
    "start_time": "2023-04-28T08:14:36.938Z"
   },
   {
    "duration": 872,
    "start_time": "2023-04-28T08:15:09.246Z"
   },
   {
    "duration": 875,
    "start_time": "2023-04-28T08:20:36.049Z"
   },
   {
    "duration": 890,
    "start_time": "2023-04-28T08:26:40.369Z"
   },
   {
    "duration": 882,
    "start_time": "2023-04-28T08:27:45.830Z"
   },
   {
    "duration": 886,
    "start_time": "2023-04-28T08:28:09.962Z"
   },
   {
    "duration": 191,
    "start_time": "2023-04-28T08:28:11.681Z"
   },
   {
    "duration": 87,
    "start_time": "2023-04-28T08:32:10.220Z"
   }
  ],
  "kernelspec": {
   "display_name": "Python 3 (ipykernel)",
   "language": "python",
   "name": "python3"
  },
  "language_info": {
   "codemirror_mode": {
    "name": "ipython",
    "version": 3
   },
   "file_extension": ".py",
   "mimetype": "text/x-python",
   "name": "python",
   "nbconvert_exporter": "python",
   "pygments_lexer": "ipython3",
   "version": "3.10.9"
  },
  "toc": {
   "base_numbering": 1,
   "nav_menu": {},
   "number_sections": true,
   "sideBar": true,
   "skip_h1_title": true,
   "title_cell": "Содержание",
   "title_sidebar": "Contents",
   "toc_cell": true,
   "toc_position": {
    "height": "calc(100% - 180px)",
    "left": "10px",
    "top": "150px",
    "width": "165px"
   },
   "toc_section_display": true,
   "toc_window_display": true
  }
 },
 "nbformat": 4,
 "nbformat_minor": 2
}
