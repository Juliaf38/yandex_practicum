{
 "cells": [
  {
   "cell_type": "markdown",
   "metadata": {},
   "source": [
    "#  Прогнозирование заказов такси"
   ]
  },
  {
   "cell_type": "markdown",
   "metadata": {},
   "source": [
    "Цель: Компания «Чётенькое такси» собрала исторические данные о заказах такси в аэропортах. Чтобы привлекать больше водителей в период пиковой нагрузки, нужно спрогнозировать количество заказов такси на следующий час.  Необходимо построить модель для такого предсказания.\n",
    "\n",
    "Значение метрики *RMSE* на тестовой выборке должно быть не больше 48.\n",
    "\n",
    "План: \n",
    "\n",
    "1. Загрузить данные и выполнить их ресемплирование по одному часу.\n",
    "2. Проанализировать данные.\n",
    "3. Обучить разные модели с различными гиперпараметрами. Сделать тестовую выборку размером 10% от исходных данных.\n",
    "4. Проверить данные на тестовой выборке и сделать выводы."
   ]
  },
  {
   "cell_type": "markdown",
   "metadata": {},
   "source": [
    "## Подготовка"
   ]
  },
  {
   "cell_type": "markdown",
   "metadata": {},
   "source": [
    "Импортируем необходимые библиотеки."
   ]
  },
  {
   "cell_type": "code",
   "execution_count": 1,
   "metadata": {},
   "outputs": [],
   "source": [
    "import numpy as np\n",
    "import pandas as pd\n",
    "import matplotlib.pyplot as plt\n",
    "import seaborn as sns\n",
    "\n",
    "from sklearn.ensemble import RandomForestRegressor\n",
    "from sklearn.linear_model import LinearRegression, Ridge\n",
    "from sklearn.metrics import mean_squared_error\n",
    "from sklearn.model_selection import (GridSearchCV, TimeSeriesSplit, \n",
    "                                     train_test_split, cross_val_score)\n",
    "from sklearn.tree import DecisionTreeRegressor\n",
    "\n",
    "from statsmodels.tsa.seasonal import seasonal_decompose"
   ]
  },
  {
   "cell_type": "code",
   "execution_count": 2,
   "metadata": {},
   "outputs": [],
   "source": [
    "df = pd.read_csv('/datasets/taxi.csv')"
   ]
  },
  {
   "cell_type": "code",
   "execution_count": 3,
   "metadata": {},
   "outputs": [],
   "source": [
    "def analysis(df):\n",
    "    print('Вывод первых 5 строк данных')\n",
    "    print()\n",
    "    display(df.head())\n",
    "    print()\n",
    "    print('Информация о датафрейме')\n",
    "    print()\n",
    "    display(df.info())\n",
    "    print()\n",
    "    print('Подсчет пропусков')\n",
    "    print()\n",
    "    print(df.isnull().sum())\n",
    "    print()\n",
    "    print('Подсчет дубликатов')\n",
    "    print(df.duplicated().sum())"
   ]
  },
  {
   "cell_type": "code",
   "execution_count": 4,
   "metadata": {},
   "outputs": [
    {
     "name": "stdout",
     "output_type": "stream",
     "text": [
      "Вывод первых 5 строк данных\n",
      "\n"
     ]
    },
    {
     "data": {
      "text/html": [
       "<div>\n",
       "<style scoped>\n",
       "    .dataframe tbody tr th:only-of-type {\n",
       "        vertical-align: middle;\n",
       "    }\n",
       "\n",
       "    .dataframe tbody tr th {\n",
       "        vertical-align: top;\n",
       "    }\n",
       "\n",
       "    .dataframe thead th {\n",
       "        text-align: right;\n",
       "    }\n",
       "</style>\n",
       "<table border=\"1\" class=\"dataframe\">\n",
       "  <thead>\n",
       "    <tr style=\"text-align: right;\">\n",
       "      <th></th>\n",
       "      <th>datetime</th>\n",
       "      <th>num_orders</th>\n",
       "    </tr>\n",
       "  </thead>\n",
       "  <tbody>\n",
       "    <tr>\n",
       "      <th>0</th>\n",
       "      <td>2018-03-01 00:00:00</td>\n",
       "      <td>9</td>\n",
       "    </tr>\n",
       "    <tr>\n",
       "      <th>1</th>\n",
       "      <td>2018-03-01 00:10:00</td>\n",
       "      <td>14</td>\n",
       "    </tr>\n",
       "    <tr>\n",
       "      <th>2</th>\n",
       "      <td>2018-03-01 00:20:00</td>\n",
       "      <td>28</td>\n",
       "    </tr>\n",
       "    <tr>\n",
       "      <th>3</th>\n",
       "      <td>2018-03-01 00:30:00</td>\n",
       "      <td>20</td>\n",
       "    </tr>\n",
       "    <tr>\n",
       "      <th>4</th>\n",
       "      <td>2018-03-01 00:40:00</td>\n",
       "      <td>32</td>\n",
       "    </tr>\n",
       "  </tbody>\n",
       "</table>\n",
       "</div>"
      ],
      "text/plain": [
       "              datetime  num_orders\n",
       "0  2018-03-01 00:00:00           9\n",
       "1  2018-03-01 00:10:00          14\n",
       "2  2018-03-01 00:20:00          28\n",
       "3  2018-03-01 00:30:00          20\n",
       "4  2018-03-01 00:40:00          32"
      ]
     },
     "metadata": {},
     "output_type": "display_data"
    },
    {
     "name": "stdout",
     "output_type": "stream",
     "text": [
      "\n",
      "Информация о датафрейме\n",
      "\n",
      "<class 'pandas.core.frame.DataFrame'>\n",
      "RangeIndex: 26496 entries, 0 to 26495\n",
      "Data columns (total 2 columns):\n",
      " #   Column      Non-Null Count  Dtype \n",
      "---  ------      --------------  ----- \n",
      " 0   datetime    26496 non-null  object\n",
      " 1   num_orders  26496 non-null  int64 \n",
      "dtypes: int64(1), object(1)\n",
      "memory usage: 414.1+ KB\n"
     ]
    },
    {
     "data": {
      "text/plain": [
       "None"
      ]
     },
     "metadata": {},
     "output_type": "display_data"
    },
    {
     "name": "stdout",
     "output_type": "stream",
     "text": [
      "\n",
      "Подсчет пропусков\n",
      "\n",
      "datetime      0\n",
      "num_orders    0\n",
      "dtype: int64\n",
      "\n",
      "Подсчет дубликатов\n",
      "0\n"
     ]
    }
   ],
   "source": [
    "analysis(df)"
   ]
  },
  {
   "cell_type": "markdown",
   "metadata": {},
   "source": [
    "Мы загрузили данные. В таблице 2 столбца и 26496 строк. Типы данных в столбцах — int64(1), object(1).\n",
    "- Количество заказов находится в столбце 'num_orders' - целевой признак.\n",
    "- Столбец datetime — значение даты и времени на временной оси. В этой таблице интервал равен 10 мин.\n",
    "\n",
    "Пропусков и явных дубликатов нет. "
   ]
  },
  {
   "cell_type": "markdown",
   "metadata": {},
   "source": [
    "## Анализ"
   ]
  },
  {
   "cell_type": "markdown",
   "metadata": {},
   "source": [
    "Нужно привести данные к удобному формату"
   ]
  },
  {
   "cell_type": "code",
   "execution_count": 5,
   "metadata": {},
   "outputs": [
    {
     "name": "stdout",
     "output_type": "stream",
     "text": [
      "<class 'pandas.core.frame.DataFrame'>\n",
      "RangeIndex: 26496 entries, 0 to 26495\n",
      "Data columns (total 2 columns):\n",
      " #   Column      Non-Null Count  Dtype         \n",
      "---  ------      --------------  -----         \n",
      " 0   datetime    26496 non-null  datetime64[ns]\n",
      " 1   num_orders  26496 non-null  int64         \n",
      "dtypes: datetime64[ns](1), int64(1)\n",
      "memory usage: 414.1 KB\n",
      "None\n"
     ]
    }
   ],
   "source": [
    "# Изменим тип данных datetime с object на datetime64. \n",
    "df['datetime'] = df['datetime'].astype('datetime64')\n",
    "print(df.info())"
   ]
  },
  {
   "cell_type": "code",
   "execution_count": 6,
   "metadata": {},
   "outputs": [
    {
     "name": "stdout",
     "output_type": "stream",
     "text": [
      "<class 'pandas.core.frame.DataFrame'>\n",
      "DatetimeIndex: 26496 entries, 2018-03-01 00:00:00 to 2018-08-31 23:50:00\n",
      "Data columns (total 1 columns):\n",
      " #   Column      Non-Null Count  Dtype\n",
      "---  ------      --------------  -----\n",
      " 0   num_orders  26496 non-null  int64\n",
      "dtypes: int64(1)\n",
      "memory usage: 414.0 KB\n",
      "None\n"
     ]
    }
   ],
   "source": [
    "# Установим индекс таблицы равным столбцу datetime.\n",
    "df.set_index('datetime', inplace=True)\n",
    "print(df.info())"
   ]
  },
  {
   "cell_type": "markdown",
   "metadata": {},
   "source": [
    "Чтобы проверить, в хронологическом ли порядке расположены даты и время, посмотрим атрибут индекса таблицы is_monotonic (англ. «монотонный»). Если порядок соблюдён, атрибут вернёт True, если нет — False. Отсортируем индекс таблицы. "
   ]
  },
  {
   "cell_type": "code",
   "execution_count": 7,
   "metadata": {},
   "outputs": [
    {
     "name": "stdout",
     "output_type": "stream",
     "text": [
      "<class 'pandas.core.frame.DataFrame'>\n",
      "DatetimeIndex: 26496 entries, 2018-03-01 00:00:00 to 2018-08-31 23:50:00\n",
      "Data columns (total 1 columns):\n",
      " #   Column      Non-Null Count  Dtype\n",
      "---  ------      --------------  -----\n",
      " 0   num_orders  26496 non-null  int64\n",
      "dtypes: int64(1)\n",
      "memory usage: 414.0 KB\n"
     ]
    }
   ],
   "source": [
    "df.info() "
   ]
  },
  {
   "cell_type": "code",
   "execution_count": 8,
   "metadata": {},
   "outputs": [
    {
     "data": {
      "image/png": "[encoded data removed]",
      "text/plain": [
       "<Figure size 720x504 with 1 Axes>"
      ]
     },
     "metadata": {
      "needs_background": "light"
     },
     "output_type": "display_data"
    }
   ],
   "source": [
    "df.plot(figsize=(10, 7));\n",
    "plt.legend()\n",
    "plt.title('Количество заказов за все время')\n",
    "plt.xlabel('Дата')\n",
    "plt.ylabel('Количество заказов')\n",
    "plt.show;"
   ]
  },
  {
   "cell_type": "markdown",
   "metadata": {},
   "source": [
    "Итак, мы имеем данные с 01 марта 2018 года по 31 августа 2018 года. На графике есть несколько пиков, особенно заметно в августе."
   ]
  },
  {
   "cell_type": "markdown",
   "metadata": {},
   "source": [
    "Так как нам нужно спрогнозировать количество заказов такси на следующий час, то поменяем интервал временного ряда. Выполним его ресемплирование по одному часу."
   ]
  },
  {
   "cell_type": "code",
   "execution_count": 9,
   "metadata": {},
   "outputs": [],
   "source": [
    "df = df.resample('1H').sum()"
   ]
  },
  {
   "cell_type": "code",
   "execution_count": 10,
   "metadata": {},
   "outputs": [
    {
     "name": "stdout",
     "output_type": "stream",
     "text": [
      "Количество строк после ресемплинга :(4416, 1)\n"
     ]
    }
   ],
   "source": [
    "print(f'Количество строк после ресемплинга :{df.shape}')"
   ]
  },
  {
   "cell_type": "markdown",
   "metadata": {},
   "source": [
    "Построим график временного ряда - количество заказов с марта по август 2018 года. Чтобы во временном ряду снизить колебания, применим скользящее среднее."
   ]
  },
  {
   "cell_type": "code",
   "execution_count": 11,
   "metadata": {},
   "outputs": [
    {
     "data": {
      "image/png": "[encoded data removed]",
      "text/plain": [
       "<Figure size 720x504 with 1 Axes>"
      ]
     },
     "metadata": {
      "needs_background": "light"
     },
     "output_type": "display_data"
    }
   ],
   "source": [
    "plt.figure(figsize=(10, 7))\n",
    "plt.plot(df, label = 'Количество заказов по часам')\n",
    "plt.plot(df.rolling(20).mean(), label = 'Cкользящее среднее')\n",
    "plt.plot(df.rolling(20).std(), label = 'Скользящее стандартное отклонение')\n",
    "plt.legend()\n",
    "plt.title('Количество заказов по часам')\n",
    "plt.xlabel('Дата')\n",
    "plt.ylabel('Количество заказов')\n",
    "plt.show;"
   ]
  },
  {
   "cell_type": "markdown",
   "metadata": {},
   "source": [
    "На графике видно, что количество заказов увеличивается со временем. В период с марта по июнь 2018 ряд стационарный, а дальше ряд начинает изменяться."
   ]
  },
  {
   "cell_type": "markdown",
   "metadata": {},
   "source": [
    "Разложим временной ряд по трем составляющим: тренд, сезонность и остаток. Построим графики каждой составляющей."
   ]
  },
  {
   "cell_type": "code",
   "execution_count": 12,
   "metadata": {},
   "outputs": [],
   "source": [
    "decomposed = seasonal_decompose(df)"
   ]
  },
  {
   "cell_type": "code",
   "execution_count": 13,
   "metadata": {},
   "outputs": [
    {
     "data": {
      "image/png": "[encoded data removed]",
      "text/plain": [
       "<Figure size 720x504 with 1 Axes>"
      ]
     },
     "metadata": {
      "needs_background": "light"
     },
     "output_type": "display_data"
    }
   ],
   "source": [
    "plt.figure(figsize=(10, 7))\n",
    "decomposed.trend.plot(ax=plt.gca())\n",
    "plt.title('Тренд')\n",
    "plt.xlabel('Дата');"
   ]
  },
  {
   "cell_type": "code",
   "execution_count": 14,
   "metadata": {},
   "outputs": [
    {
     "data": {
      "image/png": "[encoded data removed]",
      "text/plain": [
       "<Figure size 720x432 with 1 Axes>"
      ]
     },
     "metadata": {
      "needs_background": "light"
     },
     "output_type": "display_data"
    }
   ],
   "source": [
    "plt.figure(figsize=(10, 6))\n",
    "decomposed.seasonal.plot(ax=plt.gca())\n",
    "plt.title('Сезонность')\n",
    "plt.xlabel('Дата');"
   ]
  },
  {
   "cell_type": "code",
   "execution_count": 15,
   "metadata": {},
   "outputs": [
    {
     "data": {
      "image/png": "[encoded data removed]",
      "text/plain": [
       "<Figure size 720x504 with 1 Axes>"
      ]
     },
     "metadata": {
      "needs_background": "light"
     },
     "output_type": "display_data"
    }
   ],
   "source": [
    "plt.figure(figsize=(10, 7))\n",
    "decomposed.resid.plot(ax=plt.gca())\n",
    "plt.title('Остаток')\n",
    "plt.xlabel('Дата');"
   ]
  },
  {
   "cell_type": "markdown",
   "metadata": {},
   "source": [
    "Посмотрим графики на коротких интервалах наблюдения."
   ]
  },
  {
   "cell_type": "code",
   "execution_count": 16,
   "metadata": {},
   "outputs": [
    {
     "data": {
      "image/png": "[encoded data removed]",
      "text/plain": [
       "<Figure size 720x504 with 1 Axes>"
      ]
     },
     "metadata": {
      "needs_background": "light"
     },
     "output_type": "display_data"
    }
   ],
   "source": [
    "#Построим график количества заказов за сутки в июле. \n",
    "plt.figure(figsize=(10, 7))\n",
    "decomposed.seasonal['2018-07-01':'2018-07-01'].plot(ax=plt.gca())\n",
    "plt.title('Сезонность за 1 июля 2018')\n",
    "plt.xlabel('Время');\n",
    "plt.ylabel('Количество заказов')\n",
    "plt.show;"
   ]
  },
  {
   "cell_type": "code",
   "execution_count": 17,
   "metadata": {},
   "outputs": [
    {
     "data": {
      "image/png": "[encoded data removed]",
      "text/plain": [
       "<Figure size 720x504 with 1 Axes>"
      ]
     },
     "metadata": {
      "needs_background": "light"
     },
     "output_type": "display_data"
    }
   ],
   "source": [
    "# Построим график количества заказов за сутки в июле. \n",
    "plt.figure(figsize=(10, 7))\n",
    "decomposed.seasonal['2018-04-01':'2018-04-01'].plot(ax=plt.gca())\n",
    "plt.title('Сезонность за 1 апреля 2018')\n",
    "plt.xlabel('Время');\n",
    "plt.ylabel('Количество заказов')\n",
    "plt.show;"
   ]
  },
  {
   "cell_type": "markdown",
   "metadata": {},
   "source": [
    "Графики за разные даты идентичны друг другу, то есть наблюдается сезонность. Высокий спрос на такси появляется ночью в 12 часов, так же достаточно много заказов с 15 до 16 часов и после 18 ч,  а низкий спрос в районе 4-7 утра."
   ]
  },
  {
   "cell_type": "code",
   "execution_count": 18,
   "metadata": {},
   "outputs": [
    {
     "data": {
      "image/png": "[encoded data removed]",
      "text/plain": [
       "<Figure size 720x504 with 2 Axes>"
      ]
     },
     "metadata": {
      "needs_background": "light"
     },
     "output_type": "display_data"
    }
   ],
   "source": [
    "# Построим график количества заказов за неделю в июле. \n",
    "\n",
    "plt.figure(figsize=(10, 7))\n",
    "plt.suptitle('Тренд и сезонность за неделю в июле 2018')\n",
    "\n",
    "plt.subplot(2, 1, 1)\n",
    "decomposed.seasonal['2018-07-01' : '2018-07-07'].plot(ax=plt.gca())\n",
    "plt.title('Сезон')\n",
    "\n",
    "plt.subplot(2, 1, 2)\n",
    "decomposed.trend['2018-07-01' : '2018-07-07'].plot(ax=plt.gca())\n",
    "plt.title('Тренд')\n",
    "\n",
    "plt.tight_layout()\n",
    "plt.show()"
   ]
  },
  {
   "cell_type": "markdown",
   "metadata": {},
   "source": [
    "По графику видно наличие сезонности. Рост заказов наблюдается ближе к выходным и в понедельник. "
   ]
  },
  {
   "cell_type": "markdown",
   "metadata": {},
   "source": [
    "**Вывод:**\n",
    "- Установили временной признак в качестве индекса.\n",
    "- Мы проверили, что даты и время расположены в хронологическом порядке. Отсортировали индекс таблицы.\n",
    "- Выполнили ресемплирование по одному часу.\n",
    "- По графикам увидели, что количество заказов увеличивается от месяца к месяцу.\n",
    "- Наблюдается сезонность в данных - количество заказов изменяется в зависимости от времени суток.\n",
    "- Рост заказов проиходит ближе к выходным.\n",
    "- Высокий спрос на такси появляется ночью в 12 часов, так же достаточно много заказов с 15 до 16 часов и после 18 ч,  а низкий спрос в районе 4-7 утра."
   ]
  },
  {
   "cell_type": "markdown",
   "metadata": {},
   "source": [
    "## Обучение"
   ]
  },
  {
   "cell_type": "markdown",
   "metadata": {},
   "source": [
    "По исходным данным создадим обучающую (train) и тестовую (test) выборки. Перемешивать выборки в задаче прогнозирования временного ряда нельзя. Данные обучающей выборки должны предшествовать данным тестовой. Иначе тестирование модели будет некорректным: модель не должна обучаться на данных из будущего"
   ]
  },
  {
   "cell_type": "markdown",
   "metadata": {},
   "source": [
    "**Создание признаков**"
   ]
  },
  {
   "cell_type": "markdown",
   "metadata": {},
   "source": [
    "Создадим признаки для горизонта прогнозирования в один шаг.\n",
    "Напишем функцию для создания признаков. Разберём каждый тип признаков:\n",
    "1. Календарные признаки (англ. calendar features)\n",
    "Во многих данных тренды и сезонность привязаны к конкретной дате. \n",
    "2. «Отстающие значения» (англ. lag features)\n",
    "Предыдущие значения временного ряда подскажут, будет ли функция x(t) расти или уменьшаться. Получим отстающие значения знакомой функцией shift().\n",
    "3. Скользящее среднее\n",
    "Скользящее среднее как признак задаёт общий тренд временного ряда. "
   ]
  },
  {
   "cell_type": "code",
   "execution_count": 19,
   "metadata": {},
   "outputs": [
    {
     "name": "stdout",
     "output_type": "stream",
     "text": [
      "                     num_orders  hour  day  dayofweek  month  lag_1  lag_2  \\\n",
      "datetime                                                                     \n",
      "2018-03-01 00:00:00         124     3    1          3      3    NaN    NaN   \n",
      "2018-03-01 01:00:00          85     3    1          3      3  124.0    NaN   \n",
      "2018-03-01 02:00:00          71     3    1          3      3   85.0  124.0   \n",
      "2018-03-01 03:00:00          66     3    1          3      3   71.0   85.0   \n",
      "2018-03-01 04:00:00          43     3    1          3      3   66.0   71.0   \n",
      "\n",
      "                     lag_3  lag_4  lag_5  ...  lag_16  lag_17  lag_18  lag_19  \\\n",
      "datetime                                  ...                                   \n",
      "2018-03-01 00:00:00    NaN    NaN    NaN  ...     NaN     NaN     NaN     NaN   \n",
      "2018-03-01 01:00:00    NaN    NaN    NaN  ...     NaN     NaN     NaN     NaN   \n",
      "2018-03-01 02:00:00    NaN    NaN    NaN  ...     NaN     NaN     NaN     NaN   \n",
      "2018-03-01 03:00:00  124.0    NaN    NaN  ...     NaN     NaN     NaN     NaN   \n",
      "2018-03-01 04:00:00   85.0  124.0    NaN  ...     NaN     NaN     NaN     NaN   \n",
      "\n",
      "                     lag_20  lag_21  lag_22  lag_23  lag_24  rolling_mean  \n",
      "datetime                                                                   \n",
      "2018-03-01 00:00:00     NaN     NaN     NaN     NaN     NaN           NaN  \n",
      "2018-03-01 01:00:00     NaN     NaN     NaN     NaN     NaN           NaN  \n",
      "2018-03-01 02:00:00     NaN     NaN     NaN     NaN     NaN           NaN  \n",
      "2018-03-01 03:00:00     NaN     NaN     NaN     NaN     NaN           NaN  \n",
      "2018-03-01 04:00:00     NaN     NaN     NaN     NaN     NaN           NaN  \n",
      "\n",
      "[5 rows x 30 columns]\n"
     ]
    }
   ],
   "source": [
    "def make_features(df, max_lag, rolling_mean_size):\n",
    "    df['hour'] = df.index.dayofweek\n",
    "    df['day'] = df.index.day\n",
    "    df['dayofweek'] = df.index.dayofweek\n",
    "    df['month'] = df.index.month\n",
    "# Вычислим отстающие значения. В функцию добавим новый аргумент max_lag, который задаст максимальный размер отставания. \n",
    "    for lag in range(1, max_lag + 1):\n",
    "        df['lag_{}'.format(lag)] = df['num_orders'].shift(lag)# \n",
    "# Вычислим скользящее среднее и добавим его как признак 'rolling_mean'.\n",
    "# В функцию make_features() добавьте новый аргумент rolling_mean_size, который задаст ширину окна.\n",
    "    df['rolling_mean'] = df['num_orders'].shift().rolling(rolling_mean_size).mean()\n",
    "\n",
    "make_features(df, 24, 6)\n",
    "print(df.head())"
   ]
  },
  {
   "cell_type": "code",
   "execution_count": 20,
   "metadata": {},
   "outputs": [
    {
     "data": {
      "text/plain": [
       "num_orders       0\n",
       "hour             0\n",
       "day              0\n",
       "dayofweek        0\n",
       "month            0\n",
       "lag_1            1\n",
       "lag_2            2\n",
       "lag_3            3\n",
       "lag_4            4\n",
       "lag_5            5\n",
       "lag_6            6\n",
       "lag_7            7\n",
       "lag_8            8\n",
       "lag_9            9\n",
       "lag_10          10\n",
       "lag_11          11\n",
       "lag_12          12\n",
       "lag_13          13\n",
       "lag_14          14\n",
       "lag_15          15\n",
       "lag_16          16\n",
       "lag_17          17\n",
       "lag_18          18\n",
       "lag_19          19\n",
       "lag_20          20\n",
       "lag_21          21\n",
       "lag_22          22\n",
       "lag_23          23\n",
       "lag_24          24\n",
       "rolling_mean     6\n",
       "dtype: int64"
      ]
     },
     "execution_count": 20,
     "metadata": {},
     "output_type": "execute_result"
    }
   ],
   "source": [
    "# Проверим пропуски\n",
    "df.isna().sum()"
   ]
  },
  {
   "cell_type": "code",
   "execution_count": 21,
   "metadata": {},
   "outputs": [
    {
     "data": {
      "text/plain": [
       "num_orders      0\n",
       "hour            0\n",
       "day             0\n",
       "dayofweek       0\n",
       "month           0\n",
       "lag_1           0\n",
       "lag_2           0\n",
       "lag_3           0\n",
       "lag_4           0\n",
       "lag_5           0\n",
       "lag_6           0\n",
       "lag_7           0\n",
       "lag_8           0\n",
       "lag_9           0\n",
       "lag_10          0\n",
       "lag_11          0\n",
       "lag_12          0\n",
       "lag_13          0\n",
       "lag_14          0\n",
       "lag_15          0\n",
       "lag_16          0\n",
       "lag_17          0\n",
       "lag_18          0\n",
       "lag_19          0\n",
       "lag_20          0\n",
       "lag_21          0\n",
       "lag_22          0\n",
       "lag_23          0\n",
       "lag_24          0\n",
       "rolling_mean    0\n",
       "dtype: int64"
      ]
     },
     "execution_count": 21,
     "metadata": {},
     "output_type": "execute_result"
    }
   ],
   "source": [
    "# Удалим пропуски\n",
    "df.dropna(inplace=True)\n",
    "df.isna().sum()"
   ]
  },
  {
   "cell_type": "code",
   "execution_count": 22,
   "metadata": {},
   "outputs": [
    {
     "name": "stdout",
     "output_type": "stream",
     "text": [
      "<class 'pandas.core.frame.DataFrame'>\n",
      "DatetimeIndex: 4392 entries, 2018-03-02 00:00:00 to 2018-08-31 23:00:00\n",
      "Freq: H\n",
      "Data columns (total 30 columns):\n",
      " #   Column        Non-Null Count  Dtype  \n",
      "---  ------        --------------  -----  \n",
      " 0   num_orders    4392 non-null   int64  \n",
      " 1   hour          4392 non-null   int64  \n",
      " 2   day           4392 non-null   int64  \n",
      " 3   dayofweek     4392 non-null   int64  \n",
      " 4   month         4392 non-null   int64  \n",
      " 5   lag_1         4392 non-null   float64\n",
      " 6   lag_2         4392 non-null   float64\n",
      " 7   lag_3         4392 non-null   float64\n",
      " 8   lag_4         4392 non-null   float64\n",
      " 9   lag_5         4392 non-null   float64\n",
      " 10  lag_6         4392 non-null   float64\n",
      " 11  lag_7         4392 non-null   float64\n",
      " 12  lag_8         4392 non-null   float64\n",
      " 13  lag_9         4392 non-null   float64\n",
      " 14  lag_10        4392 non-null   float64\n",
      " 15  lag_11        4392 non-null   float64\n",
      " 16  lag_12        4392 non-null   float64\n",
      " 17  lag_13        4392 non-null   float64\n",
      " 18  lag_14        4392 non-null   float64\n",
      " 19  lag_15        4392 non-null   float64\n",
      " 20  lag_16        4392 non-null   float64\n",
      " 21  lag_17        4392 non-null   float64\n",
      " 22  lag_18        4392 non-null   float64\n",
      " 23  lag_19        4392 non-null   float64\n",
      " 24  lag_20        4392 non-null   float64\n",
      " 25  lag_21        4392 non-null   float64\n",
      " 26  lag_22        4392 non-null   float64\n",
      " 27  lag_23        4392 non-null   float64\n",
      " 28  lag_24        4392 non-null   float64\n",
      " 29  rolling_mean  4392 non-null   float64\n",
      "dtypes: float64(25), int64(5)\n",
      "memory usage: 1.0 MB\n"
     ]
    }
   ],
   "source": [
    "df.info()"
   ]
  },
  {
   "cell_type": "code",
   "execution_count": 23,
   "metadata": {},
   "outputs": [
    {
     "data": {
      "text/html": [
       "<div>\n",
       "<style scoped>\n",
       "    .dataframe tbody tr th:only-of-type {\n",
       "        vertical-align: middle;\n",
       "    }\n",
       "\n",
       "    .dataframe tbody tr th {\n",
       "        vertical-align: top;\n",
       "    }\n",
       "\n",
       "    .dataframe thead th {\n",
       "        text-align: right;\n",
       "    }\n",
       "</style>\n",
       "<table border=\"1\" class=\"dataframe\">\n",
       "  <thead>\n",
       "    <tr style=\"text-align: right;\">\n",
       "      <th></th>\n",
       "      <th>num_orders</th>\n",
       "      <th>hour</th>\n",
       "      <th>day</th>\n",
       "      <th>dayofweek</th>\n",
       "      <th>month</th>\n",
       "      <th>lag_1</th>\n",
       "      <th>lag_2</th>\n",
       "      <th>lag_3</th>\n",
       "      <th>lag_4</th>\n",
       "      <th>lag_5</th>\n",
       "      <th>...</th>\n",
       "      <th>lag_16</th>\n",
       "      <th>lag_17</th>\n",
       "      <th>lag_18</th>\n",
       "      <th>lag_19</th>\n",
       "      <th>lag_20</th>\n",
       "      <th>lag_21</th>\n",
       "      <th>lag_22</th>\n",
       "      <th>lag_23</th>\n",
       "      <th>lag_24</th>\n",
       "      <th>rolling_mean</th>\n",
       "    </tr>\n",
       "    <tr>\n",
       "      <th>datetime</th>\n",
       "      <th></th>\n",
       "      <th></th>\n",
       "      <th></th>\n",
       "      <th></th>\n",
       "      <th></th>\n",
       "      <th></th>\n",
       "      <th></th>\n",
       "      <th></th>\n",
       "      <th></th>\n",
       "      <th></th>\n",
       "      <th></th>\n",
       "      <th></th>\n",
       "      <th></th>\n",
       "      <th></th>\n",
       "      <th></th>\n",
       "      <th></th>\n",
       "      <th></th>\n",
       "      <th></th>\n",
       "      <th></th>\n",
       "      <th></th>\n",
       "      <th></th>\n",
       "    </tr>\n",
       "  </thead>\n",
       "  <tbody>\n",
       "    <tr>\n",
       "      <th>2018-03-02 00:00:00</th>\n",
       "      <td>90</td>\n",
       "      <td>4</td>\n",
       "      <td>2</td>\n",
       "      <td>4</td>\n",
       "      <td>3</td>\n",
       "      <td>58.0</td>\n",
       "      <td>113.0</td>\n",
       "      <td>66.0</td>\n",
       "      <td>61.0</td>\n",
       "      <td>45.0</td>\n",
       "      <td>...</td>\n",
       "      <td>34.0</td>\n",
       "      <td>15.0</td>\n",
       "      <td>12.0</td>\n",
       "      <td>6.0</td>\n",
       "      <td>43.0</td>\n",
       "      <td>66.0</td>\n",
       "      <td>71.0</td>\n",
       "      <td>85.0</td>\n",
       "      <td>124.0</td>\n",
       "      <td>69.333333</td>\n",
       "    </tr>\n",
       "    <tr>\n",
       "      <th>2018-03-02 01:00:00</th>\n",
       "      <td>120</td>\n",
       "      <td>4</td>\n",
       "      <td>2</td>\n",
       "      <td>4</td>\n",
       "      <td>3</td>\n",
       "      <td>90.0</td>\n",
       "      <td>58.0</td>\n",
       "      <td>113.0</td>\n",
       "      <td>66.0</td>\n",
       "      <td>61.0</td>\n",
       "      <td>...</td>\n",
       "      <td>69.0</td>\n",
       "      <td>34.0</td>\n",
       "      <td>15.0</td>\n",
       "      <td>12.0</td>\n",
       "      <td>6.0</td>\n",
       "      <td>43.0</td>\n",
       "      <td>66.0</td>\n",
       "      <td>71.0</td>\n",
       "      <td>85.0</td>\n",
       "      <td>72.166667</td>\n",
       "    </tr>\n",
       "    <tr>\n",
       "      <th>2018-03-02 02:00:00</th>\n",
       "      <td>75</td>\n",
       "      <td>4</td>\n",
       "      <td>2</td>\n",
       "      <td>4</td>\n",
       "      <td>3</td>\n",
       "      <td>120.0</td>\n",
       "      <td>90.0</td>\n",
       "      <td>58.0</td>\n",
       "      <td>113.0</td>\n",
       "      <td>66.0</td>\n",
       "      <td>...</td>\n",
       "      <td>64.0</td>\n",
       "      <td>69.0</td>\n",
       "      <td>34.0</td>\n",
       "      <td>15.0</td>\n",
       "      <td>12.0</td>\n",
       "      <td>6.0</td>\n",
       "      <td>43.0</td>\n",
       "      <td>66.0</td>\n",
       "      <td>71.0</td>\n",
       "      <td>84.666667</td>\n",
       "    </tr>\n",
       "    <tr>\n",
       "      <th>2018-03-02 03:00:00</th>\n",
       "      <td>64</td>\n",
       "      <td>4</td>\n",
       "      <td>2</td>\n",
       "      <td>4</td>\n",
       "      <td>3</td>\n",
       "      <td>75.0</td>\n",
       "      <td>120.0</td>\n",
       "      <td>90.0</td>\n",
       "      <td>58.0</td>\n",
       "      <td>113.0</td>\n",
       "      <td>...</td>\n",
       "      <td>96.0</td>\n",
       "      <td>64.0</td>\n",
       "      <td>69.0</td>\n",
       "      <td>34.0</td>\n",
       "      <td>15.0</td>\n",
       "      <td>12.0</td>\n",
       "      <td>6.0</td>\n",
       "      <td>43.0</td>\n",
       "      <td>66.0</td>\n",
       "      <td>87.000000</td>\n",
       "    </tr>\n",
       "    <tr>\n",
       "      <th>2018-03-02 04:00:00</th>\n",
       "      <td>20</td>\n",
       "      <td>4</td>\n",
       "      <td>2</td>\n",
       "      <td>4</td>\n",
       "      <td>3</td>\n",
       "      <td>64.0</td>\n",
       "      <td>75.0</td>\n",
       "      <td>120.0</td>\n",
       "      <td>90.0</td>\n",
       "      <td>58.0</td>\n",
       "      <td>...</td>\n",
       "      <td>30.0</td>\n",
       "      <td>96.0</td>\n",
       "      <td>64.0</td>\n",
       "      <td>69.0</td>\n",
       "      <td>34.0</td>\n",
       "      <td>15.0</td>\n",
       "      <td>12.0</td>\n",
       "      <td>6.0</td>\n",
       "      <td>43.0</td>\n",
       "      <td>86.666667</td>\n",
       "    </tr>\n",
       "  </tbody>\n",
       "</table>\n",
       "<p>5 rows × 30 columns</p>\n",
       "</div>"
      ],
      "text/plain": [
       "                     num_orders  hour  day  dayofweek  month  lag_1  lag_2  \\\n",
       "datetime                                                                     \n",
       "2018-03-02 00:00:00          90     4    2          4      3   58.0  113.0   \n",
       "2018-03-02 01:00:00         120     4    2          4      3   90.0   58.0   \n",
       "2018-03-02 02:00:00          75     4    2          4      3  120.0   90.0   \n",
       "2018-03-02 03:00:00          64     4    2          4      3   75.0  120.0   \n",
       "2018-03-02 04:00:00          20     4    2          4      3   64.0   75.0   \n",
       "\n",
       "                     lag_3  lag_4  lag_5  ...  lag_16  lag_17  lag_18  lag_19  \\\n",
       "datetime                                  ...                                   \n",
       "2018-03-02 00:00:00   66.0   61.0   45.0  ...    34.0    15.0    12.0     6.0   \n",
       "2018-03-02 01:00:00  113.0   66.0   61.0  ...    69.0    34.0    15.0    12.0   \n",
       "2018-03-02 02:00:00   58.0  113.0   66.0  ...    64.0    69.0    34.0    15.0   \n",
       "2018-03-02 03:00:00   90.0   58.0  113.0  ...    96.0    64.0    69.0    34.0   \n",
       "2018-03-02 04:00:00  120.0   90.0   58.0  ...    30.0    96.0    64.0    69.0   \n",
       "\n",
       "                     lag_20  lag_21  lag_22  lag_23  lag_24  rolling_mean  \n",
       "datetime                                                                   \n",
       "2018-03-02 00:00:00    43.0    66.0    71.0    85.0   124.0     69.333333  \n",
       "2018-03-02 01:00:00     6.0    43.0    66.0    71.0    85.0     72.166667  \n",
       "2018-03-02 02:00:00    12.0     6.0    43.0    66.0    71.0     84.666667  \n",
       "2018-03-02 03:00:00    15.0    12.0     6.0    43.0    66.0     87.000000  \n",
       "2018-03-02 04:00:00    34.0    15.0    12.0     6.0    43.0     86.666667  \n",
       "\n",
       "[5 rows x 30 columns]"
      ]
     },
     "execution_count": 23,
     "metadata": {},
     "output_type": "execute_result"
    }
   ],
   "source": [
    "df.head()"
   ]
  },
  {
   "cell_type": "code",
   "execution_count": 24,
   "metadata": {},
   "outputs": [
    {
     "name": "stdout",
     "output_type": "stream",
     "text": [
      "(3952, 30)\n",
      "(440, 30)\n"
     ]
    }
   ],
   "source": [
    "# Разделим данные на обучающую и тестовую выборки\n",
    "train, test = train_test_split(df, shuffle=False, test_size=0.1)\n",
    "train = train.dropna()\n",
    "\n",
    "train_features = train.drop('num_orders', axis=1)\n",
    "train_target = train['num_orders']\n",
    "test_features = test.drop('num_orders', axis=1)\n",
    "test_target = test['num_orders']\n",
    "# Проверим размер выборок\n",
    "print(train.shape)\n",
    "print(test.shape)"
   ]
  },
  {
   "cell_type": "markdown",
   "metadata": {},
   "source": [
    "**LinearRegression**"
   ]
  },
  {
   "cell_type": "code",
   "execution_count": 25,
   "metadata": {},
   "outputs": [
    {
     "name": "stdout",
     "output_type": "stream",
     "text": [
      "RMSE модели линейной регрессии:: 27.23\n"
     ]
    }
   ],
   "source": [
    "cv = TimeSeriesSplit(n_splits=3).split(train_features)\n",
    "model_lr = LinearRegression() \n",
    "tscv = TimeSeriesSplit(n_splits=5)\n",
    "model_lr.fit(train_features, train_target)\n",
    "score_lr = cross_val_score(model_lr, train_features, train_target, scoring='neg_mean_squared_error', cv=tscv)\n",
    "print('RMSE модели линейной регрессии::', round(np.mean(-score_lr)**0.5, 2))"
   ]
  },
  {
   "cell_type": "markdown",
   "metadata": {},
   "source": [
    "**Ridge**"
   ]
  },
  {
   "cell_type": "code",
   "execution_count": 26,
   "metadata": {},
   "outputs": [
    {
     "name": "stdout",
     "output_type": "stream",
     "text": [
      "RMSE: 27.03\n",
      "Лучшие гиперпараметры модели: {'alpha': 0.1}\n"
     ]
    }
   ],
   "source": [
    "# Определение модели и гиперпараметров для подбора\n",
    "model_ridge = Ridge(random_state=12345)\n",
    "params = {'alpha': [0.1, 1, 10]}\n",
    "tscv = TimeSeriesSplit(n_splits=5)\n",
    "# Подбор гиперпараметров с использованием кросс-валидации\n",
    "grid_search_ridge = GridSearchCV(model_ridge, param_grid=params, cv=tscv, \n",
    "                           scoring='neg_root_mean_squared_error', n_jobs=-1)\n",
    "grid_search_ridge.fit(train_features, train_target)\n",
    "print('RMSE:', round(-grid_search_ridge.best_score_, 2))\n",
    "print('Лучшие гиперпараметры модели:', grid_search_ridge.best_params_)"
   ]
  },
  {
   "cell_type": "markdown",
   "metadata": {},
   "source": [
    "**RandomForestRegressor**"
   ]
  },
  {
   "cell_type": "code",
   "execution_count": null,
   "metadata": {},
   "outputs": [],
   "source": [
    "model_rfr = RandomForestRegressor(random_state=12345)\n",
    "\n",
    "params =  {'max_depth': range (1,13, 2),'n_estimators': range (10, 31, 5)}\n",
    "tscv = TimeSeriesSplit(n_splits=5)\n",
    "grid_search_rfr = GridSearchCV(model_rfr, params, scoring='neg_root_mean_squared_error', cv=tscv, n_jobs = -1)\n",
    "\n",
    "grid_search_rfr.fit(train_features, train_target)\n",
    "\n",
    "# получение наилучшей модели \n",
    "best_rfr = grid_search_rfr.best_estimator_\n",
    "\n",
    "print('RMSE:', round(-grid_search_rfr.best_score_, 2))\n",
    "print('Лучшие гиперпараметры модели:', grid_search_rfr.best_params_)"
   ]
  },
  {
   "cell_type": "markdown",
   "metadata": {},
   "source": [
    "**DecisionTreeRegressor**"
   ]
  },
  {
   "cell_type": "code",
   "execution_count": null,
   "metadata": {},
   "outputs": [],
   "source": [
    "model_dtr = DecisionTreeRegressor(random_state=12345)\n",
    "\n",
    "params = {'max_depth': range(3, 20, 3)}\n",
    "tscv = TimeSeriesSplit(n_splits=5)\n",
    "\n",
    "grid_search_dtr = GridSearchCV(model_dtr, params, scoring='neg_root_mean_squared_error', cv=tscv, n_jobs=-1)\n",
    "\n",
    "grid_search_dtr.fit(train_features, train_target)\n",
    "\n",
    "print('RMSE:', round(-grid_search_dtr.best_score_, 2))\n",
    "print('Лучшие гиперпараметры модели:', grid_search_dtr.best_params_)"
   ]
  },
  {
   "cell_type": "markdown",
   "metadata": {},
   "source": [
    "**Вывод:**\n",
    "\n",
    "Создали новые признаки на основании календарных значений, скользащего среднего по количеству заказов и отстающих значений\n",
    "\n",
    "Разбили данные на тренировочную и тестовую выборки.\n",
    "\n",
    "Обучили следующие модели: LinearRegression, Ridge, RandomForestRegressor, DecisionTreeRegressor.\n",
    "\n",
    "Модель RandomForestRegressor показала наилучший результат значения RMSE: 26.34\n",
    "Лучшие гиперпараметры модели: {'max_depth': 11, 'n_estimators': 30}. "
   ]
  },
  {
   "cell_type": "markdown",
   "metadata": {},
   "source": [
    "## Тестирование"
   ]
  },
  {
   "cell_type": "markdown",
   "metadata": {},
   "source": [
    "Модель RandomForestRegressor показала наилучший результат значения RMSE на тренировочных данных. Проверим как покажет себя модель RandomForestRegressor на тестовой выборке."
   ]
  },
  {
   "cell_type": "code",
   "execution_count": null,
   "metadata": {},
   "outputs": [],
   "source": [
    "pred_test_rfr = best_rfr.predict(test_features)\n",
    "rmse_rfr = mean_squared_error(test_target, pred_test_rfr) ** 0.5\n",
    "print('RMSE на тестовых данных:', round(rmse_rfr, 2))"
   ]
  },
  {
   "cell_type": "markdown",
   "metadata": {},
   "source": [
    "Итак, RMSE на тестовой выборке = 44.02, этот результат хуже, чем на обучающей выборке, но требование заказчика, что значение метрики RMSE на тестовой выборке должно быть не больше 48 модель выполнила. "
   ]
  },
  {
   "cell_type": "markdown",
   "metadata": {},
   "source": [
    "Рассмотрим графики сравнения исходного и предсказанных рядов."
   ]
  },
  {
   "cell_type": "code",
   "execution_count": null,
   "metadata": {},
   "outputs": [],
   "source": [
    "pred_test_rfr = pd.DataFrame(pred_test_rfr, index=test_features.index)\n",
    "\n",
    "plt.figure(figsize=(15,10))\n",
    "plt.plot(test_target, label = \"target\")\n",
    "plt.plot(pred_test_rfr, label = \"predicted\")\n",
    "plt.title('Сравнение предсказаний')\n",
    "plt.ylabel('Количество заказов')\n",
    "plt.xlabel('Дата')\n",
    "plt.legend(['Исходные', 'Предсказанные'])\n",
    "plt.show()"
   ]
  },
  {
   "cell_type": "markdown",
   "metadata": {},
   "source": [
    "**Вывод**\n",
    "\n",
    "Таким образом, мы изучили данные компании «Чётенькое такси» о заказах такси в аэропортах, чтобы привлечь больше водителей в период пиковой нагрузки.\n",
    "\n",
    "В проекте была проделана следующая работа:\n",
    "\n",
    "- Провели первичный анализ данных.\n",
    "- Сформированы признаки для горизонта прогнозирования в один шаг, которые использовались в обучении моделей.\n",
    "- Разбили данные на тренировочную и тестовую выборки.\n",
    "- Обучили следующие модели: LinearRegression, Ridge, RandomForestRegressor, DecisionTreeRegressor.\n",
    "- Модель RandomForestRegressor показала наилучший результат значения RMSE: RMSE: 24.9 Лучшие гиперпараметры модели: {'max_depth': 11, 'n_estimators': 30}.\n",
    "- RMSE модели RandomForestRegressorн а тестовой выборке = 44.02, этот результат хуже, чем на обучающей выборке, но требование заказчика, что значение метрики RMSE на тестовой выборке должно быть не больше 48 модель выполнила. Таким образом, данная модель может в работе компании."
   ]
  }
 ],
 "metadata": {
  "ExecuteTimeLog": [
   {
    "duration": 1624,
    "start_time": "2023-07-04T19:27:29.328Z"
   },
   {
    "duration": 4,
    "start_time": "2023-07-04T19:27:51.651Z"
   },
   {
    "duration": 43,
    "start_time": "2023-07-04T19:28:12.503Z"
   },
   {
    "duration": 111,
    "start_time": "2023-07-04T19:28:48.537Z"
   },
   {
    "duration": 4,
    "start_time": "2023-07-04T19:32:09.051Z"
   },
   {
    "duration": 4,
    "start_time": "2023-07-04T19:32:18.009Z"
   },
   {
    "duration": 518,
    "start_time": "2023-07-04T19:32:28.529Z"
   },
   {
    "duration": 5,
    "start_time": "2023-07-04T19:35:39.374Z"
   },
   {
    "duration": 4,
    "start_time": "2023-07-04T19:35:56.442Z"
   },
   {
    "duration": 11,
    "start_time": "2023-07-04T19:37:49.996Z"
   },
   {
    "duration": 89,
    "start_time": "2023-07-04T19:38:10.559Z"
   },
   {
    "duration": 5,
    "start_time": "2023-07-04T19:38:29.661Z"
   },
   {
    "duration": 55,
    "start_time": "2023-07-04T19:38:34.404Z"
   },
   {
    "duration": 3,
    "start_time": "2023-07-04T19:39:55.201Z"
   },
   {
    "duration": 26,
    "start_time": "2023-07-04T19:40:04.105Z"
   },
   {
    "duration": 4,
    "start_time": "2023-07-04T19:42:15.658Z"
   },
   {
    "duration": 28,
    "start_time": "2023-07-04T19:42:20.017Z"
   },
   {
    "duration": 5,
    "start_time": "2023-07-04T19:43:12.402Z"
   },
   {
    "duration": 27,
    "start_time": "2023-07-04T19:43:15.919Z"
   },
   {
    "duration": 4,
    "start_time": "2023-07-04T19:44:14.209Z"
   },
   {
    "duration": 30,
    "start_time": "2023-07-04T19:44:16.844Z"
   },
   {
    "duration": 3,
    "start_time": "2023-07-04T19:44:39.761Z"
   },
   {
    "duration": 28,
    "start_time": "2023-07-04T19:44:41.908Z"
   },
   {
    "duration": 4,
    "start_time": "2023-07-04T19:44:54.435Z"
   },
   {
    "duration": 4,
    "start_time": "2023-07-04T19:46:19.106Z"
   },
   {
    "duration": 4,
    "start_time": "2023-07-04T19:46:29.603Z"
   },
   {
    "duration": 29,
    "start_time": "2023-07-04T19:46:31.858Z"
   },
   {
    "duration": 5,
    "start_time": "2023-07-04T19:46:55.105Z"
   },
   {
    "duration": 29,
    "start_time": "2023-07-04T19:46:58.004Z"
   },
   {
    "duration": 4,
    "start_time": "2023-07-04T19:47:10.308Z"
   },
   {
    "duration": 30,
    "start_time": "2023-07-04T19:47:12.017Z"
   },
   {
    "duration": 4,
    "start_time": "2023-07-04T19:48:29.741Z"
   },
   {
    "duration": 28,
    "start_time": "2023-07-04T19:48:32.865Z"
   },
   {
    "duration": 27,
    "start_time": "2023-07-04T19:48:56.950Z"
   },
   {
    "duration": 3843,
    "start_time": "2023-07-05T04:16:55.624Z"
   },
   {
    "duration": 305,
    "start_time": "2023-07-05T04:16:59.469Z"
   },
   {
    "duration": 5,
    "start_time": "2023-07-05T04:16:59.776Z"
   },
   {
    "duration": 48,
    "start_time": "2023-07-05T04:16:59.782Z"
   },
   {
    "duration": 13,
    "start_time": "2023-07-05T04:17:18.145Z"
   },
   {
    "duration": 89,
    "start_time": "2023-07-05T04:18:33.635Z"
   },
   {
    "duration": 51,
    "start_time": "2023-07-05T04:18:35.490Z"
   },
   {
    "duration": 4,
    "start_time": "2023-07-05T04:18:52.294Z"
   },
   {
    "duration": 30,
    "start_time": "2023-07-05T04:18:55.648Z"
   },
   {
    "duration": 4,
    "start_time": "2023-07-05T04:19:12.784Z"
   },
   {
    "duration": 46,
    "start_time": "2023-07-05T04:19:16.131Z"
   },
   {
    "duration": 13,
    "start_time": "2023-07-05T04:31:25.869Z"
   },
   {
    "duration": 12,
    "start_time": "2023-07-05T04:31:42.849Z"
   },
   {
    "duration": 266,
    "start_time": "2023-07-05T04:38:37.392Z"
   },
   {
    "duration": 35,
    "start_time": "2023-07-05T04:38:46.017Z"
   },
   {
    "duration": 31,
    "start_time": "2023-07-05T04:40:07.094Z"
   },
   {
    "duration": 290,
    "start_time": "2023-07-05T04:43:13.844Z"
   },
   {
    "duration": 72,
    "start_time": "2023-07-05T04:44:15.296Z"
   },
   {
    "duration": 12,
    "start_time": "2023-07-05T04:44:28.646Z"
   },
   {
    "duration": 21,
    "start_time": "2023-07-05T04:47:19.360Z"
   },
   {
    "duration": 12,
    "start_time": "2023-07-05T05:04:13.935Z"
   },
   {
    "duration": 4,
    "start_time": "2023-07-05T05:06:02.139Z"
   },
   {
    "duration": 14,
    "start_time": "2023-07-05T05:06:25.548Z"
   },
   {
    "duration": 3,
    "start_time": "2023-07-05T05:06:28.132Z"
   },
   {
    "duration": 1612,
    "start_time": "2023-07-05T05:06:47.486Z"
   },
   {
    "duration": 155,
    "start_time": "2023-07-05T05:06:49.099Z"
   },
   {
    "duration": 4,
    "start_time": "2023-07-05T05:06:49.256Z"
   },
   {
    "duration": 52,
    "start_time": "2023-07-05T05:06:49.262Z"
   },
   {
    "duration": 19,
    "start_time": "2023-07-05T05:06:49.325Z"
   },
   {
    "duration": 25,
    "start_time": "2023-07-05T05:06:49.345Z"
   },
   {
    "duration": 52,
    "start_time": "2023-07-05T05:06:49.371Z"
   },
   {
    "duration": 12,
    "start_time": "2023-07-05T05:06:49.430Z"
   },
   {
    "duration": 14,
    "start_time": "2023-07-05T05:06:49.444Z"
   },
   {
    "duration": 3,
    "start_time": "2023-07-05T05:06:49.460Z"
   },
   {
    "duration": 6,
    "start_time": "2023-07-05T05:07:05.087Z"
   },
   {
    "duration": 4,
    "start_time": "2023-07-05T05:07:08.151Z"
   },
   {
    "duration": 1483,
    "start_time": "2023-07-05T20:50:36.795Z"
   },
   {
    "duration": 102,
    "start_time": "2023-07-05T20:50:38.280Z"
   },
   {
    "duration": 5,
    "start_time": "2023-07-05T20:50:38.384Z"
   },
   {
    "duration": 30,
    "start_time": "2023-07-05T20:50:38.390Z"
   },
   {
    "duration": 14,
    "start_time": "2023-07-05T20:50:38.422Z"
   },
   {
    "duration": 10,
    "start_time": "2023-07-05T20:50:38.437Z"
   },
   {
    "duration": 23,
    "start_time": "2023-07-05T20:50:38.449Z"
   },
   {
    "duration": 26,
    "start_time": "2023-07-05T20:50:38.473Z"
   },
   {
    "duration": 7,
    "start_time": "2023-07-05T20:50:38.501Z"
   },
   {
    "duration": 32,
    "start_time": "2023-07-05T20:50:38.509Z"
   },
   {
    "duration": 206,
    "start_time": "2023-07-05T20:53:05.728Z"
   },
   {
    "duration": 274,
    "start_time": "2023-07-05T20:54:02.220Z"
   },
   {
    "duration": 289,
    "start_time": "2023-07-05T20:54:06.068Z"
   },
   {
    "duration": 264,
    "start_time": "2023-07-05T20:54:11.352Z"
   },
   {
    "duration": 224,
    "start_time": "2023-07-05T20:54:16.625Z"
   },
   {
    "duration": 222,
    "start_time": "2023-07-05T20:58:52.242Z"
   },
   {
    "duration": 126,
    "start_time": "2023-07-05T21:03:15.708Z"
   },
   {
    "duration": 189,
    "start_time": "2023-07-05T21:03:32.882Z"
   },
   {
    "duration": 252,
    "start_time": "2023-07-05T21:03:45.342Z"
   },
   {
    "duration": 164,
    "start_time": "2023-07-05T21:03:51.710Z"
   },
   {
    "duration": 161,
    "start_time": "2023-07-05T21:03:57.427Z"
   },
   {
    "duration": 163,
    "start_time": "2023-07-05T21:04:04.406Z"
   },
   {
    "duration": 109,
    "start_time": "2023-07-05T21:05:10.456Z"
   },
   {
    "duration": 232,
    "start_time": "2023-07-05T21:05:23.044Z"
   },
   {
    "duration": 178,
    "start_time": "2023-07-05T21:05:37.720Z"
   },
   {
    "duration": 221,
    "start_time": "2023-07-05T21:06:05.871Z"
   },
   {
    "duration": 193,
    "start_time": "2023-07-05T21:06:22.259Z"
   },
   {
    "duration": 9,
    "start_time": "2023-07-05T21:10:02.939Z"
   },
   {
    "duration": 102,
    "start_time": "2023-07-05T21:10:15.647Z"
   },
   {
    "duration": 179,
    "start_time": "2023-07-05T21:10:16.166Z"
   },
   {
    "duration": 175,
    "start_time": "2023-07-05T21:10:44.356Z"
   },
   {
    "duration": 1576,
    "start_time": "2023-07-06T09:21:50.098Z"
   },
   {
    "duration": 136,
    "start_time": "2023-07-06T09:21:54.399Z"
   },
   {
    "duration": 4,
    "start_time": "2023-07-06T09:21:54.648Z"
   },
   {
    "duration": 31,
    "start_time": "2023-07-06T09:21:54.820Z"
   },
   {
    "duration": 16,
    "start_time": "2023-07-06T09:21:55.700Z"
   },
   {
    "duration": 10,
    "start_time": "2023-07-06T09:21:55.893Z"
   },
   {
    "duration": 46,
    "start_time": "2023-07-06T09:21:56.255Z"
   },
   {
    "duration": 14,
    "start_time": "2023-07-06T09:21:56.443Z"
   },
   {
    "duration": 11,
    "start_time": "2023-07-06T09:21:57.013Z"
   },
   {
    "duration": 4,
    "start_time": "2023-07-06T09:21:57.189Z"
   },
   {
    "duration": 401,
    "start_time": "2023-07-06T09:21:57.583Z"
   },
   {
    "duration": 4,
    "start_time": "2023-07-06T09:21:57.986Z"
   },
   {
    "duration": 264,
    "start_time": "2023-07-06T09:21:59.305Z"
   },
   {
    "duration": 243,
    "start_time": "2023-07-06T09:30:35.183Z"
   },
   {
    "duration": 248,
    "start_time": "2023-07-06T09:32:15.448Z"
   },
   {
    "duration": 15,
    "start_time": "2023-07-06T09:33:40.464Z"
   },
   {
    "duration": 89,
    "start_time": "2023-07-06T09:35:23.155Z"
   },
   {
    "duration": 226,
    "start_time": "2023-07-06T09:41:10.293Z"
   },
   {
    "duration": 115,
    "start_time": "2023-07-06T09:41:28.410Z"
   },
   {
    "duration": 357,
    "start_time": "2023-07-06T09:41:34.159Z"
   },
   {
    "duration": 224,
    "start_time": "2023-07-06T09:41:47.570Z"
   },
   {
    "duration": 202,
    "start_time": "2023-07-06T09:41:54.449Z"
   },
   {
    "duration": 251,
    "start_time": "2023-07-06T09:42:17.375Z"
   },
   {
    "duration": 322,
    "start_time": "2023-07-06T09:42:42.699Z"
   },
   {
    "duration": 276,
    "start_time": "2023-07-06T09:52:57.311Z"
   },
   {
    "duration": 217,
    "start_time": "2023-07-06T09:53:13.581Z"
   },
   {
    "duration": 228,
    "start_time": "2023-07-06T09:53:36.140Z"
   },
   {
    "duration": 217,
    "start_time": "2023-07-06T09:53:38.784Z"
   },
   {
    "duration": 277,
    "start_time": "2023-07-06T09:53:51.078Z"
   },
   {
    "duration": 209,
    "start_time": "2023-07-06T09:53:56.168Z"
   },
   {
    "duration": 233,
    "start_time": "2023-07-06T09:54:00.945Z"
   },
   {
    "duration": 212,
    "start_time": "2023-07-06T09:54:05.959Z"
   },
   {
    "duration": 150,
    "start_time": "2023-07-06T09:55:09.257Z"
   },
   {
    "duration": 264,
    "start_time": "2023-07-06T09:55:16.450Z"
   },
   {
    "duration": 215,
    "start_time": "2023-07-06T09:55:45.333Z"
   },
   {
    "duration": 327,
    "start_time": "2023-07-06T09:55:51.722Z"
   },
   {
    "duration": 222,
    "start_time": "2023-07-06T09:55:56.557Z"
   },
   {
    "duration": 303,
    "start_time": "2023-07-06T09:56:07.119Z"
   },
   {
    "duration": 285,
    "start_time": "2023-07-06T09:56:15.718Z"
   },
   {
    "duration": 1988,
    "start_time": "2023-07-06T11:09:24.917Z"
   },
   {
    "duration": 313,
    "start_time": "2023-07-06T11:09:26.908Z"
   },
   {
    "duration": 6,
    "start_time": "2023-07-06T11:09:27.223Z"
   },
   {
    "duration": 46,
    "start_time": "2023-07-06T11:09:27.231Z"
   },
   {
    "duration": 22,
    "start_time": "2023-07-06T11:09:27.280Z"
   },
   {
    "duration": 17,
    "start_time": "2023-07-06T11:09:27.304Z"
   },
   {
    "duration": 75,
    "start_time": "2023-07-06T11:09:27.323Z"
   },
   {
    "duration": 14,
    "start_time": "2023-07-06T11:09:27.399Z"
   },
   {
    "duration": 990,
    "start_time": "2023-07-06T11:09:27.416Z"
   },
   {
    "duration": 10,
    "start_time": "2023-07-06T11:09:28.408Z"
   },
   {
    "duration": 6,
    "start_time": "2023-07-06T11:09:28.421Z"
   },
   {
    "duration": 398,
    "start_time": "2023-07-06T11:09:28.429Z"
   },
   {
    "duration": 23,
    "start_time": "2023-07-06T11:09:28.830Z"
   },
   {
    "duration": 283,
    "start_time": "2023-07-06T11:09:28.856Z"
   },
   {
    "duration": 289,
    "start_time": "2023-07-06T11:09:29.153Z"
   },
   {
    "duration": 275,
    "start_time": "2023-07-06T11:09:29.445Z"
   },
   {
    "duration": 1622,
    "start_time": "2023-07-06T21:40:45.636Z"
   },
   {
    "duration": 109,
    "start_time": "2023-07-06T21:40:47.260Z"
   },
   {
    "duration": 4,
    "start_time": "2023-07-06T21:40:47.371Z"
   },
   {
    "duration": 50,
    "start_time": "2023-07-06T21:40:47.377Z"
   },
   {
    "duration": 15,
    "start_time": "2023-07-06T21:40:47.429Z"
   },
   {
    "duration": 13,
    "start_time": "2023-07-06T21:40:47.445Z"
   },
   {
    "duration": 30,
    "start_time": "2023-07-06T21:40:47.459Z"
   },
   {
    "duration": 9,
    "start_time": "2023-07-06T21:40:47.491Z"
   },
   {
    "duration": 743,
    "start_time": "2023-07-06T21:40:47.501Z"
   },
   {
    "duration": 10,
    "start_time": "2023-07-06T21:40:48.251Z"
   },
   {
    "duration": 11,
    "start_time": "2023-07-06T21:40:48.263Z"
   },
   {
    "duration": 371,
    "start_time": "2023-07-06T21:40:48.276Z"
   },
   {
    "duration": 7,
    "start_time": "2023-07-06T21:40:48.649Z"
   },
   {
    "duration": 216,
    "start_time": "2023-07-06T21:40:48.658Z"
   },
   {
    "duration": 234,
    "start_time": "2023-07-06T21:40:48.875Z"
   },
   {
    "duration": 231,
    "start_time": "2023-07-06T21:40:49.111Z"
   },
   {
    "duration": 106,
    "start_time": "2023-07-06T21:52:20.822Z"
   },
   {
    "duration": 323,
    "start_time": "2023-07-06T21:52:28.930Z"
   },
   {
    "duration": 10,
    "start_time": "2023-07-06T21:52:52.786Z"
   },
   {
    "duration": 166,
    "start_time": "2023-07-06T21:52:58.589Z"
   },
   {
    "duration": 153,
    "start_time": "2023-07-06T21:53:31.488Z"
   },
   {
    "duration": 170,
    "start_time": "2023-07-06T21:53:56.831Z"
   },
   {
    "duration": 50,
    "start_time": "2023-07-06T21:54:16.153Z"
   },
   {
    "duration": 181,
    "start_time": "2023-07-06T21:54:19.599Z"
   },
   {
    "duration": 142,
    "start_time": "2023-07-06T21:55:45.588Z"
   },
   {
    "duration": 152,
    "start_time": "2023-07-06T21:55:49.679Z"
   },
   {
    "duration": 152,
    "start_time": "2023-07-06T21:56:06.725Z"
   },
   {
    "duration": 154,
    "start_time": "2023-07-06T21:56:28.490Z"
   },
   {
    "duration": 171,
    "start_time": "2023-07-06T21:56:53.056Z"
   },
   {
    "duration": 10,
    "start_time": "2023-07-06T21:58:26.225Z"
   },
   {
    "duration": 719,
    "start_time": "2023-07-06T21:58:38.235Z"
   },
   {
    "duration": 178,
    "start_time": "2023-07-06T21:58:48.747Z"
   },
   {
    "duration": 161,
    "start_time": "2023-07-06T21:59:05.873Z"
   },
   {
    "duration": 240,
    "start_time": "2023-07-06T21:59:25.437Z"
   },
   {
    "duration": 165,
    "start_time": "2023-07-06T22:01:26.553Z"
   },
   {
    "duration": 180,
    "start_time": "2023-07-06T22:03:57.447Z"
   },
   {
    "duration": 272,
    "start_time": "2023-07-06T22:07:44.393Z"
   },
   {
    "duration": 464,
    "start_time": "2023-07-06T22:12:45.267Z"
   },
   {
    "duration": 2106,
    "start_time": "2023-07-07T19:59:31.100Z"
   },
   {
    "duration": 200,
    "start_time": "2023-07-07T19:59:33.229Z"
   },
   {
    "duration": 14,
    "start_time": "2023-07-07T19:59:33.430Z"
   },
   {
    "duration": 80,
    "start_time": "2023-07-07T19:59:33.456Z"
   },
   {
    "duration": 29,
    "start_time": "2023-07-07T19:59:33.538Z"
   },
   {
    "duration": 24,
    "start_time": "2023-07-07T19:59:33.571Z"
   },
   {
    "duration": 43,
    "start_time": "2023-07-07T19:59:33.597Z"
   },
   {
    "duration": 52,
    "start_time": "2023-07-07T19:59:33.644Z"
   },
   {
    "duration": 1079,
    "start_time": "2023-07-07T19:59:33.698Z"
   },
   {
    "duration": 9,
    "start_time": "2023-07-07T19:59:34.779Z"
   },
   {
    "duration": 5,
    "start_time": "2023-07-07T19:59:34.789Z"
   },
   {
    "duration": 455,
    "start_time": "2023-07-07T19:59:34.796Z"
   },
   {
    "duration": 17,
    "start_time": "2023-07-07T19:59:35.253Z"
   },
   {
    "duration": 454,
    "start_time": "2023-07-07T19:59:35.272Z"
   },
   {
    "duration": 352,
    "start_time": "2023-07-07T19:59:35.732Z"
   },
   {
    "duration": 357,
    "start_time": "2023-07-07T19:59:36.088Z"
   },
   {
    "duration": 244,
    "start_time": "2023-07-07T19:59:36.451Z"
   },
   {
    "duration": 654,
    "start_time": "2023-07-07T19:59:36.697Z"
   },
   {
    "duration": 131,
    "start_time": "2023-07-07T19:59:37.353Z"
   },
   {
    "duration": 214,
    "start_time": "2023-07-07T20:00:00.393Z"
   },
   {
    "duration": 238,
    "start_time": "2023-07-07T20:01:13.384Z"
   },
   {
    "duration": 225,
    "start_time": "2023-07-07T20:01:57.686Z"
   },
   {
    "duration": 255,
    "start_time": "2023-07-07T20:02:09.133Z"
   },
   {
    "duration": 182,
    "start_time": "2023-07-07T20:02:50.837Z"
   },
   {
    "duration": 246,
    "start_time": "2023-07-07T20:03:06.737Z"
   },
   {
    "duration": 218,
    "start_time": "2023-07-07T20:04:42.706Z"
   },
   {
    "duration": 260,
    "start_time": "2023-07-07T20:05:39.080Z"
   },
   {
    "duration": 212,
    "start_time": "2023-07-07T20:05:45.277Z"
   },
   {
    "duration": 229,
    "start_time": "2023-07-07T20:05:49.146Z"
   },
   {
    "duration": 224,
    "start_time": "2023-07-07T20:05:55.034Z"
   },
   {
    "duration": 404,
    "start_time": "2023-07-07T20:06:00.985Z"
   },
   {
    "duration": 299,
    "start_time": "2023-07-07T20:06:11.860Z"
   },
   {
    "duration": 244,
    "start_time": "2023-07-07T20:07:48.212Z"
   },
   {
    "duration": 147,
    "start_time": "2023-07-07T20:15:14.646Z"
   },
   {
    "duration": 51,
    "start_time": "2023-07-07T20:26:49.566Z"
   },
   {
    "duration": 29,
    "start_time": "2023-07-07T20:27:43.690Z"
   },
   {
    "duration": 30,
    "start_time": "2023-07-07T20:27:51.839Z"
   },
   {
    "duration": 173,
    "start_time": "2023-07-07T20:28:25.963Z"
   },
   {
    "duration": 45,
    "start_time": "2023-07-07T20:31:19.558Z"
   },
   {
    "duration": 12,
    "start_time": "2023-07-07T20:41:41.578Z"
   },
   {
    "duration": 14,
    "start_time": "2023-07-07T20:41:55.037Z"
   },
   {
    "duration": 8,
    "start_time": "2023-07-07T20:43:08.687Z"
   },
   {
    "duration": 11,
    "start_time": "2023-07-07T20:43:35.468Z"
   },
   {
    "duration": 18,
    "start_time": "2023-07-07T20:43:46.697Z"
   },
   {
    "duration": 25,
    "start_time": "2023-07-07T20:44:20.404Z"
   },
   {
    "duration": 14,
    "start_time": "2023-07-07T20:46:30.375Z"
   },
   {
    "duration": 30,
    "start_time": "2023-07-07T20:46:49.335Z"
   },
   {
    "duration": 43,
    "start_time": "2023-07-07T20:49:15.206Z"
   },
   {
    "duration": 120,
    "start_time": "2023-07-07T20:49:48.589Z"
   },
   {
    "duration": 1628,
    "start_time": "2023-07-08T16:55:07.716Z"
   },
   {
    "duration": 115,
    "start_time": "2023-07-08T16:55:09.346Z"
   },
   {
    "duration": 4,
    "start_time": "2023-07-08T16:55:09.462Z"
   },
   {
    "duration": 39,
    "start_time": "2023-07-08T16:55:09.467Z"
   },
   {
    "duration": 16,
    "start_time": "2023-07-08T16:55:09.508Z"
   },
   {
    "duration": 16,
    "start_time": "2023-07-08T16:55:09.526Z"
   },
   {
    "duration": 32,
    "start_time": "2023-07-08T16:55:09.544Z"
   },
   {
    "duration": 9,
    "start_time": "2023-07-08T16:55:09.578Z"
   },
   {
    "duration": 730,
    "start_time": "2023-07-08T16:55:09.589Z"
   },
   {
    "duration": 16,
    "start_time": "2023-07-08T16:55:10.321Z"
   },
   {
    "duration": 8,
    "start_time": "2023-07-08T16:55:10.339Z"
   },
   {
    "duration": 323,
    "start_time": "2023-07-08T16:55:10.349Z"
   },
   {
    "duration": 8,
    "start_time": "2023-07-08T16:55:10.674Z"
   },
   {
    "duration": 226,
    "start_time": "2023-07-08T16:55:10.684Z"
   },
   {
    "duration": 241,
    "start_time": "2023-07-08T16:55:10.912Z"
   },
   {
    "duration": 234,
    "start_time": "2023-07-08T16:55:11.155Z"
   },
   {
    "duration": 168,
    "start_time": "2023-07-08T16:55:11.390Z"
   },
   {
    "duration": 415,
    "start_time": "2023-07-08T16:55:11.560Z"
   },
   {
    "duration": 31,
    "start_time": "2023-07-08T16:55:11.977Z"
   },
   {
    "duration": 26,
    "start_time": "2023-07-08T16:55:12.010Z"
   },
   {
    "duration": 12,
    "start_time": "2023-07-08T16:55:12.037Z"
   },
   {
    "duration": 12,
    "start_time": "2023-07-08T16:55:12.051Z"
   },
   {
    "duration": 10,
    "start_time": "2023-07-08T16:55:12.064Z"
   },
   {
    "duration": 160,
    "start_time": "2023-07-08T16:55:12.075Z"
   },
   {
    "duration": 121,
    "start_time": "2023-07-08T17:12:10.266Z"
   },
   {
    "duration": 1507,
    "start_time": "2023-07-08T17:12:30.307Z"
   },
   {
    "duration": 42,
    "start_time": "2023-07-08T17:12:31.817Z"
   },
   {
    "duration": 4,
    "start_time": "2023-07-08T17:12:31.861Z"
   },
   {
    "duration": 63,
    "start_time": "2023-07-08T17:12:31.868Z"
   },
   {
    "duration": 17,
    "start_time": "2023-07-08T17:12:31.933Z"
   },
   {
    "duration": 36,
    "start_time": "2023-07-08T17:12:31.951Z"
   },
   {
    "duration": 69,
    "start_time": "2023-07-08T17:12:31.989Z"
   },
   {
    "duration": 210,
    "start_time": "2023-07-08T17:12:32.059Z"
   },
   {
    "duration": 809,
    "start_time": "2023-07-08T17:12:32.271Z"
   },
   {
    "duration": 9,
    "start_time": "2023-07-08T17:12:33.083Z"
   },
   {
    "duration": 9,
    "start_time": "2023-07-08T17:12:33.093Z"
   },
   {
    "duration": 369,
    "start_time": "2023-07-08T17:12:33.104Z"
   },
   {
    "duration": 8,
    "start_time": "2023-07-08T17:12:33.474Z"
   },
   {
    "duration": 217,
    "start_time": "2023-07-08T17:12:33.484Z"
   },
   {
    "duration": 243,
    "start_time": "2023-07-08T17:12:33.703Z"
   },
   {
    "duration": 228,
    "start_time": "2023-07-08T17:12:33.948Z"
   },
   {
    "duration": 168,
    "start_time": "2023-07-08T17:12:34.177Z"
   },
   {
    "duration": 417,
    "start_time": "2023-07-08T17:12:34.347Z"
   },
   {
    "duration": 41,
    "start_time": "2023-07-08T17:12:34.765Z"
   },
   {
    "duration": 34,
    "start_time": "2023-07-08T17:12:34.808Z"
   },
   {
    "duration": 27,
    "start_time": "2023-07-08T17:12:34.844Z"
   },
   {
    "duration": 23,
    "start_time": "2023-07-08T17:12:34.875Z"
   },
   {
    "duration": 19,
    "start_time": "2023-07-08T17:12:34.900Z"
   },
   {
    "duration": 112,
    "start_time": "2023-07-08T17:12:34.924Z"
   },
   {
    "duration": 297,
    "start_time": "2023-07-08T17:12:35.039Z"
   },
   {
    "duration": 108,
    "start_time": "2023-07-08T17:12:47.619Z"
   },
   {
    "duration": 1608,
    "start_time": "2023-07-08T17:13:27.725Z"
   },
   {
    "duration": 9,
    "start_time": "2023-07-08T17:29:50.736Z"
   },
   {
    "duration": 6,
    "start_time": "2023-07-08T17:29:59.045Z"
   },
   {
    "duration": 27,
    "start_time": "2023-07-08T17:31:32.602Z"
   },
   {
    "duration": 54489,
    "start_time": "2023-07-08T17:39:10.212Z"
   },
   {
    "duration": 1429,
    "start_time": "2023-07-08T18:26:33.346Z"
   },
   {
    "duration": 50,
    "start_time": "2023-07-08T18:26:34.778Z"
   },
   {
    "duration": 9,
    "start_time": "2023-07-08T18:26:34.830Z"
   },
   {
    "duration": 52,
    "start_time": "2023-07-08T18:26:34.842Z"
   },
   {
    "duration": 15,
    "start_time": "2023-07-08T18:26:34.896Z"
   },
   {
    "duration": 26,
    "start_time": "2023-07-08T18:26:34.913Z"
   },
   {
    "duration": 33,
    "start_time": "2023-07-08T18:26:34.941Z"
   },
   {
    "duration": 10,
    "start_time": "2023-07-08T18:26:34.976Z"
   },
   {
    "duration": 796,
    "start_time": "2023-07-08T18:26:34.988Z"
   },
   {
    "duration": 8,
    "start_time": "2023-07-08T18:26:35.786Z"
   },
   {
    "duration": 3,
    "start_time": "2023-07-08T18:26:35.796Z"
   },
   {
    "duration": 360,
    "start_time": "2023-07-08T18:26:35.801Z"
   },
   {
    "duration": 7,
    "start_time": "2023-07-08T18:26:36.162Z"
   },
   {
    "duration": 227,
    "start_time": "2023-07-08T18:26:36.172Z"
   },
   {
    "duration": 251,
    "start_time": "2023-07-08T18:26:36.400Z"
   },
   {
    "duration": 237,
    "start_time": "2023-07-08T18:26:36.653Z"
   },
   {
    "duration": 176,
    "start_time": "2023-07-08T18:26:36.892Z"
   },
   {
    "duration": 426,
    "start_time": "2023-07-08T18:26:37.070Z"
   },
   {
    "duration": 46,
    "start_time": "2023-07-08T18:26:37.498Z"
   },
   {
    "duration": 8,
    "start_time": "2023-07-08T18:26:37.546Z"
   },
   {
    "duration": 22,
    "start_time": "2023-07-08T18:26:37.556Z"
   },
   {
    "duration": 11,
    "start_time": "2023-07-08T18:26:37.580Z"
   },
   {
    "duration": 39,
    "start_time": "2023-07-08T18:26:37.593Z"
   },
   {
    "duration": 18,
    "start_time": "2023-07-08T18:26:37.634Z"
   },
   {
    "duration": 100,
    "start_time": "2023-07-08T18:26:37.653Z"
   },
   {
    "duration": 906,
    "start_time": "2023-07-08T18:26:37.832Z"
   },
   {
    "duration": 56015,
    "start_time": "2023-07-08T18:26:38.741Z"
   },
   {
    "duration": 134,
    "start_time": "2023-07-08T18:27:34.759Z"
   },
   {
    "duration": 1420,
    "start_time": "2023-07-08T18:27:55.149Z"
   },
   {
    "duration": 1428,
    "start_time": "2023-07-08T18:36:32.597Z"
   },
   {
    "duration": 50,
    "start_time": "2023-07-08T18:36:34.027Z"
   },
   {
    "duration": 4,
    "start_time": "2023-07-08T18:36:34.079Z"
   },
   {
    "duration": 70,
    "start_time": "2023-07-08T18:36:34.085Z"
   },
   {
    "duration": 17,
    "start_time": "2023-07-08T18:36:34.157Z"
   },
   {
    "duration": 12,
    "start_time": "2023-07-08T18:36:34.176Z"
   },
   {
    "duration": 54,
    "start_time": "2023-07-08T18:36:34.190Z"
   },
   {
    "duration": 14,
    "start_time": "2023-07-08T18:36:34.245Z"
   },
   {
    "duration": 835,
    "start_time": "2023-07-08T18:36:34.261Z"
   },
   {
    "duration": 8,
    "start_time": "2023-07-08T18:36:35.099Z"
   },
   {
    "duration": 27,
    "start_time": "2023-07-08T18:36:35.110Z"
   },
   {
    "duration": 355,
    "start_time": "2023-07-08T18:36:35.138Z"
   },
   {
    "duration": 8,
    "start_time": "2023-07-08T18:36:35.494Z"
   },
   {
    "duration": 251,
    "start_time": "2023-07-08T18:36:35.505Z"
   },
   {
    "duration": 236,
    "start_time": "2023-07-08T18:36:35.758Z"
   },
   {
    "duration": 259,
    "start_time": "2023-07-08T18:36:35.996Z"
   },
   {
    "duration": 178,
    "start_time": "2023-07-08T18:36:36.257Z"
   },
   {
    "duration": 439,
    "start_time": "2023-07-08T18:36:36.438Z"
   },
   {
    "duration": 67,
    "start_time": "2023-07-08T18:36:36.879Z"
   },
   {
    "duration": 0,
    "start_time": "2023-07-08T18:36:36.948Z"
   },
   {
    "duration": 0,
    "start_time": "2023-07-08T18:36:36.949Z"
   },
   {
    "duration": 0,
    "start_time": "2023-07-08T18:36:36.950Z"
   },
   {
    "duration": 0,
    "start_time": "2023-07-08T18:36:36.952Z"
   },
   {
    "duration": 0,
    "start_time": "2023-07-08T18:36:36.953Z"
   },
   {
    "duration": 0,
    "start_time": "2023-07-08T18:36:36.954Z"
   },
   {
    "duration": 0,
    "start_time": "2023-07-08T18:36:36.955Z"
   },
   {
    "duration": 0,
    "start_time": "2023-07-08T18:36:36.956Z"
   },
   {
    "duration": 0,
    "start_time": "2023-07-08T18:36:36.958Z"
   },
   {
    "duration": 0,
    "start_time": "2023-07-08T18:36:36.959Z"
   },
   {
    "duration": 0,
    "start_time": "2023-07-08T18:36:36.960Z"
   },
   {
    "duration": 0,
    "start_time": "2023-07-08T18:36:36.961Z"
   },
   {
    "duration": 1587,
    "start_time": "2023-07-09T08:21:20.252Z"
   },
   {
    "duration": 104,
    "start_time": "2023-07-09T08:21:21.841Z"
   },
   {
    "duration": 3,
    "start_time": "2023-07-09T08:21:21.947Z"
   },
   {
    "duration": 44,
    "start_time": "2023-07-09T08:21:21.952Z"
   },
   {
    "duration": 14,
    "start_time": "2023-07-09T08:21:21.997Z"
   },
   {
    "duration": 22,
    "start_time": "2023-07-09T08:21:22.012Z"
   },
   {
    "duration": 44,
    "start_time": "2023-07-09T08:21:22.035Z"
   },
   {
    "duration": 8,
    "start_time": "2023-07-09T08:21:22.080Z"
   },
   {
    "duration": 613,
    "start_time": "2023-07-09T08:21:22.090Z"
   },
   {
    "duration": 8,
    "start_time": "2023-07-09T08:21:22.705Z"
   },
   {
    "duration": 13,
    "start_time": "2023-07-09T08:21:22.714Z"
   },
   {
    "duration": 302,
    "start_time": "2023-07-09T08:21:22.728Z"
   },
   {
    "duration": 8,
    "start_time": "2023-07-09T08:21:23.031Z"
   },
   {
    "duration": 189,
    "start_time": "2023-07-09T08:21:23.040Z"
   },
   {
    "duration": 225,
    "start_time": "2023-07-09T08:21:23.231Z"
   },
   {
    "duration": 230,
    "start_time": "2023-07-09T08:21:23.458Z"
   },
   {
    "duration": 162,
    "start_time": "2023-07-09T08:21:23.691Z"
   },
   {
    "duration": 401,
    "start_time": "2023-07-09T08:21:23.855Z"
   },
   {
    "duration": 227,
    "start_time": "2023-07-09T08:21:24.258Z"
   },
   {
    "duration": 0,
    "start_time": "2023-07-09T08:21:24.487Z"
   },
   {
    "duration": 0,
    "start_time": "2023-07-09T08:21:24.488Z"
   },
   {
    "duration": 0,
    "start_time": "2023-07-09T08:21:24.489Z"
   },
   {
    "duration": 0,
    "start_time": "2023-07-09T08:21:24.490Z"
   },
   {
    "duration": 0,
    "start_time": "2023-07-09T08:21:24.491Z"
   },
   {
    "duration": 0,
    "start_time": "2023-07-09T08:21:24.493Z"
   },
   {
    "duration": 0,
    "start_time": "2023-07-09T08:21:24.494Z"
   },
   {
    "duration": 0,
    "start_time": "2023-07-09T08:21:24.495Z"
   },
   {
    "duration": 0,
    "start_time": "2023-07-09T08:21:24.496Z"
   },
   {
    "duration": 0,
    "start_time": "2023-07-09T08:21:24.497Z"
   },
   {
    "duration": 0,
    "start_time": "2023-07-09T08:21:24.497Z"
   },
   {
    "duration": 0,
    "start_time": "2023-07-09T08:21:24.498Z"
   },
   {
    "duration": 1351,
    "start_time": "2023-07-09T08:24:02.358Z"
   },
   {
    "duration": 43,
    "start_time": "2023-07-09T08:24:03.711Z"
   },
   {
    "duration": 3,
    "start_time": "2023-07-09T08:24:03.755Z"
   },
   {
    "duration": 38,
    "start_time": "2023-07-09T08:24:03.760Z"
   },
   {
    "duration": 13,
    "start_time": "2023-07-09T08:24:03.800Z"
   },
   {
    "duration": 13,
    "start_time": "2023-07-09T08:24:03.814Z"
   },
   {
    "duration": 25,
    "start_time": "2023-07-09T08:24:03.828Z"
   },
   {
    "duration": 8,
    "start_time": "2023-07-09T08:24:03.854Z"
   },
   {
    "duration": 651,
    "start_time": "2023-07-09T08:24:03.864Z"
   },
   {
    "duration": 7,
    "start_time": "2023-07-09T08:24:04.518Z"
   },
   {
    "duration": 7,
    "start_time": "2023-07-09T08:24:04.526Z"
   },
   {
    "duration": 311,
    "start_time": "2023-07-09T08:24:04.535Z"
   },
   {
    "duration": 7,
    "start_time": "2023-07-09T08:24:04.848Z"
   },
   {
    "duration": 198,
    "start_time": "2023-07-09T08:24:04.856Z"
   },
   {
    "duration": 219,
    "start_time": "2023-07-09T08:24:05.056Z"
   },
   {
    "duration": 235,
    "start_time": "2023-07-09T08:24:05.277Z"
   },
   {
    "duration": 151,
    "start_time": "2023-07-09T08:24:05.514Z"
   },
   {
    "duration": 379,
    "start_time": "2023-07-09T08:24:05.667Z"
   },
   {
    "duration": 38,
    "start_time": "2023-07-09T08:24:06.048Z"
   },
   {
    "duration": 29,
    "start_time": "2023-07-09T08:24:06.099Z"
   },
   {
    "duration": 45,
    "start_time": "2023-07-09T08:24:06.130Z"
   },
   {
    "duration": 12,
    "start_time": "2023-07-09T08:24:06.177Z"
   },
   {
    "duration": 45,
    "start_time": "2023-07-09T08:24:06.190Z"
   },
   {
    "duration": 21,
    "start_time": "2023-07-09T08:24:06.236Z"
   },
   {
    "duration": 150,
    "start_time": "2023-07-09T08:24:06.258Z"
   },
   {
    "duration": 891,
    "start_time": "2023-07-09T08:24:06.410Z"
   },
   {
    "duration": 58680,
    "start_time": "2023-07-09T08:24:07.303Z"
   },
   {
    "duration": 1544,
    "start_time": "2023-07-09T08:25:05.986Z"
   },
   {
    "duration": 1473,
    "start_time": "2023-07-09T08:54:50.902Z"
   },
   {
    "duration": 43,
    "start_time": "2023-07-09T08:54:52.377Z"
   },
   {
    "duration": 4,
    "start_time": "2023-07-09T08:54:52.421Z"
   },
   {
    "duration": 59,
    "start_time": "2023-07-09T08:54:52.427Z"
   },
   {
    "duration": 16,
    "start_time": "2023-07-09T08:54:52.488Z"
   },
   {
    "duration": 20,
    "start_time": "2023-07-09T08:54:52.506Z"
   },
   {
    "duration": 35,
    "start_time": "2023-07-09T08:54:52.528Z"
   },
   {
    "duration": 13,
    "start_time": "2023-07-09T08:54:52.565Z"
   },
   {
    "duration": 601,
    "start_time": "2023-07-09T08:54:52.580Z"
   },
   {
    "duration": 7,
    "start_time": "2023-07-09T08:54:53.183Z"
   },
   {
    "duration": 14,
    "start_time": "2023-07-09T08:54:53.191Z"
   },
   {
    "duration": 340,
    "start_time": "2023-07-09T08:54:53.206Z"
   },
   {
    "duration": 6,
    "start_time": "2023-07-09T08:54:53.548Z"
   },
   {
    "duration": 231,
    "start_time": "2023-07-09T08:54:53.556Z"
   },
   {
    "duration": 230,
    "start_time": "2023-07-09T08:54:53.789Z"
   },
   {
    "duration": 211,
    "start_time": "2023-07-09T08:54:54.020Z"
   },
   {
    "duration": 124,
    "start_time": "2023-07-09T08:54:54.233Z"
   },
   {
    "duration": 0,
    "start_time": "2023-07-09T08:54:54.359Z"
   },
   {
    "duration": 0,
    "start_time": "2023-07-09T08:54:54.359Z"
   },
   {
    "duration": 0,
    "start_time": "2023-07-09T08:54:54.361Z"
   },
   {
    "duration": 0,
    "start_time": "2023-07-09T08:54:54.361Z"
   },
   {
    "duration": 0,
    "start_time": "2023-07-09T08:54:54.362Z"
   },
   {
    "duration": 0,
    "start_time": "2023-07-09T08:54:54.363Z"
   },
   {
    "duration": 0,
    "start_time": "2023-07-09T08:54:54.364Z"
   },
   {
    "duration": 0,
    "start_time": "2023-07-09T08:54:54.365Z"
   },
   {
    "duration": 0,
    "start_time": "2023-07-09T08:54:54.366Z"
   },
   {
    "duration": 0,
    "start_time": "2023-07-09T08:54:54.367Z"
   },
   {
    "duration": 0,
    "start_time": "2023-07-09T08:54:54.368Z"
   },
   {
    "duration": 0,
    "start_time": "2023-07-09T08:54:54.369Z"
   },
   {
    "duration": 1,
    "start_time": "2023-07-09T08:54:54.369Z"
   },
   {
    "duration": 0,
    "start_time": "2023-07-09T08:54:54.371Z"
   },
   {
    "duration": 153,
    "start_time": "2023-07-09T08:55:33.662Z"
   },
   {
    "duration": 228,
    "start_time": "2023-07-09T08:55:58.140Z"
   },
   {
    "duration": 285,
    "start_time": "2023-07-09T08:59:20.738Z"
   },
   {
    "duration": 163,
    "start_time": "2023-07-09T09:02:50.801Z"
   },
   {
    "duration": 5,
    "start_time": "2023-07-09T09:09:18.711Z"
   },
   {
    "duration": 196,
    "start_time": "2023-07-09T09:09:33.850Z"
   },
   {
    "duration": 156,
    "start_time": "2023-07-09T09:10:00.865Z"
   },
   {
    "duration": 202,
    "start_time": "2023-07-09T09:10:04.652Z"
   },
   {
    "duration": 203,
    "start_time": "2023-07-09T09:10:29.759Z"
   },
   {
    "duration": 175,
    "start_time": "2023-07-09T09:10:32.375Z"
   },
   {
    "duration": 145,
    "start_time": "2023-07-09T09:10:58.960Z"
   },
   {
    "duration": 18,
    "start_time": "2023-07-09T09:11:05.963Z"
   },
   {
    "duration": 21,
    "start_time": "2023-07-09T09:11:08.711Z"
   },
   {
    "duration": 366,
    "start_time": "2023-07-09T09:12:19.897Z"
   },
   {
    "duration": 69,
    "start_time": "2023-07-09T09:14:47.386Z"
   },
   {
    "duration": 399,
    "start_time": "2023-07-09T09:15:14.642Z"
   },
   {
    "duration": 168,
    "start_time": "2023-07-09T09:16:22.636Z"
   },
   {
    "duration": 193,
    "start_time": "2023-07-09T09:16:43.025Z"
   },
   {
    "duration": 27,
    "start_time": "2023-07-09T09:43:05.770Z"
   },
   {
    "duration": 8,
    "start_time": "2023-07-09T09:43:05.943Z"
   },
   {
    "duration": 13,
    "start_time": "2023-07-09T09:43:06.121Z"
   },
   {
    "duration": 13,
    "start_time": "2023-07-09T09:43:06.325Z"
   },
   {
    "duration": 27,
    "start_time": "2023-07-09T09:43:06.515Z"
   },
   {
    "duration": 19,
    "start_time": "2023-07-09T09:43:06.698Z"
   },
   {
    "duration": 188,
    "start_time": "2023-07-09T09:43:07.140Z"
   },
   {
    "duration": 1543,
    "start_time": "2023-07-09T09:43:07.681Z"
   },
   {
    "duration": 63371,
    "start_time": "2023-07-09T09:43:09.229Z"
   },
   {
    "duration": 1701,
    "start_time": "2023-07-09T09:44:12.614Z"
   },
   {
    "duration": 3,
    "start_time": "2023-07-09T09:44:14.317Z"
   },
   {
    "duration": 7,
    "start_time": "2023-07-09T09:44:14.321Z"
   },
   {
    "duration": 1595,
    "start_time": "2023-07-09T09:55:31.822Z"
   },
   {
    "duration": 42,
    "start_time": "2023-07-09T09:55:33.420Z"
   },
   {
    "duration": 3,
    "start_time": "2023-07-09T09:55:33.464Z"
   },
   {
    "duration": 49,
    "start_time": "2023-07-09T09:55:33.469Z"
   },
   {
    "duration": 18,
    "start_time": "2023-07-09T09:55:33.521Z"
   },
   {
    "duration": 10,
    "start_time": "2023-07-09T09:55:33.541Z"
   },
   {
    "duration": 28,
    "start_time": "2023-07-09T09:55:33.553Z"
   },
   {
    "duration": 27,
    "start_time": "2023-07-09T09:55:33.582Z"
   },
   {
    "duration": 766,
    "start_time": "2023-07-09T09:55:33.610Z"
   },
   {
    "duration": 8,
    "start_time": "2023-07-09T09:55:34.377Z"
   },
   {
    "duration": 14,
    "start_time": "2023-07-09T09:55:34.387Z"
   },
   {
    "duration": 347,
    "start_time": "2023-07-09T09:55:34.403Z"
   },
   {
    "duration": 8,
    "start_time": "2023-07-09T09:55:34.752Z"
   },
   {
    "duration": 216,
    "start_time": "2023-07-09T09:55:34.762Z"
   },
   {
    "duration": 289,
    "start_time": "2023-07-09T09:55:34.980Z"
   },
   {
    "duration": 253,
    "start_time": "2023-07-09T09:55:35.270Z"
   },
   {
    "duration": 169,
    "start_time": "2023-07-09T09:55:35.524Z"
   },
   {
    "duration": 265,
    "start_time": "2023-07-09T09:55:35.706Z"
   },
   {
    "duration": 408,
    "start_time": "2023-07-09T09:55:35.973Z"
   },
   {
    "duration": 34,
    "start_time": "2023-07-09T09:55:36.382Z"
   },
   {
    "duration": 33,
    "start_time": "2023-07-09T09:55:36.418Z"
   },
   {
    "duration": 11,
    "start_time": "2023-07-09T09:55:36.452Z"
   },
   {
    "duration": 12,
    "start_time": "2023-07-09T09:55:36.464Z"
   },
   {
    "duration": 41,
    "start_time": "2023-07-09T09:55:36.478Z"
   },
   {
    "duration": 13,
    "start_time": "2023-07-09T09:55:36.521Z"
   },
   {
    "duration": 480,
    "start_time": "2023-07-09T09:55:36.537Z"
   },
   {
    "duration": 991,
    "start_time": "2023-07-09T09:55:37.018Z"
   },
   {
    "duration": 64151,
    "start_time": "2023-07-09T09:55:38.017Z"
   },
   {
    "duration": 1681,
    "start_time": "2023-07-09T09:56:42.170Z"
   },
   {
    "duration": 1537,
    "start_time": "2023-07-09T10:50:20.554Z"
   },
   {
    "duration": 42,
    "start_time": "2023-07-09T10:50:22.093Z"
   },
   {
    "duration": 5,
    "start_time": "2023-07-09T10:50:22.137Z"
   },
   {
    "duration": 50,
    "start_time": "2023-07-09T10:50:22.144Z"
   },
   {
    "duration": 19,
    "start_time": "2023-07-09T10:50:22.197Z"
   },
   {
    "duration": 15,
    "start_time": "2023-07-09T10:50:22.217Z"
   },
   {
    "duration": 36,
    "start_time": "2023-07-09T10:50:22.234Z"
   },
   {
    "duration": 33,
    "start_time": "2023-07-09T10:50:22.272Z"
   },
   {
    "duration": 652,
    "start_time": "2023-07-09T10:50:22.307Z"
   },
   {
    "duration": 8,
    "start_time": "2023-07-09T10:50:22.960Z"
   },
   {
    "duration": 4,
    "start_time": "2023-07-09T10:50:22.971Z"
   },
   {
    "duration": 382,
    "start_time": "2023-07-09T10:50:22.977Z"
   },
   {
    "duration": 7,
    "start_time": "2023-07-09T10:50:23.361Z"
   },
   {
    "duration": 223,
    "start_time": "2023-07-09T10:50:23.371Z"
   },
   {
    "duration": 268,
    "start_time": "2023-07-09T10:50:23.599Z"
   },
   {
    "duration": 359,
    "start_time": "2023-07-09T10:50:23.869Z"
   },
   {
    "duration": 214,
    "start_time": "2023-07-09T10:50:24.230Z"
   },
   {
    "duration": 239,
    "start_time": "2023-07-09T10:50:24.446Z"
   },
   {
    "duration": 348,
    "start_time": "2023-07-09T10:50:24.686Z"
   },
   {
    "duration": 33,
    "start_time": "2023-07-09T10:50:25.036Z"
   },
   {
    "duration": 30,
    "start_time": "2023-07-09T10:50:25.070Z"
   },
   {
    "duration": 12,
    "start_time": "2023-07-09T10:50:25.101Z"
   },
   {
    "duration": 12,
    "start_time": "2023-07-09T10:50:25.114Z"
   },
   {
    "duration": 19,
    "start_time": "2023-07-09T10:50:25.127Z"
   },
   {
    "duration": 12,
    "start_time": "2023-07-09T10:50:25.148Z"
   },
   {
    "duration": 159,
    "start_time": "2023-07-09T10:50:25.162Z"
   },
   {
    "duration": 780,
    "start_time": "2023-07-09T10:50:25.322Z"
   },
   {
    "duration": 62453,
    "start_time": "2023-07-09T10:50:26.104Z"
   },
   {
    "duration": 1607,
    "start_time": "2023-07-09T10:51:28.558Z"
   },
   {
    "duration": 1376,
    "start_time": "2023-07-09T10:57:25.553Z"
   },
   {
    "duration": 42,
    "start_time": "2023-07-09T10:57:26.931Z"
   },
   {
    "duration": 4,
    "start_time": "2023-07-09T10:57:26.975Z"
   },
   {
    "duration": 35,
    "start_time": "2023-07-09T10:57:26.980Z"
   },
   {
    "duration": 19,
    "start_time": "2023-07-09T10:57:27.018Z"
   },
   {
    "duration": 9,
    "start_time": "2023-07-09T10:57:27.039Z"
   },
   {
    "duration": 25,
    "start_time": "2023-07-09T10:57:27.050Z"
   },
   {
    "duration": 9,
    "start_time": "2023-07-09T10:57:27.099Z"
   },
   {
    "duration": 652,
    "start_time": "2023-07-09T10:57:27.110Z"
   },
   {
    "duration": 8,
    "start_time": "2023-07-09T10:57:27.763Z"
   },
   {
    "duration": 3,
    "start_time": "2023-07-09T10:57:27.772Z"
   },
   {
    "duration": 349,
    "start_time": "2023-07-09T10:57:27.777Z"
   },
   {
    "duration": 8,
    "start_time": "2023-07-09T10:57:28.128Z"
   },
   {
    "duration": 230,
    "start_time": "2023-07-09T10:57:28.138Z"
   },
   {
    "duration": 235,
    "start_time": "2023-07-09T10:57:28.369Z"
   },
   {
    "duration": 233,
    "start_time": "2023-07-09T10:57:28.606Z"
   },
   {
    "duration": 171,
    "start_time": "2023-07-09T10:57:28.841Z"
   },
   {
    "duration": 247,
    "start_time": "2023-07-09T10:57:29.014Z"
   },
   {
    "duration": 390,
    "start_time": "2023-07-09T10:57:29.263Z"
   },
   {
    "duration": 29,
    "start_time": "2023-07-09T10:57:29.654Z"
   },
   {
    "duration": 42,
    "start_time": "2023-07-09T10:57:29.685Z"
   },
   {
    "duration": 23,
    "start_time": "2023-07-09T10:57:29.729Z"
   },
   {
    "duration": 18,
    "start_time": "2023-07-09T10:57:29.754Z"
   },
   {
    "duration": 27,
    "start_time": "2023-07-09T10:57:29.774Z"
   },
   {
    "duration": 41,
    "start_time": "2023-07-09T10:57:29.803Z"
   },
   {
    "duration": 156,
    "start_time": "2023-07-09T10:57:29.845Z"
   },
   {
    "duration": 1311,
    "start_time": "2023-07-09T10:57:30.002Z"
   },
   {
    "duration": 64326,
    "start_time": "2023-07-09T10:57:31.318Z"
   },
   {
    "duration": 1655,
    "start_time": "2023-07-09T10:58:35.646Z"
   },
   {
    "duration": 63231,
    "start_time": "2023-07-09T10:58:37.303Z"
   },
   {
    "duration": 1632,
    "start_time": "2023-07-09T11:33:34.888Z"
   },
   {
    "duration": 43,
    "start_time": "2023-07-09T11:33:36.522Z"
   },
   {
    "duration": 5,
    "start_time": "2023-07-09T11:33:36.566Z"
   },
   {
    "duration": 44,
    "start_time": "2023-07-09T11:33:36.572Z"
   },
   {
    "duration": 17,
    "start_time": "2023-07-09T11:33:36.618Z"
   },
   {
    "duration": 9,
    "start_time": "2023-07-09T11:33:36.637Z"
   },
   {
    "duration": 29,
    "start_time": "2023-07-09T11:33:36.647Z"
   },
   {
    "duration": 23,
    "start_time": "2023-07-09T11:33:36.678Z"
   },
   {
    "duration": 689,
    "start_time": "2023-07-09T11:33:36.703Z"
   },
   {
    "duration": 10,
    "start_time": "2023-07-09T11:33:37.399Z"
   },
   {
    "duration": 24,
    "start_time": "2023-07-09T11:33:37.411Z"
   },
   {
    "duration": 375,
    "start_time": "2023-07-09T11:33:37.436Z"
   },
   {
    "duration": 8,
    "start_time": "2023-07-09T11:33:37.812Z"
   },
   {
    "duration": 227,
    "start_time": "2023-07-09T11:33:37.824Z"
   },
   {
    "duration": 244,
    "start_time": "2023-07-09T11:33:38.052Z"
   },
   {
    "duration": 224,
    "start_time": "2023-07-09T11:33:38.298Z"
   },
   {
    "duration": 156,
    "start_time": "2023-07-09T11:33:38.524Z"
   },
   {
    "duration": 245,
    "start_time": "2023-07-09T11:33:38.682Z"
   },
   {
    "duration": 428,
    "start_time": "2023-07-09T11:33:38.928Z"
   },
   {
    "duration": 43,
    "start_time": "2023-07-09T11:33:39.358Z"
   },
   {
    "duration": 11,
    "start_time": "2023-07-09T11:33:39.403Z"
   },
   {
    "duration": 28,
    "start_time": "2023-07-09T11:33:39.418Z"
   },
   {
    "duration": 11,
    "start_time": "2023-07-09T11:33:39.448Z"
   },
   {
    "duration": 33,
    "start_time": "2023-07-09T11:33:39.461Z"
   },
   {
    "duration": 13,
    "start_time": "2023-07-09T11:33:39.495Z"
   },
   {
    "duration": 26,
    "start_time": "2023-07-09T11:33:39.511Z"
   },
   {
    "duration": 1699,
    "start_time": "2023-07-09T11:33:39.601Z"
   },
   {
    "duration": 63304,
    "start_time": "2023-07-09T11:33:41.303Z"
   },
   {
    "duration": 1785,
    "start_time": "2023-07-09T11:34:44.610Z"
   },
   {
    "duration": 64004,
    "start_time": "2023-07-09T11:34:46.397Z"
   },
   {
    "duration": 0,
    "start_time": "2023-07-09T11:35:50.403Z"
   },
   {
    "duration": 11,
    "start_time": "2023-07-09T11:37:04.987Z"
   },
   {
    "duration": 1827,
    "start_time": "2023-07-09T15:04:12.749Z"
   },
   {
    "duration": 1515,
    "start_time": "2023-07-09T15:04:25.579Z"
   },
   {
    "duration": 122,
    "start_time": "2023-07-09T15:04:27.095Z"
   },
   {
    "duration": 4,
    "start_time": "2023-07-09T15:04:27.219Z"
   },
   {
    "duration": 36,
    "start_time": "2023-07-09T15:04:27.224Z"
   },
   {
    "duration": 17,
    "start_time": "2023-07-09T15:04:27.263Z"
   },
   {
    "duration": 25,
    "start_time": "2023-07-09T15:04:27.282Z"
   },
   {
    "duration": 29,
    "start_time": "2023-07-09T15:04:27.309Z"
   },
   {
    "duration": 10,
    "start_time": "2023-07-09T15:04:27.340Z"
   },
   {
    "duration": 812,
    "start_time": "2023-07-09T15:04:27.351Z"
   },
   {
    "duration": 8,
    "start_time": "2023-07-09T15:04:28.165Z"
   },
   {
    "duration": 7,
    "start_time": "2023-07-09T15:04:28.175Z"
   },
   {
    "duration": 352,
    "start_time": "2023-07-09T15:04:28.183Z"
   },
   {
    "duration": 8,
    "start_time": "2023-07-09T15:04:28.536Z"
   },
   {
    "duration": 225,
    "start_time": "2023-07-09T15:04:28.548Z"
   },
   {
    "duration": 247,
    "start_time": "2023-07-09T15:04:28.774Z"
   },
   {
    "duration": 252,
    "start_time": "2023-07-09T15:04:29.023Z"
   },
   {
    "duration": 171,
    "start_time": "2023-07-09T15:04:29.276Z"
   },
   {
    "duration": 176,
    "start_time": "2023-07-09T15:04:29.449Z"
   },
   {
    "duration": 445,
    "start_time": "2023-07-09T15:04:29.626Z"
   },
   {
    "duration": 164,
    "start_time": "2023-07-09T15:04:30.073Z"
   },
   {
    "duration": 8,
    "start_time": "2023-07-09T15:04:30.238Z"
   },
   {
    "duration": 32,
    "start_time": "2023-07-09T15:04:30.247Z"
   },
   {
    "duration": 27,
    "start_time": "2023-07-09T15:04:30.280Z"
   },
   {
    "duration": 49,
    "start_time": "2023-07-09T15:04:30.309Z"
   },
   {
    "duration": 26,
    "start_time": "2023-07-09T15:04:30.359Z"
   },
   {
    "duration": 119,
    "start_time": "2023-07-09T15:04:30.386Z"
   },
   {
    "duration": 1298,
    "start_time": "2023-07-09T15:04:30.507Z"
   },
   {
    "duration": 216,
    "start_time": "2023-07-09T15:04:31.810Z"
   },
   {
    "duration": 0,
    "start_time": "2023-07-09T15:04:32.028Z"
   },
   {
    "duration": 0,
    "start_time": "2023-07-09T15:04:32.029Z"
   },
   {
    "duration": 0,
    "start_time": "2023-07-09T15:04:32.031Z"
   },
   {
    "duration": 12,
    "start_time": "2023-07-09T15:06:15.252Z"
   },
   {
    "duration": 993,
    "start_time": "2023-07-09T15:06:47.418Z"
   },
   {
    "duration": 1031,
    "start_time": "2023-07-09T15:07:02.773Z"
   },
   {
    "duration": 1018,
    "start_time": "2023-07-09T15:32:22.592Z"
   },
   {
    "duration": 36325,
    "start_time": "2023-07-09T15:34:10.968Z"
   },
   {
    "duration": 969,
    "start_time": "2023-07-09T15:35:51.359Z"
   },
   {
    "duration": 18,
    "start_time": "2023-07-09T15:37:24.668Z"
   },
   {
    "duration": 4,
    "start_time": "2023-07-09T15:38:48.327Z"
   },
   {
    "duration": 601,
    "start_time": "2023-07-09T15:38:59.100Z"
   },
   {
    "duration": 1374,
    "start_time": "2023-07-09T15:42:35.641Z"
   },
   {
    "duration": 756,
    "start_time": "2023-07-09T15:43:42.851Z"
   },
   {
    "duration": 13,
    "start_time": "2023-07-09T15:44:19.759Z"
   },
   {
    "duration": 1535,
    "start_time": "2023-07-09T15:48:51.581Z"
   },
   {
    "duration": 46,
    "start_time": "2023-07-09T15:48:53.118Z"
   },
   {
    "duration": 5,
    "start_time": "2023-07-09T15:48:53.166Z"
   },
   {
    "duration": 50,
    "start_time": "2023-07-09T15:48:53.173Z"
   },
   {
    "duration": 17,
    "start_time": "2023-07-09T15:48:53.225Z"
   },
   {
    "duration": 18,
    "start_time": "2023-07-09T15:48:53.244Z"
   },
   {
    "duration": 44,
    "start_time": "2023-07-09T15:48:53.264Z"
   },
   {
    "duration": 10,
    "start_time": "2023-07-09T15:48:53.309Z"
   },
   {
    "duration": 847,
    "start_time": "2023-07-09T15:48:53.321Z"
   },
   {
    "duration": 9,
    "start_time": "2023-07-09T15:48:54.170Z"
   },
   {
    "duration": 15,
    "start_time": "2023-07-09T15:48:54.181Z"
   },
   {
    "duration": 365,
    "start_time": "2023-07-09T15:48:54.198Z"
   },
   {
    "duration": 9,
    "start_time": "2023-07-09T15:48:54.565Z"
   },
   {
    "duration": 228,
    "start_time": "2023-07-09T15:48:54.576Z"
   },
   {
    "duration": 248,
    "start_time": "2023-07-09T15:48:54.806Z"
   },
   {
    "duration": 250,
    "start_time": "2023-07-09T15:48:55.056Z"
   },
   {
    "duration": 178,
    "start_time": "2023-07-09T15:48:55.308Z"
   },
   {
    "duration": 182,
    "start_time": "2023-07-09T15:48:55.487Z"
   },
   {
    "duration": 409,
    "start_time": "2023-07-09T15:48:55.672Z"
   },
   {
    "duration": 152,
    "start_time": "2023-07-09T15:48:56.083Z"
   },
   {
    "duration": 8,
    "start_time": "2023-07-09T15:48:56.237Z"
   },
   {
    "duration": 15,
    "start_time": "2023-07-09T15:48:56.247Z"
   },
   {
    "duration": 12,
    "start_time": "2023-07-09T15:48:56.264Z"
   },
   {
    "duration": 44,
    "start_time": "2023-07-09T15:48:56.278Z"
   },
   {
    "duration": 19,
    "start_time": "2023-07-09T15:48:56.324Z"
   },
   {
    "duration": 466,
    "start_time": "2023-07-09T15:48:56.345Z"
   },
   {
    "duration": 1107,
    "start_time": "2023-07-09T15:48:56.903Z"
   },
   {
    "duration": 36389,
    "start_time": "2023-07-09T15:48:58.105Z"
   },
   {
    "duration": 996,
    "start_time": "2023-07-09T15:49:34.496Z"
   },
   {
    "duration": 12,
    "start_time": "2023-07-09T15:49:35.501Z"
   },
   {
    "duration": 321,
    "start_time": "2023-07-09T15:54:01.819Z"
   },
   {
    "duration": 228,
    "start_time": "2023-07-09T15:54:10.325Z"
   },
   {
    "duration": 185,
    "start_time": "2023-07-09T15:57:08.060Z"
   },
   {
    "duration": 166,
    "start_time": "2023-07-09T15:57:25.491Z"
   },
   {
    "duration": 256,
    "start_time": "2023-07-09T15:59:00.343Z"
   },
   {
    "duration": 255,
    "start_time": "2023-07-09T16:04:55.514Z"
   },
   {
    "duration": 267,
    "start_time": "2023-07-09T16:05:11.767Z"
   },
   {
    "duration": 271,
    "start_time": "2023-07-09T16:06:31.748Z"
   },
   {
    "duration": 1481,
    "start_time": "2023-07-09T16:10:25.043Z"
   },
   {
    "duration": 45,
    "start_time": "2023-07-09T16:10:26.528Z"
   },
   {
    "duration": 4,
    "start_time": "2023-07-09T16:10:26.574Z"
   },
   {
    "duration": 46,
    "start_time": "2023-07-09T16:10:26.580Z"
   },
   {
    "duration": 17,
    "start_time": "2023-07-09T16:10:26.629Z"
   },
   {
    "duration": 11,
    "start_time": "2023-07-09T16:10:26.647Z"
   },
   {
    "duration": 56,
    "start_time": "2023-07-09T16:10:26.659Z"
   },
   {
    "duration": 11,
    "start_time": "2023-07-09T16:10:26.717Z"
   },
   {
    "duration": 811,
    "start_time": "2023-07-09T16:10:26.730Z"
   },
   {
    "duration": 8,
    "start_time": "2023-07-09T16:10:27.543Z"
   },
   {
    "duration": 4,
    "start_time": "2023-07-09T16:10:27.553Z"
   },
   {
    "duration": 360,
    "start_time": "2023-07-09T16:10:27.558Z"
   },
   {
    "duration": 8,
    "start_time": "2023-07-09T16:10:27.920Z"
   },
   {
    "duration": 223,
    "start_time": "2023-07-09T16:10:27.931Z"
   },
   {
    "duration": 258,
    "start_time": "2023-07-09T16:10:28.156Z"
   },
   {
    "duration": 245,
    "start_time": "2023-07-09T16:10:28.416Z"
   },
   {
    "duration": 175,
    "start_time": "2023-07-09T16:10:28.662Z"
   },
   {
    "duration": 178,
    "start_time": "2023-07-09T16:10:28.839Z"
   },
   {
    "duration": 423,
    "start_time": "2023-07-09T16:10:29.019Z"
   },
   {
    "duration": 153,
    "start_time": "2023-07-09T16:10:29.443Z"
   },
   {
    "duration": 12,
    "start_time": "2023-07-09T16:10:29.597Z"
   },
   {
    "duration": 11,
    "start_time": "2023-07-09T16:10:29.610Z"
   },
   {
    "duration": 11,
    "start_time": "2023-07-09T16:10:29.623Z"
   },
   {
    "duration": 23,
    "start_time": "2023-07-09T16:10:29.636Z"
   },
   {
    "duration": 43,
    "start_time": "2023-07-09T16:10:29.661Z"
   },
   {
    "duration": 499,
    "start_time": "2023-07-09T16:10:29.706Z"
   },
   {
    "duration": 1204,
    "start_time": "2023-07-09T16:10:30.207Z"
   },
   {
    "duration": 36181,
    "start_time": "2023-07-09T16:10:31.503Z"
   },
   {
    "duration": 983,
    "start_time": "2023-07-09T16:11:07.686Z"
   },
   {
    "duration": 11,
    "start_time": "2023-07-09T16:11:08.671Z"
   },
   {
    "duration": 285,
    "start_time": "2023-07-09T16:11:08.683Z"
   },
   {
    "duration": 1618,
    "start_time": "2023-10-15T08:55:58.823Z"
   },
   {
    "duration": 48,
    "start_time": "2023-10-15T08:56:00.444Z"
   },
   {
    "duration": 12,
    "start_time": "2023-10-15T08:56:00.494Z"
   },
   {
    "duration": 68,
    "start_time": "2023-10-15T08:56:00.508Z"
   },
   {
    "duration": 18,
    "start_time": "2023-10-15T08:56:00.577Z"
   },
   {
    "duration": 32,
    "start_time": "2023-10-15T08:56:00.597Z"
   },
   {
    "duration": 43,
    "start_time": "2023-10-15T08:56:00.631Z"
   },
   {
    "duration": 874,
    "start_time": "2023-10-15T08:56:00.676Z"
   },
   {
    "duration": 9,
    "start_time": "2023-10-15T08:56:01.552Z"
   },
   {
    "duration": 230,
    "start_time": "2023-10-15T08:56:01.564Z"
   },
   {
    "duration": 407,
    "start_time": "2023-10-15T08:56:01.796Z"
   },
   {
    "duration": 8,
    "start_time": "2023-10-15T08:56:02.206Z"
   },
   {
    "duration": 336,
    "start_time": "2023-10-15T08:56:02.216Z"
   },
   {
    "duration": 281,
    "start_time": "2023-10-15T08:56:02.554Z"
   },
   {
    "duration": 264,
    "start_time": "2023-10-15T08:56:02.837Z"
   },
   {
    "duration": 203,
    "start_time": "2023-10-15T08:56:03.103Z"
   },
   {
    "duration": 201,
    "start_time": "2023-10-15T08:56:03.307Z"
   },
   {
    "duration": 503,
    "start_time": "2023-10-15T08:56:03.509Z"
   },
   {
    "duration": 149,
    "start_time": "2023-10-15T08:56:04.014Z"
   },
   {
    "duration": 224,
    "start_time": "2023-10-15T08:56:04.165Z"
   },
   {
    "duration": 35,
    "start_time": "2023-10-15T08:56:04.391Z"
   },
   {
    "duration": 36,
    "start_time": "2023-10-15T08:56:04.427Z"
   },
   {
    "duration": 66,
    "start_time": "2023-10-15T08:56:04.465Z"
   },
   {
    "duration": 41,
    "start_time": "2023-10-15T08:56:04.533Z"
   },
   {
    "duration": 1073,
    "start_time": "2023-10-15T08:56:04.577Z"
   },
   {
    "duration": 1596,
    "start_time": "2023-10-15T08:56:05.653Z"
   }
  ],
  "kernelspec": {
   "display_name": "Python 3 (ipykernel)",
   "language": "python",
   "name": "python3"
  },
  "language_info": {
   "codemirror_mode": {
    "name": "ipython",
    "version": 3
   },
   "file_extension": ".py",
   "mimetype": "text/x-python",
   "name": "python",
   "nbconvert_exporter": "python",
   "pygments_lexer": "ipython3",
   "version": "3.10.9"
  },
  "toc": {
   "base_numbering": 1,
   "nav_menu": {},
   "number_sections": true,
   "sideBar": true,
   "skip_h1_title": true,
   "title_cell": "Содержание",
   "title_sidebar": "Contents",
   "toc_cell": true,
   "toc_position": {
    "height": "calc(100% - 180px)",
    "left": "10px",
    "top": "150px",
    "width": "165px"
   },
   "toc_section_display": true,
   "toc_window_display": false
  }
 },
 "nbformat": 4,
 "nbformat_minor": 2
}
