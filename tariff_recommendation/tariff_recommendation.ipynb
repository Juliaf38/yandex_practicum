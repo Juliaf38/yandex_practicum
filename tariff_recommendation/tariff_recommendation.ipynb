{
 "cells": [
  {
   "cell_type": "markdown",
   "metadata": {},
   "source": [
    "# Рекомендация тарифов"
   ]
  },
  {
   "cell_type": "markdown",
   "metadata": {},
   "source": [
    "Оператор мобильной связи «Мегалайн» выяснил: многие клиенты пользуются архивными тарифами. Они хотят построить систему, способную проанализировать поведение клиентов и предложить пользователям новый тариф: «Смарт» или «Ультра».\n",
    "\n",
    "В нашем распоряжении данные о поведении клиентов, которые уже перешли на эти тарифы. Нужно построить модель для задачи классификации, которая выберет подходящий тариф. \n",
    "\n",
    "Цель - построить модель с максимально большим значением *accuracy*. "
   ]
  },
  {
   "cell_type": "markdown",
   "metadata": {},
   "source": [
    "## Открытие и изучение файла"
   ]
  },
  {
   "cell_type": "markdown",
   "metadata": {},
   "source": [
    "Импортируем необходимые библиотеки."
   ]
  },
  {
   "cell_type": "code",
   "execution_count": 1,
   "metadata": {},
   "outputs": [],
   "source": [
    "import pandas as pd\n",
    "import matplotlib.pyplot as plt\n",
    "\n",
    "from sklearn import tree\n",
    "from sklearn.tree import DecisionTreeClassifier\n",
    "from sklearn.ensemble import RandomForestClassifier\n",
    "from sklearn.linear_model import LogisticRegression\n",
    "from sklearn.metrics import accuracy_score\n",
    "from sklearn.model_selection import train_test_split\n",
    "from sklearn.dummy import DummyClassifier\n",
    "\n",
    "from joblib import dump"
   ]
  },
  {
   "cell_type": "code",
   "execution_count": 2,
   "metadata": {},
   "outputs": [],
   "source": [
    "df = pd.read_csv('users_behavior.csv') # прочитаем csv-файл"
   ]
  },
  {
   "cell_type": "code",
   "execution_count": 3,
   "metadata": {},
   "outputs": [
    {
     "data": {
      "text/html": [
       "<div>\n",
       "<style scoped>\n",
       "    .dataframe tbody tr th:only-of-type {\n",
       "        vertical-align: middle;\n",
       "    }\n",
       "\n",
       "    .dataframe tbody tr th {\n",
       "        vertical-align: top;\n",
       "    }\n",
       "\n",
       "    .dataframe thead th {\n",
       "        text-align: right;\n",
       "    }\n",
       "</style>\n",
       "<table border=\"1\" class=\"dataframe\">\n",
       "  <thead>\n",
       "    <tr style=\"text-align: right;\">\n",
       "      <th></th>\n",
       "      <th>calls</th>\n",
       "      <th>minutes</th>\n",
       "      <th>messages</th>\n",
       "      <th>mb_used</th>\n",
       "      <th>is_ultra</th>\n",
       "    </tr>\n",
       "  </thead>\n",
       "  <tbody>\n",
       "    <tr>\n",
       "      <th>0</th>\n",
       "      <td>40.0</td>\n",
       "      <td>311.90</td>\n",
       "      <td>83.0</td>\n",
       "      <td>19915.42</td>\n",
       "      <td>0</td>\n",
       "    </tr>\n",
       "    <tr>\n",
       "      <th>1</th>\n",
       "      <td>85.0</td>\n",
       "      <td>516.75</td>\n",
       "      <td>56.0</td>\n",
       "      <td>22696.96</td>\n",
       "      <td>0</td>\n",
       "    </tr>\n",
       "    <tr>\n",
       "      <th>2</th>\n",
       "      <td>77.0</td>\n",
       "      <td>467.66</td>\n",
       "      <td>86.0</td>\n",
       "      <td>21060.45</td>\n",
       "      <td>0</td>\n",
       "    </tr>\n",
       "    <tr>\n",
       "      <th>3</th>\n",
       "      <td>106.0</td>\n",
       "      <td>745.53</td>\n",
       "      <td>81.0</td>\n",
       "      <td>8437.39</td>\n",
       "      <td>1</td>\n",
       "    </tr>\n",
       "    <tr>\n",
       "      <th>4</th>\n",
       "      <td>66.0</td>\n",
       "      <td>418.74</td>\n",
       "      <td>1.0</td>\n",
       "      <td>14502.75</td>\n",
       "      <td>0</td>\n",
       "    </tr>\n",
       "  </tbody>\n",
       "</table>\n",
       "</div>"
      ],
      "text/plain": [
       "   calls  minutes  messages   mb_used  is_ultra\n",
       "0   40.0   311.90      83.0  19915.42         0\n",
       "1   85.0   516.75      56.0  22696.96         0\n",
       "2   77.0   467.66      86.0  21060.45         0\n",
       "3  106.0   745.53      81.0   8437.39         1\n",
       "4   66.0   418.74       1.0  14502.75         0"
      ]
     },
     "execution_count": 3,
     "metadata": {},
     "output_type": "execute_result"
    }
   ],
   "source": [
    "df.head() # Выведем первые 5 строчек датафрейма df на экран."
   ]
  },
  {
   "cell_type": "code",
   "execution_count": 4,
   "metadata": {},
   "outputs": [
    {
     "name": "stdout",
     "output_type": "stream",
     "text": [
      "<class 'pandas.core.frame.DataFrame'>\n",
      "RangeIndex: 3214 entries, 0 to 3213\n",
      "Data columns (total 5 columns):\n",
      " #   Column    Non-Null Count  Dtype  \n",
      "---  ------    --------------  -----  \n",
      " 0   calls     3214 non-null   float64\n",
      " 1   minutes   3214 non-null   float64\n",
      " 2   messages  3214 non-null   float64\n",
      " 3   mb_used   3214 non-null   float64\n",
      " 4   is_ultra  3214 non-null   int64  \n",
      "dtypes: float64(4), int64(1)\n",
      "memory usage: 125.7 KB\n"
     ]
    }
   ],
   "source": [
    "df.info() # Выведем основную информацию о датафрейме с помощью метода info()."
   ]
  },
  {
   "cell_type": "markdown",
   "metadata": {},
   "source": [
    "Согласно документации к данным:\n",
    "- сalls — количество звонков,\n",
    "- minutes — суммарная длительность звонков в минутах,\n",
    "- messages — количество sms-сообщений,\n",
    "- mb_used — израсходованный интернет-трафик в Мб,\n",
    "- is_ultra — каким тарифом пользовался в течение месяца («Ультра» — 1, «Смарт» — 0)."
   ]
  },
  {
   "cell_type": "code",
   "execution_count": 5,
   "metadata": {},
   "outputs": [
    {
     "data": {
      "text/html": [
       "<div>\n",
       "<style scoped>\n",
       "    .dataframe tbody tr th:only-of-type {\n",
       "        vertical-align: middle;\n",
       "    }\n",
       "\n",
       "    .dataframe tbody tr th {\n",
       "        vertical-align: top;\n",
       "    }\n",
       "\n",
       "    .dataframe thead th {\n",
       "        text-align: right;\n",
       "    }\n",
       "</style>\n",
       "<table border=\"1\" class=\"dataframe\">\n",
       "  <thead>\n",
       "    <tr style=\"text-align: right;\">\n",
       "      <th></th>\n",
       "      <th>calls</th>\n",
       "      <th>minutes</th>\n",
       "      <th>messages</th>\n",
       "      <th>mb_used</th>\n",
       "      <th>is_ultra</th>\n",
       "    </tr>\n",
       "  </thead>\n",
       "  <tbody>\n",
       "    <tr>\n",
       "      <th>count</th>\n",
       "      <td>3214.000000</td>\n",
       "      <td>3214.000000</td>\n",
       "      <td>3214.000000</td>\n",
       "      <td>3214.000000</td>\n",
       "      <td>3214.000000</td>\n",
       "    </tr>\n",
       "    <tr>\n",
       "      <th>mean</th>\n",
       "      <td>63.038892</td>\n",
       "      <td>438.208787</td>\n",
       "      <td>38.281269</td>\n",
       "      <td>17207.673836</td>\n",
       "      <td>0.306472</td>\n",
       "    </tr>\n",
       "    <tr>\n",
       "      <th>std</th>\n",
       "      <td>33.236368</td>\n",
       "      <td>234.569872</td>\n",
       "      <td>36.148326</td>\n",
       "      <td>7570.968246</td>\n",
       "      <td>0.461100</td>\n",
       "    </tr>\n",
       "    <tr>\n",
       "      <th>min</th>\n",
       "      <td>0.000000</td>\n",
       "      <td>0.000000</td>\n",
       "      <td>0.000000</td>\n",
       "      <td>0.000000</td>\n",
       "      <td>0.000000</td>\n",
       "    </tr>\n",
       "    <tr>\n",
       "      <th>25%</th>\n",
       "      <td>40.000000</td>\n",
       "      <td>274.575000</td>\n",
       "      <td>9.000000</td>\n",
       "      <td>12491.902500</td>\n",
       "      <td>0.000000</td>\n",
       "    </tr>\n",
       "    <tr>\n",
       "      <th>50%</th>\n",
       "      <td>62.000000</td>\n",
       "      <td>430.600000</td>\n",
       "      <td>30.000000</td>\n",
       "      <td>16943.235000</td>\n",
       "      <td>0.000000</td>\n",
       "    </tr>\n",
       "    <tr>\n",
       "      <th>75%</th>\n",
       "      <td>82.000000</td>\n",
       "      <td>571.927500</td>\n",
       "      <td>57.000000</td>\n",
       "      <td>21424.700000</td>\n",
       "      <td>1.000000</td>\n",
       "    </tr>\n",
       "    <tr>\n",
       "      <th>max</th>\n",
       "      <td>244.000000</td>\n",
       "      <td>1632.060000</td>\n",
       "      <td>224.000000</td>\n",
       "      <td>49745.730000</td>\n",
       "      <td>1.000000</td>\n",
       "    </tr>\n",
       "  </tbody>\n",
       "</table>\n",
       "</div>"
      ],
      "text/plain": [
       "             calls      minutes     messages       mb_used     is_ultra\n",
       "count  3214.000000  3214.000000  3214.000000   3214.000000  3214.000000\n",
       "mean     63.038892   438.208787    38.281269  17207.673836     0.306472\n",
       "std      33.236368   234.569872    36.148326   7570.968246     0.461100\n",
       "min       0.000000     0.000000     0.000000      0.000000     0.000000\n",
       "25%      40.000000   274.575000     9.000000  12491.902500     0.000000\n",
       "50%      62.000000   430.600000    30.000000  16943.235000     0.000000\n",
       "75%      82.000000   571.927500    57.000000  21424.700000     1.000000\n",
       "max     244.000000  1632.060000   224.000000  49745.730000     1.000000"
      ]
     },
     "execution_count": 5,
     "metadata": {},
     "output_type": "execute_result"
    }
   ],
   "source": [
    "df.describe()"
   ]
  },
  {
   "cell_type": "code",
   "execution_count": 6,
   "metadata": {},
   "outputs": [
    {
     "data": {
      "text/html": [
       "<div>\n",
       "<style scoped>\n",
       "    .dataframe tbody tr th:only-of-type {\n",
       "        vertical-align: middle;\n",
       "    }\n",
       "\n",
       "    .dataframe tbody tr th {\n",
       "        vertical-align: top;\n",
       "    }\n",
       "\n",
       "    .dataframe thead th {\n",
       "        text-align: right;\n",
       "    }\n",
       "</style>\n",
       "<table border=\"1\" class=\"dataframe\">\n",
       "  <thead>\n",
       "    <tr style=\"text-align: right;\">\n",
       "      <th></th>\n",
       "      <th>calls</th>\n",
       "      <th>minutes</th>\n",
       "      <th>messages</th>\n",
       "      <th>mb_used</th>\n",
       "      <th>is_ultra</th>\n",
       "    </tr>\n",
       "  </thead>\n",
       "  <tbody>\n",
       "    <tr>\n",
       "      <th>calls</th>\n",
       "      <td>1.000000</td>\n",
       "      <td>0.982083</td>\n",
       "      <td>0.177385</td>\n",
       "      <td>0.286442</td>\n",
       "      <td>0.207122</td>\n",
       "    </tr>\n",
       "    <tr>\n",
       "      <th>minutes</th>\n",
       "      <td>0.982083</td>\n",
       "      <td>1.000000</td>\n",
       "      <td>0.173110</td>\n",
       "      <td>0.280967</td>\n",
       "      <td>0.206955</td>\n",
       "    </tr>\n",
       "    <tr>\n",
       "      <th>messages</th>\n",
       "      <td>0.177385</td>\n",
       "      <td>0.173110</td>\n",
       "      <td>1.000000</td>\n",
       "      <td>0.195721</td>\n",
       "      <td>0.203830</td>\n",
       "    </tr>\n",
       "    <tr>\n",
       "      <th>mb_used</th>\n",
       "      <td>0.286442</td>\n",
       "      <td>0.280967</td>\n",
       "      <td>0.195721</td>\n",
       "      <td>1.000000</td>\n",
       "      <td>0.198568</td>\n",
       "    </tr>\n",
       "    <tr>\n",
       "      <th>is_ultra</th>\n",
       "      <td>0.207122</td>\n",
       "      <td>0.206955</td>\n",
       "      <td>0.203830</td>\n",
       "      <td>0.198568</td>\n",
       "      <td>1.000000</td>\n",
       "    </tr>\n",
       "  </tbody>\n",
       "</table>\n",
       "</div>"
      ],
      "text/plain": [
       "             calls   minutes  messages   mb_used  is_ultra\n",
       "calls     1.000000  0.982083  0.177385  0.286442  0.207122\n",
       "minutes   0.982083  1.000000  0.173110  0.280967  0.206955\n",
       "messages  0.177385  0.173110  1.000000  0.195721  0.203830\n",
       "mb_used   0.286442  0.280967  0.195721  1.000000  0.198568\n",
       "is_ultra  0.207122  0.206955  0.203830  0.198568  1.000000"
      ]
     },
     "execution_count": 6,
     "metadata": {},
     "output_type": "execute_result"
    }
   ],
   "source": [
    "df.corr()"
   ]
  },
  {
   "cell_type": "markdown",
   "metadata": {},
   "source": [
    "Изменим тип в столбцах calls и messages на целочисленный. "
   ]
  },
  {
   "cell_type": "code",
   "execution_count": 7,
   "metadata": {},
   "outputs": [],
   "source": [
    "df['calls'] = df['calls'].astype('int')"
   ]
  },
  {
   "cell_type": "code",
   "execution_count": 8,
   "metadata": {},
   "outputs": [],
   "source": [
    "df['messages'] = df['messages'].astype('int')"
   ]
  },
  {
   "cell_type": "markdown",
   "metadata": {},
   "source": [
    "Итак, в таблице 5 столбцов и 3214 строки. Типы данных в столбцах — float64(2), int64(3). Количество значений в столбцах не различается, значит пропусков нет. "
   ]
  },
  {
   "cell_type": "markdown",
   "metadata": {},
   "source": [
    "Целевой признак - это 'is_ultra' (каким тарифом пользовался в течение месяца («Ультра» — 1, «Смарт» — 0). Если целевой признак категориальный, то решается задача\n",
    "классификации. У нас категории всего две, значит речь идёт о бинарной (двоичной) классификации. Посмотрим на сбалансированность классов целевого признака. \n"
   ]
  },
  {
   "cell_type": "code",
   "execution_count": 9,
   "metadata": {},
   "outputs": [
    {
     "name": "stdout",
     "output_type": "stream",
     "text": [
      "Доля класса «Ультра» составляет: 30.6%\n",
      "Доля класса «Смарт» составляет: 69.4%\n"
     ]
    }
   ],
   "source": [
    "print('Доля класса «Ультра» составляет: {:.1%}'.format(len(df[(df['is_ultra'] == 1)]) / len(df)))\n",
    "print('Доля класса «Смарт» составляет: {:.1%}'.format(len(df[(df['is_ultra'] == 0)]) / len(df)))"
   ]
  },
  {
   "cell_type": "markdown",
   "metadata": {},
   "source": [
    "Видно, что классы в целевом признаке не сбалансированы. </b>\n"
   ]
  },
  {
   "cell_type": "markdown",
   "metadata": {},
   "source": [
    "## Разбиение данных на выборки"
   ]
  },
  {
   "cell_type": "markdown",
   "metadata": {},
   "source": [
    "Данные нужно разбить на три части: обучающую, валидационную и тестовую. Исходные данные разобъем в соотношении 3:1:1. "
   ]
  },
  {
   "cell_type": "markdown",
   "metadata": {},
   "source": [
    "Объявим переменные с признаками (features) и целевым признаком (target). "
   ]
  },
  {
   "cell_type": "code",
   "execution_count": 10,
   "metadata": {},
   "outputs": [],
   "source": [
    "features = df.drop(['is_ultra'], axis=1)\n",
    "target = df['is_ultra'] "
   ]
  },
  {
   "cell_type": "code",
   "execution_count": 11,
   "metadata": {},
   "outputs": [],
   "source": [
    "features_train, features_valid, target_train, target_valid = train_test_split(features, target, \n",
    "test_size=0.4, random_state=12345, stratify = target) # отделим 60% данных для обучающей выборки\n",
    "features_valid, features_test, target_valid, target_test = train_test_split(features_valid, target_valid,\n",
    "test_size=0.5, random_state=12345, stratify = target_valid) # разобъем по 20% данных для тестовой и валидационной выборок"
   ]
  },
  {
   "cell_type": "code",
   "execution_count": 12,
   "metadata": {},
   "outputs": [
    {
     "name": "stdout",
     "output_type": "stream",
     "text": [
      "1928\n",
      "643\n",
      "643\n"
     ]
    }
   ],
   "source": [
    "print(features_train.shape[0]) # Выведим на экран размеры \n",
    "print(features_valid.shape[0])\n",
    "print(features_test.shape[0])"
   ]
  },
  {
   "cell_type": "markdown",
   "metadata": {},
   "source": [
    "## Исследование модели"
   ]
  },
  {
   "cell_type": "markdown",
   "metadata": {},
   "source": [
    "**Модель DecisionTreeClassifier - классификатор дерева решений**"
   ]
  },
  {
   "cell_type": "code",
   "execution_count": 13,
   "metadata": {},
   "outputs": [
    {
     "name": "stdout",
     "output_type": "stream",
     "text": [
      "Accuracy лучшей модели: 0.80248833592535\n",
      "Глубина дерева = 7 min_samples_split = 2 min_samples_leaf = 9\n"
     ]
    }
   ],
   "source": [
    "best_depth = 0\n",
    "best_samples_split = 0\n",
    "best_samples_leaf = 0\n",
    "best_result = 0\n",
    "for depth in range(1,20):\n",
    "    for samples_split in range (2,10):\n",
    "        for samples_leaf in range (1,10):\n",
    "            model_dr = DecisionTreeClassifier(random_state=12345, max_depth=depth, min_samples_split = samples_split,\n",
    "            min_samples_leaf = samples_leaf) # обучим модель с заданными параметрами\n",
    "            model_dr.fit(features_train, target_train) # обучим модель на тренировочной выборке\n",
    "            predictions_valid = model_dr.predict(features_valid) # получим предсказания модели\n",
    "            result = accuracy_score(target_valid, predictions_valid) # посчитаем качество модели на валидационной выборке\n",
    "            #print(\"max_depth =\", depth, \": \", end='')\n",
    "            #print(result)  \n",
    "            if result > best_result:\n",
    "                best_depth = depth\n",
    "                best_samples_split = samples_split\n",
    "                best_samples_leaf = samples_leaf\n",
    "                best_result = result \n",
    "print('Accuracy лучшей модели:', best_result)\n",
    "print('Глубина дерева =', best_depth, 'min_samples_split =', best_samples_split, 'min_samples_leaf =', best_samples_leaf)"
   ]
  },
  {
   "cell_type": "code",
   "execution_count": 14,
   "metadata": {},
   "outputs": [
    {
     "data": {
      "image/png": "[encoded data removed]",
      "text/plain": [
       "<Figure size 3500x2000 with 1 Axes>"
      ]
     },
     "metadata": {},
     "output_type": "display_data"
    }
   ],
   "source": [
    "fig = plt.figure(figsize=(35, 20))\n",
    "_ = tree.plot_tree(\n",
    "    model_dr,  \n",
    "    feature_names=list(features_train.columns.values),  \n",
    "    class_names=['Smart', 'Ultra'],\n",
    "    filled=True,\n",
    "    fontsize=15,\n",
    "    max_depth=2  \n",
    ")"
   ]
  },
  {
   "cell_type": "code",
   "execution_count": 15,
   "metadata": {},
   "outputs": [
    {
     "data": {
      "image/png": "[encoded data removed]",
      "text/plain": [
       "<Figure size 1000x600 with 1 Axes>"
      ]
     },
     "metadata": {},
     "output_type": "display_data"
    }
   ],
   "source": [
    "train_scores = []\n",
    "valid_scores = []\n",
    "max_depth = range(1,50)\n",
    "for depth in max_depth:\n",
    "    model_dr = DecisionTreeClassifier(random_state=12345, max_depth=depth) \n",
    "    model_dr.fit(features_train, target_train) \n",
    "    train_scores.append(model_dr.score(features_train, target_train))\n",
    "    valid_scores.append(model_dr.score(features_valid, target_valid))\n",
    "plt.figure(figsize=(10, 6))\n",
    "plt.plot(max_depth, train_scores, label='Train')\n",
    "plt.plot(max_depth, valid_scores, label='Validation')\n",
    "plt.title('Зависимость Accuracy от глубины дерева')\n",
    "plt.xlabel('Глубина дерева')\n",
    "plt.ylabel('Accuracy')\n",
    "plt.legend()\n",
    "plt.grid()"
   ]
  },
  {
   "cell_type": "markdown",
   "metadata": {},
   "source": [
    "При достижении определенной глубины деревьев наша доля верных ответов выходит на асимптоту. Увеличение глубины дерева приводит к переобучению модели. Точность на валидационной выборке растет до глубины 8, а потом снижается в связи с переобучением, поэтмоу оптимальная глубина дерева равна 8.  На обучающей выборке точность достигает 1 при глубине 20 и модель перестает изменяться."
   ]
  },
  {
   "cell_type": "markdown",
   "metadata": {},
   "source": [
    "**Алгоритм классификации RandomForestClassifier - классификатор случайного леса**"
   ]
  },
  {
   "cell_type": "code",
   "execution_count": 16,
   "metadata": {},
   "outputs": [
    {
     "name": "stdout",
     "output_type": "stream",
     "text": [
      "Accuracy лучшей модели: 0.7931570762052877\n",
      "CPU times: user 821 ms, sys: 38.2 ms, total: 859 ms\n",
      "Wall time: 589 ms\n"
     ]
    }
   ],
   "source": [
    "%%time\n",
    "best_est = 0\n",
    "best_result = 0\n",
    "for est in range(1, 20):\n",
    "    model = RandomForestClassifier(random_state=12345, n_estimators=est) \n",
    "    model.fit(features_train, target_train) \n",
    "    predictions_valid = model.predict(features_valid)\n",
    "    result = model.score(features_valid, target_valid) \n",
    "    #print(\"max_estimators =\", est, \": \", end='')\n",
    "    #print(result)  \n",
    "    if result > best_result:\n",
    "        best_est = est\n",
    "        best_result = result \n",
    "print(\"Accuracy лучшей модели:\", best_result)"
   ]
  },
  {
   "cell_type": "code",
   "execution_count": 17,
   "metadata": {},
   "outputs": [
    {
     "name": "stdout",
     "output_type": "stream",
     "text": [
      "Accuracy лучшей модели: 0.8227060653188181\n",
      "Глубина дерева = 9 количество деревьев = 39\n",
      "CPU times: user 45.7 s, sys: 2.57 s, total: 48.2 s\n",
      "Wall time: 50.8 s\n"
     ]
    }
   ],
   "source": [
    "%%time\n",
    "best_est = 0\n",
    "best_depth = 0\n",
    "best_result = 0\n",
    "for depth in range(1,20):\n",
    "    for est in range(1, 50):\n",
    "        model = RandomForestClassifier(random_state=12345, n_estimators=est, max_depth=depth) \n",
    "        model.fit(features_train, target_train)\n",
    "        predictions_valid = model.predict(features_valid)\n",
    "        result = model.score(features_valid, target_valid) \n",
    "        if result > best_result:\n",
    "            best_est = est\n",
    "            best_depth = depth\n",
    "            best_result = result \n",
    "print(\"Accuracy лучшей модели:\", best_result)\n",
    "print('Глубина дерева =', best_depth, 'количество деревьев =', best_est)"
   ]
  },
  {
   "cell_type": "markdown",
   "metadata": {},
   "source": [
    "**Модель LogisticRegression - логистическая регрессия**"
   ]
  },
  {
   "cell_type": "code",
   "execution_count": 18,
   "metadata": {},
   "outputs": [
    {
     "name": "stdout",
     "output_type": "stream",
     "text": [
      "Accuracy лучшей модели: 0.7387247278382582\n"
     ]
    }
   ],
   "source": [
    "model = LogisticRegression(random_state=12345, solver='lbfgs', max_iter=1000) \n",
    "model.fit(features_train, target_train) \n",
    "predictions = model.predict(features_valid)\n",
    "result = model.score(features_valid, target_valid)\n",
    "dump(model, 'model_9_1.joblib')\n",
    "print(\"Accuracy лучшей модели:\", result)"
   ]
  },
  {
   "cell_type": "markdown",
   "metadata": {},
   "source": [
    "**Вывод:** \n",
    "- Accuracy лучшей модели DecisionTreeClassifier: 0.7869362363919129 при глубине дерева = 6, min_samples_split = 2, min_samples_leaf = 4.\n",
    "- Accuracy лучшей модели RandomForestClassifier: 0.8087091757387247 при глубине дерева = 8 и количестве деревьев = 40.\n",
    "- Accuracy лучшей модели LogisticRegression: 0.7107309486780715. \n",
    "\n",
    "\n",
    "Лучший результат показывает модель RandomForestClassifier с глубиной дерева = 8 и количеством деревьев = 40."
   ]
  },
  {
   "cell_type": "markdown",
   "metadata": {},
   "source": [
    "## Проверка модели на тестовой выборке"
   ]
  },
  {
   "cell_type": "code",
   "execution_count": 21,
   "metadata": {},
   "outputs": [
    {
     "name": "stdout",
     "output_type": "stream",
     "text": [
      "Accuracy модели на тестовой выборке: 0.8087091757387247\n"
     ]
    }
   ],
   "source": [
    "model = RandomForestClassifier(random_state=12345, n_estimators=40, max_depth=8)\n",
    "model.fit(features_train, target_train)\n",
    "result_test = model.score(features_test, target_test)\n",
    "print(\"Accuracy модели на тестовой выборке:\", result_test)"
   ]
  },
  {
   "cell_type": "markdown",
   "metadata": {},
   "source": [
    "Удалось достичь accuracy не меньше 0.75"
   ]
  },
  {
   "cell_type": "markdown",
   "metadata": {},
   "source": [
    "Мы построили модель с максимально большим значением accuracy. Можно подготовить презентацию результата согласно запросу.\n",
    "В своих выводах не давать прямых указаний, ограничиться рекомендациями."
   ]
  },
  {
   "cell_type": "markdown",
   "metadata": {},
   "source": [
    "## Проверка модели на адекватность"
   ]
  },
  {
   "cell_type": "markdown",
   "metadata": {},
   "source": [
    "Чтобы проверить модель на адекватность будем использовать DummyClassifier со стратегией 'most_frequent' - этот метод всегда возвращает наиболее часто встречающуюся метку класса в обучающем наборе. \n",
    " DummyClassifier — это классификатор, который делает прогнозы, используя простые правила."
   ]
  },
  {
   "cell_type": "code",
   "execution_count": 22,
   "metadata": {},
   "outputs": [
    {
     "name": "stdout",
     "output_type": "stream",
     "text": [
      "Accuracy модели на тестовой выборке c DummyClassifier: 0.6936236391912908\n",
      "Accuracy модели на тестовой выборке: 0.8087091757387247\n"
     ]
    }
   ],
   "source": [
    "model_dummy = DummyClassifier(random_state=12345, strategy='most_frequent')\n",
    "model_dummy.fit(features_train, target_train) \n",
    "result_dummy = model_dummy.score(features_test, target_test)\n",
    "print(\"Accuracy модели на тестовой выборке c DummyClassifier:\", result_dummy)\n",
    "print(\"Accuracy модели на тестовой выборке:\", result_test)"
   ]
  },
  {
   "cell_type": "markdown",
   "metadata": {},
   "source": [
    "**Вывод:**\n",
    "\n",
    "Таким образом, мы изучили данные о поведении клиентов, которые перешли на эти тарифы «Смарт» или «Ультра». \n",
    "\n",
    "Разбили данные на на три части: обучающую, валидационную и тестовую в соотношении 3:1:1. \n",
    "\n",
    "Построили следующие модели для задачи классификации: DecisionTreeClassifier - классификатор дерева решений, RandomForestClassifier - классификатор случайного леса, LogisticRegression - логистическая регрессия. \n",
    "\n",
    "Лучший результат показала модель RandomForestClassifier - Accuracy = 0.8087091757387247 с глубиной дерева = 8 и количеством деревьев = 40.\n",
    "\n",
    "Проверили модель на тестовой выборке. Определили, что доля правильных ответов выше 0.75. \n",
    "\n",
    "Проверили модели на адекватность с помощью DummyClassifier."
   ]
  }
 ],
 "metadata": {
  "ExecuteTimeLog": [
   {
    "duration": 487,
    "start_time": "2023-04-02T09:31:53.469Z"
   },
   {
    "duration": 17,
    "start_time": "2023-04-02T09:32:13.879Z"
   },
   {
    "duration": 11,
    "start_time": "2023-04-02T09:32:26.460Z"
   },
   {
    "duration": 7,
    "start_time": "2023-04-02T09:39:34.267Z"
   },
   {
    "duration": 10,
    "start_time": "2023-04-02T09:45:46.756Z"
   },
   {
    "duration": 26,
    "start_time": "2023-04-02T09:45:49.556Z"
   },
   {
    "duration": 10,
    "start_time": "2023-04-02T09:45:51.656Z"
   },
   {
    "duration": 86,
    "start_time": "2023-04-02T09:47:48.576Z"
   },
   {
    "duration": 67,
    "start_time": "2023-04-02T10:22:15.337Z"
   },
   {
    "duration": 783,
    "start_time": "2023-04-02T10:22:24.043Z"
   },
   {
    "duration": 5,
    "start_time": "2023-04-02T10:22:30.238Z"
   },
   {
    "duration": 8,
    "start_time": "2023-04-02T10:31:23.548Z"
   },
   {
    "duration": 21,
    "start_time": "2023-04-02T10:31:36.501Z"
   },
   {
    "duration": 14,
    "start_time": "2023-04-02T10:32:21.697Z"
   },
   {
    "duration": 20,
    "start_time": "2023-04-02T10:32:46.532Z"
   },
   {
    "duration": 29,
    "start_time": "2023-04-02T10:32:57.457Z"
   },
   {
    "duration": 20,
    "start_time": "2023-04-02T10:38:46.307Z"
   },
   {
    "duration": 20,
    "start_time": "2023-04-02T10:39:29.637Z"
   },
   {
    "duration": 49,
    "start_time": "2023-04-02T10:41:59.723Z"
   },
   {
    "duration": 8,
    "start_time": "2023-04-02T10:42:21.976Z"
   },
   {
    "duration": 8,
    "start_time": "2023-04-02T10:45:01.322Z"
   },
   {
    "duration": 7,
    "start_time": "2023-04-02T10:45:07.428Z"
   },
   {
    "duration": 9,
    "start_time": "2023-04-02T10:45:13.697Z"
   },
   {
    "duration": 1515,
    "start_time": "2023-04-02T12:54:13.286Z"
   },
   {
    "duration": 137,
    "start_time": "2023-04-02T12:54:14.805Z"
   },
   {
    "duration": 33,
    "start_time": "2023-04-02T12:54:14.944Z"
   },
   {
    "duration": 22,
    "start_time": "2023-04-02T12:54:14.981Z"
   },
   {
    "duration": 36,
    "start_time": "2023-04-02T12:54:15.005Z"
   },
   {
    "duration": 17,
    "start_time": "2023-04-02T12:54:15.044Z"
   },
   {
    "duration": 36,
    "start_time": "2023-04-02T12:54:15.063Z"
   },
   {
    "duration": 12,
    "start_time": "2023-04-02T12:54:32.001Z"
   },
   {
    "duration": 9,
    "start_time": "2023-04-02T12:54:50.526Z"
   },
   {
    "duration": 8,
    "start_time": "2023-04-02T13:15:28.446Z"
   },
   {
    "duration": 1021,
    "start_time": "2023-04-04T18:49:16.293Z"
   },
   {
    "duration": 140,
    "start_time": "2023-04-04T18:49:17.316Z"
   },
   {
    "duration": 20,
    "start_time": "2023-04-04T18:49:17.458Z"
   },
   {
    "duration": 9,
    "start_time": "2023-04-04T18:49:17.480Z"
   },
   {
    "duration": 4,
    "start_time": "2023-04-04T18:49:17.491Z"
   },
   {
    "duration": 5,
    "start_time": "2023-04-04T18:49:17.496Z"
   },
   {
    "duration": 8,
    "start_time": "2023-04-04T18:49:17.502Z"
   },
   {
    "duration": 6,
    "start_time": "2023-04-04T18:49:17.511Z"
   },
   {
    "duration": 128,
    "start_time": "2023-04-04T18:54:07.033Z"
   },
   {
    "duration": 3,
    "start_time": "2023-04-04T18:54:44.481Z"
   },
   {
    "duration": 16,
    "start_time": "2023-04-04T18:54:47.329Z"
   },
   {
    "duration": 3,
    "start_time": "2023-04-04T18:55:16.476Z"
   },
   {
    "duration": 38,
    "start_time": "2023-04-04T18:55:19.038Z"
   },
   {
    "duration": 499,
    "start_time": "2023-04-04T18:55:57.034Z"
   },
   {
    "duration": 470,
    "start_time": "2023-04-04T18:58:33.667Z"
   },
   {
    "duration": 12,
    "start_time": "2023-04-04T18:59:47.878Z"
   },
   {
    "duration": 12,
    "start_time": "2023-04-04T19:00:05.928Z"
   },
   {
    "duration": 12,
    "start_time": "2023-04-04T19:00:34.169Z"
   },
   {
    "duration": 467,
    "start_time": "2023-04-04T19:04:57.677Z"
   },
   {
    "duration": 421,
    "start_time": "2023-04-04T19:05:10.504Z"
   },
   {
    "duration": 486,
    "start_time": "2023-04-04T19:05:16.442Z"
   },
   {
    "duration": 429,
    "start_time": "2023-04-04T19:05:22.004Z"
   },
   {
    "duration": 530,
    "start_time": "2023-04-04T19:05:30.273Z"
   },
   {
    "duration": 979,
    "start_time": "2023-04-04T19:07:00.124Z"
   },
   {
    "duration": 440,
    "start_time": "2023-04-04T19:07:07.190Z"
   },
   {
    "duration": 248,
    "start_time": "2023-04-04T19:07:12.672Z"
   },
   {
    "duration": 152,
    "start_time": "2023-04-04T19:07:17.011Z"
   },
   {
    "duration": 151,
    "start_time": "2023-04-04T19:08:34.220Z"
   },
   {
    "duration": 154,
    "start_time": "2023-04-04T19:12:42.458Z"
   },
   {
    "duration": 196,
    "start_time": "2023-04-04T19:13:02.061Z"
   },
   {
    "duration": 151,
    "start_time": "2023-04-04T19:13:41.910Z"
   },
   {
    "duration": 156,
    "start_time": "2023-04-04T19:13:52.513Z"
   },
   {
    "duration": 150,
    "start_time": "2023-04-04T19:14:52.803Z"
   },
   {
    "duration": 139,
    "start_time": "2023-04-04T19:14:58.455Z"
   },
   {
    "duration": 137,
    "start_time": "2023-04-04T19:15:10.804Z"
   },
   {
    "duration": 142,
    "start_time": "2023-04-04T19:27:09.498Z"
   },
   {
    "duration": 2,
    "start_time": "2023-04-04T19:30:09.755Z"
   },
   {
    "duration": 719,
    "start_time": "2023-04-04T19:39:38.602Z"
   },
   {
    "duration": 136,
    "start_time": "2023-04-04T19:50:41.278Z"
   },
   {
    "duration": 70,
    "start_time": "2023-04-04T19:50:50.463Z"
   },
   {
    "duration": 8,
    "start_time": "2023-04-04T19:51:21.782Z"
   },
   {
    "duration": 3,
    "start_time": "2023-04-04T19:51:35.475Z"
   },
   {
    "duration": 8,
    "start_time": "2023-04-04T19:51:39.200Z"
   },
   {
    "duration": 23,
    "start_time": "2023-04-04T19:52:20.569Z"
   },
   {
    "duration": 4,
    "start_time": "2023-04-04T19:53:23.388Z"
   },
   {
    "duration": 101,
    "start_time": "2023-04-04T19:53:26.666Z"
   },
   {
    "duration": 26,
    "start_time": "2023-04-04T19:53:32.315Z"
   },
   {
    "duration": 85,
    "start_time": "2023-04-04T19:53:35.496Z"
   },
   {
    "duration": 49,
    "start_time": "2023-04-05T14:57:52.558Z"
   },
   {
    "duration": 1114,
    "start_time": "2023-04-05T14:58:01.568Z"
   },
   {
    "duration": 196,
    "start_time": "2023-04-05T14:58:02.684Z"
   },
   {
    "duration": 18,
    "start_time": "2023-04-05T14:58:02.882Z"
   },
   {
    "duration": 23,
    "start_time": "2023-04-05T14:58:02.902Z"
   },
   {
    "duration": 41,
    "start_time": "2023-04-05T14:58:02.927Z"
   },
   {
    "duration": 33,
    "start_time": "2023-04-05T14:58:02.970Z"
   },
   {
    "duration": 32,
    "start_time": "2023-04-05T14:58:03.005Z"
   },
   {
    "duration": 36,
    "start_time": "2023-04-05T14:58:03.039Z"
   },
   {
    "duration": 204,
    "start_time": "2023-04-05T14:58:03.077Z"
   },
   {
    "duration": 868,
    "start_time": "2023-04-05T14:58:03.283Z"
   },
   {
    "duration": 105,
    "start_time": "2023-04-05T14:58:04.153Z"
   },
   {
    "duration": 166,
    "start_time": "2023-04-05T15:13:10.202Z"
   },
   {
    "duration": 174,
    "start_time": "2023-04-05T15:13:21.564Z"
   },
   {
    "duration": 189,
    "start_time": "2023-04-05T15:22:59.130Z"
   },
   {
    "duration": 169,
    "start_time": "2023-04-05T15:24:00.955Z"
   },
   {
    "duration": 171,
    "start_time": "2023-04-05T15:24:04.890Z"
   },
   {
    "duration": 846,
    "start_time": "2023-04-05T15:24:12.268Z"
   },
   {
    "duration": 165,
    "start_time": "2023-04-05T15:25:32.060Z"
   },
   {
    "duration": 204,
    "start_time": "2023-04-05T15:25:44.211Z"
   },
   {
    "duration": 168,
    "start_time": "2023-04-05T15:25:54.580Z"
   },
   {
    "duration": 5,
    "start_time": "2023-04-05T15:52:17.370Z"
   },
   {
    "duration": 12,
    "start_time": "2023-04-05T15:52:19.350Z"
   },
   {
    "duration": 4,
    "start_time": "2023-04-05T15:52:23.079Z"
   },
   {
    "duration": 5,
    "start_time": "2023-04-05T15:52:24.421Z"
   },
   {
    "duration": 7,
    "start_time": "2023-04-05T15:52:26.011Z"
   },
   {
    "duration": 169,
    "start_time": "2023-04-05T15:52:43.069Z"
   },
   {
    "duration": 1475,
    "start_time": "2023-04-06T11:50:53.905Z"
   },
   {
    "duration": 161,
    "start_time": "2023-04-06T11:50:55.386Z"
   },
   {
    "duration": 27,
    "start_time": "2023-04-06T11:50:55.550Z"
   },
   {
    "duration": 12,
    "start_time": "2023-04-06T11:50:55.579Z"
   },
   {
    "duration": 4,
    "start_time": "2023-04-06T11:50:55.593Z"
   },
   {
    "duration": 5,
    "start_time": "2023-04-06T11:50:55.599Z"
   },
   {
    "duration": 168,
    "start_time": "2023-04-06T11:50:55.606Z"
   },
   {
    "duration": 0,
    "start_time": "2023-04-06T11:50:55.776Z"
   },
   {
    "duration": 0,
    "start_time": "2023-04-06T11:50:55.778Z"
   },
   {
    "duration": 0,
    "start_time": "2023-04-06T11:50:55.779Z"
   },
   {
    "duration": 0,
    "start_time": "2023-04-06T11:50:55.780Z"
   },
   {
    "duration": 0,
    "start_time": "2023-04-06T11:50:55.781Z"
   },
   {
    "duration": 0,
    "start_time": "2023-04-06T11:50:55.783Z"
   },
   {
    "duration": 0,
    "start_time": "2023-04-06T11:50:55.784Z"
   },
   {
    "duration": 0,
    "start_time": "2023-04-06T11:50:55.785Z"
   },
   {
    "duration": 10,
    "start_time": "2023-04-06T11:51:08.230Z"
   },
   {
    "duration": 8,
    "start_time": "2023-04-06T11:51:11.515Z"
   },
   {
    "duration": 5,
    "start_time": "2023-04-06T11:51:23.759Z"
   },
   {
    "duration": 4,
    "start_time": "2023-04-06T11:51:35.051Z"
   },
   {
    "duration": 1362,
    "start_time": "2023-04-06T11:52:37.583Z"
   },
   {
    "duration": 47,
    "start_time": "2023-04-06T11:52:38.950Z"
   },
   {
    "duration": 23,
    "start_time": "2023-04-06T11:52:38.998Z"
   },
   {
    "duration": 25,
    "start_time": "2023-04-06T11:52:39.022Z"
   },
   {
    "duration": 26,
    "start_time": "2023-04-06T11:52:39.051Z"
   },
   {
    "duration": 8,
    "start_time": "2023-04-06T11:52:39.079Z"
   },
   {
    "duration": 8,
    "start_time": "2023-04-06T11:52:39.089Z"
   },
   {
    "duration": 15,
    "start_time": "2023-04-06T11:52:39.099Z"
   },
   {
    "duration": 7,
    "start_time": "2023-04-06T11:52:39.117Z"
   },
   {
    "duration": 233,
    "start_time": "2023-04-06T11:52:39.126Z"
   },
   {
    "duration": 219,
    "start_time": "2023-04-06T11:52:39.361Z"
   },
   {
    "duration": 1064,
    "start_time": "2023-04-06T11:52:39.581Z"
   },
   {
    "duration": 209,
    "start_time": "2023-04-06T11:52:40.655Z"
   },
   {
    "duration": 1047,
    "start_time": "2023-04-06T12:11:30.234Z"
   },
   {
    "duration": 189,
    "start_time": "2023-04-06T12:27:51.213Z"
   },
   {
    "duration": 188,
    "start_time": "2023-04-06T12:28:59.570Z"
   },
   {
    "duration": 126,
    "start_time": "2023-04-06T12:29:48.948Z"
   },
   {
    "duration": 203,
    "start_time": "2023-04-06T12:29:57.783Z"
   },
   {
    "duration": 197,
    "start_time": "2023-04-06T12:30:27.251Z"
   },
   {
    "duration": 613,
    "start_time": "2023-04-06T12:40:44.949Z"
   },
   {
    "duration": 47,
    "start_time": "2023-04-10T09:30:16.826Z"
   },
   {
    "duration": 1220,
    "start_time": "2023-04-10T09:30:22.706Z"
   },
   {
    "duration": 65,
    "start_time": "2023-04-10T09:30:23.928Z"
   },
   {
    "duration": 18,
    "start_time": "2023-04-10T09:30:23.995Z"
   },
   {
    "duration": 12,
    "start_time": "2023-04-10T09:30:24.015Z"
   },
   {
    "duration": 7,
    "start_time": "2023-04-10T09:30:24.030Z"
   },
   {
    "duration": 7,
    "start_time": "2023-04-10T09:30:24.039Z"
   },
   {
    "duration": 12,
    "start_time": "2023-04-10T09:30:24.048Z"
   },
   {
    "duration": 12,
    "start_time": "2023-04-10T09:30:24.062Z"
   },
   {
    "duration": 17,
    "start_time": "2023-04-10T09:30:24.075Z"
   },
   {
    "duration": 183,
    "start_time": "2023-04-10T09:30:24.093Z"
   },
   {
    "duration": 844,
    "start_time": "2023-04-10T09:30:24.278Z"
   },
   {
    "duration": 552,
    "start_time": "2023-04-10T09:30:25.124Z"
   },
   {
    "duration": 28,
    "start_time": "2023-04-10T09:30:25.678Z"
   },
   {
    "duration": 26,
    "start_time": "2023-04-10T09:31:32.246Z"
   },
   {
    "duration": 25,
    "start_time": "2023-04-10T09:39:30.694Z"
   },
   {
    "duration": 121,
    "start_time": "2023-04-10T09:39:48.323Z"
   },
   {
    "duration": 26,
    "start_time": "2023-04-10T09:39:55.884Z"
   },
   {
    "duration": 25,
    "start_time": "2023-04-10T09:40:27.791Z"
   },
   {
    "duration": 24,
    "start_time": "2023-04-10T09:40:30.032Z"
   },
   {
    "duration": 727,
    "start_time": "2023-04-10T09:41:28.692Z"
   },
   {
    "duration": 546,
    "start_time": "2023-04-10T09:41:32.744Z"
   },
   {
    "duration": 856,
    "start_time": "2023-04-10T09:42:04.741Z"
   },
   {
    "duration": 547,
    "start_time": "2023-04-10T09:42:13.760Z"
   },
   {
    "duration": 2891,
    "start_time": "2023-04-10T09:44:34.250Z"
   },
   {
    "duration": 3090,
    "start_time": "2023-04-10T09:46:16.326Z"
   },
   {
    "duration": 2959,
    "start_time": "2023-04-10T09:46:51.478Z"
   },
   {
    "duration": 165,
    "start_time": "2023-04-10T09:47:43.213Z"
   },
   {
    "duration": 163,
    "start_time": "2023-04-10T09:48:01.583Z"
   },
   {
    "duration": 160,
    "start_time": "2023-04-10T09:48:22.731Z"
   },
   {
    "duration": 163,
    "start_time": "2023-04-10T09:48:52.453Z"
   },
   {
    "duration": 157,
    "start_time": "2023-04-10T09:48:56.539Z"
   },
   {
    "duration": 38,
    "start_time": "2023-04-10T09:57:41.313Z"
   },
   {
    "duration": 190,
    "start_time": "2023-04-10T09:58:30.924Z"
   },
   {
    "duration": 196,
    "start_time": "2023-04-10T09:58:39.714Z"
   },
   {
    "duration": 202,
    "start_time": "2023-04-10T09:58:44.722Z"
   },
   {
    "duration": 188,
    "start_time": "2023-04-10T09:59:09.307Z"
   },
   {
    "duration": 169,
    "start_time": "2023-04-10T09:59:33.600Z"
   },
   {
    "duration": 605,
    "start_time": "2023-04-10T10:00:10.672Z"
   },
   {
    "duration": 86,
    "start_time": "2023-04-10T10:00:50.096Z"
   },
   {
    "duration": 16704,
    "start_time": "2023-04-10T10:01:21.764Z"
   },
   {
    "duration": 651,
    "start_time": "2023-04-10T10:01:42.054Z"
   },
   {
    "duration": 16783,
    "start_time": "2023-04-10T10:02:25.423Z"
   },
   {
    "duration": 4854,
    "start_time": "2023-04-10T10:04:42.757Z"
   },
   {
    "duration": 612,
    "start_time": "2023-04-10T10:05:53.922Z"
   },
   {
    "duration": 676,
    "start_time": "2023-04-10T10:07:22.178Z"
   },
   {
    "duration": 854,
    "start_time": "2023-04-10T10:07:43.376Z"
   },
   {
    "duration": 13571,
    "start_time": "2023-04-10T10:08:13.879Z"
   },
   {
    "duration": 169,
    "start_time": "2023-04-10T10:09:45.614Z"
   },
   {
    "duration": 173,
    "start_time": "2023-04-10T10:12:30.326Z"
   },
   {
    "duration": 13292,
    "start_time": "2023-04-10T10:15:00.649Z"
   },
   {
    "duration": 13284,
    "start_time": "2023-04-10T10:15:49.702Z"
   },
   {
    "duration": 20161,
    "start_time": "2023-04-10T10:16:16.719Z"
   },
   {
    "duration": 20518,
    "start_time": "2023-04-10T10:16:53.168Z"
   },
   {
    "duration": 13701,
    "start_time": "2023-04-10T10:17:18.997Z"
   },
   {
    "duration": 21469,
    "start_time": "2023-04-10T10:17:50.111Z"
   },
   {
    "duration": 20767,
    "start_time": "2023-04-10T10:19:58.694Z"
   },
   {
    "duration": 966,
    "start_time": "2023-04-10T10:24:16.106Z"
   },
   {
    "duration": 1114,
    "start_time": "2023-04-10T10:25:05.381Z"
   },
   {
    "duration": 971,
    "start_time": "2023-04-10T10:25:36.329Z"
   },
   {
    "duration": 1041,
    "start_time": "2023-04-10T10:25:47.358Z"
   },
   {
    "duration": 11133,
    "start_time": "2023-04-10T10:26:14.524Z"
   },
   {
    "duration": 639,
    "start_time": "2023-04-10T10:28:16.779Z"
   },
   {
    "duration": 173,
    "start_time": "2023-04-10T10:28:22.359Z"
   },
   {
    "duration": 21,
    "start_time": "2023-04-10T10:36:34.747Z"
   },
   {
    "duration": 52,
    "start_time": "2023-04-10T10:36:43.871Z"
   },
   {
    "duration": 57,
    "start_time": "2023-04-10T10:38:11.062Z"
   },
   {
    "duration": 53,
    "start_time": "2023-04-10T10:38:56.146Z"
   },
   {
    "duration": 52,
    "start_time": "2023-04-10T10:39:11.687Z"
   },
   {
    "duration": 130,
    "start_time": "2023-04-10T10:39:19.805Z"
   },
   {
    "duration": 52,
    "start_time": "2023-04-10T10:52:47.706Z"
   },
   {
    "duration": 101,
    "start_time": "2023-04-10T10:52:50.064Z"
   },
   {
    "duration": 11661,
    "start_time": "2023-04-10T10:53:08.858Z"
   },
   {
    "duration": 11837,
    "start_time": "2023-04-10T10:54:38.729Z"
   },
   {
    "duration": 11482,
    "start_time": "2023-04-10T10:55:16.404Z"
   },
   {
    "duration": 11930,
    "start_time": "2023-04-10T10:55:48.685Z"
   },
   {
    "duration": 11605,
    "start_time": "2023-04-10T10:56:40.061Z"
   },
   {
    "duration": 11685,
    "start_time": "2023-04-10T10:57:25.079Z"
   },
   {
    "duration": 953,
    "start_time": "2023-04-10T11:08:02.211Z"
   },
   {
    "duration": 14069,
    "start_time": "2023-04-10T11:08:12.103Z"
   },
   {
    "duration": 1149,
    "start_time": "2023-04-10T11:15:54.961Z"
   },
   {
    "duration": 42,
    "start_time": "2023-04-10T11:15:56.112Z"
   },
   {
    "duration": 17,
    "start_time": "2023-04-10T11:15:56.156Z"
   },
   {
    "duration": 19,
    "start_time": "2023-04-10T11:15:56.175Z"
   },
   {
    "duration": 17,
    "start_time": "2023-04-10T11:15:56.196Z"
   },
   {
    "duration": 5,
    "start_time": "2023-04-10T11:15:56.215Z"
   },
   {
    "duration": 6,
    "start_time": "2023-04-10T11:15:56.221Z"
   },
   {
    "duration": 8,
    "start_time": "2023-04-10T11:15:56.228Z"
   },
   {
    "duration": 6,
    "start_time": "2023-04-10T11:15:56.238Z"
   },
   {
    "duration": 11362,
    "start_time": "2023-04-10T11:15:56.247Z"
   },
   {
    "duration": 918,
    "start_time": "2023-04-10T11:16:07.611Z"
   },
   {
    "duration": 1108,
    "start_time": "2023-04-10T11:19:01.689Z"
   },
   {
    "duration": 27,
    "start_time": "2023-04-10T11:19:02.800Z"
   },
   {
    "duration": 22,
    "start_time": "2023-04-10T11:19:02.828Z"
   },
   {
    "duration": 12,
    "start_time": "2023-04-10T11:19:02.855Z"
   },
   {
    "duration": 4,
    "start_time": "2023-04-10T11:19:02.869Z"
   },
   {
    "duration": 8,
    "start_time": "2023-04-10T11:19:02.875Z"
   },
   {
    "duration": 5,
    "start_time": "2023-04-10T11:19:02.885Z"
   },
   {
    "duration": 11,
    "start_time": "2023-04-10T11:19:02.891Z"
   },
   {
    "duration": 6,
    "start_time": "2023-04-10T11:19:02.904Z"
   },
   {
    "duration": 11404,
    "start_time": "2023-04-10T11:19:02.912Z"
   },
   {
    "duration": 886,
    "start_time": "2023-04-10T11:19:14.318Z"
   },
   {
    "duration": 78416,
    "start_time": "2023-04-10T11:19:15.206Z"
   },
   {
    "duration": 38,
    "start_time": "2023-04-10T11:20:33.623Z"
   },
   {
    "duration": 926,
    "start_time": "2023-04-10T11:25:11.391Z"
   },
   {
    "duration": 80158,
    "start_time": "2023-04-10T11:25:22.938Z"
   },
   {
    "duration": 20692,
    "start_time": "2023-04-10T11:27:40.107Z"
   },
   {
    "duration": 28,
    "start_time": "2023-04-10T11:28:02.021Z"
   },
   {
    "duration": 94,
    "start_time": "2023-04-10T11:30:07.069Z"
   },
   {
    "duration": 114,
    "start_time": "2023-04-10T11:30:55.254Z"
   },
   {
    "duration": 85,
    "start_time": "2023-04-10T11:31:03.165Z"
   },
   {
    "duration": 93,
    "start_time": "2023-04-10T11:31:05.904Z"
   },
   {
    "duration": 24,
    "start_time": "2023-04-10T11:31:16.354Z"
   },
   {
    "duration": 10887,
    "start_time": "2023-04-10T11:39:20.517Z"
   },
   {
    "duration": 10966,
    "start_time": "2023-04-10T11:40:56.084Z"
   },
   {
    "duration": 82261,
    "start_time": "2023-04-10T11:44:14.737Z"
   },
   {
    "duration": 1058,
    "start_time": "2023-04-10T11:45:37.000Z"
   },
   {
    "duration": 82099,
    "start_time": "2023-04-10T11:45:59.757Z"
   },
   {
    "duration": 154,
    "start_time": "2023-04-10T11:51:55.555Z"
   },
   {
    "duration": 140,
    "start_time": "2023-04-10T11:52:55.428Z"
   },
   {
    "duration": 160,
    "start_time": "2023-04-10T11:53:00.518Z"
   },
   {
    "duration": 183,
    "start_time": "2023-04-10T11:53:16.576Z"
   },
   {
    "duration": 283,
    "start_time": "2023-04-10T11:53:27.072Z"
   },
   {
    "duration": 678,
    "start_time": "2023-04-10T11:53:31.493Z"
   },
   {
    "duration": 445,
    "start_time": "2023-04-10T11:53:43.491Z"
   },
   {
    "duration": 112646,
    "start_time": "2023-04-10T11:54:30.674Z"
   },
   {
    "duration": 91283,
    "start_time": "2023-04-10T11:57:13.232Z"
   },
   {
    "duration": 81148,
    "start_time": "2023-04-10T11:58:50.683Z"
   },
   {
    "duration": 1117,
    "start_time": "2023-04-10T12:02:46.440Z"
   },
   {
    "duration": 27,
    "start_time": "2023-04-10T12:02:47.559Z"
   },
   {
    "duration": 16,
    "start_time": "2023-04-10T12:02:47.588Z"
   },
   {
    "duration": 11,
    "start_time": "2023-04-10T12:02:47.606Z"
   },
   {
    "duration": 22,
    "start_time": "2023-04-10T12:02:47.620Z"
   },
   {
    "duration": 6,
    "start_time": "2023-04-10T12:02:47.644Z"
   },
   {
    "duration": 9,
    "start_time": "2023-04-10T12:02:47.652Z"
   },
   {
    "duration": 8,
    "start_time": "2023-04-10T12:02:47.663Z"
   },
   {
    "duration": 4,
    "start_time": "2023-04-10T12:02:47.673Z"
   },
   {
    "duration": 10745,
    "start_time": "2023-04-10T12:02:47.678Z"
   },
   {
    "duration": 935,
    "start_time": "2023-04-10T12:02:58.425Z"
   },
   {
    "duration": 80531,
    "start_time": "2023-04-10T12:02:59.363Z"
   },
   {
    "duration": 91586,
    "start_time": "2023-04-10T12:04:19.897Z"
   },
   {
    "duration": 80531,
    "start_time": "2023-04-10T12:05:51.485Z"
   },
   {
    "duration": 79,
    "start_time": "2023-04-10T12:07:12.018Z"
   },
   {
    "duration": 158,
    "start_time": "2023-04-10T12:07:12.099Z"
   },
   {
    "duration": 25,
    "start_time": "2023-04-10T12:12:24.807Z"
   },
   {
    "duration": 108,
    "start_time": "2023-04-10T12:12:57.981Z"
   },
   {
    "duration": 21,
    "start_time": "2023-04-10T12:13:01.586Z"
   },
   {
    "duration": 11,
    "start_time": "2023-04-10T13:02:30.436Z"
   },
   {
    "duration": 3,
    "start_time": "2023-04-10T13:02:47.196Z"
   },
   {
    "duration": 16,
    "start_time": "2023-04-10T13:02:50.555Z"
   },
   {
    "duration": 1105,
    "start_time": "2023-04-10T13:03:05.059Z"
   },
   {
    "duration": 27,
    "start_time": "2023-04-10T13:03:06.166Z"
   },
   {
    "duration": 20,
    "start_time": "2023-04-10T13:03:06.195Z"
   },
   {
    "duration": 13,
    "start_time": "2023-04-10T13:03:06.216Z"
   },
   {
    "duration": 14,
    "start_time": "2023-04-10T13:03:06.232Z"
   },
   {
    "duration": 26,
    "start_time": "2023-04-10T13:03:06.247Z"
   },
   {
    "duration": 31,
    "start_time": "2023-04-10T13:03:06.275Z"
   },
   {
    "duration": 16,
    "start_time": "2023-04-10T13:03:06.308Z"
   },
   {
    "duration": 21,
    "start_time": "2023-04-10T13:03:06.327Z"
   },
   {
    "duration": 10858,
    "start_time": "2023-04-10T13:03:06.349Z"
   },
   {
    "duration": 918,
    "start_time": "2023-04-10T13:03:17.212Z"
   },
   {
    "duration": 80669,
    "start_time": "2023-04-10T13:03:18.132Z"
   },
   {
    "duration": 82,
    "start_time": "2023-04-10T13:04:38.803Z"
   },
   {
    "duration": 8,
    "start_time": "2023-04-10T13:04:38.888Z"
   },
   {
    "duration": 19,
    "start_time": "2023-04-10T13:04:38.897Z"
   },
   {
    "duration": 4,
    "start_time": "2023-04-10T13:08:02.632Z"
   },
   {
    "duration": 6,
    "start_time": "2023-04-10T13:08:26.913Z"
   },
   {
    "duration": 123,
    "start_time": "2023-04-10T13:11:05.325Z"
   },
   {
    "duration": 14,
    "start_time": "2023-04-10T13:11:09.990Z"
   },
   {
    "duration": 15,
    "start_time": "2023-04-10T13:12:09.146Z"
   },
   {
    "duration": 6,
    "start_time": "2023-04-10T13:39:08.080Z"
   },
   {
    "duration": 2545,
    "start_time": "2023-04-10T13:55:42.172Z"
   },
   {
    "duration": 25,
    "start_time": "2023-04-10T13:55:44.719Z"
   },
   {
    "duration": 19,
    "start_time": "2023-04-10T13:55:44.746Z"
   },
   {
    "duration": 31,
    "start_time": "2023-04-10T13:55:44.767Z"
   },
   {
    "duration": 5,
    "start_time": "2023-04-10T13:55:44.799Z"
   },
   {
    "duration": 10,
    "start_time": "2023-04-10T13:55:44.806Z"
   },
   {
    "duration": 14,
    "start_time": "2023-04-10T13:55:44.817Z"
   },
   {
    "duration": 15,
    "start_time": "2023-04-10T13:55:44.832Z"
   },
   {
    "duration": 10,
    "start_time": "2023-04-10T13:55:44.849Z"
   },
   {
    "duration": 9967,
    "start_time": "2023-04-10T13:55:44.863Z"
   },
   {
    "duration": 862,
    "start_time": "2023-04-10T13:55:54.835Z"
   },
   {
    "duration": 76034,
    "start_time": "2023-04-10T13:55:55.699Z"
   },
   {
    "duration": 96,
    "start_time": "2023-04-10T13:57:11.736Z"
   },
   {
    "duration": 124,
    "start_time": "2023-04-10T13:57:11.833Z"
   },
   {
    "duration": 7,
    "start_time": "2023-04-10T13:57:11.958Z"
   },
   {
    "duration": 1282,
    "start_time": "2023-04-17T14:41:45.190Z"
   },
   {
    "duration": 79,
    "start_time": "2023-04-17T14:41:46.475Z"
   },
   {
    "duration": 18,
    "start_time": "2023-04-17T14:41:46.555Z"
   },
   {
    "duration": 13,
    "start_time": "2023-04-17T14:41:46.575Z"
   },
   {
    "duration": 31,
    "start_time": "2023-04-17T14:41:46.592Z"
   },
   {
    "duration": 4,
    "start_time": "2023-04-17T14:41:46.625Z"
   },
   {
    "duration": 7,
    "start_time": "2023-04-17T14:41:46.630Z"
   },
   {
    "duration": 4,
    "start_time": "2023-04-17T14:41:46.639Z"
   },
   {
    "duration": 11,
    "start_time": "2023-04-17T14:41:46.645Z"
   },
   {
    "duration": 36,
    "start_time": "2023-04-17T14:41:46.657Z"
   },
   {
    "duration": 12171,
    "start_time": "2023-04-17T14:41:46.695Z"
   },
   {
    "duration": 1050,
    "start_time": "2023-04-17T14:41:58.868Z"
   },
   {
    "duration": 91133,
    "start_time": "2023-04-17T14:41:59.921Z"
   },
   {
    "duration": 105,
    "start_time": "2023-04-17T14:43:31.056Z"
   },
   {
    "duration": 149,
    "start_time": "2023-04-17T14:43:31.162Z"
   },
   {
    "duration": 8,
    "start_time": "2023-04-17T14:43:31.313Z"
   },
   {
    "duration": 76,
    "start_time": "2023-04-17T14:56:15.190Z"
   },
   {
    "duration": 8,
    "start_time": "2023-04-17T15:09:43.725Z"
   },
   {
    "duration": 4,
    "start_time": "2023-04-17T15:09:46.451Z"
   },
   {
    "duration": 8,
    "start_time": "2023-04-17T15:09:51.836Z"
   },
   {
    "duration": 1192,
    "start_time": "2023-04-17T15:09:56.193Z"
   },
   {
    "duration": 30,
    "start_time": "2023-04-17T15:09:57.387Z"
   },
   {
    "duration": 20,
    "start_time": "2023-04-17T15:09:57.419Z"
   },
   {
    "duration": 13,
    "start_time": "2023-04-17T15:09:57.441Z"
   },
   {
    "duration": 36,
    "start_time": "2023-04-17T15:09:57.456Z"
   },
   {
    "duration": 3,
    "start_time": "2023-04-17T15:09:57.494Z"
   },
   {
    "duration": 9,
    "start_time": "2023-04-17T15:09:57.499Z"
   },
   {
    "duration": 8,
    "start_time": "2023-04-17T15:09:57.510Z"
   },
   {
    "duration": 15,
    "start_time": "2023-04-17T15:09:57.520Z"
   },
   {
    "duration": 8,
    "start_time": "2023-04-17T15:09:57.537Z"
   },
   {
    "duration": 10681,
    "start_time": "2023-04-17T15:09:57.547Z"
   },
   {
    "duration": 881,
    "start_time": "2023-04-17T15:10:08.231Z"
   },
   {
    "duration": 78849,
    "start_time": "2023-04-17T15:10:09.114Z"
   },
   {
    "duration": 104,
    "start_time": "2023-04-17T15:11:27.965Z"
   },
   {
    "duration": 136,
    "start_time": "2023-04-17T15:11:28.071Z"
   },
   {
    "duration": 8,
    "start_time": "2023-04-17T15:11:28.209Z"
   },
   {
    "duration": 861,
    "start_time": "2023-04-17T15:12:54.189Z"
   },
   {
    "duration": 77546,
    "start_time": "2023-04-17T15:13:03.888Z"
   },
   {
    "duration": 10,
    "start_time": "2023-04-17T15:23:42.937Z"
   },
   {
    "duration": 7,
    "start_time": "2023-04-18T07:58:59.945Z"
   },
   {
    "duration": 1025,
    "start_time": "2023-04-18T07:59:06.318Z"
   },
   {
    "duration": 116,
    "start_time": "2023-04-18T07:59:07.345Z"
   },
   {
    "duration": 15,
    "start_time": "2023-04-18T07:59:07.462Z"
   },
   {
    "duration": 13,
    "start_time": "2023-04-18T07:59:07.479Z"
   },
   {
    "duration": 22,
    "start_time": "2023-04-18T07:59:07.493Z"
   },
   {
    "duration": 8,
    "start_time": "2023-04-18T07:59:07.517Z"
   },
   {
    "duration": 5,
    "start_time": "2023-04-18T07:59:07.526Z"
   },
   {
    "duration": 14,
    "start_time": "2023-04-18T07:59:07.532Z"
   },
   {
    "duration": 5,
    "start_time": "2023-04-18T07:59:07.547Z"
   },
   {
    "duration": 24,
    "start_time": "2023-04-18T07:59:07.553Z"
   },
   {
    "duration": 13,
    "start_time": "2023-04-18T07:59:07.578Z"
   },
   {
    "duration": 10630,
    "start_time": "2023-04-18T07:59:07.592Z"
   },
   {
    "duration": 2,
    "start_time": "2023-04-18T07:59:18.223Z"
   },
   {
    "duration": 845,
    "start_time": "2023-04-18T07:59:18.227Z"
   },
   {
    "duration": 75696,
    "start_time": "2023-04-18T07:59:19.074Z"
   },
   {
    "duration": 121,
    "start_time": "2023-04-18T08:00:34.772Z"
   },
   {
    "duration": 117,
    "start_time": "2023-04-18T08:00:34.895Z"
   },
   {
    "duration": 5,
    "start_time": "2023-04-18T08:00:35.013Z"
   },
   {
    "duration": 99,
    "start_time": "2023-04-18T08:04:10.851Z"
   },
   {
    "duration": 470,
    "start_time": "2023-04-18T08:04:26.644Z"
   },
   {
    "duration": 4,
    "start_time": "2023-04-18T08:05:22.818Z"
   },
   {
    "duration": 4,
    "start_time": "2023-04-18T08:18:44.974Z"
   },
   {
    "duration": 413,
    "start_time": "2023-04-18T08:22:52.071Z"
   },
   {
    "duration": 400,
    "start_time": "2023-04-18T08:23:05.327Z"
   },
   {
    "duration": 295,
    "start_time": "2023-04-18T08:23:18.921Z"
   },
   {
    "duration": 436,
    "start_time": "2023-04-18T08:24:15.460Z"
   },
   {
    "duration": 130,
    "start_time": "2023-04-18T08:25:18.025Z"
   },
   {
    "duration": 151,
    "start_time": "2023-04-18T08:25:57.122Z"
   },
   {
    "duration": 80,
    "start_time": "2023-04-18T08:29:05.712Z"
   },
   {
    "duration": 107,
    "start_time": "2023-04-18T08:29:19.277Z"
   },
   {
    "duration": 220,
    "start_time": "2023-04-18T08:39:57.516Z"
   },
   {
    "duration": 9,
    "start_time": "2023-04-18T08:51:56.023Z"
   },
   {
    "duration": 10,
    "start_time": "2023-04-18T08:52:10.687Z"
   },
   {
    "duration": 2,
    "start_time": "2023-04-18T08:52:25.634Z"
   },
   {
    "duration": 50,
    "start_time": "2023-04-18T09:11:14.871Z"
   },
   {
    "duration": 88,
    "start_time": "2023-04-18T09:11:21.047Z"
   },
   {
    "duration": 47,
    "start_time": "2023-04-18T09:11:38.422Z"
   },
   {
    "duration": 54,
    "start_time": "2023-04-18T09:11:45.950Z"
   },
   {
    "duration": 69,
    "start_time": "2023-04-18T09:11:52.025Z"
   },
   {
    "duration": 842,
    "start_time": "2023-04-18T09:12:13.992Z"
   },
   {
    "duration": 1732,
    "start_time": "2023-04-18T09:12:30.429Z"
   },
   {
    "duration": 1518,
    "start_time": "2023-04-18T09:12:34.776Z"
   },
   {
    "duration": 1413,
    "start_time": "2023-04-18T09:14:08.246Z"
   },
   {
    "duration": 1007,
    "start_time": "2023-04-18T09:14:20.761Z"
   },
   {
    "duration": 1017,
    "start_time": "2023-04-18T09:17:07.332Z"
   },
   {
    "duration": 1256,
    "start_time": "2023-04-18T09:28:38.659Z"
   },
   {
    "duration": 1043,
    "start_time": "2023-04-18T09:29:10.028Z"
   },
   {
    "duration": 1275,
    "start_time": "2023-04-18T09:29:24.228Z"
   },
   {
    "duration": 105,
    "start_time": "2023-04-18T09:32:49.836Z"
   },
   {
    "duration": 44,
    "start_time": "2023-04-18T09:33:10.882Z"
   },
   {
    "duration": 8,
    "start_time": "2023-04-18T09:33:46.216Z"
   },
   {
    "duration": 6,
    "start_time": "2023-04-18T09:40:17.420Z"
   },
   {
    "duration": 5,
    "start_time": "2023-04-18T09:48:11.888Z"
   },
   {
    "duration": 6,
    "start_time": "2023-04-18T09:49:48.533Z"
   },
   {
    "duration": 6,
    "start_time": "2023-04-18T09:51:23.790Z"
   },
   {
    "duration": 6,
    "start_time": "2023-04-18T10:01:12.946Z"
   },
   {
    "duration": 6,
    "start_time": "2023-04-18T10:01:19.924Z"
   },
   {
    "duration": 9,
    "start_time": "2023-04-18T10:01:23.482Z"
   },
   {
    "duration": 6,
    "start_time": "2023-04-18T10:01:26.360Z"
   },
   {
    "duration": 5,
    "start_time": "2023-04-18T10:01:28.800Z"
   },
   {
    "duration": 5,
    "start_time": "2023-04-18T10:01:37.027Z"
   },
   {
    "duration": 0,
    "start_time": "2023-04-18T10:13:07.081Z"
   },
   {
    "duration": 16,
    "start_time": "2023-04-18T11:51:05.179Z"
   },
   {
    "duration": 19,
    "start_time": "2023-04-18T11:51:14.963Z"
   },
   {
    "duration": 16,
    "start_time": "2023-04-18T11:56:04.943Z"
   },
   {
    "duration": 12,
    "start_time": "2023-04-18T11:57:04.632Z"
   },
   {
    "duration": 19,
    "start_time": "2023-04-18T11:57:32.856Z"
   },
   {
    "duration": 19,
    "start_time": "2023-04-18T11:57:49.692Z"
   },
   {
    "duration": 1392,
    "start_time": "2023-04-18T11:59:10.375Z"
   },
   {
    "duration": 33,
    "start_time": "2023-04-18T11:59:11.769Z"
   },
   {
    "duration": 14,
    "start_time": "2023-04-18T11:59:11.804Z"
   },
   {
    "duration": 10,
    "start_time": "2023-04-18T11:59:11.820Z"
   },
   {
    "duration": 23,
    "start_time": "2023-04-18T11:59:11.832Z"
   },
   {
    "duration": 9,
    "start_time": "2023-04-18T11:59:11.857Z"
   },
   {
    "duration": 6,
    "start_time": "2023-04-18T11:59:11.872Z"
   },
   {
    "duration": 21,
    "start_time": "2023-04-18T11:59:11.880Z"
   },
   {
    "duration": 9,
    "start_time": "2023-04-18T11:59:11.903Z"
   },
   {
    "duration": 6,
    "start_time": "2023-04-18T11:59:11.915Z"
   },
   {
    "duration": 32,
    "start_time": "2023-04-18T11:59:11.922Z"
   },
   {
    "duration": 17,
    "start_time": "2023-04-18T11:59:11.955Z"
   },
   {
    "duration": 11190,
    "start_time": "2023-04-18T11:59:11.973Z"
   },
   {
    "duration": 271,
    "start_time": "2023-04-18T11:59:23.164Z"
   },
   {
    "duration": 138,
    "start_time": "2023-04-18T11:59:23.437Z"
   },
   {
    "duration": 0,
    "start_time": "2023-04-18T11:59:23.578Z"
   },
   {
    "duration": 0,
    "start_time": "2023-04-18T11:59:23.580Z"
   },
   {
    "duration": 0,
    "start_time": "2023-04-18T11:59:23.582Z"
   },
   {
    "duration": 0,
    "start_time": "2023-04-18T11:59:23.583Z"
   },
   {
    "duration": 0,
    "start_time": "2023-04-18T11:59:23.584Z"
   },
   {
    "duration": 19,
    "start_time": "2023-04-18T12:01:29.699Z"
   },
   {
    "duration": 9,
    "start_time": "2023-04-18T12:03:35.148Z"
   },
   {
    "duration": 17,
    "start_time": "2023-04-18T12:03:46.414Z"
   },
   {
    "duration": 3,
    "start_time": "2023-04-18T12:06:01.370Z"
   },
   {
    "duration": 584,
    "start_time": "2023-04-18T12:06:31.649Z"
   },
   {
    "duration": 165,
    "start_time": "2023-04-18T12:06:46.229Z"
   },
   {
    "duration": 167,
    "start_time": "2023-04-18T12:06:55.335Z"
   },
   {
    "duration": 213,
    "start_time": "2023-04-18T12:07:03.892Z"
   },
   {
    "duration": 613,
    "start_time": "2023-04-18T12:08:58.165Z"
   },
   {
    "duration": 675,
    "start_time": "2023-04-18T12:09:59.932Z"
   },
   {
    "duration": 804,
    "start_time": "2023-04-18T12:14:08.788Z"
   },
   {
    "duration": 686,
    "start_time": "2023-04-18T12:14:54.847Z"
   },
   {
    "duration": 688,
    "start_time": "2023-04-18T12:15:22.349Z"
   },
   {
    "duration": 698,
    "start_time": "2023-04-18T12:17:13.841Z"
   },
   {
    "duration": 735,
    "start_time": "2023-04-18T12:18:09.445Z"
   },
   {
    "duration": 770,
    "start_time": "2023-04-18T12:18:19.109Z"
   },
   {
    "duration": 659,
    "start_time": "2023-04-18T12:18:23.092Z"
   },
   {
    "duration": 665,
    "start_time": "2023-04-18T12:18:26.568Z"
   },
   {
    "duration": 689,
    "start_time": "2023-04-18T12:18:34.598Z"
   },
   {
    "duration": 712,
    "start_time": "2023-04-18T12:22:49.834Z"
   },
   {
    "duration": 680,
    "start_time": "2023-04-18T12:23:07.328Z"
   },
   {
    "duration": 692,
    "start_time": "2023-04-18T12:24:06.333Z"
   },
   {
    "duration": 806,
    "start_time": "2023-04-18T12:24:11.535Z"
   },
   {
    "duration": 691,
    "start_time": "2023-04-18T12:24:16.735Z"
   },
   {
    "duration": 6,
    "start_time": "2023-04-18T12:27:33.471Z"
   },
   {
    "duration": 67,
    "start_time": "2023-04-18T12:57:14.843Z"
   },
   {
    "duration": 1330,
    "start_time": "2023-04-18T15:21:03.841Z"
   },
   {
    "duration": 41,
    "start_time": "2023-04-18T15:21:05.173Z"
   },
   {
    "duration": 12,
    "start_time": "2023-04-18T15:21:05.216Z"
   },
   {
    "duration": 9,
    "start_time": "2023-04-18T15:21:05.230Z"
   },
   {
    "duration": 35,
    "start_time": "2023-04-18T15:21:05.241Z"
   },
   {
    "duration": 11,
    "start_time": "2023-04-18T15:21:05.278Z"
   },
   {
    "duration": 17,
    "start_time": "2023-04-18T15:21:05.290Z"
   },
   {
    "duration": 7,
    "start_time": "2023-04-18T15:21:05.309Z"
   },
   {
    "duration": 20,
    "start_time": "2023-04-18T15:21:05.317Z"
   },
   {
    "duration": 6,
    "start_time": "2023-04-18T15:21:05.338Z"
   },
   {
    "duration": 13,
    "start_time": "2023-04-18T15:21:05.346Z"
   },
   {
    "duration": 12,
    "start_time": "2023-04-18T15:21:05.360Z"
   },
   {
    "duration": 11500,
    "start_time": "2023-04-18T15:21:05.374Z"
   },
   {
    "duration": 264,
    "start_time": "2023-04-18T15:21:16.876Z"
   },
   {
    "duration": 753,
    "start_time": "2023-04-18T15:21:17.142Z"
   },
   {
    "duration": 879,
    "start_time": "2023-04-18T15:21:17.896Z"
   },
   {
    "duration": 76352,
    "start_time": "2023-04-18T15:21:18.776Z"
   },
   {
    "duration": 75,
    "start_time": "2023-04-18T15:22:35.130Z"
   },
   {
    "duration": 123,
    "start_time": "2023-04-18T15:22:35.206Z"
   },
   {
    "duration": 5,
    "start_time": "2023-04-18T15:22:35.330Z"
   }
  ],
  "kernelspec": {
   "display_name": "Python 3 (ipykernel)",
   "language": "python",
   "name": "python3"
  },
  "language_info": {
   "codemirror_mode": {
    "name": "ipython",
    "version": 3
   },
   "file_extension": ".py",
   "mimetype": "text/x-python",
   "name": "python",
   "nbconvert_exporter": "python",
   "pygments_lexer": "ipython3",
   "version": "3.10.9"
  },
  "toc": {
   "base_numbering": 1,
   "nav_menu": {},
   "number_sections": true,
   "sideBar": true,
   "skip_h1_title": true,
   "title_cell": "Table of Contents",
   "title_sidebar": "Contents",
   "toc_cell": false,
   "toc_position": {},
   "toc_section_display": true,
   "toc_window_display": false
  }
 },
 "nbformat": 4,
 "nbformat_minor": 2
}
