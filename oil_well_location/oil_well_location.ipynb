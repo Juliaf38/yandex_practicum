{
 "cells": [
  {
   "cell_type": "markdown",
   "metadata": {},
   "source": [
    "# Выбор локации для скважины"
   ]
  },
  {
   "cell_type": "markdown",
   "metadata": {},
   "source": [
    "Допустим, мы работаем в добывающей компании «ГлавРосГосНефть». Нужно решить, где бурить новую скважину.\n",
    "\n",
    "Нам предоставлены пробы нефти в трёх регионах: в каждом 10 000 месторождений, где измерили качество нефти и объём её запасов. Необходимо построить модель машинного обучения, которая поможет определить регион, где добыча принесёт наибольшую прибыль. Проанализируйте возможную прибыль и риски техникой *Bootstrap.*\n",
    "\n",
    "Шаги для выбора локации:\n",
    "\n",
    "- В избранном регионе ищут месторождения, для каждого определяют значения признаков;\n",
    "- Строят модель и оценивают объём запасов;\n",
    "- Выбирают месторождения с самым высокими оценками значений. Количество месторождений зависит от бюджета компании и стоимости разработки одной скважины;\n",
    "- Прибыль равна суммарной прибыли отобранных месторождений."
   ]
  },
  {
   "cell_type": "markdown",
   "metadata": {},
   "source": [
    "## Загрузка и подготовка данных"
   ]
  },
  {
   "cell_type": "markdown",
   "metadata": {},
   "source": [
    "Импортируем необходимые библиотеки."
   ]
  },
  {
   "cell_type": "code",
   "execution_count": 1,
   "metadata": {},
   "outputs": [],
   "source": [
    "import numpy as np\n",
    "import pandas as pd\n",
    "import matplotlib.pyplot as plt\n",
    "import seaborn as sns\n",
    "\n",
    "from sklearn.linear_model import LinearRegression\n",
    "from sklearn.metrics import mean_squared_error\n",
    "from sklearn.model_selection import train_test_split"
   ]
  },
  {
   "cell_type": "code",
   "execution_count": 2,
   "metadata": {},
   "outputs": [],
   "source": [
    "df_0 = pd.read_csv('/datasets/geo_data_0.csv') # прочитаем csv-файл"
   ]
  },
  {
   "cell_type": "code",
   "execution_count": 3,
   "metadata": {},
   "outputs": [
    {
     "data": {
      "text/html": [
       "<div>\n",
       "<style scoped>\n",
       "    .dataframe tbody tr th:only-of-type {\n",
       "        vertical-align: middle;\n",
       "    }\n",
       "\n",
       "    .dataframe tbody tr th {\n",
       "        vertical-align: top;\n",
       "    }\n",
       "\n",
       "    .dataframe thead th {\n",
       "        text-align: right;\n",
       "    }\n",
       "</style>\n",
       "<table border=\"1\" class=\"dataframe\">\n",
       "  <thead>\n",
       "    <tr style=\"text-align: right;\">\n",
       "      <th></th>\n",
       "      <th>id</th>\n",
       "      <th>f0</th>\n",
       "      <th>f1</th>\n",
       "      <th>f2</th>\n",
       "      <th>product</th>\n",
       "    </tr>\n",
       "  </thead>\n",
       "  <tbody>\n",
       "    <tr>\n",
       "      <th>0</th>\n",
       "      <td>txEyH</td>\n",
       "      <td>0.705745</td>\n",
       "      <td>-0.497823</td>\n",
       "      <td>1.221170</td>\n",
       "      <td>105.280062</td>\n",
       "    </tr>\n",
       "    <tr>\n",
       "      <th>1</th>\n",
       "      <td>2acmU</td>\n",
       "      <td>1.334711</td>\n",
       "      <td>-0.340164</td>\n",
       "      <td>4.365080</td>\n",
       "      <td>73.037750</td>\n",
       "    </tr>\n",
       "    <tr>\n",
       "      <th>2</th>\n",
       "      <td>409Wp</td>\n",
       "      <td>1.022732</td>\n",
       "      <td>0.151990</td>\n",
       "      <td>1.419926</td>\n",
       "      <td>85.265647</td>\n",
       "    </tr>\n",
       "    <tr>\n",
       "      <th>3</th>\n",
       "      <td>iJLyR</td>\n",
       "      <td>-0.032172</td>\n",
       "      <td>0.139033</td>\n",
       "      <td>2.978566</td>\n",
       "      <td>168.620776</td>\n",
       "    </tr>\n",
       "    <tr>\n",
       "      <th>4</th>\n",
       "      <td>Xdl7t</td>\n",
       "      <td>1.988431</td>\n",
       "      <td>0.155413</td>\n",
       "      <td>4.751769</td>\n",
       "      <td>154.036647</td>\n",
       "    </tr>\n",
       "  </tbody>\n",
       "</table>\n",
       "</div>"
      ],
      "text/plain": [
       "      id        f0        f1        f2     product\n",
       "0  txEyH  0.705745 -0.497823  1.221170  105.280062\n",
       "1  2acmU  1.334711 -0.340164  4.365080   73.037750\n",
       "2  409Wp  1.022732  0.151990  1.419926   85.265647\n",
       "3  iJLyR -0.032172  0.139033  2.978566  168.620776\n",
       "4  Xdl7t  1.988431  0.155413  4.751769  154.036647"
      ]
     },
     "execution_count": 3,
     "metadata": {},
     "output_type": "execute_result"
    }
   ],
   "source": [
    "df_0.head() # Выведем первые 5 строчек датафрейма df_0 на экран."
   ]
  },
  {
   "cell_type": "code",
   "execution_count": 4,
   "metadata": {},
   "outputs": [
    {
     "name": "stdout",
     "output_type": "stream",
     "text": [
      "<class 'pandas.core.frame.DataFrame'>\n",
      "RangeIndex: 100000 entries, 0 to 99999\n",
      "Data columns (total 5 columns):\n",
      " #   Column   Non-Null Count   Dtype  \n",
      "---  ------   --------------   -----  \n",
      " 0   id       100000 non-null  object \n",
      " 1   f0       100000 non-null  float64\n",
      " 2   f1       100000 non-null  float64\n",
      " 3   f2       100000 non-null  float64\n",
      " 4   product  100000 non-null  float64\n",
      "dtypes: float64(4), object(1)\n",
      "memory usage: 3.8+ MB\n"
     ]
    }
   ],
   "source": [
    "df_0.info() # Выведем основную информацию для датафрейма df_0 "
   ]
  },
  {
   "cell_type": "code",
   "execution_count": 5,
   "metadata": {},
   "outputs": [
    {
     "data": {
      "text/html": [
       "<div>\n",
       "<style scoped>\n",
       "    .dataframe tbody tr th:only-of-type {\n",
       "        vertical-align: middle;\n",
       "    }\n",
       "\n",
       "    .dataframe tbody tr th {\n",
       "        vertical-align: top;\n",
       "    }\n",
       "\n",
       "    .dataframe thead th {\n",
       "        text-align: right;\n",
       "    }\n",
       "</style>\n",
       "<table border=\"1\" class=\"dataframe\">\n",
       "  <thead>\n",
       "    <tr style=\"text-align: right;\">\n",
       "      <th></th>\n",
       "      <th>f0</th>\n",
       "      <th>f1</th>\n",
       "      <th>f2</th>\n",
       "      <th>product</th>\n",
       "    </tr>\n",
       "  </thead>\n",
       "  <tbody>\n",
       "    <tr>\n",
       "      <th>count</th>\n",
       "      <td>100000.000000</td>\n",
       "      <td>100000.000000</td>\n",
       "      <td>100000.000000</td>\n",
       "      <td>100000.000000</td>\n",
       "    </tr>\n",
       "    <tr>\n",
       "      <th>mean</th>\n",
       "      <td>0.500419</td>\n",
       "      <td>0.250143</td>\n",
       "      <td>2.502647</td>\n",
       "      <td>92.500000</td>\n",
       "    </tr>\n",
       "    <tr>\n",
       "      <th>std</th>\n",
       "      <td>0.871832</td>\n",
       "      <td>0.504433</td>\n",
       "      <td>3.248248</td>\n",
       "      <td>44.288691</td>\n",
       "    </tr>\n",
       "    <tr>\n",
       "      <th>min</th>\n",
       "      <td>-1.408605</td>\n",
       "      <td>-0.848218</td>\n",
       "      <td>-12.088328</td>\n",
       "      <td>0.000000</td>\n",
       "    </tr>\n",
       "    <tr>\n",
       "      <th>25%</th>\n",
       "      <td>-0.072580</td>\n",
       "      <td>-0.200881</td>\n",
       "      <td>0.287748</td>\n",
       "      <td>56.497507</td>\n",
       "    </tr>\n",
       "    <tr>\n",
       "      <th>50%</th>\n",
       "      <td>0.502360</td>\n",
       "      <td>0.250252</td>\n",
       "      <td>2.515969</td>\n",
       "      <td>91.849972</td>\n",
       "    </tr>\n",
       "    <tr>\n",
       "      <th>75%</th>\n",
       "      <td>1.073581</td>\n",
       "      <td>0.700646</td>\n",
       "      <td>4.715088</td>\n",
       "      <td>128.564089</td>\n",
       "    </tr>\n",
       "    <tr>\n",
       "      <th>max</th>\n",
       "      <td>2.362331</td>\n",
       "      <td>1.343769</td>\n",
       "      <td>16.003790</td>\n",
       "      <td>185.364347</td>\n",
       "    </tr>\n",
       "  </tbody>\n",
       "</table>\n",
       "</div>"
      ],
      "text/plain": [
       "                  f0             f1             f2        product\n",
       "count  100000.000000  100000.000000  100000.000000  100000.000000\n",
       "mean        0.500419       0.250143       2.502647      92.500000\n",
       "std         0.871832       0.504433       3.248248      44.288691\n",
       "min        -1.408605      -0.848218     -12.088328       0.000000\n",
       "25%        -0.072580      -0.200881       0.287748      56.497507\n",
       "50%         0.502360       0.250252       2.515969      91.849972\n",
       "75%         1.073581       0.700646       4.715088     128.564089\n",
       "max         2.362331       1.343769      16.003790     185.364347"
      ]
     },
     "execution_count": 5,
     "metadata": {},
     "output_type": "execute_result"
    }
   ],
   "source": [
    "df_0.describe()"
   ]
  },
  {
   "cell_type": "code",
   "execution_count": 6,
   "metadata": {},
   "outputs": [
    {
     "data": {
      "image/png": "[encoded data removed]",
      "text/plain": [
       "<Figure size 504x360 with 4 Axes>"
      ]
     },
     "metadata": {
      "needs_background": "light"
     },
     "output_type": "display_data"
    }
   ],
   "source": [
    "df_0.hist(figsize=(7,5));"
   ]
  },
  {
   "cell_type": "markdown",
   "metadata": {},
   "source": [
    "Данные распределены нормально, во всех столбцах значение медианы практически равно среднему значению."
   ]
  },
  {
   "cell_type": "code",
   "execution_count": 7,
   "metadata": {},
   "outputs": [
    {
     "data": {
      "text/html": [
       "<div>\n",
       "<style scoped>\n",
       "    .dataframe tbody tr th:only-of-type {\n",
       "        vertical-align: middle;\n",
       "    }\n",
       "\n",
       "    .dataframe tbody tr th {\n",
       "        vertical-align: top;\n",
       "    }\n",
       "\n",
       "    .dataframe thead th {\n",
       "        text-align: right;\n",
       "    }\n",
       "</style>\n",
       "<table border=\"1\" class=\"dataframe\">\n",
       "  <thead>\n",
       "    <tr style=\"text-align: right;\">\n",
       "      <th></th>\n",
       "      <th>f0</th>\n",
       "      <th>f1</th>\n",
       "      <th>f2</th>\n",
       "      <th>product</th>\n",
       "    </tr>\n",
       "  </thead>\n",
       "  <tbody>\n",
       "    <tr>\n",
       "      <th>f0</th>\n",
       "      <td>1.000000</td>\n",
       "      <td>-0.440723</td>\n",
       "      <td>-0.003153</td>\n",
       "      <td>0.143536</td>\n",
       "    </tr>\n",
       "    <tr>\n",
       "      <th>f1</th>\n",
       "      <td>-0.440723</td>\n",
       "      <td>1.000000</td>\n",
       "      <td>0.001724</td>\n",
       "      <td>-0.192356</td>\n",
       "    </tr>\n",
       "    <tr>\n",
       "      <th>f2</th>\n",
       "      <td>-0.003153</td>\n",
       "      <td>0.001724</td>\n",
       "      <td>1.000000</td>\n",
       "      <td>0.483663</td>\n",
       "    </tr>\n",
       "    <tr>\n",
       "      <th>product</th>\n",
       "      <td>0.143536</td>\n",
       "      <td>-0.192356</td>\n",
       "      <td>0.483663</td>\n",
       "      <td>1.000000</td>\n",
       "    </tr>\n",
       "  </tbody>\n",
       "</table>\n",
       "</div>"
      ],
      "text/plain": [
       "               f0        f1        f2   product\n",
       "f0       1.000000 -0.440723 -0.003153  0.143536\n",
       "f1      -0.440723  1.000000  0.001724 -0.192356\n",
       "f2      -0.003153  0.001724  1.000000  0.483663\n",
       "product  0.143536 -0.192356  0.483663  1.000000"
      ]
     },
     "execution_count": 7,
     "metadata": {},
     "output_type": "execute_result"
    }
   ],
   "source": [
    "df_0.corr()"
   ]
  },
  {
   "cell_type": "code",
   "execution_count": 40,
   "metadata": {},
   "outputs": [
    {
     "data": {
      "image/png": "[encoded data removed]",
      "text/plain": [
       "<Figure size 432x288 with 2 Axes>"
      ]
     },
     "metadata": {
      "needs_background": "light"
     },
     "output_type": "display_data"
    }
   ],
   "source": [
    "sns.heatmap(df_0.corr(), annot = True);"
   ]
  },
  {
   "cell_type": "markdown",
   "metadata": {},
   "source": [
    "Есть небольшая корреляция между product и f2 = 0.48"
   ]
  },
  {
   "cell_type": "code",
   "execution_count": 9,
   "metadata": {},
   "outputs": [],
   "source": [
    "df_1 = pd.read_csv('/datasets/geo_data_1.csv') # прочитаем csv-файл"
   ]
  },
  {
   "cell_type": "code",
   "execution_count": 10,
   "metadata": {},
   "outputs": [
    {
     "data": {
      "text/html": [
       "<div>\n",
       "<style scoped>\n",
       "    .dataframe tbody tr th:only-of-type {\n",
       "        vertical-align: middle;\n",
       "    }\n",
       "\n",
       "    .dataframe tbody tr th {\n",
       "        vertical-align: top;\n",
       "    }\n",
       "\n",
       "    .dataframe thead th {\n",
       "        text-align: right;\n",
       "    }\n",
       "</style>\n",
       "<table border=\"1\" class=\"dataframe\">\n",
       "  <thead>\n",
       "    <tr style=\"text-align: right;\">\n",
       "      <th></th>\n",
       "      <th>id</th>\n",
       "      <th>f0</th>\n",
       "      <th>f1</th>\n",
       "      <th>f2</th>\n",
       "      <th>product</th>\n",
       "    </tr>\n",
       "  </thead>\n",
       "  <tbody>\n",
       "    <tr>\n",
       "      <th>0</th>\n",
       "      <td>kBEdx</td>\n",
       "      <td>-15.001348</td>\n",
       "      <td>-8.276000</td>\n",
       "      <td>-0.005876</td>\n",
       "      <td>3.179103</td>\n",
       "    </tr>\n",
       "    <tr>\n",
       "      <th>1</th>\n",
       "      <td>62mP7</td>\n",
       "      <td>14.272088</td>\n",
       "      <td>-3.475083</td>\n",
       "      <td>0.999183</td>\n",
       "      <td>26.953261</td>\n",
       "    </tr>\n",
       "    <tr>\n",
       "      <th>2</th>\n",
       "      <td>vyE1P</td>\n",
       "      <td>6.263187</td>\n",
       "      <td>-5.948386</td>\n",
       "      <td>5.001160</td>\n",
       "      <td>134.766305</td>\n",
       "    </tr>\n",
       "    <tr>\n",
       "      <th>3</th>\n",
       "      <td>KcrkZ</td>\n",
       "      <td>-13.081196</td>\n",
       "      <td>-11.506057</td>\n",
       "      <td>4.999415</td>\n",
       "      <td>137.945408</td>\n",
       "    </tr>\n",
       "    <tr>\n",
       "      <th>4</th>\n",
       "      <td>AHL4O</td>\n",
       "      <td>12.702195</td>\n",
       "      <td>-8.147433</td>\n",
       "      <td>5.004363</td>\n",
       "      <td>134.766305</td>\n",
       "    </tr>\n",
       "  </tbody>\n",
       "</table>\n",
       "</div>"
      ],
      "text/plain": [
       "      id         f0         f1        f2     product\n",
       "0  kBEdx -15.001348  -8.276000 -0.005876    3.179103\n",
       "1  62mP7  14.272088  -3.475083  0.999183   26.953261\n",
       "2  vyE1P   6.263187  -5.948386  5.001160  134.766305\n",
       "3  KcrkZ -13.081196 -11.506057  4.999415  137.945408\n",
       "4  AHL4O  12.702195  -8.147433  5.004363  134.766305"
      ]
     },
     "execution_count": 10,
     "metadata": {},
     "output_type": "execute_result"
    }
   ],
   "source": [
    "df_1.head() # Выведем первые 5 строчек датафрейма df_1 на экран."
   ]
  },
  {
   "cell_type": "code",
   "execution_count": 11,
   "metadata": {},
   "outputs": [
    {
     "name": "stdout",
     "output_type": "stream",
     "text": [
      "<class 'pandas.core.frame.DataFrame'>\n",
      "RangeIndex: 100000 entries, 0 to 99999\n",
      "Data columns (total 5 columns):\n",
      " #   Column   Non-Null Count   Dtype  \n",
      "---  ------   --------------   -----  \n",
      " 0   id       100000 non-null  object \n",
      " 1   f0       100000 non-null  float64\n",
      " 2   f1       100000 non-null  float64\n",
      " 3   f2       100000 non-null  float64\n",
      " 4   product  100000 non-null  float64\n",
      "dtypes: float64(4), object(1)\n",
      "memory usage: 3.8+ MB\n"
     ]
    }
   ],
   "source": [
    "df_1.info() # Выведем основную информацию для датафрейма df_1 с помощью метода info()"
   ]
  },
  {
   "cell_type": "code",
   "execution_count": 12,
   "metadata": {},
   "outputs": [
    {
     "data": {
      "text/html": [
       "<div>\n",
       "<style scoped>\n",
       "    .dataframe tbody tr th:only-of-type {\n",
       "        vertical-align: middle;\n",
       "    }\n",
       "\n",
       "    .dataframe tbody tr th {\n",
       "        vertical-align: top;\n",
       "    }\n",
       "\n",
       "    .dataframe thead th {\n",
       "        text-align: right;\n",
       "    }\n",
       "</style>\n",
       "<table border=\"1\" class=\"dataframe\">\n",
       "  <thead>\n",
       "    <tr style=\"text-align: right;\">\n",
       "      <th></th>\n",
       "      <th>f0</th>\n",
       "      <th>f1</th>\n",
       "      <th>f2</th>\n",
       "      <th>product</th>\n",
       "    </tr>\n",
       "  </thead>\n",
       "  <tbody>\n",
       "    <tr>\n",
       "      <th>count</th>\n",
       "      <td>100000.000000</td>\n",
       "      <td>100000.000000</td>\n",
       "      <td>100000.000000</td>\n",
       "      <td>100000.000000</td>\n",
       "    </tr>\n",
       "    <tr>\n",
       "      <th>mean</th>\n",
       "      <td>1.141296</td>\n",
       "      <td>-4.796579</td>\n",
       "      <td>2.494541</td>\n",
       "      <td>68.825000</td>\n",
       "    </tr>\n",
       "    <tr>\n",
       "      <th>std</th>\n",
       "      <td>8.965932</td>\n",
       "      <td>5.119872</td>\n",
       "      <td>1.703572</td>\n",
       "      <td>45.944423</td>\n",
       "    </tr>\n",
       "    <tr>\n",
       "      <th>min</th>\n",
       "      <td>-31.609576</td>\n",
       "      <td>-26.358598</td>\n",
       "      <td>-0.018144</td>\n",
       "      <td>0.000000</td>\n",
       "    </tr>\n",
       "    <tr>\n",
       "      <th>25%</th>\n",
       "      <td>-6.298551</td>\n",
       "      <td>-8.267985</td>\n",
       "      <td>1.000021</td>\n",
       "      <td>26.953261</td>\n",
       "    </tr>\n",
       "    <tr>\n",
       "      <th>50%</th>\n",
       "      <td>1.153055</td>\n",
       "      <td>-4.813172</td>\n",
       "      <td>2.011479</td>\n",
       "      <td>57.085625</td>\n",
       "    </tr>\n",
       "    <tr>\n",
       "      <th>75%</th>\n",
       "      <td>8.621015</td>\n",
       "      <td>-1.332816</td>\n",
       "      <td>3.999904</td>\n",
       "      <td>107.813044</td>\n",
       "    </tr>\n",
       "    <tr>\n",
       "      <th>max</th>\n",
       "      <td>29.421755</td>\n",
       "      <td>18.734063</td>\n",
       "      <td>5.019721</td>\n",
       "      <td>137.945408</td>\n",
       "    </tr>\n",
       "  </tbody>\n",
       "</table>\n",
       "</div>"
      ],
      "text/plain": [
       "                  f0             f1             f2        product\n",
       "count  100000.000000  100000.000000  100000.000000  100000.000000\n",
       "mean        1.141296      -4.796579       2.494541      68.825000\n",
       "std         8.965932       5.119872       1.703572      45.944423\n",
       "min       -31.609576     -26.358598      -0.018144       0.000000\n",
       "25%        -6.298551      -8.267985       1.000021      26.953261\n",
       "50%         1.153055      -4.813172       2.011479      57.085625\n",
       "75%         8.621015      -1.332816       3.999904     107.813044\n",
       "max        29.421755      18.734063       5.019721     137.945408"
      ]
     },
     "execution_count": 12,
     "metadata": {},
     "output_type": "execute_result"
    }
   ],
   "source": [
    "df_1.describe()"
   ]
  },
  {
   "cell_type": "code",
   "execution_count": 13,
   "metadata": {},
   "outputs": [
    {
     "data": {
      "image/png": "[encoded data removed]",
      "text/plain": [
       "<Figure size 504x360 with 4 Axes>"
      ]
     },
     "metadata": {
      "needs_background": "light"
     },
     "output_type": "display_data"
    }
   ],
   "source": [
    "df_1.hist(figsize=(7,5));"
   ]
  },
  {
   "cell_type": "markdown",
   "metadata": {},
   "source": [
    "Столбцы f0 и f1 распределены нормально, f2 и product имеют пики в графиках, неизвестно, что они означают."
   ]
  },
  {
   "cell_type": "code",
   "execution_count": 46,
   "metadata": {},
   "outputs": [
    {
     "data": {
      "text/plain": [
       "3.996243    1\n",
       "4.003988    1\n",
       "1.996189    1\n",
       "0.996936    1\n",
       "3.998589    1\n",
       "           ..\n",
       "1.004759    1\n",
       "4.997377    1\n",
       "3.003466    1\n",
       "0.001041    1\n",
       "4.992682    1\n",
       "Name: f2, Length: 100000, dtype: int64"
      ]
     },
     "execution_count": 46,
     "metadata": {},
     "output_type": "execute_result"
    }
   ],
   "source": [
    "df_1['f2'].value_counts()"
   ]
  },
  {
   "cell_type": "code",
   "execution_count": 55,
   "metadata": {},
   "outputs": [
    {
     "data": {
      "text/plain": [
       "53.906522     8472\n",
       "26.953261     8468\n",
       "84.038886     8431\n",
       "57.085625     8390\n",
       "3.179103      8337\n",
       "80.859783     8320\n",
       "30.132364     8306\n",
       "134.766305    8304\n",
       "110.992147    8303\n",
       "0.000000      8235\n",
       "137.945408    8233\n",
       "107.813044    8201\n",
       "Name: product, dtype: int64"
      ]
     },
     "execution_count": 55,
     "metadata": {},
     "output_type": "execute_result"
    }
   ],
   "source": [
    "df_1['product'].value_counts()"
   ]
  },
  {
   "cell_type": "code",
   "execution_count": 14,
   "metadata": {},
   "outputs": [
    {
     "data": {
      "text/html": [
       "<div>\n",
       "<style scoped>\n",
       "    .dataframe tbody tr th:only-of-type {\n",
       "        vertical-align: middle;\n",
       "    }\n",
       "\n",
       "    .dataframe tbody tr th {\n",
       "        vertical-align: top;\n",
       "    }\n",
       "\n",
       "    .dataframe thead th {\n",
       "        text-align: right;\n",
       "    }\n",
       "</style>\n",
       "<table border=\"1\" class=\"dataframe\">\n",
       "  <thead>\n",
       "    <tr style=\"text-align: right;\">\n",
       "      <th></th>\n",
       "      <th>f0</th>\n",
       "      <th>f1</th>\n",
       "      <th>f2</th>\n",
       "      <th>product</th>\n",
       "    </tr>\n",
       "  </thead>\n",
       "  <tbody>\n",
       "    <tr>\n",
       "      <th>f0</th>\n",
       "      <td>1.000000</td>\n",
       "      <td>0.182287</td>\n",
       "      <td>-0.001777</td>\n",
       "      <td>-0.030491</td>\n",
       "    </tr>\n",
       "    <tr>\n",
       "      <th>f1</th>\n",
       "      <td>0.182287</td>\n",
       "      <td>1.000000</td>\n",
       "      <td>-0.002595</td>\n",
       "      <td>-0.010155</td>\n",
       "    </tr>\n",
       "    <tr>\n",
       "      <th>f2</th>\n",
       "      <td>-0.001777</td>\n",
       "      <td>-0.002595</td>\n",
       "      <td>1.000000</td>\n",
       "      <td>0.999397</td>\n",
       "    </tr>\n",
       "    <tr>\n",
       "      <th>product</th>\n",
       "      <td>-0.030491</td>\n",
       "      <td>-0.010155</td>\n",
       "      <td>0.999397</td>\n",
       "      <td>1.000000</td>\n",
       "    </tr>\n",
       "  </tbody>\n",
       "</table>\n",
       "</div>"
      ],
      "text/plain": [
       "               f0        f1        f2   product\n",
       "f0       1.000000  0.182287 -0.001777 -0.030491\n",
       "f1       0.182287  1.000000 -0.002595 -0.010155\n",
       "f2      -0.001777 -0.002595  1.000000  0.999397\n",
       "product -0.030491 -0.010155  0.999397  1.000000"
      ]
     },
     "execution_count": 14,
     "metadata": {},
     "output_type": "execute_result"
    }
   ],
   "source": [
    "df_1.corr()"
   ]
  },
  {
   "cell_type": "code",
   "execution_count": 43,
   "metadata": {},
   "outputs": [
    {
     "data": {
      "image/png": "[encoded data removed]",
      "text/plain": [
       "<Figure size 432x288 with 2 Axes>"
      ]
     },
     "metadata": {
      "needs_background": "light"
     },
     "output_type": "display_data"
    }
   ],
   "source": [
    "sns.heatmap(df_1.corr(), annot = True);"
   ]
  },
  {
   "cell_type": "markdown",
   "metadata": {},
   "source": [
    "Есть сильная корреляция между f2 и product = 0.99. Но возможно, это связано с тем, что данные синтетические."
   ]
  },
  {
   "cell_type": "code",
   "execution_count": 15,
   "metadata": {},
   "outputs": [],
   "source": [
    "df_2 = pd.read_csv('/datasets/geo_data_2.csv') # прочитаем csv-файл"
   ]
  },
  {
   "cell_type": "code",
   "execution_count": 16,
   "metadata": {},
   "outputs": [
    {
     "data": {
      "text/html": [
       "<div>\n",
       "<style scoped>\n",
       "    .dataframe tbody tr th:only-of-type {\n",
       "        vertical-align: middle;\n",
       "    }\n",
       "\n",
       "    .dataframe tbody tr th {\n",
       "        vertical-align: top;\n",
       "    }\n",
       "\n",
       "    .dataframe thead th {\n",
       "        text-align: right;\n",
       "    }\n",
       "</style>\n",
       "<table border=\"1\" class=\"dataframe\">\n",
       "  <thead>\n",
       "    <tr style=\"text-align: right;\">\n",
       "      <th></th>\n",
       "      <th>id</th>\n",
       "      <th>f0</th>\n",
       "      <th>f1</th>\n",
       "      <th>f2</th>\n",
       "      <th>product</th>\n",
       "    </tr>\n",
       "  </thead>\n",
       "  <tbody>\n",
       "    <tr>\n",
       "      <th>0</th>\n",
       "      <td>fwXo0</td>\n",
       "      <td>-1.146987</td>\n",
       "      <td>0.963328</td>\n",
       "      <td>-0.828965</td>\n",
       "      <td>27.758673</td>\n",
       "    </tr>\n",
       "    <tr>\n",
       "      <th>1</th>\n",
       "      <td>WJtFt</td>\n",
       "      <td>0.262778</td>\n",
       "      <td>0.269839</td>\n",
       "      <td>-2.530187</td>\n",
       "      <td>56.069697</td>\n",
       "    </tr>\n",
       "    <tr>\n",
       "      <th>2</th>\n",
       "      <td>ovLUW</td>\n",
       "      <td>0.194587</td>\n",
       "      <td>0.289035</td>\n",
       "      <td>-5.586433</td>\n",
       "      <td>62.871910</td>\n",
       "    </tr>\n",
       "    <tr>\n",
       "      <th>3</th>\n",
       "      <td>q6cA6</td>\n",
       "      <td>2.236060</td>\n",
       "      <td>-0.553760</td>\n",
       "      <td>0.930038</td>\n",
       "      <td>114.572842</td>\n",
       "    </tr>\n",
       "    <tr>\n",
       "      <th>4</th>\n",
       "      <td>WPMUX</td>\n",
       "      <td>-0.515993</td>\n",
       "      <td>1.716266</td>\n",
       "      <td>5.899011</td>\n",
       "      <td>149.600746</td>\n",
       "    </tr>\n",
       "  </tbody>\n",
       "</table>\n",
       "</div>"
      ],
      "text/plain": [
       "      id        f0        f1        f2     product\n",
       "0  fwXo0 -1.146987  0.963328 -0.828965   27.758673\n",
       "1  WJtFt  0.262778  0.269839 -2.530187   56.069697\n",
       "2  ovLUW  0.194587  0.289035 -5.586433   62.871910\n",
       "3  q6cA6  2.236060 -0.553760  0.930038  114.572842\n",
       "4  WPMUX -0.515993  1.716266  5.899011  149.600746"
      ]
     },
     "execution_count": 16,
     "metadata": {},
     "output_type": "execute_result"
    }
   ],
   "source": [
    "df_2.head() # Выведем первые 5 строчек датафрейма df_2 на экран."
   ]
  },
  {
   "cell_type": "code",
   "execution_count": 17,
   "metadata": {},
   "outputs": [
    {
     "name": "stdout",
     "output_type": "stream",
     "text": [
      "<class 'pandas.core.frame.DataFrame'>\n",
      "RangeIndex: 100000 entries, 0 to 99999\n",
      "Data columns (total 5 columns):\n",
      " #   Column   Non-Null Count   Dtype  \n",
      "---  ------   --------------   -----  \n",
      " 0   id       100000 non-null  object \n",
      " 1   f0       100000 non-null  float64\n",
      " 2   f1       100000 non-null  float64\n",
      " 3   f2       100000 non-null  float64\n",
      " 4   product  100000 non-null  float64\n",
      "dtypes: float64(4), object(1)\n",
      "memory usage: 3.8+ MB\n"
     ]
    }
   ],
   "source": [
    "df_2.info() # Выведем основную информацию для датафрейма df_2 с помощью метода info()"
   ]
  },
  {
   "cell_type": "code",
   "execution_count": 18,
   "metadata": {},
   "outputs": [
    {
     "data": {
      "text/html": [
       "<div>\n",
       "<style scoped>\n",
       "    .dataframe tbody tr th:only-of-type {\n",
       "        vertical-align: middle;\n",
       "    }\n",
       "\n",
       "    .dataframe tbody tr th {\n",
       "        vertical-align: top;\n",
       "    }\n",
       "\n",
       "    .dataframe thead th {\n",
       "        text-align: right;\n",
       "    }\n",
       "</style>\n",
       "<table border=\"1\" class=\"dataframe\">\n",
       "  <thead>\n",
       "    <tr style=\"text-align: right;\">\n",
       "      <th></th>\n",
       "      <th>f0</th>\n",
       "      <th>f1</th>\n",
       "      <th>f2</th>\n",
       "      <th>product</th>\n",
       "    </tr>\n",
       "  </thead>\n",
       "  <tbody>\n",
       "    <tr>\n",
       "      <th>count</th>\n",
       "      <td>100000.000000</td>\n",
       "      <td>100000.000000</td>\n",
       "      <td>100000.000000</td>\n",
       "      <td>100000.000000</td>\n",
       "    </tr>\n",
       "    <tr>\n",
       "      <th>mean</th>\n",
       "      <td>0.002023</td>\n",
       "      <td>-0.002081</td>\n",
       "      <td>2.495128</td>\n",
       "      <td>95.000000</td>\n",
       "    </tr>\n",
       "    <tr>\n",
       "      <th>std</th>\n",
       "      <td>1.732045</td>\n",
       "      <td>1.730417</td>\n",
       "      <td>3.473445</td>\n",
       "      <td>44.749921</td>\n",
       "    </tr>\n",
       "    <tr>\n",
       "      <th>min</th>\n",
       "      <td>-8.760004</td>\n",
       "      <td>-7.084020</td>\n",
       "      <td>-11.970335</td>\n",
       "      <td>0.000000</td>\n",
       "    </tr>\n",
       "    <tr>\n",
       "      <th>25%</th>\n",
       "      <td>-1.162288</td>\n",
       "      <td>-1.174820</td>\n",
       "      <td>0.130359</td>\n",
       "      <td>59.450441</td>\n",
       "    </tr>\n",
       "    <tr>\n",
       "      <th>50%</th>\n",
       "      <td>0.009424</td>\n",
       "      <td>-0.009482</td>\n",
       "      <td>2.484236</td>\n",
       "      <td>94.925613</td>\n",
       "    </tr>\n",
       "    <tr>\n",
       "      <th>75%</th>\n",
       "      <td>1.158535</td>\n",
       "      <td>1.163678</td>\n",
       "      <td>4.858794</td>\n",
       "      <td>130.595027</td>\n",
       "    </tr>\n",
       "    <tr>\n",
       "      <th>max</th>\n",
       "      <td>7.238262</td>\n",
       "      <td>7.844801</td>\n",
       "      <td>16.739402</td>\n",
       "      <td>190.029838</td>\n",
       "    </tr>\n",
       "  </tbody>\n",
       "</table>\n",
       "</div>"
      ],
      "text/plain": [
       "                  f0             f1             f2        product\n",
       "count  100000.000000  100000.000000  100000.000000  100000.000000\n",
       "mean        0.002023      -0.002081       2.495128      95.000000\n",
       "std         1.732045       1.730417       3.473445      44.749921\n",
       "min        -8.760004      -7.084020     -11.970335       0.000000\n",
       "25%        -1.162288      -1.174820       0.130359      59.450441\n",
       "50%         0.009424      -0.009482       2.484236      94.925613\n",
       "75%         1.158535       1.163678       4.858794     130.595027\n",
       "max         7.238262       7.844801      16.739402     190.029838"
      ]
     },
     "execution_count": 18,
     "metadata": {},
     "output_type": "execute_result"
    }
   ],
   "source": [
    "df_2.describe()"
   ]
  },
  {
   "cell_type": "code",
   "execution_count": 19,
   "metadata": {},
   "outputs": [
    {
     "data": {
      "image/png": "[encoded data removed]",
      "text/plain": [
       "<Figure size 504x360 with 4 Axes>"
      ]
     },
     "metadata": {
      "needs_background": "light"
     },
     "output_type": "display_data"
    }
   ],
   "source": [
    "df_2.hist(figsize=(7,5));"
   ]
  },
  {
   "cell_type": "markdown",
   "metadata": {},
   "source": [
    "Нормальное распределение данных."
   ]
  },
  {
   "cell_type": "code",
   "execution_count": 20,
   "metadata": {},
   "outputs": [
    {
     "data": {
      "text/html": [
       "<div>\n",
       "<style scoped>\n",
       "    .dataframe tbody tr th:only-of-type {\n",
       "        vertical-align: middle;\n",
       "    }\n",
       "\n",
       "    .dataframe tbody tr th {\n",
       "        vertical-align: top;\n",
       "    }\n",
       "\n",
       "    .dataframe thead th {\n",
       "        text-align: right;\n",
       "    }\n",
       "</style>\n",
       "<table border=\"1\" class=\"dataframe\">\n",
       "  <thead>\n",
       "    <tr style=\"text-align: right;\">\n",
       "      <th></th>\n",
       "      <th>f0</th>\n",
       "      <th>f1</th>\n",
       "      <th>f2</th>\n",
       "      <th>product</th>\n",
       "    </tr>\n",
       "  </thead>\n",
       "  <tbody>\n",
       "    <tr>\n",
       "      <th>f0</th>\n",
       "      <td>1.000000</td>\n",
       "      <td>0.000528</td>\n",
       "      <td>-0.000448</td>\n",
       "      <td>-0.001987</td>\n",
       "    </tr>\n",
       "    <tr>\n",
       "      <th>f1</th>\n",
       "      <td>0.000528</td>\n",
       "      <td>1.000000</td>\n",
       "      <td>0.000779</td>\n",
       "      <td>-0.001012</td>\n",
       "    </tr>\n",
       "    <tr>\n",
       "      <th>f2</th>\n",
       "      <td>-0.000448</td>\n",
       "      <td>0.000779</td>\n",
       "      <td>1.000000</td>\n",
       "      <td>0.445871</td>\n",
       "    </tr>\n",
       "    <tr>\n",
       "      <th>product</th>\n",
       "      <td>-0.001987</td>\n",
       "      <td>-0.001012</td>\n",
       "      <td>0.445871</td>\n",
       "      <td>1.000000</td>\n",
       "    </tr>\n",
       "  </tbody>\n",
       "</table>\n",
       "</div>"
      ],
      "text/plain": [
       "               f0        f1        f2   product\n",
       "f0       1.000000  0.000528 -0.000448 -0.001987\n",
       "f1       0.000528  1.000000  0.000779 -0.001012\n",
       "f2      -0.000448  0.000779  1.000000  0.445871\n",
       "product -0.001987 -0.001012  0.445871  1.000000"
      ]
     },
     "execution_count": 20,
     "metadata": {},
     "output_type": "execute_result"
    }
   ],
   "source": [
    "df_2.corr()"
   ]
  },
  {
   "cell_type": "code",
   "execution_count": 42,
   "metadata": {},
   "outputs": [
    {
     "data": {
      "image/png": "[encoded data removed]",
      "text/plain": [
       "<Figure size 432x288 with 2 Axes>"
      ]
     },
     "metadata": {
      "needs_background": "light"
     },
     "output_type": "display_data"
    }
   ],
   "source": [
    "sns.heatmap(df_2.corr(), annot = True);"
   ]
  },
  {
   "cell_type": "markdown",
   "metadata": {},
   "source": [
    "Видим тоже, что есть небольшая корреляция между product и f2 = 0.44."
   ]
  },
  {
   "cell_type": "markdown",
   "metadata": {},
   "source": [
    "Согласно документации к данным:\n",
    "\n",
    "**Признаки**\n",
    "\n",
    "- id — уникальный идентификатор скважины;\n",
    "- f0, f1, f2 — три признака точек (неважно, что они означают, но сами признаки значимы);\n",
    "\n",
    "**Целевой признак**\n",
    "\n",
    "- product — объём запасов в скважине (тыс. баррелей)."
   ]
  },
  {
   "cell_type": "markdown",
   "metadata": {},
   "source": [
    "Удалим столбец id (уникальный идентификатор скважины), который не влияет на обучение моделей, является неинформативным."
   ]
  },
  {
   "cell_type": "code",
   "execution_count": 21,
   "metadata": {},
   "outputs": [],
   "source": [
    "df_0 = df_0.drop(['id'], axis=1)\n",
    "df_1 = df_1.drop(['id'], axis=1)\n",
    "df_2 = df_2.drop(['id'], axis=1)"
   ]
  },
  {
   "cell_type": "markdown",
   "metadata": {},
   "source": [
    "Посмотрим есть ли дубликаты"
   ]
  },
  {
   "cell_type": "code",
   "execution_count": 22,
   "metadata": {},
   "outputs": [
    {
     "name": "stdout",
     "output_type": "stream",
     "text": [
      "0\n",
      "0\n",
      "0\n"
     ]
    }
   ],
   "source": [
    "print(df_0.duplicated().sum())\n",
    "print(df_1.duplicated().sum())\n",
    "print(df_2.duplicated().sum())"
   ]
  },
  {
   "cell_type": "markdown",
   "metadata": {},
   "source": [
    "**Вывод:**\n",
    "\n",
    "В таблицах по 5 столбцов и 100000 строк. Типы данных в столбцах каждой таблицы — float64(4), object(1) - соответствуют содержанию данных.  Пропущенных значений в таблицах нет. Дубликаты тоже отсутствуют. Столбец id - уникальный идентификатор скважины удалили, так как он не влияет на обучение моделей. Данные подготовлены для обучения."
   ]
  },
  {
   "cell_type": "markdown",
   "metadata": {},
   "source": [
    "## Обучение и проверка модели"
   ]
  },
  {
   "cell_type": "markdown",
   "metadata": {},
   "source": [
    "Целевой признак - это 'product' (объём запасов в скважине). Признаки - f0, f1, f2 (три признака точек)."
   ]
  },
  {
   "cell_type": "markdown",
   "metadata": {},
   "source": [
    "Разделим данные на признаки и целевой признак.\n",
    "\n",
    " Установим параметр (random_state) равным 12345. Объявим четыре переменные и запишем в них:\n",
    "\n",
    "- Признаки: features_train, features_valid;\n",
    "- Целевой признак: target_train, target_valid."
   ]
  },
  {
   "cell_type": "code",
   "execution_count": 23,
   "metadata": {},
   "outputs": [],
   "source": [
    "def split_data(df):\n",
    "    features = df.drop(['product'] , axis=1)\n",
    "    target = df['product']\n",
    "    features_train, features_valid, target_train, target_valid = train_test_split(features, target, \n",
    "        test_size=0.25, random_state=12345)\n",
    "    print('Обучающая выборка:',features_train.shape)\n",
    "    print('Валидационная выборка:',features_valid.shape)\n",
    "    return features_train, features_valid, target_train, target_valid"
   ]
  },
  {
   "cell_type": "markdown",
   "metadata": {},
   "source": [
    "Выведем на экран размеры выборок"
   ]
  },
  {
   "cell_type": "code",
   "execution_count": 24,
   "metadata": {},
   "outputs": [
    {
     "name": "stdout",
     "output_type": "stream",
     "text": [
      "Обучающая выборка: (75000, 3)\n",
      "Валидационная выборка: (25000, 3)\n",
      "Обучающая выборка: (75000, 3)\n",
      "Валидационная выборка: (25000, 3)\n",
      "Обучающая выборка: (75000, 3)\n",
      "Валидационная выборка: (25000, 3)\n"
     ]
    }
   ],
   "source": [
    "features_train_0, features_valid_0, target_train_0, target_valid_0 = split_data(df_0)\n",
    "features_train_1, features_valid_1, target_train_1, target_valid_1 = split_data(df_1)\n",
    "features_train_2, features_valid_2, target_train_2, target_valid_2 = split_data(df_2)"
   ]
  },
  {
   "cell_type": "markdown",
   "metadata": {},
   "source": [
    "Перейдем к обучению моделей."
   ]
  },
  {
   "cell_type": "code",
   "execution_count": 25,
   "metadata": {},
   "outputs": [],
   "source": [
    "def model_training (df):\n",
    "    features = df.drop(['product'] , axis=1)\n",
    "    target = df['product']\n",
    "    features_train, features_valid, target_train, target_valid = train_test_split(features, target, \n",
    "        test_size=0.25, random_state=12345)\n",
    "    model = LinearRegression() # инициализируем модель LinearRegression\n",
    "    model.fit(features_train, target_train) # обучим модель на тренировочной выборке\n",
    "    predictions_valid = pd.Series(model.predict(features_valid), index=features_valid.index)\n",
    "    mse = mean_squared_error(target_valid, predictions_valid)\n",
    "    print(f'RMSE модели = {mse ** 0.5:.3f}') # посчитаем значение метрики RMSE на валидационной выборке.\n",
    "    print(f'Cредний запас предсказанного сырья = {predictions_valid.mean():.3f}') # посчитаем средний запас сырья \n",
    "    return predictions_valid"
   ]
  },
  {
   "cell_type": "markdown",
   "metadata": {},
   "source": [
    "Посмотрим на основные показатели по каждому региону."
   ]
  },
  {
   "cell_type": "code",
   "execution_count": 26,
   "metadata": {},
   "outputs": [
    {
     "name": "stdout",
     "output_type": "stream",
     "text": [
      "RMSE модели = 37.579\n",
      "Cредний запас предсказанного сырья = 92.593\n"
     ]
    }
   ],
   "source": [
    "predictions_valid_0 = model_training(df_0) # Показатели первого региона."
   ]
  },
  {
   "cell_type": "code",
   "execution_count": 27,
   "metadata": {},
   "outputs": [
    {
     "name": "stdout",
     "output_type": "stream",
     "text": [
      "RMSE модели = 0.893\n",
      "Cредний запас предсказанного сырья = 68.729\n"
     ]
    }
   ],
   "source": [
    "predictions_valid_1 = model_training(df_1) # Показатели второго региона."
   ]
  },
  {
   "cell_type": "code",
   "execution_count": 28,
   "metadata": {},
   "outputs": [
    {
     "name": "stdout",
     "output_type": "stream",
     "text": [
      "RMSE модели = 40.030\n",
      "Cредний запас предсказанного сырья = 94.965\n"
     ]
    }
   ],
   "source": [
    "predictions_valid_2 = model_training(df_2) # Показатели второго региона."
   ]
  },
  {
   "cell_type": "markdown",
   "metadata": {},
   "source": [
    "RMSE показывает разность между предсказанными и наблюдаемыми значениями в модели. Величина RMSE должна быть как можно меньше. Наилучший показатель RMSE во втором регионе (0.893). Но средние запасы предсказанного сырья больше в 1 и 3 регионах - 92,6 и 94.9 соответственно."
   ]
  },
  {
   "cell_type": "markdown",
   "metadata": {},
   "source": [
    "## Подготовка к расчёту прибыли"
   ]
  },
  {
   "cell_type": "markdown",
   "metadata": {},
   "source": [
    "**Условия задачи:**\n",
    "\n",
    "При разведке региона исследуют 500 точек, из которых с помощью машинного обучения выбирают 200 лучших для разработки.\n",
    "\n",
    "Бюджет на разработку скважин в регионе — 10 млрд рублей.\n",
    "\n",
    "При нынешних ценах один баррель сырья приносит 450 рублей дохода. Доход с каждой единицы продукта составляет 450 тыс. рублей, поскольку объём указан в тысячах баррелей.\n",
    "\n",
    "После оценки рисков нужно оставить лишь те регионы, в которых вероятность убытков меньше 2.5%.  "
   ]
  },
  {
   "cell_type": "markdown",
   "metadata": {},
   "source": [
    "Все ключевые значения для расчётов сохраним в отдельных переменных."
   ]
  },
  {
   "cell_type": "code",
   "execution_count": 29,
   "metadata": {},
   "outputs": [],
   "source": [
    "budget = 1e10 # Бюджет на разработку скважин в регионе\n",
    "one_barrel = 450 # Один баррель сырья приносит 450 рублей дохода\n",
    "income_barrel = 450*1000 # Доход с каждой единицы продукта \n",
    "study_points = 500 # При разведке региона исследуют 500 точек\n",
    "study_best_points = 200 # 200 лучших точек для разработки\n",
    "loss_probability = 2.5 # Порог вероятности убытков"
   ]
  },
  {
   "cell_type": "markdown",
   "metadata": {},
   "source": [
    "Рассчитаем достаточный объём сырья для безубыточной разработки новой скважины. "
   ]
  },
  {
   "cell_type": "code",
   "execution_count": 30,
   "metadata": {},
   "outputs": [
    {
     "name": "stdout",
     "output_type": "stream",
     "text": [
      "Достаточный объём сырья для безубыточной разработки новой скважины равен 111.111 тыс. баррелей\n"
     ]
    }
   ],
   "source": [
    "volume_min = budget/study_best_points/income_barrel\n",
    "print(f'Достаточный объём сырья для безубыточной разработки новой скважины равен {volume_min:.3f}', 'тыс. баррелей')"
   ]
  },
  {
   "cell_type": "markdown",
   "metadata": {},
   "source": [
    "Сравним полученный объём сырья со средним запасом в каждом регионе."
   ]
  },
  {
   "cell_type": "code",
   "execution_count": 31,
   "metadata": {},
   "outputs": [
    {
     "name": "stdout",
     "output_type": "stream",
     "text": [
      "-18.52\n"
     ]
    }
   ],
   "source": [
    "reg_0 = predictions_valid_0.mean()-volume_min\n",
    "print(f'{reg_0:.2f}')"
   ]
  },
  {
   "cell_type": "code",
   "execution_count": 32,
   "metadata": {},
   "outputs": [
    {
     "name": "stdout",
     "output_type": "stream",
     "text": [
      "-42.38\n"
     ]
    }
   ],
   "source": [
    "reg_1 = predictions_valid_1.mean()-volume_min\n",
    "print(f'{reg_1:.2f}')"
   ]
  },
  {
   "cell_type": "code",
   "execution_count": 33,
   "metadata": {},
   "outputs": [
    {
     "name": "stdout",
     "output_type": "stream",
     "text": [
      "-16.15\n"
     ]
    }
   ],
   "source": [
    "reg_2 = predictions_valid_2.mean()-volume_min\n",
    "print(f'{reg_2:.2f}')"
   ]
  },
  {
   "cell_type": "markdown",
   "metadata": {},
   "source": [
    "При нынешних ценах один баррель сырья приносит 450 рублей дохода, достаточный объём сырья для безубыточной разработки новой скважины равен 111.111 тыс. баррелей. По предсказаниям в каждом регионе средний запас сырья скважины меньше полученного значения достаточного объёма сырья для безубыточной разработки новой скважины. В первом регионе на 18.52, во втором на 42.38, в третьем на 16.15 тыс. баррелей."
   ]
  },
  {
   "cell_type": "markdown",
   "metadata": {},
   "source": [
    "Напишем функцию для расчёта прибыли по выбранным скважинам и предсказаниям модели."
   ]
  },
  {
   "cell_type": "code",
   "execution_count": 34,
   "metadata": {},
   "outputs": [],
   "source": [
    "def profit_calculation(target, probabilities):\n",
    "    probs_sorted = probabilities.sort_values(ascending=False)\n",
    "    selected = target[probs_sorted.index][:200].sum()\n",
    "    profit = selected * income_barrel - budget\n",
    "    return selected * income_barrel - budget"
   ]
  },
  {
   "cell_type": "code",
   "execution_count": 35,
   "metadata": {},
   "outputs": [
    {
     "name": "stdout",
     "output_type": "stream",
     "text": [
      "Прибыль по первому региону: 3320826043.14\n",
      "Прибыль по второму региону: 2415086696.68\n",
      "Прибыль по третьему региону: 2710349963.60\n"
     ]
    }
   ],
   "source": [
    "print(f'Прибыль по первому региону: {profit_calculation(target_valid_0, predictions_valid_0):.2f}')\n",
    "print(f'Прибыль по второму региону: {profit_calculation(target_valid_1, predictions_valid_1):.2f}')\n",
    "print(f'Прибыль по третьему региону: {profit_calculation(target_valid_2, predictions_valid_2):.2f}')"
   ]
  },
  {
   "cell_type": "markdown",
   "metadata": {},
   "source": [
    "Мы отобрали 200 лучших точек в каждом регионе, просуммировали данные по этим скважинам. Получили для них суммарный объем сырья, посчитали прибыль. В первом регионе прибыль составила 3, 32 млрд. рублей, во втором 2,41, в третьем 2,77 млрд. рублей."
   ]
  },
  {
   "cell_type": "markdown",
   "metadata": {},
   "source": [
    "В каждом из регионов мы получили внушительную прибыль - в разы превышающую прибыль, полученную с помощью техники `Bootstrap`. Так вышло, потому что выбираем 200 лучших скважин не из 500 случайных, а из 25000, т.е. шанс выбрать лучшие скважины значительно выше. А по условию бюджет выделяют на разведку 500 скважин, поэтому эти расчеты для нас малоинформативны, зато проверили работу функции прибыли."
   ]
  },
  {
   "cell_type": "markdown",
   "metadata": {},
   "source": [
    "## Расчёт прибыли и рисков "
   ]
  },
  {
   "cell_type": "markdown",
   "metadata": {},
   "source": [
    "Проведем процедуру Bootstrap."
   ]
  },
  {
   "cell_type": "code",
   "execution_count": 36,
   "metadata": {},
   "outputs": [],
   "source": [
    "def revenue(target, probabilities):\n",
    "    state = np.random.RandomState(12345)\n",
    "    values = []\n",
    "    for i in range(1000):\n",
    "        target_subsample = target.sample(study_points, replace=True, random_state=state)\n",
    "        probs_subsample = probabilities[target_subsample.index]\n",
    "        values.append(profit_calculation(target_subsample, probs_subsample))\n",
    "    values = pd.Series(values)\n",
    "    lower = values.quantile(0.025)\n",
    "    upper = values.quantile(0.975)\n",
    "    mean = values.mean()\n",
    "    risk = values[values<0].count()/len(values)*100\n",
    "    print(f'Средняя прибыль: {mean/10**6:.2f}', 'млн. рублей')\n",
    "    print(f'Доверительный интервал от {lower/10**6:.2f} до {upper/10**6:.2f}')\n",
    "    print(f'Риск убытков: {risk:.1f}%')\n",
    "    return mean, lower, upper, risk"
   ]
  },
  {
   "cell_type": "code",
   "execution_count": 37,
   "metadata": {},
   "outputs": [
    {
     "name": "stdout",
     "output_type": "stream",
     "text": [
      "Средняя прибыль: 425.94 млн. рублей\n",
      "Доверительный интервал от -102.09 до 947.98\n",
      "Риск убытков: 6.0%\n"
     ]
    },
    {
     "data": {
      "text/plain": [
       "(425938526.91059244, -102090094.83793654, 947976353.3583689, 6.0)"
      ]
     },
     "execution_count": 37,
     "metadata": {},
     "output_type": "execute_result"
    }
   ],
   "source": [
    "revenue(target_valid_0, predictions_valid_0) # Результаты по 1 региону"
   ]
  },
  {
   "cell_type": "code",
   "execution_count": 38,
   "metadata": {},
   "outputs": [
    {
     "name": "stdout",
     "output_type": "stream",
     "text": [
      "Средняя прибыль: 515.22 млн. рублей\n",
      "Доверительный интервал от 68.87 до 931.55\n",
      "Риск убытков: 1.0%\n"
     ]
    },
    {
     "data": {
      "text/plain": [
       "(515222773.4432899, 68873225.37050176, 931547591.2570494, 1.0)"
      ]
     },
     "execution_count": 38,
     "metadata": {},
     "output_type": "execute_result"
    }
   ],
   "source": [
    "revenue(target_valid_1, predictions_valid_1) # Результаты по 2 региону"
   ]
  },
  {
   "cell_type": "code",
   "execution_count": 39,
   "metadata": {},
   "outputs": [
    {
     "name": "stdout",
     "output_type": "stream",
     "text": [
      "Средняя прибыль: 435.01 млн. рублей\n",
      "Доверительный интервал от -128.88 до 969.71\n",
      "Риск убытков: 6.4%\n"
     ]
    },
    {
     "data": {
      "text/plain": [
       "(435008362.7827556, -128880547.32978901, 969706954.1802661, 6.4)"
      ]
     },
     "execution_count": 39,
     "metadata": {},
     "output_type": "execute_result"
    }
   ],
   "source": [
    "revenue(target_valid_2, predictions_valid_2) # Результаты по 3 региону"
   ]
  },
  {
   "cell_type": "markdown",
   "metadata": {},
   "source": [
    "Итак, мы получили следующие результаты:\n",
    "- Самая высокая средняя прибыль у второго региона (515.22 млн. рублей), далее у третьего региона (435.01 млн. рублей) и первого (425.94 млн. рублей);\n",
    "- Самый узкий доверительный интервал у второго региона (от 68.87 до 931.55);\n",
    "- Самый низкий риск убытков во втором регионе (1%). В первом и третьем регионе риски достаточно велики. "
   ]
  },
  {
   "cell_type": "markdown",
   "metadata": {},
   "source": [
    "Для разработки скважин стоит рассмотреть второй регион (df_1), так как при разработке 200 скважин у него самая низкая вероятность убытков (минимальный процент риска), т.к. модель предсказывает хорошо (ошибка минимальная). При выборе 200 лучших скважин мы опираемся на предсказания по всем остальным показателям предсказывания он показывает лучшие результы."
   ]
  }
 ],
 "metadata": {
  "ExecuteTimeLog": [
   {
    "duration": 2084,
    "start_time": "2023-05-02T10:50:02.338Z"
   },
   {
    "duration": 597,
    "start_time": "2023-05-02T10:50:31.739Z"
   },
   {
    "duration": 176,
    "start_time": "2023-05-02T10:51:27.943Z"
   },
   {
    "duration": 178,
    "start_time": "2023-05-02T10:51:43.334Z"
   },
   {
    "duration": 173,
    "start_time": "2023-05-02T10:52:04.915Z"
   },
   {
    "duration": 187,
    "start_time": "2023-05-02T10:52:16.447Z"
   },
   {
    "duration": 1244,
    "start_time": "2023-05-02T10:52:31.992Z"
   },
   {
    "duration": 855,
    "start_time": "2023-05-02T10:53:05.480Z"
   },
   {
    "duration": 14,
    "start_time": "2023-05-02T10:53:38.166Z"
   },
   {
    "duration": 187,
    "start_time": "2023-05-02T10:53:38.549Z"
   },
   {
    "duration": 21,
    "start_time": "2023-05-02T10:53:38.738Z"
   },
   {
    "duration": 178,
    "start_time": "2023-05-02T10:53:38.886Z"
   },
   {
    "duration": 24,
    "start_time": "2023-05-02T10:53:39.070Z"
   },
   {
    "duration": 222,
    "start_time": "2023-05-02T10:53:39.237Z"
   },
   {
    "duration": 14,
    "start_time": "2023-05-02T10:53:39.461Z"
   },
   {
    "duration": 28,
    "start_time": "2023-05-02T10:55:45.887Z"
   },
   {
    "duration": 149,
    "start_time": "2023-05-02T10:55:57.039Z"
   },
   {
    "duration": 20,
    "start_time": "2023-05-02T10:56:00.014Z"
   },
   {
    "duration": 27,
    "start_time": "2023-05-02T10:56:06.780Z"
   },
   {
    "duration": 20,
    "start_time": "2023-05-02T10:56:09.314Z"
   },
   {
    "duration": 25,
    "start_time": "2023-05-02T12:54:26.969Z"
   },
   {
    "duration": 20,
    "start_time": "2023-05-02T12:54:46.304Z"
   },
   {
    "duration": 37,
    "start_time": "2023-05-02T12:55:00.738Z"
   },
   {
    "duration": 86,
    "start_time": "2023-05-02T14:56:10.313Z"
   },
   {
    "duration": 16,
    "start_time": "2023-05-02T15:15:51.318Z"
   },
   {
    "duration": 62,
    "start_time": "2023-05-03T14:10:34.552Z"
   },
   {
    "duration": 1675,
    "start_time": "2023-05-03T14:10:42.259Z"
   },
   {
    "duration": 709,
    "start_time": "2023-05-03T14:10:43.936Z"
   },
   {
    "duration": 15,
    "start_time": "2023-05-03T14:10:44.648Z"
   },
   {
    "duration": 65,
    "start_time": "2023-05-03T14:10:44.664Z"
   },
   {
    "duration": 34,
    "start_time": "2023-05-03T14:10:44.731Z"
   },
   {
    "duration": 1093,
    "start_time": "2023-05-03T14:10:44.768Z"
   },
   {
    "duration": 9,
    "start_time": "2023-05-03T14:10:45.863Z"
   },
   {
    "duration": 91,
    "start_time": "2023-05-03T14:10:45.873Z"
   },
   {
    "duration": 33,
    "start_time": "2023-05-03T14:10:45.965Z"
   },
   {
    "duration": 657,
    "start_time": "2023-05-03T14:10:45.999Z"
   },
   {
    "duration": 10,
    "start_time": "2023-05-03T14:10:46.658Z"
   },
   {
    "duration": 75,
    "start_time": "2023-05-03T14:10:46.669Z"
   },
   {
    "duration": 28,
    "start_time": "2023-05-03T14:10:46.746Z"
   },
   {
    "duration": 95,
    "start_time": "2023-05-03T14:10:46.777Z"
   },
   {
    "duration": 134,
    "start_time": "2023-05-03T14:10:46.874Z"
   },
   {
    "duration": 127,
    "start_time": "2023-05-03T14:10:47.012Z"
   },
   {
    "duration": 78,
    "start_time": "2023-05-03T14:11:09.282Z"
   },
   {
    "duration": 60,
    "start_time": "2023-05-03T14:24:54.308Z"
   },
   {
    "duration": 314,
    "start_time": "2023-05-03T14:30:52.514Z"
   },
   {
    "duration": 2231,
    "start_time": "2023-05-03T14:31:01.549Z"
   },
   {
    "duration": 4,
    "start_time": "2023-05-03T14:50:24.818Z"
   },
   {
    "duration": 9,
    "start_time": "2023-05-03T14:51:41.723Z"
   },
   {
    "duration": 15,
    "start_time": "2023-05-03T14:52:10.554Z"
   },
   {
    "duration": 3,
    "start_time": "2023-05-03T14:52:28.559Z"
   },
   {
    "duration": 18,
    "start_time": "2023-05-03T14:52:30.120Z"
   },
   {
    "duration": 35,
    "start_time": "2023-05-03T15:02:35.234Z"
   },
   {
    "duration": 1646,
    "start_time": "2023-05-03T15:03:44.327Z"
   },
   {
    "duration": 155,
    "start_time": "2023-05-03T15:03:45.975Z"
   },
   {
    "duration": 13,
    "start_time": "2023-05-03T15:03:46.132Z"
   },
   {
    "duration": 43,
    "start_time": "2023-05-03T15:03:46.147Z"
   },
   {
    "duration": 31,
    "start_time": "2023-05-03T15:03:46.194Z"
   },
   {
    "duration": 172,
    "start_time": "2023-05-03T15:03:46.227Z"
   },
   {
    "duration": 9,
    "start_time": "2023-05-03T15:03:46.401Z"
   },
   {
    "duration": 44,
    "start_time": "2023-05-03T15:03:46.412Z"
   },
   {
    "duration": 18,
    "start_time": "2023-05-03T15:03:46.458Z"
   },
   {
    "duration": 159,
    "start_time": "2023-05-03T15:03:46.478Z"
   },
   {
    "duration": 10,
    "start_time": "2023-05-03T15:03:46.639Z"
   },
   {
    "duration": 50,
    "start_time": "2023-05-03T15:03:46.651Z"
   },
   {
    "duration": 21,
    "start_time": "2023-05-03T15:03:46.703Z"
   },
   {
    "duration": 12,
    "start_time": "2023-05-03T15:03:46.726Z"
   },
   {
    "duration": 129,
    "start_time": "2023-05-03T15:03:46.740Z"
   },
   {
    "duration": 5,
    "start_time": "2023-05-03T15:03:46.870Z"
   },
   {
    "duration": 180,
    "start_time": "2023-05-03T15:03:46.876Z"
   },
   {
    "duration": 0,
    "start_time": "2023-05-03T15:03:47.058Z"
   },
   {
    "duration": 29,
    "start_time": "2023-05-03T15:03:57.732Z"
   },
   {
    "duration": 33,
    "start_time": "2023-05-03T15:06:12.467Z"
   },
   {
    "duration": 33,
    "start_time": "2023-05-03T15:06:19.573Z"
   },
   {
    "duration": 18,
    "start_time": "2023-05-03T15:06:25.140Z"
   },
   {
    "duration": 18,
    "start_time": "2023-05-03T15:06:28.182Z"
   },
   {
    "duration": 3,
    "start_time": "2023-05-03T15:07:11.101Z"
   },
   {
    "duration": 9,
    "start_time": "2023-05-03T15:07:27.473Z"
   },
   {
    "duration": 22,
    "start_time": "2023-05-03T15:07:34.884Z"
   },
   {
    "duration": 4,
    "start_time": "2023-05-03T15:08:25.797Z"
   },
   {
    "duration": 19,
    "start_time": "2023-05-03T15:08:28.179Z"
   },
   {
    "duration": 3,
    "start_time": "2023-05-03T15:26:49.138Z"
   },
   {
    "duration": 22,
    "start_time": "2023-05-03T15:27:14.065Z"
   },
   {
    "duration": 16,
    "start_time": "2023-05-03T15:27:27.805Z"
   },
   {
    "duration": 7,
    "start_time": "2023-05-03T15:39:45.545Z"
   },
   {
    "duration": 21,
    "start_time": "2023-05-03T15:39:48.379Z"
   },
   {
    "duration": 13,
    "start_time": "2023-05-03T15:39:50.622Z"
   },
   {
    "duration": 13,
    "start_time": "2023-05-03T15:39:53.109Z"
   },
   {
    "duration": 30,
    "start_time": "2023-05-03T15:40:23.161Z"
   },
   {
    "duration": 135,
    "start_time": "2023-05-03T15:53:57.228Z"
   },
   {
    "duration": 58,
    "start_time": "2023-05-04T22:20:20.272Z"
   },
   {
    "duration": 1542,
    "start_time": "2023-05-04T22:20:23.146Z"
   },
   {
    "duration": 1322,
    "start_time": "2023-05-04T22:20:25.790Z"
   },
   {
    "duration": 85,
    "start_time": "2023-05-04T22:20:51.101Z"
   },
   {
    "duration": 1558,
    "start_time": "2023-05-04T22:21:10.117Z"
   },
   {
    "duration": 1670,
    "start_time": "2023-05-04T22:21:30.321Z"
   },
   {
    "duration": 49,
    "start_time": "2023-05-05T07:13:14.673Z"
   },
   {
    "duration": 9,
    "start_time": "2023-05-05T07:13:44.121Z"
   },
   {
    "duration": 1550,
    "start_time": "2023-05-05T07:13:47.203Z"
   },
   {
    "duration": 602,
    "start_time": "2023-05-05T07:13:48.755Z"
   },
   {
    "duration": 0,
    "start_time": "2023-05-05T07:13:49.360Z"
   },
   {
    "duration": 0,
    "start_time": "2023-05-05T07:13:49.361Z"
   },
   {
    "duration": 0,
    "start_time": "2023-05-05T07:13:49.363Z"
   },
   {
    "duration": 0,
    "start_time": "2023-05-05T07:13:49.364Z"
   },
   {
    "duration": 0,
    "start_time": "2023-05-05T07:13:49.366Z"
   },
   {
    "duration": 0,
    "start_time": "2023-05-05T07:13:49.367Z"
   },
   {
    "duration": 0,
    "start_time": "2023-05-05T07:13:49.368Z"
   },
   {
    "duration": 0,
    "start_time": "2023-05-05T07:13:49.370Z"
   },
   {
    "duration": 0,
    "start_time": "2023-05-05T07:13:49.371Z"
   },
   {
    "duration": 0,
    "start_time": "2023-05-05T07:13:49.385Z"
   },
   {
    "duration": 0,
    "start_time": "2023-05-05T07:13:49.386Z"
   },
   {
    "duration": 0,
    "start_time": "2023-05-05T07:13:49.388Z"
   },
   {
    "duration": 0,
    "start_time": "2023-05-05T07:13:49.389Z"
   },
   {
    "duration": 0,
    "start_time": "2023-05-05T07:13:49.390Z"
   },
   {
    "duration": 0,
    "start_time": "2023-05-05T07:13:49.391Z"
   },
   {
    "duration": 0,
    "start_time": "2023-05-05T07:13:49.393Z"
   },
   {
    "duration": 195,
    "start_time": "2023-05-05T07:14:04.621Z"
   },
   {
    "duration": 1228,
    "start_time": "2023-05-05T07:14:56.408Z"
   },
   {
    "duration": 1452,
    "start_time": "2023-05-05T07:15:25.277Z"
   },
   {
    "duration": 1125,
    "start_time": "2023-05-05T07:15:26.732Z"
   },
   {
    "duration": 15,
    "start_time": "2023-05-05T07:15:27.859Z"
   },
   {
    "duration": 114,
    "start_time": "2023-05-05T07:15:27.876Z"
   },
   {
    "duration": 19,
    "start_time": "2023-05-05T07:15:27.992Z"
   },
   {
    "duration": 1378,
    "start_time": "2023-05-05T07:15:28.013Z"
   },
   {
    "duration": 10,
    "start_time": "2023-05-05T07:15:29.393Z"
   },
   {
    "duration": 29,
    "start_time": "2023-05-05T07:15:29.404Z"
   },
   {
    "duration": 18,
    "start_time": "2023-05-05T07:15:29.435Z"
   },
   {
    "duration": 1271,
    "start_time": "2023-05-05T07:15:29.456Z"
   },
   {
    "duration": 11,
    "start_time": "2023-05-05T07:15:30.730Z"
   },
   {
    "duration": 91,
    "start_time": "2023-05-05T07:15:30.743Z"
   },
   {
    "duration": 45,
    "start_time": "2023-05-05T07:15:30.836Z"
   },
   {
    "duration": 46,
    "start_time": "2023-05-05T07:15:30.882Z"
   },
   {
    "duration": 135,
    "start_time": "2023-05-05T07:15:30.930Z"
   },
   {
    "duration": 17,
    "start_time": "2023-05-05T07:15:31.068Z"
   },
   {
    "duration": 127,
    "start_time": "2023-05-05T07:15:31.087Z"
   },
   {
    "duration": 0,
    "start_time": "2023-05-05T07:15:31.216Z"
   },
   {
    "duration": 27,
    "start_time": "2023-05-05T07:15:49.348Z"
   },
   {
    "duration": 1426,
    "start_time": "2023-05-05T07:25:25.767Z"
   },
   {
    "duration": 1147,
    "start_time": "2023-05-05T07:25:27.195Z"
   },
   {
    "duration": 14,
    "start_time": "2023-05-05T07:25:28.344Z"
   },
   {
    "duration": 61,
    "start_time": "2023-05-05T07:25:28.361Z"
   },
   {
    "duration": 22,
    "start_time": "2023-05-05T07:25:28.425Z"
   },
   {
    "duration": 1076,
    "start_time": "2023-05-05T07:25:28.449Z"
   },
   {
    "duration": 10,
    "start_time": "2023-05-05T07:25:29.527Z"
   },
   {
    "duration": 50,
    "start_time": "2023-05-05T07:25:29.538Z"
   },
   {
    "duration": 18,
    "start_time": "2023-05-05T07:25:29.590Z"
   },
   {
    "duration": 1091,
    "start_time": "2023-05-05T07:25:29.610Z"
   },
   {
    "duration": 11,
    "start_time": "2023-05-05T07:25:30.702Z"
   },
   {
    "duration": 105,
    "start_time": "2023-05-05T07:25:30.715Z"
   },
   {
    "duration": 40,
    "start_time": "2023-05-05T07:25:30.822Z"
   },
   {
    "duration": 33,
    "start_time": "2023-05-05T07:25:30.865Z"
   },
   {
    "duration": 101,
    "start_time": "2023-05-05T07:25:30.900Z"
   },
   {
    "duration": 4,
    "start_time": "2023-05-05T07:25:31.003Z"
   },
   {
    "duration": 79,
    "start_time": "2023-05-05T07:25:31.009Z"
   },
   {
    "duration": 93,
    "start_time": "2023-05-05T07:25:31.090Z"
   },
   {
    "duration": 50,
    "start_time": "2023-05-07T18:19:23.458Z"
   },
   {
    "duration": 1567,
    "start_time": "2023-05-07T18:19:29.486Z"
   },
   {
    "duration": 534,
    "start_time": "2023-05-07T18:19:31.056Z"
   },
   {
    "duration": 15,
    "start_time": "2023-05-07T18:19:31.591Z"
   },
   {
    "duration": 24,
    "start_time": "2023-05-07T18:19:31.608Z"
   },
   {
    "duration": 41,
    "start_time": "2023-05-07T18:19:31.635Z"
   },
   {
    "duration": 26,
    "start_time": "2023-05-07T18:19:31.678Z"
   },
   {
    "duration": 1154,
    "start_time": "2023-05-07T18:19:31.706Z"
   },
   {
    "duration": 10,
    "start_time": "2023-05-07T18:19:32.862Z"
   },
   {
    "duration": 46,
    "start_time": "2023-05-07T18:19:32.874Z"
   },
   {
    "duration": 28,
    "start_time": "2023-05-07T18:19:32.922Z"
   },
   {
    "duration": 1096,
    "start_time": "2023-05-07T18:19:32.952Z"
   },
   {
    "duration": 10,
    "start_time": "2023-05-07T18:19:34.050Z"
   },
   {
    "duration": 47,
    "start_time": "2023-05-07T18:19:34.061Z"
   },
   {
    "duration": 17,
    "start_time": "2023-05-07T18:19:34.111Z"
   },
   {
    "duration": 6,
    "start_time": "2023-05-07T18:19:34.130Z"
   },
   {
    "duration": 76,
    "start_time": "2023-05-07T18:19:34.138Z"
   },
   {
    "duration": 4,
    "start_time": "2023-05-07T18:19:34.215Z"
   },
   {
    "duration": 38,
    "start_time": "2023-05-07T18:19:34.221Z"
   },
   {
    "duration": 73,
    "start_time": "2023-05-07T18:19:34.261Z"
   },
   {
    "duration": 388,
    "start_time": "2023-05-07T18:19:53.776Z"
   },
   {
    "duration": 72,
    "start_time": "2023-05-07T18:20:07.602Z"
   },
   {
    "duration": 121,
    "start_time": "2023-05-07T18:20:33.619Z"
   },
   {
    "duration": 37,
    "start_time": "2023-05-07T18:21:13.623Z"
   },
   {
    "duration": 372,
    "start_time": "2023-05-07T18:21:13.785Z"
   },
   {
    "duration": 15,
    "start_time": "2023-05-07T18:21:14.159Z"
   },
   {
    "duration": 38,
    "start_time": "2023-05-07T18:22:07.809Z"
   },
   {
    "duration": 465,
    "start_time": "2023-05-07T18:22:07.956Z"
   },
   {
    "duration": 6,
    "start_time": "2023-05-07T18:24:24.409Z"
   },
   {
    "duration": 40,
    "start_time": "2023-05-07T18:24:25.254Z"
   },
   {
    "duration": 4,
    "start_time": "2023-05-07T18:24:41.882Z"
   },
   {
    "duration": 35,
    "start_time": "2023-05-07T18:25:37.570Z"
   },
   {
    "duration": 173,
    "start_time": "2023-05-07T18:25:37.793Z"
   },
   {
    "duration": 0,
    "start_time": "2023-05-07T18:25:37.969Z"
   },
   {
    "duration": 5,
    "start_time": "2023-05-07T18:25:43.256Z"
   },
   {
    "duration": 29,
    "start_time": "2023-05-07T18:25:43.592Z"
   },
   {
    "duration": 52,
    "start_time": "2023-05-07T18:25:43.792Z"
   },
   {
    "duration": 26,
    "start_time": "2023-05-07T18:25:43.913Z"
   },
   {
    "duration": 1405,
    "start_time": "2023-05-07T18:26:13.693Z"
   },
   {
    "duration": 147,
    "start_time": "2023-05-07T18:26:15.101Z"
   },
   {
    "duration": 14,
    "start_time": "2023-05-07T18:26:15.250Z"
   },
   {
    "duration": 27,
    "start_time": "2023-05-07T18:26:15.265Z"
   },
   {
    "duration": 49,
    "start_time": "2023-05-07T18:26:15.294Z"
   },
   {
    "duration": 421,
    "start_time": "2023-05-07T18:26:15.345Z"
   },
   {
    "duration": 25,
    "start_time": "2023-05-07T18:26:15.768Z"
   },
   {
    "duration": 126,
    "start_time": "2023-05-07T18:26:15.794Z"
   },
   {
    "duration": 11,
    "start_time": "2023-05-07T18:26:15.921Z"
   },
   {
    "duration": 16,
    "start_time": "2023-05-07T18:26:15.934Z"
   },
   {
    "duration": 53,
    "start_time": "2023-05-07T18:26:15.952Z"
   },
   {
    "duration": 420,
    "start_time": "2023-05-07T18:26:16.008Z"
   },
   {
    "duration": 19,
    "start_time": "2023-05-07T18:26:16.430Z"
   },
   {
    "duration": 159,
    "start_time": "2023-05-07T18:26:16.453Z"
   },
   {
    "duration": 11,
    "start_time": "2023-05-07T18:26:16.614Z"
   },
   {
    "duration": 17,
    "start_time": "2023-05-07T18:26:16.626Z"
   },
   {
    "duration": 63,
    "start_time": "2023-05-07T18:26:16.645Z"
   },
   {
    "duration": 471,
    "start_time": "2023-05-07T18:26:16.710Z"
   },
   {
    "duration": 19,
    "start_time": "2023-05-07T18:26:17.183Z"
   },
   {
    "duration": 18,
    "start_time": "2023-05-07T18:26:17.204Z"
   },
   {
    "duration": 81,
    "start_time": "2023-05-07T18:26:17.224Z"
   },
   {
    "duration": 3,
    "start_time": "2023-05-07T18:26:17.307Z"
   },
   {
    "duration": 35,
    "start_time": "2023-05-07T18:26:17.312Z"
   },
   {
    "duration": 4,
    "start_time": "2023-05-07T18:26:17.349Z"
   },
   {
    "duration": 47,
    "start_time": "2023-05-07T18:26:17.355Z"
   },
   {
    "duration": 194,
    "start_time": "2023-05-07T18:26:17.403Z"
   },
   {
    "duration": 197,
    "start_time": "2023-05-07T18:26:17.598Z"
   },
   {
    "duration": 3,
    "start_time": "2023-05-07T18:41:01.858Z"
   },
   {
    "duration": 3,
    "start_time": "2023-05-07T18:41:02.154Z"
   },
   {
    "duration": 4,
    "start_time": "2023-05-07T18:41:02.459Z"
   },
   {
    "duration": 4,
    "start_time": "2023-05-07T18:41:02.601Z"
   },
   {
    "duration": 4,
    "start_time": "2023-05-07T18:41:02.780Z"
   },
   {
    "duration": 4,
    "start_time": "2023-05-07T18:42:52.157Z"
   },
   {
    "duration": 3,
    "start_time": "2023-05-07T18:42:52.591Z"
   },
   {
    "duration": 125,
    "start_time": "2023-05-07T18:42:52.728Z"
   },
   {
    "duration": 1351,
    "start_time": "2023-05-07T18:43:04.673Z"
   },
   {
    "duration": 141,
    "start_time": "2023-05-07T18:43:06.026Z"
   },
   {
    "duration": 24,
    "start_time": "2023-05-07T18:43:06.169Z"
   },
   {
    "duration": 15,
    "start_time": "2023-05-07T18:43:06.195Z"
   },
   {
    "duration": 40,
    "start_time": "2023-05-07T18:43:06.212Z"
   },
   {
    "duration": 413,
    "start_time": "2023-05-07T18:43:06.253Z"
   },
   {
    "duration": 24,
    "start_time": "2023-05-07T18:43:06.668Z"
   },
   {
    "duration": 118,
    "start_time": "2023-05-07T18:43:06.694Z"
   },
   {
    "duration": 10,
    "start_time": "2023-05-07T18:43:06.814Z"
   },
   {
    "duration": 17,
    "start_time": "2023-05-07T18:43:06.825Z"
   },
   {
    "duration": 48,
    "start_time": "2023-05-07T18:43:06.844Z"
   },
   {
    "duration": 365,
    "start_time": "2023-05-07T18:43:06.894Z"
   },
   {
    "duration": 15,
    "start_time": "2023-05-07T18:43:07.261Z"
   },
   {
    "duration": 138,
    "start_time": "2023-05-07T18:43:07.291Z"
   },
   {
    "duration": 10,
    "start_time": "2023-05-07T18:43:07.430Z"
   },
   {
    "duration": 17,
    "start_time": "2023-05-07T18:43:07.442Z"
   },
   {
    "duration": 54,
    "start_time": "2023-05-07T18:43:07.460Z"
   },
   {
    "duration": 546,
    "start_time": "2023-05-07T18:43:07.516Z"
   },
   {
    "duration": 28,
    "start_time": "2023-05-07T18:43:08.064Z"
   },
   {
    "duration": 11,
    "start_time": "2023-05-07T18:43:08.093Z"
   },
   {
    "duration": 88,
    "start_time": "2023-05-07T18:43:08.106Z"
   },
   {
    "duration": 4,
    "start_time": "2023-05-07T18:43:08.196Z"
   },
   {
    "duration": 35,
    "start_time": "2023-05-07T18:43:08.202Z"
   },
   {
    "duration": 5,
    "start_time": "2023-05-07T18:43:08.238Z"
   },
   {
    "duration": 52,
    "start_time": "2023-05-07T18:43:08.244Z"
   },
   {
    "duration": 202,
    "start_time": "2023-05-07T18:43:08.297Z"
   },
   {
    "duration": 198,
    "start_time": "2023-05-07T18:43:08.501Z"
   },
   {
    "duration": 5,
    "start_time": "2023-05-07T18:43:08.791Z"
   },
   {
    "duration": 15,
    "start_time": "2023-05-07T18:43:08.798Z"
   },
   {
    "duration": 78,
    "start_time": "2023-05-07T18:43:08.816Z"
   },
   {
    "duration": 5,
    "start_time": "2023-05-07T18:43:08.896Z"
   },
   {
    "duration": 8,
    "start_time": "2023-05-07T18:43:08.902Z"
   },
   {
    "duration": 9,
    "start_time": "2023-05-07T18:43:08.912Z"
   },
   {
    "duration": 135,
    "start_time": "2023-05-07T18:43:08.923Z"
   },
   {
    "duration": 30,
    "start_time": "2023-05-07T18:43:42.135Z"
   },
   {
    "duration": 6,
    "start_time": "2023-05-07T18:43:42.435Z"
   },
   {
    "duration": 43,
    "start_time": "2023-05-07T18:43:42.749Z"
   },
   {
    "duration": 111,
    "start_time": "2023-05-07T18:43:42.903Z"
   },
   {
    "duration": 120,
    "start_time": "2023-05-07T18:43:43.093Z"
   },
   {
    "duration": 4,
    "start_time": "2023-05-07T18:43:48.438Z"
   },
   {
    "duration": 4,
    "start_time": "2023-05-07T18:43:48.748Z"
   },
   {
    "duration": 5,
    "start_time": "2023-05-07T18:43:49.084Z"
   },
   {
    "duration": 4,
    "start_time": "2023-05-07T18:43:49.246Z"
   },
   {
    "duration": 3,
    "start_time": "2023-05-07T18:43:49.412Z"
   },
   {
    "duration": 3,
    "start_time": "2023-05-07T18:43:49.900Z"
   },
   {
    "duration": 20,
    "start_time": "2023-05-07T18:43:50.074Z"
   },
   {
    "duration": 6,
    "start_time": "2023-05-07T18:45:16.295Z"
   },
   {
    "duration": 1432,
    "start_time": "2023-05-07T18:46:07.997Z"
   },
   {
    "duration": 1329,
    "start_time": "2023-05-07T18:46:09.431Z"
   },
   {
    "duration": 1342,
    "start_time": "2023-05-07T18:46:10.762Z"
   },
   {
    "duration": 1361,
    "start_time": "2023-05-07T18:54:39.160Z"
   },
   {
    "duration": 132,
    "start_time": "2023-05-07T18:54:40.523Z"
   },
   {
    "duration": 13,
    "start_time": "2023-05-07T18:54:40.656Z"
   },
   {
    "duration": 25,
    "start_time": "2023-05-07T18:54:40.671Z"
   },
   {
    "duration": 38,
    "start_time": "2023-05-07T18:54:40.698Z"
   },
   {
    "duration": 406,
    "start_time": "2023-05-07T18:54:40.737Z"
   },
   {
    "duration": 16,
    "start_time": "2023-05-07T18:54:41.145Z"
   },
   {
    "duration": 132,
    "start_time": "2023-05-07T18:54:41.164Z"
   },
   {
    "duration": 9,
    "start_time": "2023-05-07T18:54:41.298Z"
   },
   {
    "duration": 15,
    "start_time": "2023-05-07T18:54:41.309Z"
   },
   {
    "duration": 33,
    "start_time": "2023-05-07T18:54:41.326Z"
   },
   {
    "duration": 398,
    "start_time": "2023-05-07T18:54:41.361Z"
   },
   {
    "duration": 16,
    "start_time": "2023-05-07T18:54:41.761Z"
   },
   {
    "duration": 132,
    "start_time": "2023-05-07T18:54:41.791Z"
   },
   {
    "duration": 10,
    "start_time": "2023-05-07T18:54:41.925Z"
   },
   {
    "duration": 15,
    "start_time": "2023-05-07T18:54:41.937Z"
   },
   {
    "duration": 54,
    "start_time": "2023-05-07T18:54:41.954Z"
   },
   {
    "duration": 468,
    "start_time": "2023-05-07T18:54:42.010Z"
   },
   {
    "duration": 24,
    "start_time": "2023-05-07T18:54:42.479Z"
   },
   {
    "duration": 11,
    "start_time": "2023-05-07T18:54:42.505Z"
   },
   {
    "duration": 92,
    "start_time": "2023-05-07T18:54:42.518Z"
   },
   {
    "duration": 3,
    "start_time": "2023-05-07T18:54:42.612Z"
   },
   {
    "duration": 52,
    "start_time": "2023-05-07T18:54:42.617Z"
   },
   {
    "duration": 5,
    "start_time": "2023-05-07T18:54:42.670Z"
   },
   {
    "duration": 34,
    "start_time": "2023-05-07T18:54:42.676Z"
   },
   {
    "duration": 121,
    "start_time": "2023-05-07T18:54:42.792Z"
   },
   {
    "duration": 191,
    "start_time": "2023-05-07T18:54:42.915Z"
   },
   {
    "duration": 86,
    "start_time": "2023-05-07T18:54:43.108Z"
   },
   {
    "duration": 5,
    "start_time": "2023-05-07T18:54:43.196Z"
   },
   {
    "duration": 12,
    "start_time": "2023-05-07T18:54:43.293Z"
   },
   {
    "duration": 6,
    "start_time": "2023-05-07T18:54:43.307Z"
   },
   {
    "duration": 8,
    "start_time": "2023-05-07T18:54:43.315Z"
   },
   {
    "duration": 3,
    "start_time": "2023-05-07T18:54:43.325Z"
   },
   {
    "duration": 24,
    "start_time": "2023-05-07T18:54:43.330Z"
   },
   {
    "duration": 6,
    "start_time": "2023-05-07T18:54:43.357Z"
   },
   {
    "duration": 1464,
    "start_time": "2023-05-07T18:54:43.365Z"
   },
   {
    "duration": 1398,
    "start_time": "2023-05-07T18:54:44.831Z"
   },
   {
    "duration": 1433,
    "start_time": "2023-05-07T18:54:46.230Z"
   },
   {
    "duration": 1299,
    "start_time": "2023-05-07T19:01:18.329Z"
   },
   {
    "duration": 141,
    "start_time": "2023-05-07T19:01:19.631Z"
   },
   {
    "duration": 18,
    "start_time": "2023-05-07T19:01:19.774Z"
   },
   {
    "duration": 43,
    "start_time": "2023-05-07T19:01:19.794Z"
   },
   {
    "duration": 38,
    "start_time": "2023-05-07T19:01:19.839Z"
   },
   {
    "duration": 368,
    "start_time": "2023-05-07T19:01:19.878Z"
   },
   {
    "duration": 14,
    "start_time": "2023-05-07T19:01:20.248Z"
   },
   {
    "duration": 114,
    "start_time": "2023-05-07T19:01:20.263Z"
   },
   {
    "duration": 14,
    "start_time": "2023-05-07T19:01:20.379Z"
   },
   {
    "duration": 27,
    "start_time": "2023-05-07T19:01:20.395Z"
   },
   {
    "duration": 46,
    "start_time": "2023-05-07T19:01:20.424Z"
   },
   {
    "duration": 344,
    "start_time": "2023-05-07T19:01:20.472Z"
   },
   {
    "duration": 15,
    "start_time": "2023-05-07T19:01:20.818Z"
   },
   {
    "duration": 131,
    "start_time": "2023-05-07T19:01:20.834Z"
   },
   {
    "duration": 10,
    "start_time": "2023-05-07T19:01:20.966Z"
   },
   {
    "duration": 25,
    "start_time": "2023-05-07T19:01:20.977Z"
   },
   {
    "duration": 54,
    "start_time": "2023-05-07T19:01:21.004Z"
   },
   {
    "duration": 424,
    "start_time": "2023-05-07T19:01:21.059Z"
   },
   {
    "duration": 20,
    "start_time": "2023-05-07T19:01:21.485Z"
   },
   {
    "duration": 12,
    "start_time": "2023-05-07T19:01:21.507Z"
   },
   {
    "duration": 88,
    "start_time": "2023-05-07T19:01:21.520Z"
   },
   {
    "duration": 4,
    "start_time": "2023-05-07T19:01:21.609Z"
   },
   {
    "duration": 49,
    "start_time": "2023-05-07T19:01:21.614Z"
   },
   {
    "duration": 4,
    "start_time": "2023-05-07T19:01:21.665Z"
   },
   {
    "duration": 51,
    "start_time": "2023-05-07T19:01:21.671Z"
   },
   {
    "duration": 181,
    "start_time": "2023-05-07T19:01:21.723Z"
   },
   {
    "duration": 204,
    "start_time": "2023-05-07T19:01:21.906Z"
   },
   {
    "duration": 81,
    "start_time": "2023-05-07T19:01:22.115Z"
   },
   {
    "duration": 105,
    "start_time": "2023-05-07T19:01:22.202Z"
   },
   {
    "duration": 40,
    "start_time": "2023-05-07T19:01:22.309Z"
   },
   {
    "duration": 50,
    "start_time": "2023-05-07T19:01:22.351Z"
   },
   {
    "duration": 24,
    "start_time": "2023-05-07T19:01:22.403Z"
   },
   {
    "duration": 28,
    "start_time": "2023-05-07T19:01:22.429Z"
   },
   {
    "duration": 43,
    "start_time": "2023-05-07T19:01:22.459Z"
   },
   {
    "duration": 12,
    "start_time": "2023-05-07T19:01:22.504Z"
   },
   {
    "duration": 1406,
    "start_time": "2023-05-07T19:01:22.518Z"
   },
   {
    "duration": 1396,
    "start_time": "2023-05-07T19:01:23.925Z"
   },
   {
    "duration": 1353,
    "start_time": "2023-05-07T19:01:25.322Z"
   },
   {
    "duration": 2247,
    "start_time": "2023-05-08T05:00:49.674Z"
   },
   {
    "duration": 415,
    "start_time": "2023-05-08T05:00:51.927Z"
   },
   {
    "duration": 14,
    "start_time": "2023-05-08T05:00:52.344Z"
   },
   {
    "duration": 58,
    "start_time": "2023-05-08T05:00:52.359Z"
   },
   {
    "duration": 53,
    "start_time": "2023-05-08T05:00:52.420Z"
   },
   {
    "duration": 475,
    "start_time": "2023-05-08T05:00:52.476Z"
   },
   {
    "duration": 17,
    "start_time": "2023-05-08T05:00:52.953Z"
   },
   {
    "duration": 629,
    "start_time": "2023-05-08T05:00:52.972Z"
   },
   {
    "duration": 9,
    "start_time": "2023-05-08T05:00:53.603Z"
   },
   {
    "duration": 45,
    "start_time": "2023-05-08T05:00:53.614Z"
   },
   {
    "duration": 52,
    "start_time": "2023-05-08T05:00:53.661Z"
   },
   {
    "duration": 389,
    "start_time": "2023-05-08T05:00:53.716Z"
   },
   {
    "duration": 22,
    "start_time": "2023-05-08T05:00:54.107Z"
   },
   {
    "duration": 767,
    "start_time": "2023-05-08T05:00:54.133Z"
   },
   {
    "duration": 9,
    "start_time": "2023-05-08T05:00:54.902Z"
   },
   {
    "duration": 31,
    "start_time": "2023-05-08T05:00:54.913Z"
   },
   {
    "duration": 42,
    "start_time": "2023-05-08T05:00:54.946Z"
   },
   {
    "duration": 455,
    "start_time": "2023-05-08T05:00:54.989Z"
   },
   {
    "duration": 16,
    "start_time": "2023-05-08T05:00:55.446Z"
   },
   {
    "duration": 11,
    "start_time": "2023-05-08T05:00:55.463Z"
   },
   {
    "duration": 102,
    "start_time": "2023-05-08T05:00:55.476Z"
   },
   {
    "duration": 4,
    "start_time": "2023-05-08T05:00:55.580Z"
   },
   {
    "duration": 53,
    "start_time": "2023-05-08T05:00:55.586Z"
   },
   {
    "duration": 6,
    "start_time": "2023-05-08T05:00:55.641Z"
   },
   {
    "duration": 76,
    "start_time": "2023-05-08T05:00:55.648Z"
   },
   {
    "duration": 117,
    "start_time": "2023-05-08T05:00:55.726Z"
   },
   {
    "duration": 186,
    "start_time": "2023-05-08T05:00:55.846Z"
   },
   {
    "duration": 84,
    "start_time": "2023-05-08T05:00:56.034Z"
   },
   {
    "duration": 93,
    "start_time": "2023-05-08T05:00:56.126Z"
   },
   {
    "duration": 14,
    "start_time": "2023-05-08T05:00:56.221Z"
   },
   {
    "duration": 10,
    "start_time": "2023-05-08T05:00:56.237Z"
   },
   {
    "duration": 6,
    "start_time": "2023-05-08T05:00:56.249Z"
   },
   {
    "duration": 9,
    "start_time": "2023-05-08T05:00:56.256Z"
   },
   {
    "duration": 28,
    "start_time": "2023-05-08T05:00:56.267Z"
   },
   {
    "duration": 6,
    "start_time": "2023-05-08T05:00:56.297Z"
   },
   {
    "duration": 1440,
    "start_time": "2023-05-08T05:00:56.317Z"
   },
   {
    "duration": 1374,
    "start_time": "2023-05-08T05:00:57.759Z"
   },
   {
    "duration": 1353,
    "start_time": "2023-05-08T05:00:59.135Z"
   },
   {
    "duration": 9,
    "start_time": "2023-05-08T05:01:22.579Z"
   },
   {
    "duration": 1910,
    "start_time": "2023-05-08T07:41:27.470Z"
   },
   {
    "duration": 154,
    "start_time": "2023-05-08T07:41:42.261Z"
   },
   {
    "duration": 10,
    "start_time": "2023-05-08T07:41:49.980Z"
   },
   {
    "duration": 1751,
    "start_time": "2023-05-08T07:41:56.163Z"
   },
   {
    "duration": 567,
    "start_time": "2023-05-08T07:41:57.919Z"
   },
   {
    "duration": 13,
    "start_time": "2023-05-08T07:41:58.487Z"
   },
   {
    "duration": 33,
    "start_time": "2023-05-08T07:41:58.502Z"
   },
   {
    "duration": 53,
    "start_time": "2023-05-08T07:41:58.550Z"
   },
   {
    "duration": 477,
    "start_time": "2023-05-08T07:41:58.605Z"
   },
   {
    "duration": 17,
    "start_time": "2023-05-08T07:41:59.084Z"
   },
   {
    "duration": 368,
    "start_time": "2023-05-08T07:41:59.102Z"
   },
   {
    "duration": 894,
    "start_time": "2023-05-08T07:41:59.473Z"
   },
   {
    "duration": 10,
    "start_time": "2023-05-08T07:42:00.370Z"
   },
   {
    "duration": 46,
    "start_time": "2023-05-08T07:42:00.381Z"
   },
   {
    "duration": 119,
    "start_time": "2023-05-08T07:42:00.429Z"
   },
   {
    "duration": 607,
    "start_time": "2023-05-08T07:42:00.552Z"
   },
   {
    "duration": 17,
    "start_time": "2023-05-08T07:42:01.173Z"
   },
   {
    "duration": 918,
    "start_time": "2023-05-08T07:42:01.192Z"
   },
   {
    "duration": 28,
    "start_time": "2023-05-08T07:42:02.112Z"
   },
   {
    "duration": 71,
    "start_time": "2023-05-08T07:42:02.142Z"
   },
   {
    "duration": 94,
    "start_time": "2023-05-08T07:42:02.215Z"
   },
   {
    "duration": 518,
    "start_time": "2023-05-08T07:42:02.311Z"
   },
   {
    "duration": 20,
    "start_time": "2023-05-08T07:42:02.831Z"
   },
   {
    "duration": 69,
    "start_time": "2023-05-08T07:42:02.853Z"
   },
   {
    "duration": 207,
    "start_time": "2023-05-08T07:42:02.924Z"
   },
   {
    "duration": 6,
    "start_time": "2023-05-08T07:42:03.135Z"
   },
   {
    "duration": 130,
    "start_time": "2023-05-08T07:42:03.145Z"
   },
   {
    "duration": 34,
    "start_time": "2023-05-08T07:42:03.277Z"
   },
   {
    "duration": 93,
    "start_time": "2023-05-08T07:42:03.313Z"
   },
   {
    "duration": 170,
    "start_time": "2023-05-08T07:42:03.409Z"
   },
   {
    "duration": 144,
    "start_time": "2023-05-08T07:42:03.630Z"
   },
   {
    "duration": 57,
    "start_time": "2023-05-08T07:42:03.777Z"
   },
   {
    "duration": 120,
    "start_time": "2023-05-08T07:42:03.850Z"
   },
   {
    "duration": 20,
    "start_time": "2023-05-08T07:42:03.971Z"
   },
   {
    "duration": 32,
    "start_time": "2023-05-08T07:42:03.993Z"
   },
   {
    "duration": 58,
    "start_time": "2023-05-08T07:42:04.027Z"
   },
   {
    "duration": 65,
    "start_time": "2023-05-08T07:42:04.087Z"
   },
   {
    "duration": 60,
    "start_time": "2023-05-08T07:42:04.154Z"
   },
   {
    "duration": 70,
    "start_time": "2023-05-08T07:42:04.216Z"
   },
   {
    "duration": 1700,
    "start_time": "2023-05-08T07:42:04.288Z"
   },
   {
    "duration": 1659,
    "start_time": "2023-05-08T07:42:05.990Z"
   },
   {
    "duration": 1622,
    "start_time": "2023-05-08T07:42:07.657Z"
   },
   {
    "duration": 373,
    "start_time": "2023-05-08T07:42:09.282Z"
   },
   {
    "duration": 344,
    "start_time": "2023-05-08T07:43:55.625Z"
   },
   {
    "duration": 322,
    "start_time": "2023-05-08T07:44:14.946Z"
   },
   {
    "duration": 358,
    "start_time": "2023-05-08T07:44:22.557Z"
   },
   {
    "duration": 30,
    "start_time": "2023-05-08T08:01:08.714Z"
   },
   {
    "duration": 25,
    "start_time": "2023-05-08T08:01:51.242Z"
   },
   {
    "duration": 22,
    "start_time": "2023-05-08T08:01:57.734Z"
   },
   {
    "duration": 10,
    "start_time": "2023-05-08T08:03:40.584Z"
   },
   {
    "duration": 9,
    "start_time": "2023-05-08T08:03:45.084Z"
   },
   {
    "duration": 162,
    "start_time": "2023-05-08T08:03:54.501Z"
   },
   {
    "duration": 15,
    "start_time": "2023-05-08T08:04:04.062Z"
   },
   {
    "duration": 16,
    "start_time": "2023-05-08T08:04:09.159Z"
   },
   {
    "duration": 11,
    "start_time": "2023-05-08T08:04:17.868Z"
   },
   {
    "duration": 9,
    "start_time": "2023-05-08T08:06:21.357Z"
   },
   {
    "duration": 7,
    "start_time": "2023-05-08T08:07:01.275Z"
   },
   {
    "duration": 7,
    "start_time": "2023-05-08T08:07:14.201Z"
   }
  ],
  "kernelspec": {
   "display_name": "Python 3 (ipykernel)",
   "language": "python",
   "name": "python3"
  },
  "language_info": {
   "codemirror_mode": {
    "name": "ipython",
    "version": 3
   },
   "file_extension": ".py",
   "mimetype": "text/x-python",
   "name": "python",
   "nbconvert_exporter": "python",
   "pygments_lexer": "ipython3",
   "version": "3.10.9"
  },
  "toc": {
   "base_numbering": 1,
   "nav_menu": {},
   "number_sections": true,
   "sideBar": true,
   "skip_h1_title": true,
   "title_cell": "Table of Contents",
   "title_sidebar": "Contents",
   "toc_cell": false,
   "toc_position": {},
   "toc_section_display": true,
   "toc_window_display": true
  }
 },
 "nbformat": 4,
 "nbformat_minor": 2
}
